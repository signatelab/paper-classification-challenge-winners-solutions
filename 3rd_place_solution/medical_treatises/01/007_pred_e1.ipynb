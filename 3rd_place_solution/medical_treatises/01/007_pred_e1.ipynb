{
 "cells": [
  {
   "cell_type": "markdown",
   "metadata": {
    "id": "UcrEI40W8stQ"
   },
   "source": [
    "\n",
    "\n",
    "```\n",
    "len: 500, score:0.8869/threshold:0.007041127953765568\n",
    "len: 1000, score:0.8901/threshold:0.008917826512169784\n",
    "[title][abstract] score:0.8931/threshold:0.008531736809345958\n",
    "BioRedditBERT-uncased: score:0.8920/threshold:0.020030753048508498\n",
    "cardiffnlp/twitter-roberta-base-emotion: score:0.8830/threshold:0.007230437581947285\n",
    "epoch: 50, score:0.8975/threshold:0.0075411136520587225\n",
    "BioRedditBERT-uncased, epoch: 64, score:0.9099/threshold:0.012501978885860918\n",
    "BioRedditBERT-uncased, epoch: 64, fold: 4, score:0.8993/threshold:0.015931352007776046\n",
    "BioRedditBERT-uncased, fold: 3, score:0.8981/threshold:0.020341330202952635\n",
    "```\n",
    "\n"
   ]
  },
  {
   "cell_type": "markdown",
   "metadata": {
    "id": "I7lxJ8ms3KbB"
   },
   "source": [
    "# TF-roberta-base Baseline [ CV:0.8949 , LB:0.8734 ]\n",
    "\n",
    "    tensorflow/keras + transformers の notebook です．(pytorch/bert -> Yoshio Sugiyamaさんのフォーラム)\n",
    "    実行環境は Google Colab です．\n",
    "    Google Drive 内のディレクトリ構成は以下を想定しています．\n",
    "    SIGNATE CLI を利用したデータロードとサブミッションをするので，事前にAPI Tokenの取得が必要です．\n",
    "    GPU/TPUどちらでも実行できますが，今回はTPUを用いて実行しました．\n",
    "\n",
    "    └── MyDrive\n",
    "     └── competitioin                     \n",
    "         ├── signate.json                 # API Token\n",
    "         └── Signate-Systematic-Review    \n",
    "             └── notebooks                # notebook 置き場\n",
    "                 └── baseline_00.ipynb    # 今回の notebook\n",
    "\n"
   ]
  },
  {
   "cell_type": "code",
   "execution_count": 1,
   "metadata": {
    "executionInfo": {
     "elapsed": 3567,
     "status": "ok",
     "timestamp": 1633479222152,
     "user": {
      "displayName": "山邉潤",
      "photoUrl": "https://lh3.googleusercontent.com/a/default-user=s64",
      "userId": "01598730496302142675"
     },
     "user_tz": -540
    },
    "id": "8UQ3D2VHFWez"
   },
   "outputs": [],
   "source": [
    "!cp \"/content/drive/MyDrive/Colab Notebooks/signate/medical_treatises/data/train.csv\" .\n",
    "!cp \"/content/drive/MyDrive/Colab Notebooks/signate/medical_treatises/data/test.csv\" .\n",
    "!cp \"/content/drive/MyDrive/Colab Notebooks/signate/medical_treatises/data/sample_submit.csv\" ."
   ]
  },
  {
   "cell_type": "markdown",
   "metadata": {
    "id": "MWmnYxhE3aaw"
   },
   "source": [
    "# Config"
   ]
  },
  {
   "cell_type": "code",
   "execution_count": 2,
   "metadata": {
    "executionInfo": {
     "elapsed": 16,
     "status": "ok",
     "timestamp": 1633479222156,
     "user": {
      "displayName": "山邉潤",
      "photoUrl": "https://lh3.googleusercontent.com/a/default-user=s64",
      "userId": "01598730496302142675"
     },
     "user_tz": -540
    },
    "id": "lETKYBKI3Z9Y"
   },
   "outputs": [],
   "source": [
    "class Config:\n",
    "    name_v1 = \"tf-roberta-base\"\n",
    "    # model = \"roberta-base\"\n",
    "    # model = \"cardiffnlp/twitter-roberta-base-emotion\"\n",
    "    # model = \"lordtt13/COVID-SciBERT\"\n",
    "    model = \"cambridgeltl/BioRedditBERT-uncased\"\n",
    "    # model = \"bert-large-uncased-whole-word-masking-finetuned-squad\"\n",
    "    # model = \"jakelever/coronabert\"\n",
    "    max_length = 1000\n",
    "    lr = 0.00002\n",
    "    weight_decay = 1e-5\n",
    "    n_fold = 5 \n",
    "    # n_fold = 3 \n",
    "    epochs = 32\n",
    "    train_batch_size = 64\n",
    "    steps_per_epochs = 30\n",
    "    seeds = [2021]\n",
    "    target_col = \"judgement\"\n",
    "    text_col = \"text\"  # title + abst\n",
    "    valid_batch_size = 64\n",
    "    test_batch_size = 64\n",
    "    class_weight = None\n",
    "    submit = True\n",
    "    debug = False\n",
    "\n",
    "if Config.debug:\n",
    "    Config.epochs = 1\n",
    "    Config.n_fold = 2"
   ]
  },
  {
   "cell_type": "markdown",
   "metadata": {
    "id": "Ap0Wg6fM3hSX"
   },
   "source": [
    "# SetUp"
   ]
  },
  {
   "cell_type": "code",
   "execution_count": 3,
   "metadata": {
    "colab": {
     "base_uri": "https://localhost:8080/"
    },
    "executionInfo": {
     "elapsed": 13414,
     "status": "ok",
     "timestamp": 1633479235557,
     "user": {
      "displayName": "山邉潤",
      "photoUrl": "https://lh3.googleusercontent.com/a/default-user=s64",
      "userId": "01598730496302142675"
     },
     "user_tz": -540
    },
    "id": "CMr6OTeN3aAI",
    "outputId": "97bb3581-d2d3-4da6-d299-6d16222d5db8"
   },
   "outputs": [
    {
     "name": "stdout",
     "output_type": "stream",
     "text": [
      "\u001b[K     |████████████████████████████████| 2.9 MB 5.2 MB/s \n",
      "\u001b[K     |████████████████████████████████| 56 kB 4.3 MB/s \n",
      "\u001b[K     |████████████████████████████████| 895 kB 59.3 MB/s \n",
      "\u001b[K     |████████████████████████████████| 3.3 MB 58.1 MB/s \n",
      "\u001b[K     |████████████████████████████████| 636 kB 48.8 MB/s \n",
      "\u001b[K     |████████████████████████████████| 109 kB 51.8 MB/s \n",
      "\u001b[K     |████████████████████████████████| 546 kB 69.1 MB/s \n",
      "\u001b[K     |████████████████████████████████| 1.1 MB 5.2 MB/s \n",
      "\u001b[?25h"
     ]
    }
   ],
   "source": [
    "import os\n",
    "import shutil\n",
    "from requests import get\n",
    "\n",
    "# from google.colab import drive, files\n",
    "# drive.mount('/content/drive')  # drive をマウント\n",
    "\n",
    "# ! pip install --quiet signate\n",
    "! pip install --quiet transformers\n",
    "! pip install --quiet tensorflow-addons\n",
    "\n",
    "# os.makedirs(\"/root/.signate\", exist_ok=True)  # API token 用のディレクトリを作成\n",
    "# token_path = \"/content/drive/MyDrive/competitioin/signate.json\"  # token の path\n",
    "# shutil.copy(token_path, \"/root/.signate\")  # tokenを\"/root/.signate\"にコピー\n",
    "\n",
    "# DRIVE = \"/content/drive/MyDrive/competitioin/Signate-Systematic-Review\"  # Drive のパス\n",
    "# EXP = get('http://172.28.0.2:9000/api/sessions').json()[0]['name'][:-6]  # notebook の名前を取得\n",
    "# INPUT = os.path.join(DRIVE, \"input\")\n",
    "# OUTPUT = os.path.join(DRIVE, \"output\")\n",
    "\n",
    "INPUT = './'\n",
    "OUTPUT = './'\n",
    "OUTPUT_EXP = './'\n",
    "OUTPUT_EXP_MODEL = './'\n",
    "OUTPUT_EXP_PREDS = './'\n",
    "OUTPUT_EXP_FIG = './'\n",
    "SUBMISSION = './'\n",
    "\n",
    "# OUTPUT_EXP = os.path.join(OUTPUT, EXP)\n",
    "# OUTPUT_EXP_MODEL = os.path.join(OUTPUT_EXP, \"model\")\n",
    "# OUTPUT_EXP_PREDS = os.path.join(OUTPUT_EXP, \"preds\")\n",
    "# OUTPUT_EXP_FIG = os.path.join(OUTPUT_EXP, \"fig\")\n",
    "# SUBMISSION = os.path.join(DRIVE, \"submission\")\n",
    "\n",
    "# if not os.path.isdir(INPUT):  # 初回時にのみデータをINPUTフォルダにロード\n",
    "#     os.makedirs(INPUT, exist_ok=True)\n",
    "#     ! signate download --competition-id=471 --path=$INPUT\n",
    "\n",
    "# 実験ごとのフォルダを作成\n",
    "# dirs = [INPUT, OUTPUT, OUTPUT_EXP, SUBMISSION, OUTPUT_EXP_MODEL, OUTPUT_EXP_PREDS, OUTPUT_EXP_FIG]\n",
    "# for d in dirs:\n",
    "#     os.makedirs(d, exist_ok=True)\n"
   ]
  },
  {
   "cell_type": "markdown",
   "metadata": {
    "id": "rjfpy6Q73mpn"
   },
   "source": [
    "# Library"
   ]
  },
  {
   "cell_type": "code",
   "execution_count": 4,
   "metadata": {
    "executionInfo": {
     "elapsed": 6905,
     "status": "ok",
     "timestamp": 1633479242443,
     "user": {
      "displayName": "山邉潤",
      "photoUrl": "https://lh3.googleusercontent.com/a/default-user=s64",
      "userId": "01598730496302142675"
     },
     "user_tz": -540
    },
    "id": "UVlhxR2M3aCy"
   },
   "outputs": [],
   "source": [
    "import logging\n",
    "import datetime\n",
    "import warnings\n",
    "\n",
    "import pandas as pd\n",
    "import numpy as np\n",
    "import matplotlib.pyplot as plt\n",
    "import seaborn as sns\n",
    "\n",
    "from sklearn.metrics import fbeta_score\n",
    "from sklearn.utils import class_weight\n",
    "from sklearn.model_selection import StratifiedKFold\n",
    "from sklearn.metrics import confusion_matrix\n",
    "from scipy.optimize import minimize, minimize_scalar\n",
    "\n",
    "from tensorflow.keras import backend as K\n",
    "import tensorflow as tf\n",
    "import tensorflow_addons as tfa\n",
    "\n",
    "import transformers\n",
    "from transformers import AutoTokenizer, TFAutoModel, TFAutoModelForSequenceClassification, AutoModel"
   ]
  },
  {
   "cell_type": "markdown",
   "metadata": {
    "id": "3xvtgdCl3qSw"
   },
   "source": [
    "# Utils"
   ]
  },
  {
   "cell_type": "code",
   "execution_count": 5,
   "metadata": {
    "executionInfo": {
     "elapsed": 33,
     "status": "ok",
     "timestamp": 1633479242445,
     "user": {
      "displayName": "山邉潤",
      "photoUrl": "https://lh3.googleusercontent.com/a/default-user=s64",
      "userId": "01598730496302142675"
     },
     "user_tz": -540
    },
    "id": "k8Zg0xVK3aFf"
   },
   "outputs": [],
   "source": [
    "class Logger:\n",
    "    \"\"\"log を残す用のクラス\"\"\"\n",
    "    def __init__(self, path):\n",
    "        self.general_logger = logging.getLogger(path)\n",
    "        stream_handler = logging.StreamHandler()\n",
    "        file_general_handler = logging.FileHandler(os.path.join(path, 'Experiment.log'))\n",
    "        if len(self.general_logger.handlers) == 0:\n",
    "            self.general_logger.addHandler(stream_handler)\n",
    "            self.general_logger.addHandler(file_general_handler)\n",
    "            self.general_logger.setLevel(logging.INFO)\n",
    "\n",
    "    def info(self, message):\n",
    "        # display time\n",
    "        self.general_logger.info('[{}] - {}'.format(self.now_string(), message))\n",
    "\n",
    "    @staticmethod\n",
    "    def now_string():\n",
    "        return str(datetime.datetime.now().strftime('%Y-%m-%d %H:%M:%S'))\n"
   ]
  },
  {
   "cell_type": "code",
   "execution_count": 6,
   "metadata": {
    "colab": {
     "base_uri": "https://localhost:8080/"
    },
    "executionInfo": {
     "elapsed": 31,
     "status": "ok",
     "timestamp": 1633479242447,
     "user": {
      "displayName": "山邉潤",
      "photoUrl": "https://lh3.googleusercontent.com/a/default-user=s64",
      "userId": "01598730496302142675"
     },
     "user_tz": -540
    },
    "id": "-JbmIPhT3aIS",
    "outputId": "a3756b9c-cdc4-4495-d9bc-2879eb752f4a"
   },
   "outputs": [
    {
     "name": "stdout",
     "output_type": "stream",
     "text": [
      "Running on TPU  ['10.73.204.242:8470']\n"
     ]
    }
   ],
   "source": [
    "warnings.filterwarnings(\"ignore\")  # ignore warnings\n",
    "logger = Logger(OUTPUT_EXP)  # set logger \n",
    "\n",
    "# TPU setting\n",
    "try:\n",
    "    TPU = tf.distribute.cluster_resolver.TPUClusterResolver()  # TPU detection\n",
    "    print('Running on TPU ', TPU.cluster_spec().as_dict()['worker'])\n",
    "except ValueError:\n",
    "    TPU = None\n",
    "    print('INFO: Not connected to a TPU runtime')"
   ]
  },
  {
   "cell_type": "markdown",
   "metadata": {
    "id": "ndqKxw5_3wBv"
   },
   "source": [
    "# Model"
   ]
  },
  {
   "cell_type": "code",
   "execution_count": 7,
   "metadata": {
    "executionInfo": {
     "elapsed": 24,
     "status": "ok",
     "timestamp": 1633479242448,
     "user": {
      "displayName": "山邉潤",
      "photoUrl": "https://lh3.googleusercontent.com/a/default-user=s64",
      "userId": "01598730496302142675"
     },
     "user_tz": -540
    },
    "id": "-Ujh5BWf2-__"
   },
   "outputs": [],
   "source": [
    "def build_auto_model():\n",
    "    \"\"\"TFAutoModel\"\"\"\n",
    "    transformer = TFAutoModel.from_pretrained(Config.model)\n",
    "    input_word_ids = tf.keras.layers.Input(shape=(Config.max_length, ), dtype=tf.int32, name='input_ids')\n",
    "    attention_mask = tf.keras.layers.Input(shape=(Config.max_length, ), dtype=tf.int32, name='attention_mask')\n",
    "\n",
    "    x = transformer(input_word_ids, attention_mask=attention_mask)\n",
    "    x = x[0][:, 0, :]  # cls\n",
    "\n",
    "    output = tf.keras.layers.Dense(1, activation='sigmoid')(x)\n",
    "    model = tf.keras.models.Model(inputs=[input_word_ids, attention_mask],\n",
    "                                  outputs=[output])\n",
    "\n",
    "    optimizer = tfa.optimizers.AdamW(lr=Config.lr, weight_decay=Config.weight_decay)\n",
    "    model.compile(optimizer = optimizer,\n",
    "                  loss = [tf.keras.losses.BinaryCrossentropy()],  \n",
    "                  metrics = [\"accuracy\"]) \n",
    "    return model"
   ]
  },
  {
   "cell_type": "markdown",
   "metadata": {
    "id": "AA3xZSzO30Lx"
   },
   "source": [
    "# Funcs"
   ]
  },
  {
   "cell_type": "code",
   "execution_count": 8,
   "metadata": {
    "executionInfo": {
     "elapsed": 22,
     "status": "ok",
     "timestamp": 1633479242449,
     "user": {
      "displayName": "山邉潤",
      "photoUrl": "https://lh3.googleusercontent.com/a/default-user=s64",
      "userId": "01598730496302142675"
     },
     "user_tz": -540
    },
    "id": "8_ktGNHP3zWu"
   },
   "outputs": [],
   "source": [
    "def opt_fbeta_threshold(y_true, y_pred):\n",
    "    \"\"\"fbeta score計算時のthresholdを最適化\"\"\"\n",
    "    def opt_(x): \n",
    "        return -fbeta_score(y_true, y_pred >= x, beta=7)\n",
    "    result = minimize(opt_, x0=np.array([0.1]), method='Powell')\n",
    "    best_threshold = result['x'].item()\n",
    "    return best_threshold\n",
    "\n",
    "\n",
    "def metrics(y_true, y_pred):\n",
    "    \"\"\"fbeta(beta=7)の閾値最適化評価関数\"\"\"\n",
    "    bt = opt_fbeta_threshold(y_true, y_pred)\n",
    "    print(f\"bt:{bt}\")\n",
    "    score = fbeta_score(y_true, y_pred >= bt, beta=7)\n",
    "    return score\n",
    "\n",
    "\n",
    "def skf(train, n_splits, random_state):\n",
    "    \"\"\"層化KFoldのインデックスのリストを作成\"\"\"\n",
    "    skf = StratifiedKFold(n_splits=n_splits, random_state=random_state, shuffle=True)\n",
    "    return list(skf.split(train, train[Config.target_col]))\n",
    "\n",
    "\n",
    "def encode_texts(texts, tokenizer, max_length):\n",
    "    \"\"\"text encoding\"\"\"\n",
    "    encoded_dict = tokenizer.batch_encode_plus(\n",
    "        texts,\n",
    "        padding = 'max_length',\n",
    "        truncation = True,\n",
    "        max_length = max_length,\n",
    "    )\n",
    "    return dict(encoded_dict)\n",
    "\n",
    "\n",
    "def get_dataset(X, y=None, dataset=\"test\"):\n",
    "    \"\"\"データをtf.Datasetの形式に変更\"\"\"\n",
    "    if dataset==\"train\":\n",
    "        train_dataset = (\n",
    "            tf.data.Dataset\n",
    "            .from_tensor_slices((X, y))\n",
    "            .shuffle(2048)\n",
    "            .batch(Config.train_batch_size)\n",
    "            .prefetch(tf.data.experimental.AUTOTUNE)\n",
    "            )\n",
    "        if Config.steps_per_epochs is not None:\n",
    "            train_dataset = train_dataset.repeat()\n",
    "\n",
    "        return train_dataset\n",
    "\n",
    "    elif dataset==\"valid\":\n",
    "        valid_dataset = (\n",
    "            tf.data.Dataset\n",
    "            .from_tensor_slices((X, y))\n",
    "            .batch(Config.valid_batch_size)\n",
    "            .prefetch(tf.data.experimental.AUTOTUNE)\n",
    "        )\n",
    "        return valid_dataset\n",
    "    \n",
    "    elif dataset==\"test\":\n",
    "        test_dataset = (\n",
    "            tf.data.Dataset\n",
    "            .from_tensor_slices(X)\n",
    "            .batch(Config.test_batch_size)\n",
    "            .prefetch(tf.data.experimental.AUTOTUNE)\n",
    "        )\n",
    "        return test_dataset\n",
    "\n",
    "\n",
    "def get_model_and_tokenizer():\n",
    "    \"\"\"model&tokenizer を取得 (TPU ok)\"\"\"\n",
    "    if TPU:\n",
    "        tf.config.experimental_connect_to_cluster(TPU)\n",
    "        tf.tpu.experimental.initialize_tpu_system(TPU)\n",
    "        tpu_strategy = tf.distribute.experimental.TPUStrategy(TPU)\n",
    "        with tpu_strategy.scope():\n",
    "            model = build_auto_model()\n",
    "    else:\n",
    "        model = build_auto_model()\n",
    "\n",
    "    tokenizer = AutoTokenizer.from_pretrained(Config.model)\n",
    "    return model, tokenizer\n",
    "\n",
    "\n",
    "def get_class_weight(target, weight):\n",
    "    \"\"\"class weights の作成\"\"\"\n",
    "    if weight == \"balanced\":\n",
    "        class_weights = class_weight.compute_class_weight(\n",
    "            class_weight='balanced',\n",
    "            classes=np.unique(target),\n",
    "            y=target)\n",
    "        class_weights = dict(enumerate(class_weights))\n",
    "    elif weight is None:\n",
    "        class_weights = None\n",
    "    else:\n",
    "        # ex) weight = {0:0.2, 1:0.98}\n",
    "        class_weights = weight\n",
    "    \n",
    "    return class_weights\n",
    "\n",
    "\n",
    "def training_v1(train_df, valid_df, model, tokenizer, filepath):\n",
    "    \"\"\"training 用の関数\"\"\"\n",
    "    tr_text = encode_texts(texts=train_df[Config.text_col].tolist(), tokenizer=tokenizer, max_length=Config.max_length)\n",
    "    va_text = encode_texts(texts=valid_df[Config.text_col].tolist(), tokenizer=tokenizer, max_length=Config.max_length)\n",
    "    tr_dataset = get_dataset(X=tr_text, y=train_df[Config.target_col].values, dataset=\"train\")\n",
    "    va_dataset = get_dataset(X=va_text, y=valid_df[Config.target_col].values, dataset=\"valid\")\n",
    "\n",
    "    checkpoint = tf.keras.callbacks.ModelCheckpoint(\n",
    "        filepath, \n",
    "        moniter=\"val_loss\", \n",
    "        verbose=1, \n",
    "        save_best_only=True, \n",
    "        save_weights_only=True,\n",
    "        mode=\"min\")\n",
    "    \n",
    "    model.fit(tr_dataset, \n",
    "              epochs=Config.epochs, \n",
    "              verbose=1, \n",
    "              callbacks=[checkpoint],\n",
    "              validation_data=va_dataset, \n",
    "              steps_per_epoch=Config.steps_per_epochs,\n",
    "              class_weight=get_class_weight(train_df[Config.target_col], weight=Config.class_weight))\n",
    "\n",
    "\n",
    "def inference_v1(test_df, model, tokenizer, filepath):\n",
    "    \"\"\"推論用の関数\"\"\"\n",
    "    model.load_weights(filepath)\n",
    "    te_text = encode_texts(texts=test_df[Config.text_col].tolist(), tokenizer=tokenizer, max_length=Config.max_length)\n",
    "    te_dataset = get_dataset(X=te_text, y=None, dataset=\"test\")\n",
    "    preds = model.predict(te_dataset)\n",
    "    return preds.reshape(-1)\n",
    "\n",
    "\n",
    "def train_cv_v1(train, cv, metrics, name, dir):\n",
    "    \"\"\"cross validationの実行関数 (train)\"\"\"\n",
    "\n",
    "    oof = np.zeros(len(train))\n",
    "    for i_fold, (tr_idx, va_idx) in enumerate(cv):\n",
    "        K.clear_session()\n",
    "        model, tokenizer = get_model_and_tokenizer()\n",
    "\n",
    "        tr_df, va_df = train.iloc[tr_idx].reset_index(), train.iloc[va_idx].reset_index()\n",
    "        filepath = os.path.join(dir, f\"{name}_fold{i_fold+1}.h5\")\n",
    "\n",
    "        if not os.path.isfile(filepath):  # 学習済みモデルがあればtrainingしない\n",
    "            training_v1(tr_df, va_df, model, tokenizer, filepath)\n",
    "        \n",
    "        preds = inference_v1(va_df, model, tokenizer, filepath)\n",
    "\n",
    "        score = metrics(np.array(va_df[Config.target_col]), preds)\n",
    "        logger.info(f\"{name}_fold{i_fold+1} >>> val socre:{score:.4f}\")\n",
    "        oof[va_idx] = preds\n",
    "    \n",
    "    score = metrics(np.array(train[Config.target_col]), oof)\n",
    "    logger.info(f\"{name} >>> val score:{score:.4f}\")\n",
    "    return oof\n",
    "\n",
    "\n",
    "def predict_cv_v1(test, name, dir):\n",
    "    \"\"\"cross validationの実行関数 (test)\"\"\"\n",
    "    preds_fold = []\n",
    "    for i_fold in range(Config.n_fold):\n",
    "        model, tokenizer = get_model_and_tokenizer()\n",
    "\n",
    "        filepath = os.path.join(dir, f\"{name}_fold{i_fold+1}.h5\")\n",
    "        preds = inference_v1(test, model, tokenizer, filepath)\n",
    "        preds_fold.append(preds)\n",
    "\n",
    "        logger.info(f\"{name}_fold{i_fold+1} inference\")\n",
    "    \n",
    "    preds = np.mean(preds_fold, axis=0)\n",
    "    return preds\n",
    "\n",
    "\n",
    "def visualize_confusion_matrix(\n",
    "        y_true,\n",
    "        pred_label,\n",
    "        height=.6,\n",
    "        labels=None):\n",
    "    \"\"\"混合行列をプロット \n",
    "    (https://www.guruguru.science/competitions/11/discussions/2fb11851-67d0-4e96-a4b1-5629b944f363/)\"\"\"\n",
    "    \n",
    "    conf = confusion_matrix(y_true=y_true,\n",
    "                            y_pred=pred_label,\n",
    "                            normalize='true')\n",
    "\n",
    "    n_labels = len(conf)\n",
    "    size = n_labels * height\n",
    "    fig, ax = plt.subplots(figsize=(size * 4, size * 3))\n",
    "    sns.heatmap(conf, cmap='Blues', ax=ax, annot=True, fmt='.2f')\n",
    "    ax.set_ylabel('Label')\n",
    "    ax.set_xlabel('Predict')\n",
    "\n",
    "    if labels is not None:\n",
    "        ax.set_yticklabels(labels)\n",
    "        ax.set_xticklabels(labels)\n",
    "        ax.tick_params('y', labelrotation=0)\n",
    "        ax.tick_params('x', labelrotation=90)\n",
    "\n",
    "    plt.show()\n",
    "    return fig"
   ]
  },
  {
   "cell_type": "markdown",
   "metadata": {
    "id": "0bafWWUN36Yn"
   },
   "source": [
    "# Main"
   ]
  },
  {
   "cell_type": "code",
   "execution_count": 9,
   "metadata": {
    "colab": {
     "base_uri": "https://localhost:8080/"
    },
    "executionInfo": {
     "elapsed": 9016,
     "status": "ok",
     "timestamp": 1633479251446,
     "user": {
      "displayName": "山邉潤",
      "photoUrl": "https://lh3.googleusercontent.com/a/default-user=s64",
      "userId": "01598730496302142675"
     },
     "user_tz": -540
    },
    "id": "wyuOilR_6kh0",
    "outputId": "fea48e24-f717-4fbc-9bd3-a9680f97a90c"
   },
   "outputs": [
    {
     "name": "stdout",
     "output_type": "stream",
     "text": [
      "Collecting texthero\n",
      "  Downloading texthero-1.1.0-py3-none-any.whl (24 kB)\n",
      "Requirement already satisfied: plotly>=4.2.0 in /usr/local/lib/python3.7/dist-packages (from texthero) (4.4.1)\n",
      "Requirement already satisfied: pandas>=1.0.2 in /usr/local/lib/python3.7/dist-packages (from texthero) (1.1.5)\n",
      "Collecting nltk>=3.3\n",
      "  Downloading nltk-3.6.3-py3-none-any.whl (1.5 MB)\n",
      "\u001b[K     |████████████████████████████████| 1.5 MB 8.0 MB/s \n",
      "\u001b[?25hRequirement already satisfied: gensim<4.0,>=3.6.0 in /usr/local/lib/python3.7/dist-packages (from texthero) (3.6.0)\n",
      "Requirement already satisfied: scikit-learn>=0.22 in /usr/local/lib/python3.7/dist-packages (from texthero) (0.22.2.post1)\n",
      "Requirement already satisfied: matplotlib>=3.1.0 in /usr/local/lib/python3.7/dist-packages (from texthero) (3.2.2)\n",
      "Requirement already satisfied: tqdm>=4.3 in /usr/local/lib/python3.7/dist-packages (from texthero) (4.62.3)\n",
      "Requirement already satisfied: spacy<3.0.0 in /usr/local/lib/python3.7/dist-packages (from texthero) (2.2.4)\n",
      "Collecting unidecode>=1.1.1\n",
      "  Downloading Unidecode-1.3.2-py3-none-any.whl (235 kB)\n",
      "\u001b[K     |████████████████████████████████| 235 kB 41.0 MB/s \n",
      "\u001b[?25hRequirement already satisfied: wordcloud>=1.5.0 in /usr/local/lib/python3.7/dist-packages (from texthero) (1.5.0)\n",
      "Requirement already satisfied: numpy>=1.17 in /usr/local/lib/python3.7/dist-packages (from texthero) (1.19.5)\n",
      "Requirement already satisfied: smart-open>=1.2.1 in /usr/local/lib/python3.7/dist-packages (from gensim<4.0,>=3.6.0->texthero) (5.2.1)\n",
      "Requirement already satisfied: six>=1.5.0 in /usr/local/lib/python3.7/dist-packages (from gensim<4.0,>=3.6.0->texthero) (1.15.0)\n",
      "Requirement already satisfied: scipy>=0.18.1 in /usr/local/lib/python3.7/dist-packages (from gensim<4.0,>=3.6.0->texthero) (1.4.1)\n",
      "Requirement already satisfied: kiwisolver>=1.0.1 in /usr/local/lib/python3.7/dist-packages (from matplotlib>=3.1.0->texthero) (1.3.2)\n",
      "Requirement already satisfied: python-dateutil>=2.1 in /usr/local/lib/python3.7/dist-packages (from matplotlib>=3.1.0->texthero) (2.8.2)\n",
      "Requirement already satisfied: pyparsing!=2.0.4,!=2.1.2,!=2.1.6,>=2.0.1 in /usr/local/lib/python3.7/dist-packages (from matplotlib>=3.1.0->texthero) (2.4.7)\n",
      "Requirement already satisfied: cycler>=0.10 in /usr/local/lib/python3.7/dist-packages (from matplotlib>=3.1.0->texthero) (0.10.0)\n",
      "Requirement already satisfied: joblib in /usr/local/lib/python3.7/dist-packages (from nltk>=3.3->texthero) (1.0.1)\n",
      "Requirement already satisfied: click in /usr/local/lib/python3.7/dist-packages (from nltk>=3.3->texthero) (7.1.2)\n",
      "Requirement already satisfied: regex in /usr/local/lib/python3.7/dist-packages (from nltk>=3.3->texthero) (2019.12.20)\n",
      "Requirement already satisfied: pytz>=2017.2 in /usr/local/lib/python3.7/dist-packages (from pandas>=1.0.2->texthero) (2018.9)\n",
      "Requirement already satisfied: retrying>=1.3.3 in /usr/local/lib/python3.7/dist-packages (from plotly>=4.2.0->texthero) (1.3.3)\n",
      "Requirement already satisfied: blis<0.5.0,>=0.4.0 in /usr/local/lib/python3.7/dist-packages (from spacy<3.0.0->texthero) (0.4.1)\n",
      "Requirement already satisfied: thinc==7.4.0 in /usr/local/lib/python3.7/dist-packages (from spacy<3.0.0->texthero) (7.4.0)\n",
      "Requirement already satisfied: requests<3.0.0,>=2.13.0 in /usr/local/lib/python3.7/dist-packages (from spacy<3.0.0->texthero) (2.23.0)\n",
      "Requirement already satisfied: catalogue<1.1.0,>=0.0.7 in /usr/local/lib/python3.7/dist-packages (from spacy<3.0.0->texthero) (1.0.0)\n",
      "Requirement already satisfied: plac<1.2.0,>=0.9.6 in /usr/local/lib/python3.7/dist-packages (from spacy<3.0.0->texthero) (1.1.3)\n",
      "Requirement already satisfied: setuptools in /usr/local/lib/python3.7/dist-packages (from spacy<3.0.0->texthero) (57.4.0)\n",
      "Requirement already satisfied: cymem<2.1.0,>=2.0.2 in /usr/local/lib/python3.7/dist-packages (from spacy<3.0.0->texthero) (2.0.5)\n",
      "Requirement already satisfied: wasabi<1.1.0,>=0.4.0 in /usr/local/lib/python3.7/dist-packages (from spacy<3.0.0->texthero) (0.8.2)\n",
      "Requirement already satisfied: srsly<1.1.0,>=1.0.2 in /usr/local/lib/python3.7/dist-packages (from spacy<3.0.0->texthero) (1.0.5)\n",
      "Requirement already satisfied: preshed<3.1.0,>=3.0.2 in /usr/local/lib/python3.7/dist-packages (from spacy<3.0.0->texthero) (3.0.5)\n",
      "Requirement already satisfied: murmurhash<1.1.0,>=0.28.0 in /usr/local/lib/python3.7/dist-packages (from spacy<3.0.0->texthero) (1.0.5)\n",
      "Requirement already satisfied: importlib-metadata>=0.20 in /usr/local/lib/python3.7/dist-packages (from catalogue<1.1.0,>=0.0.7->spacy<3.0.0->texthero) (4.8.1)\n",
      "Requirement already satisfied: typing-extensions>=3.6.4 in /usr/local/lib/python3.7/dist-packages (from importlib-metadata>=0.20->catalogue<1.1.0,>=0.0.7->spacy<3.0.0->texthero) (3.7.4.3)\n",
      "Requirement already satisfied: zipp>=0.5 in /usr/local/lib/python3.7/dist-packages (from importlib-metadata>=0.20->catalogue<1.1.0,>=0.0.7->spacy<3.0.0->texthero) (3.6.0)\n",
      "Requirement already satisfied: certifi>=2017.4.17 in /usr/local/lib/python3.7/dist-packages (from requests<3.0.0,>=2.13.0->spacy<3.0.0->texthero) (2021.5.30)\n",
      "Requirement already satisfied: chardet<4,>=3.0.2 in /usr/local/lib/python3.7/dist-packages (from requests<3.0.0,>=2.13.0->spacy<3.0.0->texthero) (3.0.4)\n",
      "Requirement already satisfied: urllib3!=1.25.0,!=1.25.1,<1.26,>=1.21.1 in /usr/local/lib/python3.7/dist-packages (from requests<3.0.0,>=2.13.0->spacy<3.0.0->texthero) (1.24.3)\n",
      "Requirement already satisfied: idna<3,>=2.5 in /usr/local/lib/python3.7/dist-packages (from requests<3.0.0,>=2.13.0->spacy<3.0.0->texthero) (2.10)\n",
      "Requirement already satisfied: pillow in /usr/local/lib/python3.7/dist-packages (from wordcloud>=1.5.0->texthero) (7.1.2)\n",
      "Installing collected packages: unidecode, nltk, texthero\n",
      "  Attempting uninstall: nltk\n",
      "    Found existing installation: nltk 3.2.5\n",
      "    Uninstalling nltk-3.2.5:\n",
      "      Successfully uninstalled nltk-3.2.5\n",
      "Successfully installed nltk-3.6.3 texthero-1.1.0 unidecode-1.3.2\n"
     ]
    }
   ],
   "source": [
    "!pip install texthero"
   ]
  },
  {
   "cell_type": "code",
   "execution_count": 10,
   "metadata": {
    "colab": {
     "base_uri": "https://localhost:8080/"
    },
    "executionInfo": {
     "elapsed": 6483,
     "status": "ok",
     "timestamp": 1633479257918,
     "user": {
      "displayName": "山邉潤",
      "photoUrl": "https://lh3.googleusercontent.com/a/default-user=s64",
      "userId": "01598730496302142675"
     },
     "user_tz": -540
    },
    "id": "JLKOsFkv3zY-",
    "outputId": "7a0cb442-ffbd-4364-ef95-2dec3e6ea8bb"
   },
   "outputs": [
    {
     "name": "stderr",
     "output_type": "stream",
     "text": [
      "[nltk_data] Downloading package stopwords to /root/nltk_data...\n",
      "[nltk_data]   Unzipping corpora/stopwords.zip.\n"
     ]
    }
   ],
   "source": [
    "import texthero as hero\n",
    "\n",
    "def main():\n",
    "    # load data\n",
    "    train = pd.read_csv(os.path.join(INPUT, \"train.csv\"))\n",
    "    test = pd.read_csv(os.path.join(INPUT, \"test.csv\"))\n",
    "\n",
    "    # hero\n",
    "    # train.title = hero.clean(train.title)\n",
    "    # train.abstract = hero.clean(train.abstract)\n",
    "    # test.title = hero.clean(test.title)\n",
    "    # test.abstract = hero.clean(test.abstract)\n",
    "\n",
    "    if Config.debug:\n",
    "        train = train.sample(1000, random_state=Config.seeds[0]).reset_index(drop=True)\n",
    "        test = test.sample(1000, random_state=Config.seeds[0]).reset_index(drop=True)\n",
    "\n",
    "    # preprocess\n",
    "    train[\"text\"] = train[\"title\"] + \" \" + train[\"abstract\"].fillna(\"\")\n",
    "    test[\"text\"] = test[\"title\"] + \" \" + test[\"abstract\"].fillna(\"\")\n",
    "\n",
    "    # training\n",
    "    oof_df = pd.DataFrame()\n",
    "    for seed in Config.seeds:\n",
    "        name = f\"{Config.name_v1}-{seed}\"\n",
    "        oof = train_cv_v1(train, \n",
    "                        cv=skf(train, n_splits=Config.n_fold, random_state=seed),\n",
    "                        metrics=metrics, \n",
    "                        name=name, \n",
    "                        dir=OUTPUT_EXP_MODEL)\n",
    "        oof_df[name] = oof\n",
    "\n",
    "    oof_df.to_csv(os.path.join(OUTPUT_EXP_PREDS, \"oof.csv\"), index=False)  # oof 予測値(prob)を保存\n",
    "\n",
    "    y_true = train[Config.target_col]\n",
    "    y_pred = oof_df.mean(axis=1)\n",
    "\n",
    "    best_threshold = opt_fbeta_threshold(y_true.values, y_pred.values)\n",
    "    oof_score = fbeta_score(y_true, y_pred >= best_threshold, beta=7)\n",
    "    comments = f\"score:{oof_score:.4f}/threshold:{best_threshold}\"  # 最終的なスコアと閾値 (スペースがあるとsubmit時のコメントエラーが出る)\n",
    "    logger.info(comments)\n",
    "\n",
    "    fig = visualize_confusion_matrix(y_true, y_pred>=best_threshold)  # 混合行列を表示&save\n",
    "    fig.savefig(os.path.join(OUTPUT_EXP_FIG, \"cm.png\"), dpi=300)\n",
    "\n",
    "    # inference\n",
    "    preds_df = pd.DataFrame()\n",
    "    for seed in Config.seeds:\n",
    "        name = f\"{Config.name_v1}-{seed}\"\n",
    "        preds = predict_cv_v1(test, name, dir=OUTPUT_EXP_MODEL)\n",
    "        preds_df[name] = preds\n",
    "\n",
    "    preds_df.to_csv(os.path.join(OUTPUT_EXP_PREDS, \"preds.csv\"), index=False)  # test予測値(prob)を保存\n",
    "\n",
    "    # submit\n",
    "    if Config.submit:\n",
    "        sub_df = pd.read_csv(os.path.join(INPUT, \"sample_submit.csv\"), header=None)\n",
    "        sub_df.columns = [\"id\", \"judgement\"]\n",
    "\n",
    "        preds = preds_df.mean(axis=1)\n",
    "        \n",
    "        # filepath = os.path.join(SUBMISSION, f\"{EXP}.csv\")\n",
    "        # sub_df.to_csv(filepath, index=False, header=False)\n",
    "        sub_df[\"judgement\"] = preds.values\n",
    "        sub_df.to_csv('sub_prob_007.csv', index=False, header=False)\n",
    "        sub_df[\"judgement\"] = (preds.values >= best_threshold) * 1\n",
    "        sub_df.to_csv('sub_007.csv', index=False, header=False)\n",
    "        \n",
    "        # signate api を使ってsubmit\n",
    "        # ! signate submit --competition-id=471 $filepath --note $comments\n",
    "\n",
    "    # inference2\n",
    "    preds_df = pd.DataFrame()\n",
    "    for seed in Config.seeds:\n",
    "        name = f\"{Config.name_v1}-{seed}\"\n",
    "        preds = predict_cv_v1(train, name, dir=OUTPUT_EXP_MODEL)\n",
    "        preds_df[name] = preds\n",
    "\n",
    "    preds = preds_df.mean(axis=1)\n",
    "    train['pred'] = preds\n",
    "    train[['id', 'pred']].to_csv('pred_train_007.csv', index=False)\n",
    "    "
   ]
  },
  {
   "cell_type": "code",
   "execution_count": 11,
   "metadata": {
    "colab": {
     "base_uri": "https://localhost:8080/",
     "height": 1000,
     "referenced_widgets": [
      "ff2704f1d4644fcca077a7f5c6d2bc38",
      "aa1816ee9fbf4e0188c030fd401abc63",
      "70339c403f634387bb873e28b60a2610",
      "3815f3bafb6e4a57aacda7bb6c4ab711",
      "edcf852bdc774ccda2b56bb55bd4af04",
      "a32df042b9b447c8ba1008554dd2a44e",
      "b0c46a74219247b1b731cabd43d9fbf0",
      "fffa2d487a9d4f8a9715d35c16e5148d",
      "98975ce7ee9b4cab99cf97a91e16eaf4",
      "80a9206dc57a4f9183edadff2518c29f",
      "2056f7c3b29d4549b6f04021164612c8",
      "f999b9cc51f8441594811368c8621022",
      "bf65c0b55c07413c9dc6ed43f87a1c91",
      "13d83b7e8c3f470d8f960fef45514796",
      "eb090314c92643feaa7e3a6cad2ae2fc",
      "c5f032f4d0354d04a85da11aa84dfb3d",
      "6d535e1dcb374ac38a8b3c0bdb6bece5",
      "b06ed9e013e440a69051198108706eac",
      "4003c8efb1d04767864dd815f09bf556",
      "bf77734418434605882d9cbd4a33c1be",
      "1391acaf7b6846b0ac8fb8a6cb966ac1",
      "4cadf9884a9c4c3b91073b832b523dd5",
      "9ec533852c8849468e97e56dfb9e9e1a",
      "d6c9d1a44312453bbbb0951815376c93",
      "6f6fae8a2751457a8e2e771b73224632",
      "ebaff8021cd8432589eceac6484698a0",
      "e16d05882edc4da8b0d85153d02252d1",
      "656a7a209b8244f98780b57302eb5662",
      "0a88339730d14d4a9940d39e052a1ccb",
      "1aa213f48a2a4aa38730424602aa0c55",
      "b16e096d50a64ceab9a8ea5f6f4fc7d9",
      "9fb766fb7c4e4677bd0cc1b561e1a355",
      "d788e3cc6df44b0caba0d34ef8873c90",
      "5adb5c1564e04ab59effd793ebe2e624",
      "19b825054b324f6a9df50684cd6ec905",
      "609b4e6e5b994c6fb5f7e02e51d4369c",
      "ce81aa608fb44cbca93969964460badb",
      "44fa1437c4b54ac2be701fed9d1e05bc",
      "0586acc475a54eb2963e04ffc4943140",
      "4768b9b0483a4ccd8e9c1900884c378d",
      "879673adec1c433da6e87145d242a994",
      "a6e9ca6879a043d6925afe19f3cb1698",
      "ea9c92a582d649b692f3941f76969877",
      "b60b94de982848bdb5a6204ef298d0aa",
      "5904863b5d7342f3be287952926a2bbf",
      "77342c4326414bb6bd03472facf4ec56",
      "17ae383f90544c229ea05a3bd450556e",
      "d4e98f123f2142a0a6dc655a280f2ebd",
      "283ca9d16f9b495b87f6690e62357f53",
      "88cf8c5f693e424ea325f57bc2944447",
      "e839fafc15a5431fb5c60ba09939396c",
      "74cfdd009f4e4ed99cc00306268b47d4",
      "a4f789cc22c94212b109fe920df3d7ed",
      "a9454c179c9a4e27a6e93b5a4e60c580",
      "bb3b1e85976f44e3a482439597416b42"
     ]
    },
    "executionInfo": {
     "elapsed": 13553572,
     "status": "ok",
     "timestamp": 1633492811476,
     "user": {
      "displayName": "山邉潤",
      "photoUrl": "https://lh3.googleusercontent.com/a/default-user=s64",
      "userId": "01598730496302142675"
     },
     "user_tz": -540
    },
    "id": "HeSMqBjx3zcJ",
    "outputId": "7ad5342b-85ee-4dc7-8985-6fd4bfbfa0db"
   },
   "outputs": [
    {
     "name": "stderr",
     "output_type": "stream",
     "text": [
      "INFO:absl:Entering into master device scope: /job:worker/replica:0/task:0/device:CPU:0\n"
     ]
    },
    {
     "name": "stdout",
     "output_type": "stream",
     "text": [
      "INFO:tensorflow:Clearing out eager caches\n"
     ]
    },
    {
     "name": "stderr",
     "output_type": "stream",
     "text": [
      "INFO:tensorflow:Clearing out eager caches\n"
     ]
    },
    {
     "name": "stdout",
     "output_type": "stream",
     "text": [
      "INFO:tensorflow:Initializing the TPU system: grpc://10.73.204.242:8470\n"
     ]
    },
    {
     "name": "stderr",
     "output_type": "stream",
     "text": [
      "INFO:tensorflow:Initializing the TPU system: grpc://10.73.204.242:8470\n"
     ]
    },
    {
     "name": "stdout",
     "output_type": "stream",
     "text": [
      "INFO:tensorflow:Finished initializing TPU system.\n"
     ]
    },
    {
     "name": "stderr",
     "output_type": "stream",
     "text": [
      "INFO:tensorflow:Finished initializing TPU system.\n",
      "WARNING:absl:`tf.distribute.experimental.TPUStrategy` is deprecated, please use  the non experimental symbol `tf.distribute.TPUStrategy` instead.\n"
     ]
    },
    {
     "name": "stdout",
     "output_type": "stream",
     "text": [
      "INFO:tensorflow:Found TPU system:\n"
     ]
    },
    {
     "name": "stderr",
     "output_type": "stream",
     "text": [
      "INFO:tensorflow:Found TPU system:\n"
     ]
    },
    {
     "name": "stdout",
     "output_type": "stream",
     "text": [
      "INFO:tensorflow:*** Num TPU Cores: 8\n"
     ]
    },
    {
     "name": "stderr",
     "output_type": "stream",
     "text": [
      "INFO:tensorflow:*** Num TPU Cores: 8\n"
     ]
    },
    {
     "name": "stdout",
     "output_type": "stream",
     "text": [
      "INFO:tensorflow:*** Num TPU Workers: 1\n"
     ]
    },
    {
     "name": "stderr",
     "output_type": "stream",
     "text": [
      "INFO:tensorflow:*** Num TPU Workers: 1\n"
     ]
    },
    {
     "name": "stdout",
     "output_type": "stream",
     "text": [
      "INFO:tensorflow:*** Num TPU Cores Per Worker: 8\n"
     ]
    },
    {
     "name": "stderr",
     "output_type": "stream",
     "text": [
      "INFO:tensorflow:*** Num TPU Cores Per Worker: 8\n"
     ]
    },
    {
     "name": "stdout",
     "output_type": "stream",
     "text": [
      "INFO:tensorflow:*** Available Device: _DeviceAttributes(/job:localhost/replica:0/task:0/device:CPU:0, CPU, 0, 0)\n"
     ]
    },
    {
     "name": "stderr",
     "output_type": "stream",
     "text": [
      "INFO:tensorflow:*** Available Device: _DeviceAttributes(/job:localhost/replica:0/task:0/device:CPU:0, CPU, 0, 0)\n"
     ]
    },
    {
     "name": "stdout",
     "output_type": "stream",
     "text": [
      "INFO:tensorflow:*** Available Device: _DeviceAttributes(/job:worker/replica:0/task:0/device:CPU:0, CPU, 0, 0)\n"
     ]
    },
    {
     "name": "stderr",
     "output_type": "stream",
     "text": [
      "INFO:tensorflow:*** Available Device: _DeviceAttributes(/job:worker/replica:0/task:0/device:CPU:0, CPU, 0, 0)\n"
     ]
    },
    {
     "name": "stdout",
     "output_type": "stream",
     "text": [
      "INFO:tensorflow:*** Available Device: _DeviceAttributes(/job:worker/replica:0/task:0/device:TPU:0, TPU, 0, 0)\n"
     ]
    },
    {
     "name": "stderr",
     "output_type": "stream",
     "text": [
      "INFO:tensorflow:*** Available Device: _DeviceAttributes(/job:worker/replica:0/task:0/device:TPU:0, TPU, 0, 0)\n"
     ]
    },
    {
     "name": "stdout",
     "output_type": "stream",
     "text": [
      "INFO:tensorflow:*** Available Device: _DeviceAttributes(/job:worker/replica:0/task:0/device:TPU:1, TPU, 0, 0)\n"
     ]
    },
    {
     "name": "stderr",
     "output_type": "stream",
     "text": [
      "INFO:tensorflow:*** Available Device: _DeviceAttributes(/job:worker/replica:0/task:0/device:TPU:1, TPU, 0, 0)\n"
     ]
    },
    {
     "name": "stdout",
     "output_type": "stream",
     "text": [
      "INFO:tensorflow:*** Available Device: _DeviceAttributes(/job:worker/replica:0/task:0/device:TPU:2, TPU, 0, 0)\n"
     ]
    },
    {
     "name": "stderr",
     "output_type": "stream",
     "text": [
      "INFO:tensorflow:*** Available Device: _DeviceAttributes(/job:worker/replica:0/task:0/device:TPU:2, TPU, 0, 0)\n"
     ]
    },
    {
     "name": "stdout",
     "output_type": "stream",
     "text": [
      "INFO:tensorflow:*** Available Device: _DeviceAttributes(/job:worker/replica:0/task:0/device:TPU:3, TPU, 0, 0)\n"
     ]
    },
    {
     "name": "stderr",
     "output_type": "stream",
     "text": [
      "INFO:tensorflow:*** Available Device: _DeviceAttributes(/job:worker/replica:0/task:0/device:TPU:3, TPU, 0, 0)\n"
     ]
    },
    {
     "name": "stdout",
     "output_type": "stream",
     "text": [
      "INFO:tensorflow:*** Available Device: _DeviceAttributes(/job:worker/replica:0/task:0/device:TPU:4, TPU, 0, 0)\n"
     ]
    },
    {
     "name": "stderr",
     "output_type": "stream",
     "text": [
      "INFO:tensorflow:*** Available Device: _DeviceAttributes(/job:worker/replica:0/task:0/device:TPU:4, TPU, 0, 0)\n"
     ]
    },
    {
     "name": "stdout",
     "output_type": "stream",
     "text": [
      "INFO:tensorflow:*** Available Device: _DeviceAttributes(/job:worker/replica:0/task:0/device:TPU:5, TPU, 0, 0)\n"
     ]
    },
    {
     "name": "stderr",
     "output_type": "stream",
     "text": [
      "INFO:tensorflow:*** Available Device: _DeviceAttributes(/job:worker/replica:0/task:0/device:TPU:5, TPU, 0, 0)\n"
     ]
    },
    {
     "name": "stdout",
     "output_type": "stream",
     "text": [
      "INFO:tensorflow:*** Available Device: _DeviceAttributes(/job:worker/replica:0/task:0/device:TPU:6, TPU, 0, 0)\n"
     ]
    },
    {
     "name": "stderr",
     "output_type": "stream",
     "text": [
      "INFO:tensorflow:*** Available Device: _DeviceAttributes(/job:worker/replica:0/task:0/device:TPU:6, TPU, 0, 0)\n"
     ]
    },
    {
     "name": "stdout",
     "output_type": "stream",
     "text": [
      "INFO:tensorflow:*** Available Device: _DeviceAttributes(/job:worker/replica:0/task:0/device:TPU:7, TPU, 0, 0)\n"
     ]
    },
    {
     "name": "stderr",
     "output_type": "stream",
     "text": [
      "INFO:tensorflow:*** Available Device: _DeviceAttributes(/job:worker/replica:0/task:0/device:TPU:7, TPU, 0, 0)\n"
     ]
    },
    {
     "name": "stdout",
     "output_type": "stream",
     "text": [
      "INFO:tensorflow:*** Available Device: _DeviceAttributes(/job:worker/replica:0/task:0/device:TPU_SYSTEM:0, TPU_SYSTEM, 0, 0)\n"
     ]
    },
    {
     "name": "stderr",
     "output_type": "stream",
     "text": [
      "INFO:tensorflow:*** Available Device: _DeviceAttributes(/job:worker/replica:0/task:0/device:TPU_SYSTEM:0, TPU_SYSTEM, 0, 0)\n"
     ]
    },
    {
     "name": "stdout",
     "output_type": "stream",
     "text": [
      "INFO:tensorflow:*** Available Device: _DeviceAttributes(/job:worker/replica:0/task:0/device:XLA_CPU:0, XLA_CPU, 0, 0)\n"
     ]
    },
    {
     "name": "stderr",
     "output_type": "stream",
     "text": [
      "INFO:tensorflow:*** Available Device: _DeviceAttributes(/job:worker/replica:0/task:0/device:XLA_CPU:0, XLA_CPU, 0, 0)\n"
     ]
    },
    {
     "data": {
      "application/vnd.jupyter.widget-view+json": {
       "model_id": "ff2704f1d4644fcca077a7f5c6d2bc38",
       "version_major": 2,
       "version_minor": 0
      },
      "text/plain": [
       "Downloading:   0%|          | 0.00/462 [00:00<?, ?B/s]"
      ]
     },
     "metadata": {},
     "output_type": "display_data"
    },
    {
     "data": {
      "application/vnd.jupyter.widget-view+json": {
       "model_id": "f999b9cc51f8441594811368c8621022",
       "version_major": 2,
       "version_minor": 0
      },
      "text/plain": [
       "Downloading:   0%|          | 0.00/413M [00:00<?, ?B/s]"
      ]
     },
     "metadata": {},
     "output_type": "display_data"
    },
    {
     "name": "stderr",
     "output_type": "stream",
     "text": [
      "All model checkpoint layers were used when initializing TFBertModel.\n",
      "\n",
      "All the layers of TFBertModel were initialized from the model checkpoint at cambridgeltl/BioRedditBERT-uncased.\n",
      "If your task is similar to the task the model of the checkpoint was trained on, you can already use TFBertModel for predictions without further training.\n"
     ]
    },
    {
     "data": {
      "application/vnd.jupyter.widget-view+json": {
       "model_id": "9ec533852c8849468e97e56dfb9e9e1a",
       "version_major": 2,
       "version_minor": 0
      },
      "text/plain": [
       "Downloading:   0%|          | 0.00/85.0 [00:00<?, ?B/s]"
      ]
     },
     "metadata": {},
     "output_type": "display_data"
    },
    {
     "data": {
      "application/vnd.jupyter.widget-view+json": {
       "model_id": "5adb5c1564e04ab59effd793ebe2e624",
       "version_major": 2,
       "version_minor": 0
      },
      "text/plain": [
       "Downloading:   0%|          | 0.00/208k [00:00<?, ?B/s]"
      ]
     },
     "metadata": {},
     "output_type": "display_data"
    },
    {
     "data": {
      "application/vnd.jupyter.widget-view+json": {
       "model_id": "5904863b5d7342f3be287952926a2bbf",
       "version_major": 2,
       "version_minor": 0
      },
      "text/plain": [
       "Downloading:   0%|          | 0.00/112 [00:00<?, ?B/s]"
      ]
     },
     "metadata": {},
     "output_type": "display_data"
    },
    {
     "name": "stdout",
     "output_type": "stream",
     "text": [
      "Epoch 1/32\n"
     ]
    },
    {
     "name": "stderr",
     "output_type": "stream",
     "text": [
      "INFO:absl:TPU has inputs with dynamic shapes: [<tf.Tensor 'Const:0' shape=() dtype=int32>, <tf.Tensor 'IteratorGetNext:0' shape=(None, 1000) dtype=int32>, <tf.Tensor 'IteratorGetNext:1' shape=(None, 1000) dtype=int32>, <tf.Tensor 'IteratorGetNext:2' shape=(None, 1000) dtype=int32>, <tf.Tensor 'IteratorGetNext:3' shape=(None,) dtype=int64>]\n"
     ]
    },
    {
     "name": "stdout",
     "output_type": "stream",
     "text": [
      "WARNING:tensorflow:Gradients do not exist for variables ['tf_bert_model/bert/pooler/dense/kernel:0', 'tf_bert_model/bert/pooler/dense/bias:0'] when minimizing the loss.\n"
     ]
    },
    {
     "name": "stderr",
     "output_type": "stream",
     "text": [
      "WARNING:tensorflow:Gradients do not exist for variables ['tf_bert_model/bert/pooler/dense/kernel:0', 'tf_bert_model/bert/pooler/dense/bias:0'] when minimizing the loss.\n",
      "INFO:absl:TPU has inputs with dynamic shapes: [<tf.Tensor 'Const:0' shape=() dtype=int32>, <tf.Tensor 'IteratorGetNext:0' shape=(None, 1000) dtype=int32>, <tf.Tensor 'IteratorGetNext:1' shape=(None, 1000) dtype=int32>, <tf.Tensor 'IteratorGetNext:2' shape=(None, 1000) dtype=int32>, <tf.Tensor 'IteratorGetNext:3' shape=(None,) dtype=int64>]\n"
     ]
    },
    {
     "name": "stdout",
     "output_type": "stream",
     "text": [
      "WARNING:tensorflow:Gradients do not exist for variables ['tf_bert_model/bert/pooler/dense/kernel:0', 'tf_bert_model/bert/pooler/dense/bias:0'] when minimizing the loss.\n"
     ]
    },
    {
     "name": "stderr",
     "output_type": "stream",
     "text": [
      "WARNING:tensorflow:Gradients do not exist for variables ['tf_bert_model/bert/pooler/dense/kernel:0', 'tf_bert_model/bert/pooler/dense/bias:0'] when minimizing the loss.\n"
     ]
    },
    {
     "name": "stdout",
     "output_type": "stream",
     "text": [
      "30/30 [==============================] - ETA: 0s - loss: 0.1271 - accuracy: 0.9573"
     ]
    },
    {
     "name": "stderr",
     "output_type": "stream",
     "text": [
      "INFO:absl:TPU has inputs with dynamic shapes: [<tf.Tensor 'Const:0' shape=() dtype=int32>, <tf.Tensor 'cond_8/Identity:0' shape=(None, 1000) dtype=int32>, <tf.Tensor 'cond_8/Identity_1:0' shape=(None, 1000) dtype=int32>, <tf.Tensor 'cond_8/Identity_2:0' shape=(None, 1000) dtype=int32>, <tf.Tensor 'cond_8/Identity_3:0' shape=(None,) dtype=int64>]\n"
     ]
    },
    {
     "name": "stdout",
     "output_type": "stream",
     "text": [
      "\b\b\b\b\b\b\b\b\b\b\b\b\b\b\b\b\b\b\b\b\b\b\b\b\b\b\b\b\b\b\b\b\b\b\b\b\b\b\b\b\b\b\b\b\b\b\b\b\b\b\b\b\b\b\b\b\b\b\b\b\b\b\b\b\b\b\b\b\b\b\b\b\b\b\b\b\b\b\b\b\b\b\r",
      "30/30 [==============================] - 156s 2s/step - loss: 0.1271 - accuracy: 0.9573 - val_loss: 0.1115 - val_accuracy: 0.9768\n",
      "\n",
      "Epoch 00001: val_loss improved from inf to 0.11151, saving model to ./tf-roberta-base-2021_fold1.h5\n",
      "Epoch 2/32\n",
      "30/30 [==============================] - 34s 1s/step - loss: 0.0997 - accuracy: 0.9771 - val_loss: 0.1050 - val_accuracy: 0.9768\n",
      "\n",
      "Epoch 00002: val_loss improved from 0.11151 to 0.10497, saving model to ./tf-roberta-base-2021_fold1.h5\n",
      "Epoch 3/32\n",
      "30/30 [==============================] - 34s 1s/step - loss: 0.0925 - accuracy: 0.9771 - val_loss: 0.0805 - val_accuracy: 0.9779\n",
      "\n",
      "Epoch 00003: val_loss improved from 0.10497 to 0.08046, saving model to ./tf-roberta-base-2021_fold1.h5\n",
      "Epoch 4/32\n",
      "30/30 [==============================] - 34s 1s/step - loss: 0.0827 - accuracy: 0.9734 - val_loss: 0.0762 - val_accuracy: 0.9775\n",
      "\n",
      "Epoch 00004: val_loss improved from 0.08046 to 0.07624, saving model to ./tf-roberta-base-2021_fold1.h5\n",
      "Epoch 5/32\n",
      "30/30 [==============================] - 34s 1s/step - loss: 0.0619 - accuracy: 0.9797 - val_loss: 0.0731 - val_accuracy: 0.9805\n",
      "\n",
      "Epoch 00005: val_loss improved from 0.07624 to 0.07308, saving model to ./tf-roberta-base-2021_fold1.h5\n",
      "Epoch 6/32\n",
      "30/30 [==============================] - 34s 1s/step - loss: 0.0593 - accuracy: 0.9813 - val_loss: 0.0777 - val_accuracy: 0.9773\n",
      "\n",
      "Epoch 00006: val_loss did not improve from 0.07308\n",
      "Epoch 7/32\n",
      "30/30 [==============================] - 34s 1s/step - loss: 0.0608 - accuracy: 0.9823 - val_loss: 0.0704 - val_accuracy: 0.9799\n",
      "\n",
      "Epoch 00007: val_loss improved from 0.07308 to 0.07039, saving model to ./tf-roberta-base-2021_fold1.h5\n",
      "Epoch 8/32\n",
      "30/30 [==============================] - 34s 1s/step - loss: 0.0696 - accuracy: 0.9802 - val_loss: 0.0640 - val_accuracy: 0.9792\n",
      "\n",
      "Epoch 00008: val_loss improved from 0.07039 to 0.06404, saving model to ./tf-roberta-base-2021_fold1.h5\n",
      "Epoch 9/32\n",
      "30/30 [==============================] - 34s 1s/step - loss: 0.0604 - accuracy: 0.9750 - val_loss: 0.0633 - val_accuracy: 0.9797\n",
      "\n",
      "Epoch 00009: val_loss improved from 0.06404 to 0.06333, saving model to ./tf-roberta-base-2021_fold1.h5\n",
      "Epoch 10/32\n",
      "30/30 [==============================] - 34s 1s/step - loss: 0.0581 - accuracy: 0.9766 - val_loss: 0.0684 - val_accuracy: 0.9821\n",
      "\n",
      "Epoch 00010: val_loss did not improve from 0.06333\n",
      "Epoch 11/32\n",
      "30/30 [==============================] - 34s 1s/step - loss: 0.0601 - accuracy: 0.9818 - val_loss: 0.0539 - val_accuracy: 0.9825\n",
      "\n",
      "Epoch 00011: val_loss improved from 0.06333 to 0.05385, saving model to ./tf-roberta-base-2021_fold1.h5\n",
      "Epoch 12/32\n",
      "30/30 [==============================] - 89s 3s/step - loss: 0.0466 - accuracy: 0.9819 - val_loss: 0.0497 - val_accuracy: 0.9821\n",
      "\n",
      "Epoch 00012: val_loss improved from 0.05385 to 0.04968, saving model to ./tf-roberta-base-2021_fold1.h5\n",
      "Epoch 13/32\n",
      "30/30 [==============================] - 36s 1s/step - loss: 0.0443 - accuracy: 0.9849 - val_loss: 0.0521 - val_accuracy: 0.9818\n",
      "\n",
      "Epoch 00013: val_loss did not improve from 0.04968\n",
      "Epoch 14/32\n",
      "30/30 [==============================] - 34s 1s/step - loss: 0.0381 - accuracy: 0.9880 - val_loss: 0.0701 - val_accuracy: 0.9810\n",
      "\n",
      "Epoch 00014: val_loss did not improve from 0.04968\n",
      "Epoch 15/32\n",
      "30/30 [==============================] - 34s 1s/step - loss: 0.0516 - accuracy: 0.9818 - val_loss: 0.0589 - val_accuracy: 0.9807\n",
      "\n",
      "Epoch 00015: val_loss did not improve from 0.04968\n",
      "Epoch 16/32\n",
      "30/30 [==============================] - 34s 1s/step - loss: 0.0390 - accuracy: 0.9849 - val_loss: 0.0483 - val_accuracy: 0.9827\n",
      "\n",
      "Epoch 00016: val_loss improved from 0.04968 to 0.04829, saving model to ./tf-roberta-base-2021_fold1.h5\n",
      "Epoch 17/32\n",
      "30/30 [==============================] - 34s 1s/step - loss: 0.0373 - accuracy: 0.9859 - val_loss: 0.0495 - val_accuracy: 0.9827\n",
      "\n",
      "Epoch 00017: val_loss did not improve from 0.04829\n",
      "Epoch 18/32\n",
      "30/30 [==============================] - 34s 1s/step - loss: 0.0360 - accuracy: 0.9854 - val_loss: 0.0468 - val_accuracy: 0.9825\n",
      "\n",
      "Epoch 00018: val_loss improved from 0.04829 to 0.04685, saving model to ./tf-roberta-base-2021_fold1.h5\n",
      "Epoch 19/32\n",
      "30/30 [==============================] - 34s 1s/step - loss: 0.0316 - accuracy: 0.9885 - val_loss: 0.0456 - val_accuracy: 0.9842\n",
      "\n",
      "Epoch 00019: val_loss improved from 0.04685 to 0.04563, saving model to ./tf-roberta-base-2021_fold1.h5\n",
      "Epoch 20/32\n",
      "30/30 [==============================] - 34s 1s/step - loss: 0.0370 - accuracy: 0.9870 - val_loss: 0.0500 - val_accuracy: 0.9843\n",
      "\n",
      "Epoch 00020: val_loss did not improve from 0.04563\n",
      "Epoch 21/32\n",
      "30/30 [==============================] - 34s 1s/step - loss: 0.0372 - accuracy: 0.9839 - val_loss: 0.0706 - val_accuracy: 0.9819\n",
      "\n",
      "Epoch 00021: val_loss did not improve from 0.04563\n",
      "Epoch 22/32\n",
      "30/30 [==============================] - 34s 1s/step - loss: 0.0282 - accuracy: 0.9885 - val_loss: 0.0659 - val_accuracy: 0.9831\n",
      "\n",
      "Epoch 00022: val_loss did not improve from 0.04563\n",
      "Epoch 23/32\n",
      "30/30 [==============================] - 34s 1s/step - loss: 0.0362 - accuracy: 0.9877 - val_loss: 0.0494 - val_accuracy: 0.9849\n",
      "\n",
      "Epoch 00023: val_loss did not improve from 0.04563\n",
      "Epoch 24/32\n",
      "30/30 [==============================] - 34s 1s/step - loss: 0.0243 - accuracy: 0.9917 - val_loss: 0.0602 - val_accuracy: 0.9847\n",
      "\n",
      "Epoch 00024: val_loss did not improve from 0.04563\n",
      "Epoch 25/32\n",
      "30/30 [==============================] - 34s 1s/step - loss: 0.0184 - accuracy: 0.9906 - val_loss: 0.0503 - val_accuracy: 0.9851\n",
      "\n",
      "Epoch 00025: val_loss did not improve from 0.04563\n",
      "Epoch 26/32\n",
      "30/30 [==============================] - 34s 1s/step - loss: 0.0231 - accuracy: 0.9896 - val_loss: 0.0494 - val_accuracy: 0.9847\n",
      "\n",
      "Epoch 00026: val_loss did not improve from 0.04563\n",
      "Epoch 27/32\n",
      "30/30 [==============================] - 34s 1s/step - loss: 0.0260 - accuracy: 0.9911 - val_loss: 0.0517 - val_accuracy: 0.9845\n",
      "\n",
      "Epoch 00027: val_loss did not improve from 0.04563\n",
      "Epoch 28/32\n",
      "30/30 [==============================] - 34s 1s/step - loss: 0.0260 - accuracy: 0.9906 - val_loss: 0.0470 - val_accuracy: 0.9842\n",
      "\n",
      "Epoch 00028: val_loss did not improve from 0.04563\n",
      "Epoch 29/32\n",
      "30/30 [==============================] - 34s 1s/step - loss: 0.0172 - accuracy: 0.9943 - val_loss: 0.0513 - val_accuracy: 0.9840\n",
      "\n",
      "Epoch 00029: val_loss did not improve from 0.04563\n",
      "Epoch 30/32\n",
      "30/30 [==============================] - 34s 1s/step - loss: 0.0191 - accuracy: 0.9927 - val_loss: 0.0524 - val_accuracy: 0.9834\n",
      "\n",
      "Epoch 00030: val_loss did not improve from 0.04563\n",
      "Epoch 31/32\n",
      "30/30 [==============================] - 34s 1s/step - loss: 0.0243 - accuracy: 0.9891 - val_loss: 0.0601 - val_accuracy: 0.9799\n",
      "\n",
      "Epoch 00031: val_loss did not improve from 0.04563\n",
      "Epoch 32/32\n",
      "30/30 [==============================] - 34s 1s/step - loss: 0.0297 - accuracy: 0.9901 - val_loss: 0.0498 - val_accuracy: 0.9816\n",
      "\n",
      "Epoch 00032: val_loss did not improve from 0.04563\n"
     ]
    },
    {
     "name": "stderr",
     "output_type": "stream",
     "text": [
      "INFO:absl:TPU has inputs with dynamic shapes: [<tf.Tensor 'Const:0' shape=() dtype=int32>, <tf.Tensor 'cond_8/Identity:0' shape=(None, 1000) dtype=int32>, <tf.Tensor 'cond_8/Identity_1:0' shape=(None, 1000) dtype=int32>, <tf.Tensor 'cond_8/Identity_2:0' shape=(None, 1000) dtype=int32>]\n",
      "[2021-10-06 00:43:13] - tf-roberta-base-2021_fold1 >>> val socre:0.8582\n",
      "INFO:./:[2021-10-06 00:43:13] - tf-roberta-base-2021_fold1 >>> val socre:0.8582\n"
     ]
    },
    {
     "name": "stdout",
     "output_type": "stream",
     "text": [
      "bt:0.01737780018880934\n",
      "INFO:tensorflow:Clearing out eager caches\n"
     ]
    },
    {
     "name": "stderr",
     "output_type": "stream",
     "text": [
      "INFO:tensorflow:Clearing out eager caches\n"
     ]
    },
    {
     "name": "stdout",
     "output_type": "stream",
     "text": [
      "WARNING:tensorflow:TPU system grpc://10.73.204.242:8470 has already been initialized. Reinitializing the TPU can cause previously created variables on TPU to be lost.\n"
     ]
    },
    {
     "name": "stderr",
     "output_type": "stream",
     "text": [
      "WARNING:tensorflow:TPU system grpc://10.73.204.242:8470 has already been initialized. Reinitializing the TPU can cause previously created variables on TPU to be lost.\n"
     ]
    },
    {
     "name": "stdout",
     "output_type": "stream",
     "text": [
      "INFO:tensorflow:Initializing the TPU system: grpc://10.73.204.242:8470\n"
     ]
    },
    {
     "name": "stderr",
     "output_type": "stream",
     "text": [
      "INFO:tensorflow:Initializing the TPU system: grpc://10.73.204.242:8470\n"
     ]
    },
    {
     "name": "stdout",
     "output_type": "stream",
     "text": [
      "INFO:tensorflow:Finished initializing TPU system.\n"
     ]
    },
    {
     "name": "stderr",
     "output_type": "stream",
     "text": [
      "INFO:tensorflow:Finished initializing TPU system.\n",
      "WARNING:absl:`tf.distribute.experimental.TPUStrategy` is deprecated, please use  the non experimental symbol `tf.distribute.TPUStrategy` instead.\n"
     ]
    },
    {
     "name": "stdout",
     "output_type": "stream",
     "text": [
      "INFO:tensorflow:Found TPU system:\n"
     ]
    },
    {
     "name": "stderr",
     "output_type": "stream",
     "text": [
      "INFO:tensorflow:Found TPU system:\n"
     ]
    },
    {
     "name": "stdout",
     "output_type": "stream",
     "text": [
      "INFO:tensorflow:*** Num TPU Cores: 8\n"
     ]
    },
    {
     "name": "stderr",
     "output_type": "stream",
     "text": [
      "INFO:tensorflow:*** Num TPU Cores: 8\n"
     ]
    },
    {
     "name": "stdout",
     "output_type": "stream",
     "text": [
      "INFO:tensorflow:*** Num TPU Workers: 1\n"
     ]
    },
    {
     "name": "stderr",
     "output_type": "stream",
     "text": [
      "INFO:tensorflow:*** Num TPU Workers: 1\n"
     ]
    },
    {
     "name": "stdout",
     "output_type": "stream",
     "text": [
      "INFO:tensorflow:*** Num TPU Cores Per Worker: 8\n"
     ]
    },
    {
     "name": "stderr",
     "output_type": "stream",
     "text": [
      "INFO:tensorflow:*** Num TPU Cores Per Worker: 8\n"
     ]
    },
    {
     "name": "stdout",
     "output_type": "stream",
     "text": [
      "INFO:tensorflow:*** Available Device: _DeviceAttributes(/job:localhost/replica:0/task:0/device:CPU:0, CPU, 0, 0)\n"
     ]
    },
    {
     "name": "stderr",
     "output_type": "stream",
     "text": [
      "INFO:tensorflow:*** Available Device: _DeviceAttributes(/job:localhost/replica:0/task:0/device:CPU:0, CPU, 0, 0)\n"
     ]
    },
    {
     "name": "stdout",
     "output_type": "stream",
     "text": [
      "INFO:tensorflow:*** Available Device: _DeviceAttributes(/job:worker/replica:0/task:0/device:CPU:0, CPU, 0, 0)\n"
     ]
    },
    {
     "name": "stderr",
     "output_type": "stream",
     "text": [
      "INFO:tensorflow:*** Available Device: _DeviceAttributes(/job:worker/replica:0/task:0/device:CPU:0, CPU, 0, 0)\n"
     ]
    },
    {
     "name": "stdout",
     "output_type": "stream",
     "text": [
      "INFO:tensorflow:*** Available Device: _DeviceAttributes(/job:worker/replica:0/task:0/device:TPU:0, TPU, 0, 0)\n"
     ]
    },
    {
     "name": "stderr",
     "output_type": "stream",
     "text": [
      "INFO:tensorflow:*** Available Device: _DeviceAttributes(/job:worker/replica:0/task:0/device:TPU:0, TPU, 0, 0)\n"
     ]
    },
    {
     "name": "stdout",
     "output_type": "stream",
     "text": [
      "INFO:tensorflow:*** Available Device: _DeviceAttributes(/job:worker/replica:0/task:0/device:TPU:1, TPU, 0, 0)\n"
     ]
    },
    {
     "name": "stderr",
     "output_type": "stream",
     "text": [
      "INFO:tensorflow:*** Available Device: _DeviceAttributes(/job:worker/replica:0/task:0/device:TPU:1, TPU, 0, 0)\n"
     ]
    },
    {
     "name": "stdout",
     "output_type": "stream",
     "text": [
      "INFO:tensorflow:*** Available Device: _DeviceAttributes(/job:worker/replica:0/task:0/device:TPU:2, TPU, 0, 0)\n"
     ]
    },
    {
     "name": "stderr",
     "output_type": "stream",
     "text": [
      "INFO:tensorflow:*** Available Device: _DeviceAttributes(/job:worker/replica:0/task:0/device:TPU:2, TPU, 0, 0)\n"
     ]
    },
    {
     "name": "stdout",
     "output_type": "stream",
     "text": [
      "INFO:tensorflow:*** Available Device: _DeviceAttributes(/job:worker/replica:0/task:0/device:TPU:3, TPU, 0, 0)\n"
     ]
    },
    {
     "name": "stderr",
     "output_type": "stream",
     "text": [
      "INFO:tensorflow:*** Available Device: _DeviceAttributes(/job:worker/replica:0/task:0/device:TPU:3, TPU, 0, 0)\n"
     ]
    },
    {
     "name": "stdout",
     "output_type": "stream",
     "text": [
      "INFO:tensorflow:*** Available Device: _DeviceAttributes(/job:worker/replica:0/task:0/device:TPU:4, TPU, 0, 0)\n"
     ]
    },
    {
     "name": "stderr",
     "output_type": "stream",
     "text": [
      "INFO:tensorflow:*** Available Device: _DeviceAttributes(/job:worker/replica:0/task:0/device:TPU:4, TPU, 0, 0)\n"
     ]
    },
    {
     "name": "stdout",
     "output_type": "stream",
     "text": [
      "INFO:tensorflow:*** Available Device: _DeviceAttributes(/job:worker/replica:0/task:0/device:TPU:5, TPU, 0, 0)\n"
     ]
    },
    {
     "name": "stderr",
     "output_type": "stream",
     "text": [
      "INFO:tensorflow:*** Available Device: _DeviceAttributes(/job:worker/replica:0/task:0/device:TPU:5, TPU, 0, 0)\n"
     ]
    },
    {
     "name": "stdout",
     "output_type": "stream",
     "text": [
      "INFO:tensorflow:*** Available Device: _DeviceAttributes(/job:worker/replica:0/task:0/device:TPU:6, TPU, 0, 0)\n"
     ]
    },
    {
     "name": "stderr",
     "output_type": "stream",
     "text": [
      "INFO:tensorflow:*** Available Device: _DeviceAttributes(/job:worker/replica:0/task:0/device:TPU:6, TPU, 0, 0)\n"
     ]
    },
    {
     "name": "stdout",
     "output_type": "stream",
     "text": [
      "INFO:tensorflow:*** Available Device: _DeviceAttributes(/job:worker/replica:0/task:0/device:TPU:7, TPU, 0, 0)\n"
     ]
    },
    {
     "name": "stderr",
     "output_type": "stream",
     "text": [
      "INFO:tensorflow:*** Available Device: _DeviceAttributes(/job:worker/replica:0/task:0/device:TPU:7, TPU, 0, 0)\n"
     ]
    },
    {
     "name": "stdout",
     "output_type": "stream",
     "text": [
      "INFO:tensorflow:*** Available Device: _DeviceAttributes(/job:worker/replica:0/task:0/device:TPU_SYSTEM:0, TPU_SYSTEM, 0, 0)\n"
     ]
    },
    {
     "name": "stderr",
     "output_type": "stream",
     "text": [
      "INFO:tensorflow:*** Available Device: _DeviceAttributes(/job:worker/replica:0/task:0/device:TPU_SYSTEM:0, TPU_SYSTEM, 0, 0)\n"
     ]
    },
    {
     "name": "stdout",
     "output_type": "stream",
     "text": [
      "INFO:tensorflow:*** Available Device: _DeviceAttributes(/job:worker/replica:0/task:0/device:XLA_CPU:0, XLA_CPU, 0, 0)\n"
     ]
    },
    {
     "name": "stderr",
     "output_type": "stream",
     "text": [
      "INFO:tensorflow:*** Available Device: _DeviceAttributes(/job:worker/replica:0/task:0/device:XLA_CPU:0, XLA_CPU, 0, 0)\n",
      "All model checkpoint layers were used when initializing TFBertModel.\n",
      "\n",
      "All the layers of TFBertModel were initialized from the model checkpoint at cambridgeltl/BioRedditBERT-uncased.\n",
      "If your task is similar to the task the model of the checkpoint was trained on, you can already use TFBertModel for predictions without further training.\n"
     ]
    },
    {
     "name": "stdout",
     "output_type": "stream",
     "text": [
      "Epoch 1/32\n"
     ]
    },
    {
     "name": "stderr",
     "output_type": "stream",
     "text": [
      "INFO:absl:TPU has inputs with dynamic shapes: [<tf.Tensor 'Const:0' shape=() dtype=int32>, <tf.Tensor 'IteratorGetNext:0' shape=(None, 1000) dtype=int32>, <tf.Tensor 'IteratorGetNext:1' shape=(None, 1000) dtype=int32>, <tf.Tensor 'IteratorGetNext:2' shape=(None, 1000) dtype=int32>, <tf.Tensor 'IteratorGetNext:3' shape=(None,) dtype=int64>]\n"
     ]
    },
    {
     "name": "stdout",
     "output_type": "stream",
     "text": [
      "WARNING:tensorflow:Gradients do not exist for variables ['tf_bert_model/bert/pooler/dense/kernel:0', 'tf_bert_model/bert/pooler/dense/bias:0'] when minimizing the loss.\n"
     ]
    },
    {
     "name": "stderr",
     "output_type": "stream",
     "text": [
      "WARNING:tensorflow:Gradients do not exist for variables ['tf_bert_model/bert/pooler/dense/kernel:0', 'tf_bert_model/bert/pooler/dense/bias:0'] when minimizing the loss.\n",
      "INFO:absl:TPU has inputs with dynamic shapes: [<tf.Tensor 'Const:0' shape=() dtype=int32>, <tf.Tensor 'IteratorGetNext:0' shape=(None, 1000) dtype=int32>, <tf.Tensor 'IteratorGetNext:1' shape=(None, 1000) dtype=int32>, <tf.Tensor 'IteratorGetNext:2' shape=(None, 1000) dtype=int32>, <tf.Tensor 'IteratorGetNext:3' shape=(None,) dtype=int64>]\n"
     ]
    },
    {
     "name": "stdout",
     "output_type": "stream",
     "text": [
      "WARNING:tensorflow:Gradients do not exist for variables ['tf_bert_model/bert/pooler/dense/kernel:0', 'tf_bert_model/bert/pooler/dense/bias:0'] when minimizing the loss.\n"
     ]
    },
    {
     "name": "stderr",
     "output_type": "stream",
     "text": [
      "WARNING:tensorflow:Gradients do not exist for variables ['tf_bert_model/bert/pooler/dense/kernel:0', 'tf_bert_model/bert/pooler/dense/bias:0'] when minimizing the loss.\n"
     ]
    },
    {
     "name": "stdout",
     "output_type": "stream",
     "text": [
      "30/30 [==============================] - ETA: 0s - loss: 0.1717 - accuracy: 0.9448"
     ]
    },
    {
     "name": "stderr",
     "output_type": "stream",
     "text": [
      "INFO:absl:TPU has inputs with dynamic shapes: [<tf.Tensor 'Const:0' shape=() dtype=int32>, <tf.Tensor 'cond_8/Identity:0' shape=(None, 1000) dtype=int32>, <tf.Tensor 'cond_8/Identity_1:0' shape=(None, 1000) dtype=int32>, <tf.Tensor 'cond_8/Identity_2:0' shape=(None, 1000) dtype=int32>, <tf.Tensor 'cond_8/Identity_3:0' shape=(None,) dtype=int64>]\n"
     ]
    },
    {
     "name": "stdout",
     "output_type": "stream",
     "text": [
      "\b\b\b\b\b\b\b\b\b\b\b\b\b\b\b\b\b\b\b\b\b\b\b\b\b\b\b\b\b\b\b\b\b\b\b\b\b\b\b\b\b\b\b\b\b\b\b\b\b\b\b\b\b\b\b\b\b\b\b\b\b\b\b\b\b\b\b\b\b\b\b\b\b\b\b\b\b\b\b\b\b\b\r",
      "30/30 [==============================] - 161s 2s/step - loss: 0.1717 - accuracy: 0.9448 - val_loss: 0.1073 - val_accuracy: 0.9768\n",
      "\n",
      "Epoch 00001: val_loss improved from inf to 0.10725, saving model to ./tf-roberta-base-2021_fold2.h5\n",
      "Epoch 2/32\n",
      "30/30 [==============================] - 34s 1s/step - loss: 0.1053 - accuracy: 0.9771 - val_loss: 0.1022 - val_accuracy: 0.9768\n",
      "\n",
      "Epoch 00002: val_loss improved from 0.10725 to 0.10215, saving model to ./tf-roberta-base-2021_fold2.h5\n",
      "Epoch 3/32\n",
      "30/30 [==============================] - 34s 1s/step - loss: 0.0972 - accuracy: 0.9776 - val_loss: 0.0925 - val_accuracy: 0.9768\n",
      "\n",
      "Epoch 00003: val_loss improved from 0.10215 to 0.09245, saving model to ./tf-roberta-base-2021_fold2.h5\n",
      "Epoch 4/32\n",
      "30/30 [==============================] - 34s 1s/step - loss: 0.0919 - accuracy: 0.9771 - val_loss: 0.0879 - val_accuracy: 0.9768\n",
      "\n",
      "Epoch 00004: val_loss improved from 0.09245 to 0.08794, saving model to ./tf-roberta-base-2021_fold2.h5\n",
      "Epoch 5/32\n",
      "30/30 [==============================] - 34s 1s/step - loss: 0.0735 - accuracy: 0.9802 - val_loss: 0.0663 - val_accuracy: 0.9816\n",
      "\n",
      "Epoch 00005: val_loss improved from 0.08794 to 0.06634, saving model to ./tf-roberta-base-2021_fold2.h5\n",
      "Epoch 6/32\n",
      "30/30 [==============================] - 34s 1s/step - loss: 0.0680 - accuracy: 0.9807 - val_loss: 0.0614 - val_accuracy: 0.9814\n",
      "\n",
      "Epoch 00006: val_loss improved from 0.06634 to 0.06138, saving model to ./tf-roberta-base-2021_fold2.h5\n",
      "Epoch 7/32\n",
      "30/30 [==============================] - 34s 1s/step - loss: 0.0723 - accuracy: 0.9792 - val_loss: 0.0800 - val_accuracy: 0.9768\n",
      "\n",
      "Epoch 00007: val_loss did not improve from 0.06138\n",
      "Epoch 8/32\n",
      "30/30 [==============================] - 34s 1s/step - loss: 0.0517 - accuracy: 0.9823 - val_loss: 0.0554 - val_accuracy: 0.9814\n",
      "\n",
      "Epoch 00008: val_loss improved from 0.06138 to 0.05538, saving model to ./tf-roberta-base-2021_fold2.h5\n",
      "Epoch 9/32\n",
      "30/30 [==============================] - 34s 1s/step - loss: 0.0638 - accuracy: 0.9786 - val_loss: 0.0533 - val_accuracy: 0.9819\n",
      "\n",
      "Epoch 00009: val_loss improved from 0.05538 to 0.05328, saving model to ./tf-roberta-base-2021_fold2.h5\n",
      "Epoch 10/32\n",
      "30/30 [==============================] - 34s 1s/step - loss: 0.0830 - accuracy: 0.9750 - val_loss: 0.0603 - val_accuracy: 0.9810\n",
      "\n",
      "Epoch 00010: val_loss did not improve from 0.05328\n",
      "Epoch 11/32\n",
      "30/30 [==============================] - 34s 1s/step - loss: 0.0522 - accuracy: 0.9818 - val_loss: 0.0565 - val_accuracy: 0.9825\n",
      "\n",
      "Epoch 00011: val_loss did not improve from 0.05328\n",
      "Epoch 12/32\n",
      "30/30 [==============================] - 89s 3s/step - loss: 0.0719 - accuracy: 0.9771 - val_loss: 0.0498 - val_accuracy: 0.9794\n",
      "\n",
      "Epoch 00012: val_loss improved from 0.05328 to 0.04985, saving model to ./tf-roberta-base-2021_fold2.h5\n",
      "Epoch 13/32\n",
      "30/30 [==============================] - 34s 1s/step - loss: 0.0412 - accuracy: 0.9849 - val_loss: 0.0471 - val_accuracy: 0.9831\n",
      "\n",
      "Epoch 00013: val_loss improved from 0.04985 to 0.04711, saving model to ./tf-roberta-base-2021_fold2.h5\n",
      "Epoch 14/32\n",
      "30/30 [==============================] - 34s 1s/step - loss: 0.0359 - accuracy: 0.9865 - val_loss: 0.0443 - val_accuracy: 0.9829\n",
      "\n",
      "Epoch 00014: val_loss improved from 0.04711 to 0.04430, saving model to ./tf-roberta-base-2021_fold2.h5\n",
      "Epoch 15/32\n",
      "30/30 [==============================] - 34s 1s/step - loss: 0.0581 - accuracy: 0.9745 - val_loss: 0.0441 - val_accuracy: 0.9836\n",
      "\n",
      "Epoch 00015: val_loss improved from 0.04430 to 0.04413, saving model to ./tf-roberta-base-2021_fold2.h5\n",
      "Epoch 16/32\n",
      "30/30 [==============================] - 34s 1s/step - loss: 0.0333 - accuracy: 0.9880 - val_loss: 0.0424 - val_accuracy: 0.9823\n",
      "\n",
      "Epoch 00016: val_loss improved from 0.04413 to 0.04244, saving model to ./tf-roberta-base-2021_fold2.h5\n",
      "Epoch 17/32\n",
      "30/30 [==============================] - 34s 1s/step - loss: 0.0436 - accuracy: 0.9833 - val_loss: 0.0396 - val_accuracy: 0.9836\n",
      "\n",
      "Epoch 00017: val_loss improved from 0.04244 to 0.03962, saving model to ./tf-roberta-base-2021_fold2.h5\n",
      "Epoch 18/32\n",
      "30/30 [==============================] - 36s 1s/step - loss: 0.0395 - accuracy: 0.9859 - val_loss: 0.0434 - val_accuracy: 0.9834\n",
      "\n",
      "Epoch 00018: val_loss did not improve from 0.03962\n",
      "Epoch 19/32\n",
      "30/30 [==============================] - 34s 1s/step - loss: 0.0448 - accuracy: 0.9823 - val_loss: 0.0373 - val_accuracy: 0.9856\n",
      "\n",
      "Epoch 00019: val_loss improved from 0.03962 to 0.03732, saving model to ./tf-roberta-base-2021_fold2.h5\n",
      "Epoch 20/32\n",
      "30/30 [==============================] - 34s 1s/step - loss: 0.0317 - accuracy: 0.9875 - val_loss: 0.0416 - val_accuracy: 0.9818\n",
      "\n",
      "Epoch 00020: val_loss did not improve from 0.03732\n",
      "Epoch 21/32\n",
      "30/30 [==============================] - 34s 1s/step - loss: 0.0392 - accuracy: 0.9854 - val_loss: 0.0390 - val_accuracy: 0.9858\n",
      "\n",
      "Epoch 00021: val_loss did not improve from 0.03732\n",
      "Epoch 22/32\n",
      "30/30 [==============================] - 34s 1s/step - loss: 0.0377 - accuracy: 0.9844 - val_loss: 0.0406 - val_accuracy: 0.9866\n",
      "\n",
      "Epoch 00022: val_loss did not improve from 0.03732\n",
      "Epoch 23/32\n",
      "30/30 [==============================] - 34s 1s/step - loss: 0.0315 - accuracy: 0.9877 - val_loss: 0.0496 - val_accuracy: 0.9770\n",
      "\n",
      "Epoch 00023: val_loss did not improve from 0.03732\n",
      "Epoch 24/32\n",
      "30/30 [==============================] - 34s 1s/step - loss: 0.0351 - accuracy: 0.9859 - val_loss: 0.0374 - val_accuracy: 0.9851\n",
      "\n",
      "Epoch 00024: val_loss did not improve from 0.03732\n",
      "Epoch 25/32\n",
      "30/30 [==============================] - 35s 1s/step - loss: 0.0186 - accuracy: 0.9911 - val_loss: 0.0382 - val_accuracy: 0.9854\n",
      "\n",
      "Epoch 00025: val_loss did not improve from 0.03732\n",
      "Epoch 26/32\n",
      "30/30 [==============================] - 35s 1s/step - loss: 0.0268 - accuracy: 0.9896 - val_loss: 0.0405 - val_accuracy: 0.9866\n",
      "\n",
      "Epoch 00026: val_loss did not improve from 0.03732\n",
      "Epoch 27/32\n",
      "30/30 [==============================] - 34s 1s/step - loss: 0.0197 - accuracy: 0.9911 - val_loss: 0.0421 - val_accuracy: 0.9829\n",
      "\n",
      "Epoch 00027: val_loss did not improve from 0.03732\n",
      "Epoch 28/32\n",
      "30/30 [==============================] - 34s 1s/step - loss: 0.0168 - accuracy: 0.9927 - val_loss: 0.0462 - val_accuracy: 0.9849\n",
      "\n",
      "Epoch 00028: val_loss did not improve from 0.03732\n",
      "Epoch 29/32\n",
      "30/30 [==============================] - 34s 1s/step - loss: 0.0264 - accuracy: 0.9911 - val_loss: 0.0394 - val_accuracy: 0.9864\n",
      "\n",
      "Epoch 00029: val_loss did not improve from 0.03732\n",
      "Epoch 30/32\n",
      "30/30 [==============================] - 34s 1s/step - loss: 0.0168 - accuracy: 0.9948 - val_loss: 0.0375 - val_accuracy: 0.9849\n",
      "\n",
      "Epoch 00030: val_loss did not improve from 0.03732\n",
      "Epoch 31/32\n",
      "30/30 [==============================] - 34s 1s/step - loss: 0.0281 - accuracy: 0.9880 - val_loss: 0.0403 - val_accuracy: 0.9856\n",
      "\n",
      "Epoch 00031: val_loss did not improve from 0.03732\n",
      "Epoch 32/32\n",
      "30/30 [==============================] - 34s 1s/step - loss: 0.0191 - accuracy: 0.9932 - val_loss: 0.0413 - val_accuracy: 0.9856\n",
      "\n",
      "Epoch 00032: val_loss did not improve from 0.03732\n"
     ]
    },
    {
     "name": "stderr",
     "output_type": "stream",
     "text": [
      "INFO:absl:TPU has inputs with dynamic shapes: [<tf.Tensor 'Const:0' shape=() dtype=int32>, <tf.Tensor 'cond_8/Identity:0' shape=(None, 1000) dtype=int32>, <tf.Tensor 'cond_8/Identity_1:0' shape=(None, 1000) dtype=int32>, <tf.Tensor 'cond_8/Identity_2:0' shape=(None, 1000) dtype=int32>]\n",
      "[2021-10-06 01:11:56] - tf-roberta-base-2021_fold2 >>> val socre:0.9221\n",
      "INFO:./:[2021-10-06 01:11:56] - tf-roberta-base-2021_fold2 >>> val socre:0.9221\n"
     ]
    },
    {
     "name": "stdout",
     "output_type": "stream",
     "text": [
      "bt:0.006812815382818517\n",
      "INFO:tensorflow:Clearing out eager caches\n"
     ]
    },
    {
     "name": "stderr",
     "output_type": "stream",
     "text": [
      "INFO:tensorflow:Clearing out eager caches\n"
     ]
    },
    {
     "name": "stdout",
     "output_type": "stream",
     "text": [
      "WARNING:tensorflow:TPU system grpc://10.73.204.242:8470 has already been initialized. Reinitializing the TPU can cause previously created variables on TPU to be lost.\n"
     ]
    },
    {
     "name": "stderr",
     "output_type": "stream",
     "text": [
      "WARNING:tensorflow:TPU system grpc://10.73.204.242:8470 has already been initialized. Reinitializing the TPU can cause previously created variables on TPU to be lost.\n"
     ]
    },
    {
     "name": "stdout",
     "output_type": "stream",
     "text": [
      "INFO:tensorflow:Initializing the TPU system: grpc://10.73.204.242:8470\n"
     ]
    },
    {
     "name": "stderr",
     "output_type": "stream",
     "text": [
      "INFO:tensorflow:Initializing the TPU system: grpc://10.73.204.242:8470\n"
     ]
    },
    {
     "name": "stdout",
     "output_type": "stream",
     "text": [
      "INFO:tensorflow:Finished initializing TPU system.\n"
     ]
    },
    {
     "name": "stderr",
     "output_type": "stream",
     "text": [
      "INFO:tensorflow:Finished initializing TPU system.\n",
      "WARNING:absl:`tf.distribute.experimental.TPUStrategy` is deprecated, please use  the non experimental symbol `tf.distribute.TPUStrategy` instead.\n"
     ]
    },
    {
     "name": "stdout",
     "output_type": "stream",
     "text": [
      "INFO:tensorflow:Found TPU system:\n"
     ]
    },
    {
     "name": "stderr",
     "output_type": "stream",
     "text": [
      "INFO:tensorflow:Found TPU system:\n"
     ]
    },
    {
     "name": "stdout",
     "output_type": "stream",
     "text": [
      "INFO:tensorflow:*** Num TPU Cores: 8\n"
     ]
    },
    {
     "name": "stderr",
     "output_type": "stream",
     "text": [
      "INFO:tensorflow:*** Num TPU Cores: 8\n"
     ]
    },
    {
     "name": "stdout",
     "output_type": "stream",
     "text": [
      "INFO:tensorflow:*** Num TPU Workers: 1\n"
     ]
    },
    {
     "name": "stderr",
     "output_type": "stream",
     "text": [
      "INFO:tensorflow:*** Num TPU Workers: 1\n"
     ]
    },
    {
     "name": "stdout",
     "output_type": "stream",
     "text": [
      "INFO:tensorflow:*** Num TPU Cores Per Worker: 8\n"
     ]
    },
    {
     "name": "stderr",
     "output_type": "stream",
     "text": [
      "INFO:tensorflow:*** Num TPU Cores Per Worker: 8\n"
     ]
    },
    {
     "name": "stdout",
     "output_type": "stream",
     "text": [
      "INFO:tensorflow:*** Available Device: _DeviceAttributes(/job:localhost/replica:0/task:0/device:CPU:0, CPU, 0, 0)\n"
     ]
    },
    {
     "name": "stderr",
     "output_type": "stream",
     "text": [
      "INFO:tensorflow:*** Available Device: _DeviceAttributes(/job:localhost/replica:0/task:0/device:CPU:0, CPU, 0, 0)\n"
     ]
    },
    {
     "name": "stdout",
     "output_type": "stream",
     "text": [
      "INFO:tensorflow:*** Available Device: _DeviceAttributes(/job:worker/replica:0/task:0/device:CPU:0, CPU, 0, 0)\n"
     ]
    },
    {
     "name": "stderr",
     "output_type": "stream",
     "text": [
      "INFO:tensorflow:*** Available Device: _DeviceAttributes(/job:worker/replica:0/task:0/device:CPU:0, CPU, 0, 0)\n"
     ]
    },
    {
     "name": "stdout",
     "output_type": "stream",
     "text": [
      "INFO:tensorflow:*** Available Device: _DeviceAttributes(/job:worker/replica:0/task:0/device:TPU:0, TPU, 0, 0)\n"
     ]
    },
    {
     "name": "stderr",
     "output_type": "stream",
     "text": [
      "INFO:tensorflow:*** Available Device: _DeviceAttributes(/job:worker/replica:0/task:0/device:TPU:0, TPU, 0, 0)\n"
     ]
    },
    {
     "name": "stdout",
     "output_type": "stream",
     "text": [
      "INFO:tensorflow:*** Available Device: _DeviceAttributes(/job:worker/replica:0/task:0/device:TPU:1, TPU, 0, 0)\n"
     ]
    },
    {
     "name": "stderr",
     "output_type": "stream",
     "text": [
      "INFO:tensorflow:*** Available Device: _DeviceAttributes(/job:worker/replica:0/task:0/device:TPU:1, TPU, 0, 0)\n"
     ]
    },
    {
     "name": "stdout",
     "output_type": "stream",
     "text": [
      "INFO:tensorflow:*** Available Device: _DeviceAttributes(/job:worker/replica:0/task:0/device:TPU:2, TPU, 0, 0)\n"
     ]
    },
    {
     "name": "stderr",
     "output_type": "stream",
     "text": [
      "INFO:tensorflow:*** Available Device: _DeviceAttributes(/job:worker/replica:0/task:0/device:TPU:2, TPU, 0, 0)\n"
     ]
    },
    {
     "name": "stdout",
     "output_type": "stream",
     "text": [
      "INFO:tensorflow:*** Available Device: _DeviceAttributes(/job:worker/replica:0/task:0/device:TPU:3, TPU, 0, 0)\n"
     ]
    },
    {
     "name": "stderr",
     "output_type": "stream",
     "text": [
      "INFO:tensorflow:*** Available Device: _DeviceAttributes(/job:worker/replica:0/task:0/device:TPU:3, TPU, 0, 0)\n"
     ]
    },
    {
     "name": "stdout",
     "output_type": "stream",
     "text": [
      "INFO:tensorflow:*** Available Device: _DeviceAttributes(/job:worker/replica:0/task:0/device:TPU:4, TPU, 0, 0)\n"
     ]
    },
    {
     "name": "stderr",
     "output_type": "stream",
     "text": [
      "INFO:tensorflow:*** Available Device: _DeviceAttributes(/job:worker/replica:0/task:0/device:TPU:4, TPU, 0, 0)\n"
     ]
    },
    {
     "name": "stdout",
     "output_type": "stream",
     "text": [
      "INFO:tensorflow:*** Available Device: _DeviceAttributes(/job:worker/replica:0/task:0/device:TPU:5, TPU, 0, 0)\n"
     ]
    },
    {
     "name": "stderr",
     "output_type": "stream",
     "text": [
      "INFO:tensorflow:*** Available Device: _DeviceAttributes(/job:worker/replica:0/task:0/device:TPU:5, TPU, 0, 0)\n"
     ]
    },
    {
     "name": "stdout",
     "output_type": "stream",
     "text": [
      "INFO:tensorflow:*** Available Device: _DeviceAttributes(/job:worker/replica:0/task:0/device:TPU:6, TPU, 0, 0)\n"
     ]
    },
    {
     "name": "stderr",
     "output_type": "stream",
     "text": [
      "INFO:tensorflow:*** Available Device: _DeviceAttributes(/job:worker/replica:0/task:0/device:TPU:6, TPU, 0, 0)\n"
     ]
    },
    {
     "name": "stdout",
     "output_type": "stream",
     "text": [
      "INFO:tensorflow:*** Available Device: _DeviceAttributes(/job:worker/replica:0/task:0/device:TPU:7, TPU, 0, 0)\n"
     ]
    },
    {
     "name": "stderr",
     "output_type": "stream",
     "text": [
      "INFO:tensorflow:*** Available Device: _DeviceAttributes(/job:worker/replica:0/task:0/device:TPU:7, TPU, 0, 0)\n"
     ]
    },
    {
     "name": "stdout",
     "output_type": "stream",
     "text": [
      "INFO:tensorflow:*** Available Device: _DeviceAttributes(/job:worker/replica:0/task:0/device:TPU_SYSTEM:0, TPU_SYSTEM, 0, 0)\n"
     ]
    },
    {
     "name": "stderr",
     "output_type": "stream",
     "text": [
      "INFO:tensorflow:*** Available Device: _DeviceAttributes(/job:worker/replica:0/task:0/device:TPU_SYSTEM:0, TPU_SYSTEM, 0, 0)\n"
     ]
    },
    {
     "name": "stdout",
     "output_type": "stream",
     "text": [
      "INFO:tensorflow:*** Available Device: _DeviceAttributes(/job:worker/replica:0/task:0/device:XLA_CPU:0, XLA_CPU, 0, 0)\n"
     ]
    },
    {
     "name": "stderr",
     "output_type": "stream",
     "text": [
      "INFO:tensorflow:*** Available Device: _DeviceAttributes(/job:worker/replica:0/task:0/device:XLA_CPU:0, XLA_CPU, 0, 0)\n",
      "All model checkpoint layers were used when initializing TFBertModel.\n",
      "\n",
      "All the layers of TFBertModel were initialized from the model checkpoint at cambridgeltl/BioRedditBERT-uncased.\n",
      "If your task is similar to the task the model of the checkpoint was trained on, you can already use TFBertModel for predictions without further training.\n"
     ]
    },
    {
     "name": "stdout",
     "output_type": "stream",
     "text": [
      "Epoch 1/32\n"
     ]
    },
    {
     "name": "stderr",
     "output_type": "stream",
     "text": [
      "INFO:absl:TPU has inputs with dynamic shapes: [<tf.Tensor 'Const:0' shape=() dtype=int32>, <tf.Tensor 'IteratorGetNext:0' shape=(None, 1000) dtype=int32>, <tf.Tensor 'IteratorGetNext:1' shape=(None, 1000) dtype=int32>, <tf.Tensor 'IteratorGetNext:2' shape=(None, 1000) dtype=int32>, <tf.Tensor 'IteratorGetNext:3' shape=(None,) dtype=int64>]\n"
     ]
    },
    {
     "name": "stdout",
     "output_type": "stream",
     "text": [
      "WARNING:tensorflow:Gradients do not exist for variables ['tf_bert_model/bert/pooler/dense/kernel:0', 'tf_bert_model/bert/pooler/dense/bias:0'] when minimizing the loss.\n"
     ]
    },
    {
     "name": "stderr",
     "output_type": "stream",
     "text": [
      "WARNING:tensorflow:Gradients do not exist for variables ['tf_bert_model/bert/pooler/dense/kernel:0', 'tf_bert_model/bert/pooler/dense/bias:0'] when minimizing the loss.\n",
      "INFO:absl:TPU has inputs with dynamic shapes: [<tf.Tensor 'Const:0' shape=() dtype=int32>, <tf.Tensor 'IteratorGetNext:0' shape=(None, 1000) dtype=int32>, <tf.Tensor 'IteratorGetNext:1' shape=(None, 1000) dtype=int32>, <tf.Tensor 'IteratorGetNext:2' shape=(None, 1000) dtype=int32>, <tf.Tensor 'IteratorGetNext:3' shape=(None,) dtype=int64>]\n"
     ]
    },
    {
     "name": "stdout",
     "output_type": "stream",
     "text": [
      "WARNING:tensorflow:Gradients do not exist for variables ['tf_bert_model/bert/pooler/dense/kernel:0', 'tf_bert_model/bert/pooler/dense/bias:0'] when minimizing the loss.\n"
     ]
    },
    {
     "name": "stderr",
     "output_type": "stream",
     "text": [
      "WARNING:tensorflow:Gradients do not exist for variables ['tf_bert_model/bert/pooler/dense/kernel:0', 'tf_bert_model/bert/pooler/dense/bias:0'] when minimizing the loss.\n"
     ]
    },
    {
     "name": "stdout",
     "output_type": "stream",
     "text": [
      "30/30 [==============================] - ETA: 0s - loss: 0.1207 - accuracy: 0.9802"
     ]
    },
    {
     "name": "stderr",
     "output_type": "stream",
     "text": [
      "INFO:absl:TPU has inputs with dynamic shapes: [<tf.Tensor 'Const:0' shape=() dtype=int32>, <tf.Tensor 'cond_8/Identity:0' shape=(None, 1000) dtype=int32>, <tf.Tensor 'cond_8/Identity_1:0' shape=(None, 1000) dtype=int32>, <tf.Tensor 'cond_8/Identity_2:0' shape=(None, 1000) dtype=int32>, <tf.Tensor 'cond_8/Identity_3:0' shape=(None,) dtype=int64>]\n"
     ]
    },
    {
     "name": "stdout",
     "output_type": "stream",
     "text": [
      "\b\b\b\b\b\b\b\b\b\b\b\b\b\b\b\b\b\b\b\b\b\b\b\b\b\b\b\b\b\b\b\b\b\b\b\b\b\b\b\b\b\b\b\b\b\b\b\b\b\b\b\b\b\b\b\b\b\b\b\b\b\b\b\b\b\b\b\b\b\b\b\b\b\b\b\b\b\b\b\b\b\b\r",
      "30/30 [==============================] - 163s 2s/step - loss: 0.1207 - accuracy: 0.9802 - val_loss: 0.1081 - val_accuracy: 0.9768\n",
      "\n",
      "Epoch 00001: val_loss improved from inf to 0.10805, saving model to ./tf-roberta-base-2021_fold3.h5\n",
      "Epoch 2/32\n",
      "30/30 [==============================] - 36s 1s/step - loss: 0.0958 - accuracy: 0.9781 - val_loss: 0.0878 - val_accuracy: 0.9768\n",
      "\n",
      "Epoch 00002: val_loss improved from 0.10805 to 0.08782, saving model to ./tf-roberta-base-2021_fold3.h5\n",
      "Epoch 3/32\n",
      "30/30 [==============================] - 35s 1s/step - loss: 0.0741 - accuracy: 0.9797 - val_loss: 0.0683 - val_accuracy: 0.9814\n",
      "\n",
      "Epoch 00003: val_loss improved from 0.08782 to 0.06833, saving model to ./tf-roberta-base-2021_fold3.h5\n",
      "Epoch 4/32\n",
      "30/30 [==============================] - 34s 1s/step - loss: 0.0746 - accuracy: 0.9776 - val_loss: 0.0727 - val_accuracy: 0.9784\n",
      "\n",
      "Epoch 00004: val_loss did not improve from 0.06833\n",
      "Epoch 5/32\n",
      "30/30 [==============================] - 34s 1s/step - loss: 0.0548 - accuracy: 0.9833 - val_loss: 0.0660 - val_accuracy: 0.9790\n",
      "\n",
      "Epoch 00005: val_loss improved from 0.06833 to 0.06604, saving model to ./tf-roberta-base-2021_fold3.h5\n",
      "Epoch 6/32\n",
      "30/30 [==============================] - 34s 1s/step - loss: 0.0662 - accuracy: 0.9839 - val_loss: 0.0807 - val_accuracy: 0.9746\n",
      "\n",
      "Epoch 00006: val_loss did not improve from 0.06604\n",
      "Epoch 7/32\n",
      "30/30 [==============================] - 34s 1s/step - loss: 0.0669 - accuracy: 0.9776 - val_loss: 0.0652 - val_accuracy: 0.9796\n",
      "\n",
      "Epoch 00007: val_loss improved from 0.06604 to 0.06520, saving model to ./tf-roberta-base-2021_fold3.h5\n",
      "Epoch 8/32\n",
      "30/30 [==============================] - 34s 1s/step - loss: 0.0737 - accuracy: 0.9807 - val_loss: 0.0529 - val_accuracy: 0.9825\n",
      "\n",
      "Epoch 00008: val_loss improved from 0.06520 to 0.05291, saving model to ./tf-roberta-base-2021_fold3.h5\n",
      "Epoch 9/32\n",
      "30/30 [==============================] - 34s 1s/step - loss: 0.0529 - accuracy: 0.9833 - val_loss: 0.0535 - val_accuracy: 0.9821\n",
      "\n",
      "Epoch 00009: val_loss did not improve from 0.05291\n",
      "Epoch 10/32\n",
      "30/30 [==============================] - 34s 1s/step - loss: 0.0676 - accuracy: 0.9797 - val_loss: 0.0619 - val_accuracy: 0.9807\n",
      "\n",
      "Epoch 00010: val_loss did not improve from 0.05291\n",
      "Epoch 11/32\n",
      "30/30 [==============================] - 34s 1s/step - loss: 0.0617 - accuracy: 0.9792 - val_loss: 0.0527 - val_accuracy: 0.9812\n",
      "\n",
      "Epoch 00011: val_loss improved from 0.05291 to 0.05271, saving model to ./tf-roberta-base-2021_fold3.h5\n",
      "Epoch 12/32\n",
      "30/30 [==============================] - 91s 3s/step - loss: 0.0426 - accuracy: 0.9861 - val_loss: 0.0481 - val_accuracy: 0.9843\n",
      "\n",
      "Epoch 00012: val_loss improved from 0.05271 to 0.04807, saving model to ./tf-roberta-base-2021_fold3.h5\n",
      "Epoch 13/32\n",
      "30/30 [==============================] - 34s 1s/step - loss: 0.0478 - accuracy: 0.9818 - val_loss: 0.0468 - val_accuracy: 0.9843\n",
      "\n",
      "Epoch 00013: val_loss improved from 0.04807 to 0.04683, saving model to ./tf-roberta-base-2021_fold3.h5\n",
      "Epoch 14/32\n",
      "30/30 [==============================] - 34s 1s/step - loss: 0.0421 - accuracy: 0.9823 - val_loss: 0.0480 - val_accuracy: 0.9818\n",
      "\n",
      "Epoch 00014: val_loss did not improve from 0.04683\n",
      "Epoch 15/32\n",
      "30/30 [==============================] - 34s 1s/step - loss: 0.0315 - accuracy: 0.9875 - val_loss: 0.0496 - val_accuracy: 0.9816\n",
      "\n",
      "Epoch 00015: val_loss did not improve from 0.04683\n",
      "Epoch 16/32\n",
      "30/30 [==============================] - 34s 1s/step - loss: 0.0256 - accuracy: 0.9932 - val_loss: 0.0479 - val_accuracy: 0.9847\n",
      "\n",
      "Epoch 00016: val_loss did not improve from 0.04683\n",
      "Epoch 17/32\n",
      "30/30 [==============================] - 34s 1s/step - loss: 0.0331 - accuracy: 0.9891 - val_loss: 0.0473 - val_accuracy: 0.9827\n",
      "\n",
      "Epoch 00017: val_loss did not improve from 0.04683\n",
      "Epoch 18/32\n",
      "30/30 [==============================] - 34s 1s/step - loss: 0.0374 - accuracy: 0.9839 - val_loss: 0.0459 - val_accuracy: 0.9819\n",
      "\n",
      "Epoch 00018: val_loss improved from 0.04683 to 0.04586, saving model to ./tf-roberta-base-2021_fold3.h5\n",
      "Epoch 19/32\n",
      "30/30 [==============================] - 34s 1s/step - loss: 0.0366 - accuracy: 0.9875 - val_loss: 0.0521 - val_accuracy: 0.9836\n",
      "\n",
      "Epoch 00019: val_loss did not improve from 0.04586\n",
      "Epoch 20/32\n",
      "30/30 [==============================] - 34s 1s/step - loss: 0.0371 - accuracy: 0.9865 - val_loss: 0.0451 - val_accuracy: 0.9823\n",
      "\n",
      "Epoch 00020: val_loss improved from 0.04586 to 0.04513, saving model to ./tf-roberta-base-2021_fold3.h5\n",
      "Epoch 21/32\n",
      "30/30 [==============================] - 34s 1s/step - loss: 0.0363 - accuracy: 0.9885 - val_loss: 0.0481 - val_accuracy: 0.9825\n",
      "\n",
      "Epoch 00021: val_loss did not improve from 0.04513\n",
      "Epoch 22/32\n",
      "30/30 [==============================] - 34s 1s/step - loss: 0.0313 - accuracy: 0.9875 - val_loss: 0.0463 - val_accuracy: 0.9832\n",
      "\n",
      "Epoch 00022: val_loss did not improve from 0.04513\n",
      "Epoch 23/32\n",
      "30/30 [==============================] - 34s 1s/step - loss: 0.0330 - accuracy: 0.9856 - val_loss: 0.0444 - val_accuracy: 0.9840\n",
      "\n",
      "Epoch 00023: val_loss improved from 0.04513 to 0.04442, saving model to ./tf-roberta-base-2021_fold3.h5\n",
      "Epoch 24/32\n",
      "30/30 [==============================] - 34s 1s/step - loss: 0.0266 - accuracy: 0.9896 - val_loss: 0.0444 - val_accuracy: 0.9851\n",
      "\n",
      "Epoch 00024: val_loss improved from 0.04442 to 0.04436, saving model to ./tf-roberta-base-2021_fold3.h5\n",
      "Epoch 25/32\n",
      "30/30 [==============================] - 34s 1s/step - loss: 0.0255 - accuracy: 0.9917 - val_loss: 0.0486 - val_accuracy: 0.9854\n",
      "\n",
      "Epoch 00025: val_loss did not improve from 0.04436\n",
      "Epoch 26/32\n",
      "30/30 [==============================] - 36s 1s/step - loss: 0.0211 - accuracy: 0.9911 - val_loss: 0.0458 - val_accuracy: 0.9853\n",
      "\n",
      "Epoch 00026: val_loss did not improve from 0.04436\n",
      "Epoch 27/32\n",
      "30/30 [==============================] - 34s 1s/step - loss: 0.0217 - accuracy: 0.9932 - val_loss: 0.0463 - val_accuracy: 0.9842\n",
      "\n",
      "Epoch 00027: val_loss did not improve from 0.04436\n",
      "Epoch 28/32\n",
      "30/30 [==============================] - 34s 1s/step - loss: 0.0131 - accuracy: 0.9953 - val_loss: 0.0573 - val_accuracy: 0.9849\n",
      "\n",
      "Epoch 00028: val_loss did not improve from 0.04436\n",
      "Epoch 29/32\n",
      "30/30 [==============================] - 34s 1s/step - loss: 0.0213 - accuracy: 0.9938 - val_loss: 0.0446 - val_accuracy: 0.9849\n",
      "\n",
      "Epoch 00029: val_loss did not improve from 0.04436\n",
      "Epoch 30/32\n",
      "30/30 [==============================] - 34s 1s/step - loss: 0.0236 - accuracy: 0.9911 - val_loss: 0.0518 - val_accuracy: 0.9796\n",
      "\n",
      "Epoch 00030: val_loss did not improve from 0.04436\n",
      "Epoch 31/32\n",
      "30/30 [==============================] - 34s 1s/step - loss: 0.0270 - accuracy: 0.9891 - val_loss: 0.0452 - val_accuracy: 0.9854\n",
      "\n",
      "Epoch 00031: val_loss did not improve from 0.04436\n",
      "Epoch 32/32\n",
      "30/30 [==============================] - 34s 1s/step - loss: 0.0139 - accuracy: 0.9953 - val_loss: 0.0475 - val_accuracy: 0.9862\n",
      "\n",
      "Epoch 00032: val_loss did not improve from 0.04436\n"
     ]
    },
    {
     "name": "stderr",
     "output_type": "stream",
     "text": [
      "INFO:absl:TPU has inputs with dynamic shapes: [<tf.Tensor 'Const:0' shape=() dtype=int32>, <tf.Tensor 'cond_8/Identity:0' shape=(None, 1000) dtype=int32>, <tf.Tensor 'cond_8/Identity_1:0' shape=(None, 1000) dtype=int32>, <tf.Tensor 'cond_8/Identity_2:0' shape=(None, 1000) dtype=int32>]\n",
      "[2021-10-06 01:40:43] - tf-roberta-base-2021_fold3 >>> val socre:0.8939\n",
      "INFO:./:[2021-10-06 01:40:43] - tf-roberta-base-2021_fold3 >>> val socre:0.8939\n"
     ]
    },
    {
     "name": "stdout",
     "output_type": "stream",
     "text": [
      "bt:0.0022745732155508157\n",
      "INFO:tensorflow:Clearing out eager caches\n"
     ]
    },
    {
     "name": "stderr",
     "output_type": "stream",
     "text": [
      "INFO:tensorflow:Clearing out eager caches\n"
     ]
    },
    {
     "name": "stdout",
     "output_type": "stream",
     "text": [
      "WARNING:tensorflow:TPU system grpc://10.73.204.242:8470 has already been initialized. Reinitializing the TPU can cause previously created variables on TPU to be lost.\n"
     ]
    },
    {
     "name": "stderr",
     "output_type": "stream",
     "text": [
      "WARNING:tensorflow:TPU system grpc://10.73.204.242:8470 has already been initialized. Reinitializing the TPU can cause previously created variables on TPU to be lost.\n"
     ]
    },
    {
     "name": "stdout",
     "output_type": "stream",
     "text": [
      "INFO:tensorflow:Initializing the TPU system: grpc://10.73.204.242:8470\n"
     ]
    },
    {
     "name": "stderr",
     "output_type": "stream",
     "text": [
      "INFO:tensorflow:Initializing the TPU system: grpc://10.73.204.242:8470\n"
     ]
    },
    {
     "name": "stdout",
     "output_type": "stream",
     "text": [
      "INFO:tensorflow:Finished initializing TPU system.\n"
     ]
    },
    {
     "name": "stderr",
     "output_type": "stream",
     "text": [
      "INFO:tensorflow:Finished initializing TPU system.\n",
      "WARNING:absl:`tf.distribute.experimental.TPUStrategy` is deprecated, please use  the non experimental symbol `tf.distribute.TPUStrategy` instead.\n"
     ]
    },
    {
     "name": "stdout",
     "output_type": "stream",
     "text": [
      "INFO:tensorflow:Found TPU system:\n"
     ]
    },
    {
     "name": "stderr",
     "output_type": "stream",
     "text": [
      "INFO:tensorflow:Found TPU system:\n"
     ]
    },
    {
     "name": "stdout",
     "output_type": "stream",
     "text": [
      "INFO:tensorflow:*** Num TPU Cores: 8\n"
     ]
    },
    {
     "name": "stderr",
     "output_type": "stream",
     "text": [
      "INFO:tensorflow:*** Num TPU Cores: 8\n"
     ]
    },
    {
     "name": "stdout",
     "output_type": "stream",
     "text": [
      "INFO:tensorflow:*** Num TPU Workers: 1\n"
     ]
    },
    {
     "name": "stderr",
     "output_type": "stream",
     "text": [
      "INFO:tensorflow:*** Num TPU Workers: 1\n"
     ]
    },
    {
     "name": "stdout",
     "output_type": "stream",
     "text": [
      "INFO:tensorflow:*** Num TPU Cores Per Worker: 8\n"
     ]
    },
    {
     "name": "stderr",
     "output_type": "stream",
     "text": [
      "INFO:tensorflow:*** Num TPU Cores Per Worker: 8\n"
     ]
    },
    {
     "name": "stdout",
     "output_type": "stream",
     "text": [
      "INFO:tensorflow:*** Available Device: _DeviceAttributes(/job:localhost/replica:0/task:0/device:CPU:0, CPU, 0, 0)\n"
     ]
    },
    {
     "name": "stderr",
     "output_type": "stream",
     "text": [
      "INFO:tensorflow:*** Available Device: _DeviceAttributes(/job:localhost/replica:0/task:0/device:CPU:0, CPU, 0, 0)\n"
     ]
    },
    {
     "name": "stdout",
     "output_type": "stream",
     "text": [
      "INFO:tensorflow:*** Available Device: _DeviceAttributes(/job:worker/replica:0/task:0/device:CPU:0, CPU, 0, 0)\n"
     ]
    },
    {
     "name": "stderr",
     "output_type": "stream",
     "text": [
      "INFO:tensorflow:*** Available Device: _DeviceAttributes(/job:worker/replica:0/task:0/device:CPU:0, CPU, 0, 0)\n"
     ]
    },
    {
     "name": "stdout",
     "output_type": "stream",
     "text": [
      "INFO:tensorflow:*** Available Device: _DeviceAttributes(/job:worker/replica:0/task:0/device:TPU:0, TPU, 0, 0)\n"
     ]
    },
    {
     "name": "stderr",
     "output_type": "stream",
     "text": [
      "INFO:tensorflow:*** Available Device: _DeviceAttributes(/job:worker/replica:0/task:0/device:TPU:0, TPU, 0, 0)\n"
     ]
    },
    {
     "name": "stdout",
     "output_type": "stream",
     "text": [
      "INFO:tensorflow:*** Available Device: _DeviceAttributes(/job:worker/replica:0/task:0/device:TPU:1, TPU, 0, 0)\n"
     ]
    },
    {
     "name": "stderr",
     "output_type": "stream",
     "text": [
      "INFO:tensorflow:*** Available Device: _DeviceAttributes(/job:worker/replica:0/task:0/device:TPU:1, TPU, 0, 0)\n"
     ]
    },
    {
     "name": "stdout",
     "output_type": "stream",
     "text": [
      "INFO:tensorflow:*** Available Device: _DeviceAttributes(/job:worker/replica:0/task:0/device:TPU:2, TPU, 0, 0)\n"
     ]
    },
    {
     "name": "stderr",
     "output_type": "stream",
     "text": [
      "INFO:tensorflow:*** Available Device: _DeviceAttributes(/job:worker/replica:0/task:0/device:TPU:2, TPU, 0, 0)\n"
     ]
    },
    {
     "name": "stdout",
     "output_type": "stream",
     "text": [
      "INFO:tensorflow:*** Available Device: _DeviceAttributes(/job:worker/replica:0/task:0/device:TPU:3, TPU, 0, 0)\n"
     ]
    },
    {
     "name": "stderr",
     "output_type": "stream",
     "text": [
      "INFO:tensorflow:*** Available Device: _DeviceAttributes(/job:worker/replica:0/task:0/device:TPU:3, TPU, 0, 0)\n"
     ]
    },
    {
     "name": "stdout",
     "output_type": "stream",
     "text": [
      "INFO:tensorflow:*** Available Device: _DeviceAttributes(/job:worker/replica:0/task:0/device:TPU:4, TPU, 0, 0)\n"
     ]
    },
    {
     "name": "stderr",
     "output_type": "stream",
     "text": [
      "INFO:tensorflow:*** Available Device: _DeviceAttributes(/job:worker/replica:0/task:0/device:TPU:4, TPU, 0, 0)\n"
     ]
    },
    {
     "name": "stdout",
     "output_type": "stream",
     "text": [
      "INFO:tensorflow:*** Available Device: _DeviceAttributes(/job:worker/replica:0/task:0/device:TPU:5, TPU, 0, 0)\n"
     ]
    },
    {
     "name": "stderr",
     "output_type": "stream",
     "text": [
      "INFO:tensorflow:*** Available Device: _DeviceAttributes(/job:worker/replica:0/task:0/device:TPU:5, TPU, 0, 0)\n"
     ]
    },
    {
     "name": "stdout",
     "output_type": "stream",
     "text": [
      "INFO:tensorflow:*** Available Device: _DeviceAttributes(/job:worker/replica:0/task:0/device:TPU:6, TPU, 0, 0)\n"
     ]
    },
    {
     "name": "stderr",
     "output_type": "stream",
     "text": [
      "INFO:tensorflow:*** Available Device: _DeviceAttributes(/job:worker/replica:0/task:0/device:TPU:6, TPU, 0, 0)\n"
     ]
    },
    {
     "name": "stdout",
     "output_type": "stream",
     "text": [
      "INFO:tensorflow:*** Available Device: _DeviceAttributes(/job:worker/replica:0/task:0/device:TPU:7, TPU, 0, 0)\n"
     ]
    },
    {
     "name": "stderr",
     "output_type": "stream",
     "text": [
      "INFO:tensorflow:*** Available Device: _DeviceAttributes(/job:worker/replica:0/task:0/device:TPU:7, TPU, 0, 0)\n"
     ]
    },
    {
     "name": "stdout",
     "output_type": "stream",
     "text": [
      "INFO:tensorflow:*** Available Device: _DeviceAttributes(/job:worker/replica:0/task:0/device:TPU_SYSTEM:0, TPU_SYSTEM, 0, 0)\n"
     ]
    },
    {
     "name": "stderr",
     "output_type": "stream",
     "text": [
      "INFO:tensorflow:*** Available Device: _DeviceAttributes(/job:worker/replica:0/task:0/device:TPU_SYSTEM:0, TPU_SYSTEM, 0, 0)\n"
     ]
    },
    {
     "name": "stdout",
     "output_type": "stream",
     "text": [
      "INFO:tensorflow:*** Available Device: _DeviceAttributes(/job:worker/replica:0/task:0/device:XLA_CPU:0, XLA_CPU, 0, 0)\n"
     ]
    },
    {
     "name": "stderr",
     "output_type": "stream",
     "text": [
      "INFO:tensorflow:*** Available Device: _DeviceAttributes(/job:worker/replica:0/task:0/device:XLA_CPU:0, XLA_CPU, 0, 0)\n",
      "All model checkpoint layers were used when initializing TFBertModel.\n",
      "\n",
      "All the layers of TFBertModel were initialized from the model checkpoint at cambridgeltl/BioRedditBERT-uncased.\n",
      "If your task is similar to the task the model of the checkpoint was trained on, you can already use TFBertModel for predictions without further training.\n"
     ]
    },
    {
     "name": "stdout",
     "output_type": "stream",
     "text": [
      "Epoch 1/32\n"
     ]
    },
    {
     "name": "stderr",
     "output_type": "stream",
     "text": [
      "INFO:absl:TPU has inputs with dynamic shapes: [<tf.Tensor 'Const:0' shape=() dtype=int32>, <tf.Tensor 'IteratorGetNext:0' shape=(None, 1000) dtype=int32>, <tf.Tensor 'IteratorGetNext:1' shape=(None, 1000) dtype=int32>, <tf.Tensor 'IteratorGetNext:2' shape=(None, 1000) dtype=int32>, <tf.Tensor 'IteratorGetNext:3' shape=(None,) dtype=int64>]\n"
     ]
    },
    {
     "name": "stdout",
     "output_type": "stream",
     "text": [
      "WARNING:tensorflow:Gradients do not exist for variables ['tf_bert_model/bert/pooler/dense/kernel:0', 'tf_bert_model/bert/pooler/dense/bias:0'] when minimizing the loss.\n"
     ]
    },
    {
     "name": "stderr",
     "output_type": "stream",
     "text": [
      "WARNING:tensorflow:Gradients do not exist for variables ['tf_bert_model/bert/pooler/dense/kernel:0', 'tf_bert_model/bert/pooler/dense/bias:0'] when minimizing the loss.\n",
      "INFO:absl:TPU has inputs with dynamic shapes: [<tf.Tensor 'Const:0' shape=() dtype=int32>, <tf.Tensor 'IteratorGetNext:0' shape=(None, 1000) dtype=int32>, <tf.Tensor 'IteratorGetNext:1' shape=(None, 1000) dtype=int32>, <tf.Tensor 'IteratorGetNext:2' shape=(None, 1000) dtype=int32>, <tf.Tensor 'IteratorGetNext:3' shape=(None,) dtype=int64>]\n"
     ]
    },
    {
     "name": "stdout",
     "output_type": "stream",
     "text": [
      "WARNING:tensorflow:Gradients do not exist for variables ['tf_bert_model/bert/pooler/dense/kernel:0', 'tf_bert_model/bert/pooler/dense/bias:0'] when minimizing the loss.\n"
     ]
    },
    {
     "name": "stderr",
     "output_type": "stream",
     "text": [
      "WARNING:tensorflow:Gradients do not exist for variables ['tf_bert_model/bert/pooler/dense/kernel:0', 'tf_bert_model/bert/pooler/dense/bias:0'] when minimizing the loss.\n"
     ]
    },
    {
     "name": "stdout",
     "output_type": "stream",
     "text": [
      "30/30 [==============================] - ETA: 0s - loss: 0.1382 - accuracy: 0.9568"
     ]
    },
    {
     "name": "stderr",
     "output_type": "stream",
     "text": [
      "INFO:absl:TPU has inputs with dynamic shapes: [<tf.Tensor 'Const:0' shape=() dtype=int32>, <tf.Tensor 'cond_8/Identity:0' shape=(None, 1000) dtype=int32>, <tf.Tensor 'cond_8/Identity_1:0' shape=(None, 1000) dtype=int32>, <tf.Tensor 'cond_8/Identity_2:0' shape=(None, 1000) dtype=int32>, <tf.Tensor 'cond_8/Identity_3:0' shape=(None,) dtype=int64>]\n"
     ]
    },
    {
     "name": "stdout",
     "output_type": "stream",
     "text": [
      "\b\b\b\b\b\b\b\b\b\b\b\b\b\b\b\b\b\b\b\b\b\b\b\b\b\b\b\b\b\b\b\b\b\b\b\b\b\b\b\b\b\b\b\b\b\b\b\b\b\b\b\b\b\b\b\b\b\b\b\b\b\b\b\b\b\b\b\b\b\b\b\b\b\b\b\b\b\b\b\b\b\b\r",
      "30/30 [==============================] - 160s 2s/step - loss: 0.1382 - accuracy: 0.9568 - val_loss: 0.1112 - val_accuracy: 0.9766\n",
      "\n",
      "Epoch 00001: val_loss improved from inf to 0.11125, saving model to ./tf-roberta-base-2021_fold4.h5\n",
      "Epoch 2/32\n",
      "30/30 [==============================] - 34s 1s/step - loss: 0.1163 - accuracy: 0.9745 - val_loss: 0.1021 - val_accuracy: 0.9766\n",
      "\n",
      "Epoch 00002: val_loss improved from 0.11125 to 0.10212, saving model to ./tf-roberta-base-2021_fold4.h5\n",
      "Epoch 3/32\n",
      "30/30 [==============================] - 34s 1s/step - loss: 0.1096 - accuracy: 0.9734 - val_loss: 0.0861 - val_accuracy: 0.9766\n",
      "\n",
      "Epoch 00003: val_loss improved from 0.10212 to 0.08614, saving model to ./tf-roberta-base-2021_fold4.h5\n",
      "Epoch 4/32\n",
      "30/30 [==============================] - 34s 1s/step - loss: 0.0765 - accuracy: 0.9755 - val_loss: 0.0707 - val_accuracy: 0.9801\n",
      "\n",
      "Epoch 00004: val_loss improved from 0.08614 to 0.07067, saving model to ./tf-roberta-base-2021_fold4.h5\n",
      "Epoch 5/32\n",
      "30/30 [==============================] - 34s 1s/step - loss: 0.0619 - accuracy: 0.9813 - val_loss: 0.0728 - val_accuracy: 0.9772\n",
      "\n",
      "Epoch 00005: val_loss did not improve from 0.07067\n",
      "Epoch 6/32\n",
      "30/30 [==============================] - 34s 1s/step - loss: 0.0551 - accuracy: 0.9859 - val_loss: 0.0850 - val_accuracy: 0.9766\n",
      "\n",
      "Epoch 00006: val_loss did not improve from 0.07067\n",
      "Epoch 7/32\n",
      "30/30 [==============================] - 34s 1s/step - loss: 0.0772 - accuracy: 0.9766 - val_loss: 0.0718 - val_accuracy: 0.9808\n",
      "\n",
      "Epoch 00007: val_loss did not improve from 0.07067\n",
      "Epoch 8/32\n",
      "30/30 [==============================] - 34s 1s/step - loss: 0.0595 - accuracy: 0.9813 - val_loss: 0.0598 - val_accuracy: 0.9823\n",
      "\n",
      "Epoch 00008: val_loss improved from 0.07067 to 0.05980, saving model to ./tf-roberta-base-2021_fold4.h5\n",
      "Epoch 9/32\n",
      "30/30 [==============================] - 34s 1s/step - loss: 0.0557 - accuracy: 0.9818 - val_loss: 0.0578 - val_accuracy: 0.9816\n",
      "\n",
      "Epoch 00009: val_loss improved from 0.05980 to 0.05776, saving model to ./tf-roberta-base-2021_fold4.h5\n",
      "Epoch 10/32\n",
      "30/30 [==============================] - 34s 1s/step - loss: 0.0722 - accuracy: 0.9734 - val_loss: 0.0557 - val_accuracy: 0.9825\n",
      "\n",
      "Epoch 00010: val_loss improved from 0.05776 to 0.05573, saving model to ./tf-roberta-base-2021_fold4.h5\n",
      "Epoch 11/32\n",
      "30/30 [==============================] - 35s 1s/step - loss: 0.0567 - accuracy: 0.9844 - val_loss: 0.0474 - val_accuracy: 0.9834\n",
      "\n",
      "Epoch 00011: val_loss improved from 0.05573 to 0.04739, saving model to ./tf-roberta-base-2021_fold4.h5\n",
      "Epoch 12/32\n",
      "30/30 [==============================] - 89s 3s/step - loss: 0.0490 - accuracy: 0.9813 - val_loss: 0.0458 - val_accuracy: 0.9840\n",
      "\n",
      "Epoch 00012: val_loss improved from 0.04739 to 0.04577, saving model to ./tf-roberta-base-2021_fold4.h5\n",
      "Epoch 13/32\n",
      "30/30 [==============================] - 34s 1s/step - loss: 0.0309 - accuracy: 0.9891 - val_loss: 0.0476 - val_accuracy: 0.9847\n",
      "\n",
      "Epoch 00013: val_loss did not improve from 0.04577\n",
      "Epoch 14/32\n",
      "30/30 [==============================] - 34s 1s/step - loss: 0.0540 - accuracy: 0.9797 - val_loss: 0.0533 - val_accuracy: 0.9796\n",
      "\n",
      "Epoch 00014: val_loss did not improve from 0.04577\n",
      "Epoch 15/32\n",
      "30/30 [==============================] - 34s 1s/step - loss: 0.0445 - accuracy: 0.9849 - val_loss: 0.0429 - val_accuracy: 0.9827\n",
      "\n",
      "Epoch 00015: val_loss improved from 0.04577 to 0.04292, saving model to ./tf-roberta-base-2021_fold4.h5\n",
      "Epoch 16/32\n",
      "30/30 [==============================] - 34s 1s/step - loss: 0.0327 - accuracy: 0.9885 - val_loss: 0.0438 - val_accuracy: 0.9821\n",
      "\n",
      "Epoch 00016: val_loss did not improve from 0.04292\n",
      "Epoch 17/32\n",
      "30/30 [==============================] - 34s 1s/step - loss: 0.0324 - accuracy: 0.9880 - val_loss: 0.0457 - val_accuracy: 0.9829\n",
      "\n",
      "Epoch 00017: val_loss did not improve from 0.04292\n",
      "Epoch 18/32\n",
      "30/30 [==============================] - 34s 1s/step - loss: 0.0446 - accuracy: 0.9792 - val_loss: 0.0624 - val_accuracy: 0.9748\n",
      "\n",
      "Epoch 00018: val_loss did not improve from 0.04292\n",
      "Epoch 19/32\n",
      "30/30 [==============================] - 34s 1s/step - loss: 0.0317 - accuracy: 0.9875 - val_loss: 0.0413 - val_accuracy: 0.9849\n",
      "\n",
      "Epoch 00019: val_loss improved from 0.04292 to 0.04130, saving model to ./tf-roberta-base-2021_fold4.h5\n",
      "Epoch 20/32\n",
      "30/30 [==============================] - 34s 1s/step - loss: 0.0379 - accuracy: 0.9849 - val_loss: 0.0481 - val_accuracy: 0.9831\n",
      "\n",
      "Epoch 00020: val_loss did not improve from 0.04130\n",
      "Epoch 21/32\n",
      "30/30 [==============================] - 34s 1s/step - loss: 0.0283 - accuracy: 0.9891 - val_loss: 0.0452 - val_accuracy: 0.9842\n",
      "\n",
      "Epoch 00021: val_loss did not improve from 0.04130\n",
      "Epoch 22/32\n",
      "30/30 [==============================] - 34s 1s/step - loss: 0.0302 - accuracy: 0.9865 - val_loss: 0.0447 - val_accuracy: 0.9832\n",
      "\n",
      "Epoch 00022: val_loss did not improve from 0.04130\n",
      "Epoch 23/32\n",
      "30/30 [==============================] - 36s 1s/step - loss: 0.0276 - accuracy: 0.9904 - val_loss: 0.0507 - val_accuracy: 0.9796\n",
      "\n",
      "Epoch 00023: val_loss did not improve from 0.04130\n",
      "Epoch 24/32\n",
      "30/30 [==============================] - 34s 1s/step - loss: 0.0299 - accuracy: 0.9891 - val_loss: 0.0457 - val_accuracy: 0.9847\n",
      "\n",
      "Epoch 00024: val_loss did not improve from 0.04130\n",
      "Epoch 25/32\n",
      "30/30 [==============================] - 34s 1s/step - loss: 0.0212 - accuracy: 0.9906 - val_loss: 0.0462 - val_accuracy: 0.9845\n",
      "\n",
      "Epoch 00025: val_loss did not improve from 0.04130\n",
      "Epoch 26/32\n",
      "30/30 [==============================] - 34s 1s/step - loss: 0.0270 - accuracy: 0.9880 - val_loss: 0.0405 - val_accuracy: 0.9862\n",
      "\n",
      "Epoch 00026: val_loss improved from 0.04130 to 0.04049, saving model to ./tf-roberta-base-2021_fold4.h5\n",
      "Epoch 27/32\n",
      "30/30 [==============================] - 34s 1s/step - loss: 0.0186 - accuracy: 0.9917 - val_loss: 0.0455 - val_accuracy: 0.9851\n",
      "\n",
      "Epoch 00027: val_loss did not improve from 0.04049\n",
      "Epoch 28/32\n",
      "30/30 [==============================] - 34s 1s/step - loss: 0.0210 - accuracy: 0.9911 - val_loss: 0.0522 - val_accuracy: 0.9834\n",
      "\n",
      "Epoch 00028: val_loss did not improve from 0.04049\n",
      "Epoch 29/32\n",
      "30/30 [==============================] - 34s 1s/step - loss: 0.0181 - accuracy: 0.9922 - val_loss: 0.0565 - val_accuracy: 0.9845\n",
      "\n",
      "Epoch 00029: val_loss did not improve from 0.04049\n",
      "Epoch 30/32\n",
      "30/30 [==============================] - 34s 1s/step - loss: 0.0182 - accuracy: 0.9917 - val_loss: 0.0500 - val_accuracy: 0.9840\n",
      "\n",
      "Epoch 00030: val_loss did not improve from 0.04049\n",
      "Epoch 31/32\n",
      "30/30 [==============================] - 35s 1s/step - loss: 0.0286 - accuracy: 0.9885 - val_loss: 0.0488 - val_accuracy: 0.9829\n",
      "\n",
      "Epoch 00031: val_loss did not improve from 0.04049\n",
      "Epoch 32/32\n",
      "30/30 [==============================] - 34s 1s/step - loss: 0.0278 - accuracy: 0.9891 - val_loss: 0.0434 - val_accuracy: 0.9849\n",
      "\n",
      "Epoch 00032: val_loss did not improve from 0.04049\n"
     ]
    },
    {
     "name": "stderr",
     "output_type": "stream",
     "text": [
      "INFO:absl:TPU has inputs with dynamic shapes: [<tf.Tensor 'Const:0' shape=() dtype=int32>, <tf.Tensor 'cond_8/Identity:0' shape=(None, 1000) dtype=int32>, <tf.Tensor 'cond_8/Identity_1:0' shape=(None, 1000) dtype=int32>, <tf.Tensor 'cond_8/Identity_2:0' shape=(None, 1000) dtype=int32>]\n",
      "[2021-10-06 02:09:26] - tf-roberta-base-2021_fold4 >>> val socre:0.8967\n",
      "INFO:./:[2021-10-06 02:09:26] - tf-roberta-base-2021_fold4 >>> val socre:0.8967\n"
     ]
    },
    {
     "name": "stdout",
     "output_type": "stream",
     "text": [
      "bt:0.0040062584183598446\n",
      "INFO:tensorflow:Clearing out eager caches\n"
     ]
    },
    {
     "name": "stderr",
     "output_type": "stream",
     "text": [
      "INFO:tensorflow:Clearing out eager caches\n"
     ]
    },
    {
     "name": "stdout",
     "output_type": "stream",
     "text": [
      "WARNING:tensorflow:TPU system grpc://10.73.204.242:8470 has already been initialized. Reinitializing the TPU can cause previously created variables on TPU to be lost.\n"
     ]
    },
    {
     "name": "stderr",
     "output_type": "stream",
     "text": [
      "WARNING:tensorflow:TPU system grpc://10.73.204.242:8470 has already been initialized. Reinitializing the TPU can cause previously created variables on TPU to be lost.\n"
     ]
    },
    {
     "name": "stdout",
     "output_type": "stream",
     "text": [
      "INFO:tensorflow:Initializing the TPU system: grpc://10.73.204.242:8470\n"
     ]
    },
    {
     "name": "stderr",
     "output_type": "stream",
     "text": [
      "INFO:tensorflow:Initializing the TPU system: grpc://10.73.204.242:8470\n"
     ]
    },
    {
     "name": "stdout",
     "output_type": "stream",
     "text": [
      "INFO:tensorflow:Finished initializing TPU system.\n"
     ]
    },
    {
     "name": "stderr",
     "output_type": "stream",
     "text": [
      "INFO:tensorflow:Finished initializing TPU system.\n",
      "WARNING:absl:`tf.distribute.experimental.TPUStrategy` is deprecated, please use  the non experimental symbol `tf.distribute.TPUStrategy` instead.\n"
     ]
    },
    {
     "name": "stdout",
     "output_type": "stream",
     "text": [
      "INFO:tensorflow:Found TPU system:\n"
     ]
    },
    {
     "name": "stderr",
     "output_type": "stream",
     "text": [
      "INFO:tensorflow:Found TPU system:\n"
     ]
    },
    {
     "name": "stdout",
     "output_type": "stream",
     "text": [
      "INFO:tensorflow:*** Num TPU Cores: 8\n"
     ]
    },
    {
     "name": "stderr",
     "output_type": "stream",
     "text": [
      "INFO:tensorflow:*** Num TPU Cores: 8\n"
     ]
    },
    {
     "name": "stdout",
     "output_type": "stream",
     "text": [
      "INFO:tensorflow:*** Num TPU Workers: 1\n"
     ]
    },
    {
     "name": "stderr",
     "output_type": "stream",
     "text": [
      "INFO:tensorflow:*** Num TPU Workers: 1\n"
     ]
    },
    {
     "name": "stdout",
     "output_type": "stream",
     "text": [
      "INFO:tensorflow:*** Num TPU Cores Per Worker: 8\n"
     ]
    },
    {
     "name": "stderr",
     "output_type": "stream",
     "text": [
      "INFO:tensorflow:*** Num TPU Cores Per Worker: 8\n"
     ]
    },
    {
     "name": "stdout",
     "output_type": "stream",
     "text": [
      "INFO:tensorflow:*** Available Device: _DeviceAttributes(/job:localhost/replica:0/task:0/device:CPU:0, CPU, 0, 0)\n"
     ]
    },
    {
     "name": "stderr",
     "output_type": "stream",
     "text": [
      "INFO:tensorflow:*** Available Device: _DeviceAttributes(/job:localhost/replica:0/task:0/device:CPU:0, CPU, 0, 0)\n"
     ]
    },
    {
     "name": "stdout",
     "output_type": "stream",
     "text": [
      "INFO:tensorflow:*** Available Device: _DeviceAttributes(/job:worker/replica:0/task:0/device:CPU:0, CPU, 0, 0)\n"
     ]
    },
    {
     "name": "stderr",
     "output_type": "stream",
     "text": [
      "INFO:tensorflow:*** Available Device: _DeviceAttributes(/job:worker/replica:0/task:0/device:CPU:0, CPU, 0, 0)\n"
     ]
    },
    {
     "name": "stdout",
     "output_type": "stream",
     "text": [
      "INFO:tensorflow:*** Available Device: _DeviceAttributes(/job:worker/replica:0/task:0/device:TPU:0, TPU, 0, 0)\n"
     ]
    },
    {
     "name": "stderr",
     "output_type": "stream",
     "text": [
      "INFO:tensorflow:*** Available Device: _DeviceAttributes(/job:worker/replica:0/task:0/device:TPU:0, TPU, 0, 0)\n"
     ]
    },
    {
     "name": "stdout",
     "output_type": "stream",
     "text": [
      "INFO:tensorflow:*** Available Device: _DeviceAttributes(/job:worker/replica:0/task:0/device:TPU:1, TPU, 0, 0)\n"
     ]
    },
    {
     "name": "stderr",
     "output_type": "stream",
     "text": [
      "INFO:tensorflow:*** Available Device: _DeviceAttributes(/job:worker/replica:0/task:0/device:TPU:1, TPU, 0, 0)\n"
     ]
    },
    {
     "name": "stdout",
     "output_type": "stream",
     "text": [
      "INFO:tensorflow:*** Available Device: _DeviceAttributes(/job:worker/replica:0/task:0/device:TPU:2, TPU, 0, 0)\n"
     ]
    },
    {
     "name": "stderr",
     "output_type": "stream",
     "text": [
      "INFO:tensorflow:*** Available Device: _DeviceAttributes(/job:worker/replica:0/task:0/device:TPU:2, TPU, 0, 0)\n"
     ]
    },
    {
     "name": "stdout",
     "output_type": "stream",
     "text": [
      "INFO:tensorflow:*** Available Device: _DeviceAttributes(/job:worker/replica:0/task:0/device:TPU:3, TPU, 0, 0)\n"
     ]
    },
    {
     "name": "stderr",
     "output_type": "stream",
     "text": [
      "INFO:tensorflow:*** Available Device: _DeviceAttributes(/job:worker/replica:0/task:0/device:TPU:3, TPU, 0, 0)\n"
     ]
    },
    {
     "name": "stdout",
     "output_type": "stream",
     "text": [
      "INFO:tensorflow:*** Available Device: _DeviceAttributes(/job:worker/replica:0/task:0/device:TPU:4, TPU, 0, 0)\n"
     ]
    },
    {
     "name": "stderr",
     "output_type": "stream",
     "text": [
      "INFO:tensorflow:*** Available Device: _DeviceAttributes(/job:worker/replica:0/task:0/device:TPU:4, TPU, 0, 0)\n"
     ]
    },
    {
     "name": "stdout",
     "output_type": "stream",
     "text": [
      "INFO:tensorflow:*** Available Device: _DeviceAttributes(/job:worker/replica:0/task:0/device:TPU:5, TPU, 0, 0)\n"
     ]
    },
    {
     "name": "stderr",
     "output_type": "stream",
     "text": [
      "INFO:tensorflow:*** Available Device: _DeviceAttributes(/job:worker/replica:0/task:0/device:TPU:5, TPU, 0, 0)\n"
     ]
    },
    {
     "name": "stdout",
     "output_type": "stream",
     "text": [
      "INFO:tensorflow:*** Available Device: _DeviceAttributes(/job:worker/replica:0/task:0/device:TPU:6, TPU, 0, 0)\n"
     ]
    },
    {
     "name": "stderr",
     "output_type": "stream",
     "text": [
      "INFO:tensorflow:*** Available Device: _DeviceAttributes(/job:worker/replica:0/task:0/device:TPU:6, TPU, 0, 0)\n"
     ]
    },
    {
     "name": "stdout",
     "output_type": "stream",
     "text": [
      "INFO:tensorflow:*** Available Device: _DeviceAttributes(/job:worker/replica:0/task:0/device:TPU:7, TPU, 0, 0)\n"
     ]
    },
    {
     "name": "stderr",
     "output_type": "stream",
     "text": [
      "INFO:tensorflow:*** Available Device: _DeviceAttributes(/job:worker/replica:0/task:0/device:TPU:7, TPU, 0, 0)\n"
     ]
    },
    {
     "name": "stdout",
     "output_type": "stream",
     "text": [
      "INFO:tensorflow:*** Available Device: _DeviceAttributes(/job:worker/replica:0/task:0/device:TPU_SYSTEM:0, TPU_SYSTEM, 0, 0)\n"
     ]
    },
    {
     "name": "stderr",
     "output_type": "stream",
     "text": [
      "INFO:tensorflow:*** Available Device: _DeviceAttributes(/job:worker/replica:0/task:0/device:TPU_SYSTEM:0, TPU_SYSTEM, 0, 0)\n"
     ]
    },
    {
     "name": "stdout",
     "output_type": "stream",
     "text": [
      "INFO:tensorflow:*** Available Device: _DeviceAttributes(/job:worker/replica:0/task:0/device:XLA_CPU:0, XLA_CPU, 0, 0)\n"
     ]
    },
    {
     "name": "stderr",
     "output_type": "stream",
     "text": [
      "INFO:tensorflow:*** Available Device: _DeviceAttributes(/job:worker/replica:0/task:0/device:XLA_CPU:0, XLA_CPU, 0, 0)\n",
      "All model checkpoint layers were used when initializing TFBertModel.\n",
      "\n",
      "All the layers of TFBertModel were initialized from the model checkpoint at cambridgeltl/BioRedditBERT-uncased.\n",
      "If your task is similar to the task the model of the checkpoint was trained on, you can already use TFBertModel for predictions without further training.\n"
     ]
    },
    {
     "name": "stdout",
     "output_type": "stream",
     "text": [
      "Epoch 1/32\n"
     ]
    },
    {
     "name": "stderr",
     "output_type": "stream",
     "text": [
      "INFO:absl:TPU has inputs with dynamic shapes: [<tf.Tensor 'Const:0' shape=() dtype=int32>, <tf.Tensor 'IteratorGetNext:0' shape=(None, 1000) dtype=int32>, <tf.Tensor 'IteratorGetNext:1' shape=(None, 1000) dtype=int32>, <tf.Tensor 'IteratorGetNext:2' shape=(None, 1000) dtype=int32>, <tf.Tensor 'IteratorGetNext:3' shape=(None,) dtype=int64>]\n"
     ]
    },
    {
     "name": "stdout",
     "output_type": "stream",
     "text": [
      "WARNING:tensorflow:Gradients do not exist for variables ['tf_bert_model/bert/pooler/dense/kernel:0', 'tf_bert_model/bert/pooler/dense/bias:0'] when minimizing the loss.\n"
     ]
    },
    {
     "name": "stderr",
     "output_type": "stream",
     "text": [
      "WARNING:tensorflow:Gradients do not exist for variables ['tf_bert_model/bert/pooler/dense/kernel:0', 'tf_bert_model/bert/pooler/dense/bias:0'] when minimizing the loss.\n",
      "INFO:absl:TPU has inputs with dynamic shapes: [<tf.Tensor 'Const:0' shape=() dtype=int32>, <tf.Tensor 'IteratorGetNext:0' shape=(None, 1000) dtype=int32>, <tf.Tensor 'IteratorGetNext:1' shape=(None, 1000) dtype=int32>, <tf.Tensor 'IteratorGetNext:2' shape=(None, 1000) dtype=int32>, <tf.Tensor 'IteratorGetNext:3' shape=(None,) dtype=int64>]\n"
     ]
    },
    {
     "name": "stdout",
     "output_type": "stream",
     "text": [
      "WARNING:tensorflow:Gradients do not exist for variables ['tf_bert_model/bert/pooler/dense/kernel:0', 'tf_bert_model/bert/pooler/dense/bias:0'] when minimizing the loss.\n"
     ]
    },
    {
     "name": "stderr",
     "output_type": "stream",
     "text": [
      "WARNING:tensorflow:Gradients do not exist for variables ['tf_bert_model/bert/pooler/dense/kernel:0', 'tf_bert_model/bert/pooler/dense/bias:0'] when minimizing the loss.\n"
     ]
    },
    {
     "name": "stdout",
     "output_type": "stream",
     "text": [
      "30/30 [==============================] - ETA: 0s - loss: 0.1414 - accuracy: 0.9641"
     ]
    },
    {
     "name": "stderr",
     "output_type": "stream",
     "text": [
      "INFO:absl:TPU has inputs with dynamic shapes: [<tf.Tensor 'Const:0' shape=() dtype=int32>, <tf.Tensor 'cond_8/Identity:0' shape=(None, 1000) dtype=int32>, <tf.Tensor 'cond_8/Identity_1:0' shape=(None, 1000) dtype=int32>, <tf.Tensor 'cond_8/Identity_2:0' shape=(None, 1000) dtype=int32>, <tf.Tensor 'cond_8/Identity_3:0' shape=(None,) dtype=int64>]\n"
     ]
    },
    {
     "name": "stdout",
     "output_type": "stream",
     "text": [
      "\b\b\b\b\b\b\b\b\b\b\b\b\b\b\b\b\b\b\b\b\b\b\b\b\b\b\b\b\b\b\b\b\b\b\b\b\b\b\b\b\b\b\b\b\b\b\b\b\b\b\b\b\b\b\b\b\b\b\b\b\b\b\b\b\b\b\b\b\b\b\b\b\b\b\b\b\b\b\b\b\b\b\r",
      "30/30 [==============================] - 163s 2s/step - loss: 0.1414 - accuracy: 0.9641 - val_loss: 0.1101 - val_accuracy: 0.9766\n",
      "\n",
      "Epoch 00001: val_loss improved from inf to 0.11007, saving model to ./tf-roberta-base-2021_fold5.h5\n",
      "Epoch 2/32\n",
      "30/30 [==============================] - 35s 1s/step - loss: 0.0990 - accuracy: 0.9792 - val_loss: 0.1119 - val_accuracy: 0.9766\n",
      "\n",
      "Epoch 00002: val_loss did not improve from 0.11007\n",
      "Epoch 3/32\n",
      "30/30 [==============================] - 34s 1s/step - loss: 0.1007 - accuracy: 0.9781 - val_loss: 0.0831 - val_accuracy: 0.9766\n",
      "\n",
      "Epoch 00003: val_loss improved from 0.11007 to 0.08305, saving model to ./tf-roberta-base-2021_fold5.h5\n",
      "Epoch 4/32\n",
      "30/30 [==============================] - 34s 1s/step - loss: 0.0899 - accuracy: 0.9760 - val_loss: 0.0797 - val_accuracy: 0.9742\n",
      "\n",
      "Epoch 00004: val_loss improved from 0.08305 to 0.07973, saving model to ./tf-roberta-base-2021_fold5.h5\n",
      "Epoch 5/32\n",
      "30/30 [==============================] - 34s 1s/step - loss: 0.0547 - accuracy: 0.9854 - val_loss: 0.0716 - val_accuracy: 0.9818\n",
      "\n",
      "Epoch 00005: val_loss improved from 0.07973 to 0.07156, saving model to ./tf-roberta-base-2021_fold5.h5\n",
      "Epoch 6/32\n",
      "30/30 [==============================] - 34s 1s/step - loss: 0.0900 - accuracy: 0.9781 - val_loss: 0.0640 - val_accuracy: 0.9821\n",
      "\n",
      "Epoch 00006: val_loss improved from 0.07156 to 0.06400, saving model to ./tf-roberta-base-2021_fold5.h5\n",
      "Epoch 7/32\n",
      "30/30 [==============================] - 34s 1s/step - loss: 0.0689 - accuracy: 0.9781 - val_loss: 0.0525 - val_accuracy: 0.9829\n",
      "\n",
      "Epoch 00007: val_loss improved from 0.06400 to 0.05250, saving model to ./tf-roberta-base-2021_fold5.h5\n",
      "Epoch 8/32\n",
      "30/30 [==============================] - 34s 1s/step - loss: 0.0632 - accuracy: 0.9786 - val_loss: 0.0503 - val_accuracy: 0.9829\n",
      "\n",
      "Epoch 00008: val_loss improved from 0.05250 to 0.05027, saving model to ./tf-roberta-base-2021_fold5.h5\n",
      "Epoch 9/32\n",
      "30/30 [==============================] - 34s 1s/step - loss: 0.0552 - accuracy: 0.9786 - val_loss: 0.0490 - val_accuracy: 0.9845\n",
      "\n",
      "Epoch 00009: val_loss improved from 0.05027 to 0.04901, saving model to ./tf-roberta-base-2021_fold5.h5\n",
      "Epoch 10/32\n",
      "30/30 [==============================] - 34s 1s/step - loss: 0.0579 - accuracy: 0.9802 - val_loss: 0.0501 - val_accuracy: 0.9847\n",
      "\n",
      "Epoch 00010: val_loss did not improve from 0.04901\n",
      "Epoch 11/32\n",
      "30/30 [==============================] - 34s 1s/step - loss: 0.0495 - accuracy: 0.9807 - val_loss: 0.0473 - val_accuracy: 0.9829\n",
      "\n",
      "Epoch 00011: val_loss improved from 0.04901 to 0.04734, saving model to ./tf-roberta-base-2021_fold5.h5\n",
      "Epoch 12/32\n",
      "30/30 [==============================] - 90s 3s/step - loss: 0.0454 - accuracy: 0.9840 - val_loss: 0.0431 - val_accuracy: 0.9860\n",
      "\n",
      "Epoch 00012: val_loss improved from 0.04734 to 0.04312, saving model to ./tf-roberta-base-2021_fold5.h5\n",
      "Epoch 13/32\n",
      "30/30 [==============================] - 34s 1s/step - loss: 0.0459 - accuracy: 0.9828 - val_loss: 0.0530 - val_accuracy: 0.9775\n",
      "\n",
      "Epoch 00013: val_loss did not improve from 0.04312\n",
      "Epoch 14/32\n",
      "30/30 [==============================] - 34s 1s/step - loss: 0.0431 - accuracy: 0.9833 - val_loss: 0.0429 - val_accuracy: 0.9845\n",
      "\n",
      "Epoch 00014: val_loss improved from 0.04312 to 0.04286, saving model to ./tf-roberta-base-2021_fold5.h5\n",
      "Epoch 15/32\n",
      "30/30 [==============================] - 34s 1s/step - loss: 0.0426 - accuracy: 0.9849 - val_loss: 0.0409 - val_accuracy: 0.9860\n",
      "\n",
      "Epoch 00015: val_loss improved from 0.04286 to 0.04093, saving model to ./tf-roberta-base-2021_fold5.h5\n",
      "Epoch 16/32\n",
      "30/30 [==============================] - 34s 1s/step - loss: 0.0355 - accuracy: 0.9885 - val_loss: 0.0383 - val_accuracy: 0.9860\n",
      "\n",
      "Epoch 00016: val_loss improved from 0.04093 to 0.03835, saving model to ./tf-roberta-base-2021_fold5.h5\n",
      "Epoch 17/32\n",
      "30/30 [==============================] - 35s 1s/step - loss: 0.0384 - accuracy: 0.9844 - val_loss: 0.0385 - val_accuracy: 0.9862\n",
      "\n",
      "Epoch 00017: val_loss did not improve from 0.03835\n",
      "Epoch 18/32\n",
      "30/30 [==============================] - 36s 1s/step - loss: 0.0450 - accuracy: 0.9875 - val_loss: 0.0373 - val_accuracy: 0.9860\n",
      "\n",
      "Epoch 00018: val_loss improved from 0.03835 to 0.03726, saving model to ./tf-roberta-base-2021_fold5.h5\n",
      "Epoch 19/32\n",
      "30/30 [==============================] - 34s 1s/step - loss: 0.0343 - accuracy: 0.9844 - val_loss: 0.0395 - val_accuracy: 0.9867\n",
      "\n",
      "Epoch 00019: val_loss did not improve from 0.03726\n",
      "Epoch 20/32\n",
      "30/30 [==============================] - 34s 1s/step - loss: 0.0409 - accuracy: 0.9865 - val_loss: 0.0407 - val_accuracy: 0.9856\n",
      "\n",
      "Epoch 00020: val_loss did not improve from 0.03726\n",
      "Epoch 21/32\n",
      "30/30 [==============================] - 34s 1s/step - loss: 0.0331 - accuracy: 0.9896 - val_loss: 0.0439 - val_accuracy: 0.9851\n",
      "\n",
      "Epoch 00021: val_loss did not improve from 0.03726\n",
      "Epoch 22/32\n",
      "30/30 [==============================] - 34s 1s/step - loss: 0.0467 - accuracy: 0.9818 - val_loss: 0.0399 - val_accuracy: 0.9834\n",
      "\n",
      "Epoch 00022: val_loss did not improve from 0.03726\n",
      "Epoch 23/32\n",
      "30/30 [==============================] - 34s 1s/step - loss: 0.0383 - accuracy: 0.9829 - val_loss: 0.0339 - val_accuracy: 0.9860\n",
      "\n",
      "Epoch 00023: val_loss improved from 0.03726 to 0.03389, saving model to ./tf-roberta-base-2021_fold5.h5\n",
      "Epoch 24/32\n",
      "30/30 [==============================] - 34s 1s/step - loss: 0.0258 - accuracy: 0.9880 - val_loss: 0.0440 - val_accuracy: 0.9858\n",
      "\n",
      "Epoch 00024: val_loss did not improve from 0.03389\n",
      "Epoch 25/32\n",
      "30/30 [==============================] - 34s 1s/step - loss: 0.0275 - accuracy: 0.9891 - val_loss: 0.0394 - val_accuracy: 0.9869\n",
      "\n",
      "Epoch 00025: val_loss did not improve from 0.03389\n",
      "Epoch 26/32\n",
      "30/30 [==============================] - 35s 1s/step - loss: 0.0232 - accuracy: 0.9896 - val_loss: 0.0449 - val_accuracy: 0.9853\n",
      "\n",
      "Epoch 00026: val_loss did not improve from 0.03389\n",
      "Epoch 27/32\n",
      "30/30 [==============================] - 34s 1s/step - loss: 0.0224 - accuracy: 0.9927 - val_loss: 0.0347 - val_accuracy: 0.9873\n",
      "\n",
      "Epoch 00027: val_loss did not improve from 0.03389\n",
      "Epoch 28/32\n",
      "30/30 [==============================] - 34s 1s/step - loss: 0.0256 - accuracy: 0.9896 - val_loss: 0.0362 - val_accuracy: 0.9878\n",
      "\n",
      "Epoch 00028: val_loss did not improve from 0.03389\n",
      "Epoch 29/32\n",
      "30/30 [==============================] - 34s 1s/step - loss: 0.0247 - accuracy: 0.9917 - val_loss: 0.0319 - val_accuracy: 0.9884\n",
      "\n",
      "Epoch 00029: val_loss improved from 0.03389 to 0.03194, saving model to ./tf-roberta-base-2021_fold5.h5\n",
      "Epoch 30/32\n",
      "30/30 [==============================] - 34s 1s/step - loss: 0.0193 - accuracy: 0.9938 - val_loss: 0.0394 - val_accuracy: 0.9880\n",
      "\n",
      "Epoch 00030: val_loss did not improve from 0.03194\n",
      "Epoch 31/32\n",
      "30/30 [==============================] - 34s 1s/step - loss: 0.0295 - accuracy: 0.9854 - val_loss: 0.0364 - val_accuracy: 0.9889\n",
      "\n",
      "Epoch 00031: val_loss did not improve from 0.03194\n",
      "Epoch 32/32\n",
      "30/30 [==============================] - 34s 1s/step - loss: 0.0212 - accuracy: 0.9901 - val_loss: 0.0386 - val_accuracy: 0.9884\n",
      "\n",
      "Epoch 00032: val_loss did not improve from 0.03194\n"
     ]
    },
    {
     "name": "stderr",
     "output_type": "stream",
     "text": [
      "INFO:absl:TPU has inputs with dynamic shapes: [<tf.Tensor 'Const:0' shape=() dtype=int32>, <tf.Tensor 'cond_8/Identity:0' shape=(None, 1000) dtype=int32>, <tf.Tensor 'cond_8/Identity_1:0' shape=(None, 1000) dtype=int32>, <tf.Tensor 'cond_8/Identity_2:0' shape=(None, 1000) dtype=int32>]\n",
      "[2021-10-06 02:38:16] - tf-roberta-base-2021_fold5 >>> val socre:0.9355\n",
      "INFO:./:[2021-10-06 02:38:16] - tf-roberta-base-2021_fold5 >>> val socre:0.9355\n"
     ]
    },
    {
     "name": "stdout",
     "output_type": "stream",
     "text": [
      "bt:0.008725569122290179\n"
     ]
    },
    {
     "name": "stderr",
     "output_type": "stream",
     "text": [
      "[2021-10-06 02:38:17] - tf-roberta-base-2021 >>> val score:0.8907\n",
      "INFO:./:[2021-10-06 02:38:17] - tf-roberta-base-2021 >>> val score:0.8907\n"
     ]
    },
    {
     "name": "stdout",
     "output_type": "stream",
     "text": [
      "bt:0.008176589974614873\n"
     ]
    },
    {
     "name": "stderr",
     "output_type": "stream",
     "text": [
      "[2021-10-06 02:38:18] - score:0.8907/threshold:0.008176589974614873\n",
      "INFO:./:[2021-10-06 02:38:18] - score:0.8907/threshold:0.008176589974614873\n"
     ]
    },
    {
     "data": {
      "image/png": "[encoded data removed]",
      "text/plain": [
       "<Figure size 345.6x259.2 with 2 Axes>"
      ]
     },
     "metadata": {
      "needs_background": "light"
     },
     "output_type": "display_data"
    },
    {
     "name": "stdout",
     "output_type": "stream",
     "text": [
      "INFO:tensorflow:Clearing out eager caches\n"
     ]
    },
    {
     "name": "stderr",
     "output_type": "stream",
     "text": [
      "INFO:tensorflow:Clearing out eager caches\n"
     ]
    },
    {
     "name": "stdout",
     "output_type": "stream",
     "text": [
      "WARNING:tensorflow:TPU system grpc://10.73.204.242:8470 has already been initialized. Reinitializing the TPU can cause previously created variables on TPU to be lost.\n"
     ]
    },
    {
     "name": "stderr",
     "output_type": "stream",
     "text": [
      "WARNING:tensorflow:TPU system grpc://10.73.204.242:8470 has already been initialized. Reinitializing the TPU can cause previously created variables on TPU to be lost.\n"
     ]
    },
    {
     "name": "stdout",
     "output_type": "stream",
     "text": [
      "INFO:tensorflow:Initializing the TPU system: grpc://10.73.204.242:8470\n"
     ]
    },
    {
     "name": "stderr",
     "output_type": "stream",
     "text": [
      "INFO:tensorflow:Initializing the TPU system: grpc://10.73.204.242:8470\n"
     ]
    },
    {
     "name": "stdout",
     "output_type": "stream",
     "text": [
      "INFO:tensorflow:Finished initializing TPU system.\n"
     ]
    },
    {
     "name": "stderr",
     "output_type": "stream",
     "text": [
      "INFO:tensorflow:Finished initializing TPU system.\n",
      "WARNING:absl:`tf.distribute.experimental.TPUStrategy` is deprecated, please use  the non experimental symbol `tf.distribute.TPUStrategy` instead.\n"
     ]
    },
    {
     "name": "stdout",
     "output_type": "stream",
     "text": [
      "INFO:tensorflow:Found TPU system:\n"
     ]
    },
    {
     "name": "stderr",
     "output_type": "stream",
     "text": [
      "INFO:tensorflow:Found TPU system:\n"
     ]
    },
    {
     "name": "stdout",
     "output_type": "stream",
     "text": [
      "INFO:tensorflow:*** Num TPU Cores: 8\n"
     ]
    },
    {
     "name": "stderr",
     "output_type": "stream",
     "text": [
      "INFO:tensorflow:*** Num TPU Cores: 8\n"
     ]
    },
    {
     "name": "stdout",
     "output_type": "stream",
     "text": [
      "INFO:tensorflow:*** Num TPU Workers: 1\n"
     ]
    },
    {
     "name": "stderr",
     "output_type": "stream",
     "text": [
      "INFO:tensorflow:*** Num TPU Workers: 1\n"
     ]
    },
    {
     "name": "stdout",
     "output_type": "stream",
     "text": [
      "INFO:tensorflow:*** Num TPU Cores Per Worker: 8\n"
     ]
    },
    {
     "name": "stderr",
     "output_type": "stream",
     "text": [
      "INFO:tensorflow:*** Num TPU Cores Per Worker: 8\n"
     ]
    },
    {
     "name": "stdout",
     "output_type": "stream",
     "text": [
      "INFO:tensorflow:*** Available Device: _DeviceAttributes(/job:localhost/replica:0/task:0/device:CPU:0, CPU, 0, 0)\n"
     ]
    },
    {
     "name": "stderr",
     "output_type": "stream",
     "text": [
      "INFO:tensorflow:*** Available Device: _DeviceAttributes(/job:localhost/replica:0/task:0/device:CPU:0, CPU, 0, 0)\n"
     ]
    },
    {
     "name": "stdout",
     "output_type": "stream",
     "text": [
      "INFO:tensorflow:*** Available Device: _DeviceAttributes(/job:worker/replica:0/task:0/device:CPU:0, CPU, 0, 0)\n"
     ]
    },
    {
     "name": "stderr",
     "output_type": "stream",
     "text": [
      "INFO:tensorflow:*** Available Device: _DeviceAttributes(/job:worker/replica:0/task:0/device:CPU:0, CPU, 0, 0)\n"
     ]
    },
    {
     "name": "stdout",
     "output_type": "stream",
     "text": [
      "INFO:tensorflow:*** Available Device: _DeviceAttributes(/job:worker/replica:0/task:0/device:TPU:0, TPU, 0, 0)\n"
     ]
    },
    {
     "name": "stderr",
     "output_type": "stream",
     "text": [
      "INFO:tensorflow:*** Available Device: _DeviceAttributes(/job:worker/replica:0/task:0/device:TPU:0, TPU, 0, 0)\n"
     ]
    },
    {
     "name": "stdout",
     "output_type": "stream",
     "text": [
      "INFO:tensorflow:*** Available Device: _DeviceAttributes(/job:worker/replica:0/task:0/device:TPU:1, TPU, 0, 0)\n"
     ]
    },
    {
     "name": "stderr",
     "output_type": "stream",
     "text": [
      "INFO:tensorflow:*** Available Device: _DeviceAttributes(/job:worker/replica:0/task:0/device:TPU:1, TPU, 0, 0)\n"
     ]
    },
    {
     "name": "stdout",
     "output_type": "stream",
     "text": [
      "INFO:tensorflow:*** Available Device: _DeviceAttributes(/job:worker/replica:0/task:0/device:TPU:2, TPU, 0, 0)\n"
     ]
    },
    {
     "name": "stderr",
     "output_type": "stream",
     "text": [
      "INFO:tensorflow:*** Available Device: _DeviceAttributes(/job:worker/replica:0/task:0/device:TPU:2, TPU, 0, 0)\n"
     ]
    },
    {
     "name": "stdout",
     "output_type": "stream",
     "text": [
      "INFO:tensorflow:*** Available Device: _DeviceAttributes(/job:worker/replica:0/task:0/device:TPU:3, TPU, 0, 0)\n"
     ]
    },
    {
     "name": "stderr",
     "output_type": "stream",
     "text": [
      "INFO:tensorflow:*** Available Device: _DeviceAttributes(/job:worker/replica:0/task:0/device:TPU:3, TPU, 0, 0)\n"
     ]
    },
    {
     "name": "stdout",
     "output_type": "stream",
     "text": [
      "INFO:tensorflow:*** Available Device: _DeviceAttributes(/job:worker/replica:0/task:0/device:TPU:4, TPU, 0, 0)\n"
     ]
    },
    {
     "name": "stderr",
     "output_type": "stream",
     "text": [
      "INFO:tensorflow:*** Available Device: _DeviceAttributes(/job:worker/replica:0/task:0/device:TPU:4, TPU, 0, 0)\n"
     ]
    },
    {
     "name": "stdout",
     "output_type": "stream",
     "text": [
      "INFO:tensorflow:*** Available Device: _DeviceAttributes(/job:worker/replica:0/task:0/device:TPU:5, TPU, 0, 0)\n"
     ]
    },
    {
     "name": "stderr",
     "output_type": "stream",
     "text": [
      "INFO:tensorflow:*** Available Device: _DeviceAttributes(/job:worker/replica:0/task:0/device:TPU:5, TPU, 0, 0)\n"
     ]
    },
    {
     "name": "stdout",
     "output_type": "stream",
     "text": [
      "INFO:tensorflow:*** Available Device: _DeviceAttributes(/job:worker/replica:0/task:0/device:TPU:6, TPU, 0, 0)\n"
     ]
    },
    {
     "name": "stderr",
     "output_type": "stream",
     "text": [
      "INFO:tensorflow:*** Available Device: _DeviceAttributes(/job:worker/replica:0/task:0/device:TPU:6, TPU, 0, 0)\n"
     ]
    },
    {
     "name": "stdout",
     "output_type": "stream",
     "text": [
      "INFO:tensorflow:*** Available Device: _DeviceAttributes(/job:worker/replica:0/task:0/device:TPU:7, TPU, 0, 0)\n"
     ]
    },
    {
     "name": "stderr",
     "output_type": "stream",
     "text": [
      "INFO:tensorflow:*** Available Device: _DeviceAttributes(/job:worker/replica:0/task:0/device:TPU:7, TPU, 0, 0)\n"
     ]
    },
    {
     "name": "stdout",
     "output_type": "stream",
     "text": [
      "INFO:tensorflow:*** Available Device: _DeviceAttributes(/job:worker/replica:0/task:0/device:TPU_SYSTEM:0, TPU_SYSTEM, 0, 0)\n"
     ]
    },
    {
     "name": "stderr",
     "output_type": "stream",
     "text": [
      "INFO:tensorflow:*** Available Device: _DeviceAttributes(/job:worker/replica:0/task:0/device:TPU_SYSTEM:0, TPU_SYSTEM, 0, 0)\n"
     ]
    },
    {
     "name": "stdout",
     "output_type": "stream",
     "text": [
      "INFO:tensorflow:*** Available Device: _DeviceAttributes(/job:worker/replica:0/task:0/device:XLA_CPU:0, XLA_CPU, 0, 0)\n"
     ]
    },
    {
     "name": "stderr",
     "output_type": "stream",
     "text": [
      "INFO:tensorflow:*** Available Device: _DeviceAttributes(/job:worker/replica:0/task:0/device:XLA_CPU:0, XLA_CPU, 0, 0)\n",
      "All model checkpoint layers were used when initializing TFBertModel.\n",
      "\n",
      "All the layers of TFBertModel were initialized from the model checkpoint at cambridgeltl/BioRedditBERT-uncased.\n",
      "If your task is similar to the task the model of the checkpoint was trained on, you can already use TFBertModel for predictions without further training.\n",
      "INFO:absl:TPU has inputs with dynamic shapes: [<tf.Tensor 'Const:0' shape=() dtype=int32>, <tf.Tensor 'cond_8/Identity:0' shape=(None, 1000) dtype=int32>, <tf.Tensor 'cond_8/Identity_1:0' shape=(None, 1000) dtype=int32>, <tf.Tensor 'cond_8/Identity_2:0' shape=(None, 1000) dtype=int32>]\n",
      "[2021-10-06 02:47:40] - tf-roberta-base-2021_fold1 inference\n",
      "INFO:./:[2021-10-06 02:47:40] - tf-roberta-base-2021_fold1 inference\n"
     ]
    },
    {
     "name": "stdout",
     "output_type": "stream",
     "text": [
      "INFO:tensorflow:Clearing out eager caches\n"
     ]
    },
    {
     "name": "stderr",
     "output_type": "stream",
     "text": [
      "INFO:tensorflow:Clearing out eager caches\n"
     ]
    },
    {
     "name": "stdout",
     "output_type": "stream",
     "text": [
      "WARNING:tensorflow:TPU system grpc://10.73.204.242:8470 has already been initialized. Reinitializing the TPU can cause previously created variables on TPU to be lost.\n"
     ]
    },
    {
     "name": "stderr",
     "output_type": "stream",
     "text": [
      "WARNING:tensorflow:TPU system grpc://10.73.204.242:8470 has already been initialized. Reinitializing the TPU can cause previously created variables on TPU to be lost.\n"
     ]
    },
    {
     "name": "stdout",
     "output_type": "stream",
     "text": [
      "INFO:tensorflow:Initializing the TPU system: grpc://10.73.204.242:8470\n"
     ]
    },
    {
     "name": "stderr",
     "output_type": "stream",
     "text": [
      "INFO:tensorflow:Initializing the TPU system: grpc://10.73.204.242:8470\n"
     ]
    },
    {
     "name": "stdout",
     "output_type": "stream",
     "text": [
      "INFO:tensorflow:Finished initializing TPU system.\n"
     ]
    },
    {
     "name": "stderr",
     "output_type": "stream",
     "text": [
      "INFO:tensorflow:Finished initializing TPU system.\n",
      "WARNING:absl:`tf.distribute.experimental.TPUStrategy` is deprecated, please use  the non experimental symbol `tf.distribute.TPUStrategy` instead.\n"
     ]
    },
    {
     "name": "stdout",
     "output_type": "stream",
     "text": [
      "INFO:tensorflow:Found TPU system:\n"
     ]
    },
    {
     "name": "stderr",
     "output_type": "stream",
     "text": [
      "INFO:tensorflow:Found TPU system:\n"
     ]
    },
    {
     "name": "stdout",
     "output_type": "stream",
     "text": [
      "INFO:tensorflow:*** Num TPU Cores: 8\n"
     ]
    },
    {
     "name": "stderr",
     "output_type": "stream",
     "text": [
      "INFO:tensorflow:*** Num TPU Cores: 8\n"
     ]
    },
    {
     "name": "stdout",
     "output_type": "stream",
     "text": [
      "INFO:tensorflow:*** Num TPU Workers: 1\n"
     ]
    },
    {
     "name": "stderr",
     "output_type": "stream",
     "text": [
      "INFO:tensorflow:*** Num TPU Workers: 1\n"
     ]
    },
    {
     "name": "stdout",
     "output_type": "stream",
     "text": [
      "INFO:tensorflow:*** Num TPU Cores Per Worker: 8\n"
     ]
    },
    {
     "name": "stderr",
     "output_type": "stream",
     "text": [
      "INFO:tensorflow:*** Num TPU Cores Per Worker: 8\n"
     ]
    },
    {
     "name": "stdout",
     "output_type": "stream",
     "text": [
      "INFO:tensorflow:*** Available Device: _DeviceAttributes(/job:localhost/replica:0/task:0/device:CPU:0, CPU, 0, 0)\n"
     ]
    },
    {
     "name": "stderr",
     "output_type": "stream",
     "text": [
      "INFO:tensorflow:*** Available Device: _DeviceAttributes(/job:localhost/replica:0/task:0/device:CPU:0, CPU, 0, 0)\n"
     ]
    },
    {
     "name": "stdout",
     "output_type": "stream",
     "text": [
      "INFO:tensorflow:*** Available Device: _DeviceAttributes(/job:worker/replica:0/task:0/device:CPU:0, CPU, 0, 0)\n"
     ]
    },
    {
     "name": "stderr",
     "output_type": "stream",
     "text": [
      "INFO:tensorflow:*** Available Device: _DeviceAttributes(/job:worker/replica:0/task:0/device:CPU:0, CPU, 0, 0)\n"
     ]
    },
    {
     "name": "stdout",
     "output_type": "stream",
     "text": [
      "INFO:tensorflow:*** Available Device: _DeviceAttributes(/job:worker/replica:0/task:0/device:TPU:0, TPU, 0, 0)\n"
     ]
    },
    {
     "name": "stderr",
     "output_type": "stream",
     "text": [
      "INFO:tensorflow:*** Available Device: _DeviceAttributes(/job:worker/replica:0/task:0/device:TPU:0, TPU, 0, 0)\n"
     ]
    },
    {
     "name": "stdout",
     "output_type": "stream",
     "text": [
      "INFO:tensorflow:*** Available Device: _DeviceAttributes(/job:worker/replica:0/task:0/device:TPU:1, TPU, 0, 0)\n"
     ]
    },
    {
     "name": "stderr",
     "output_type": "stream",
     "text": [
      "INFO:tensorflow:*** Available Device: _DeviceAttributes(/job:worker/replica:0/task:0/device:TPU:1, TPU, 0, 0)\n"
     ]
    },
    {
     "name": "stdout",
     "output_type": "stream",
     "text": [
      "INFO:tensorflow:*** Available Device: _DeviceAttributes(/job:worker/replica:0/task:0/device:TPU:2, TPU, 0, 0)\n"
     ]
    },
    {
     "name": "stderr",
     "output_type": "stream",
     "text": [
      "INFO:tensorflow:*** Available Device: _DeviceAttributes(/job:worker/replica:0/task:0/device:TPU:2, TPU, 0, 0)\n"
     ]
    },
    {
     "name": "stdout",
     "output_type": "stream",
     "text": [
      "INFO:tensorflow:*** Available Device: _DeviceAttributes(/job:worker/replica:0/task:0/device:TPU:3, TPU, 0, 0)\n"
     ]
    },
    {
     "name": "stderr",
     "output_type": "stream",
     "text": [
      "INFO:tensorflow:*** Available Device: _DeviceAttributes(/job:worker/replica:0/task:0/device:TPU:3, TPU, 0, 0)\n"
     ]
    },
    {
     "name": "stdout",
     "output_type": "stream",
     "text": [
      "INFO:tensorflow:*** Available Device: _DeviceAttributes(/job:worker/replica:0/task:0/device:TPU:4, TPU, 0, 0)\n"
     ]
    },
    {
     "name": "stderr",
     "output_type": "stream",
     "text": [
      "INFO:tensorflow:*** Available Device: _DeviceAttributes(/job:worker/replica:0/task:0/device:TPU:4, TPU, 0, 0)\n"
     ]
    },
    {
     "name": "stdout",
     "output_type": "stream",
     "text": [
      "INFO:tensorflow:*** Available Device: _DeviceAttributes(/job:worker/replica:0/task:0/device:TPU:5, TPU, 0, 0)\n"
     ]
    },
    {
     "name": "stderr",
     "output_type": "stream",
     "text": [
      "INFO:tensorflow:*** Available Device: _DeviceAttributes(/job:worker/replica:0/task:0/device:TPU:5, TPU, 0, 0)\n"
     ]
    },
    {
     "name": "stdout",
     "output_type": "stream",
     "text": [
      "INFO:tensorflow:*** Available Device: _DeviceAttributes(/job:worker/replica:0/task:0/device:TPU:6, TPU, 0, 0)\n"
     ]
    },
    {
     "name": "stderr",
     "output_type": "stream",
     "text": [
      "INFO:tensorflow:*** Available Device: _DeviceAttributes(/job:worker/replica:0/task:0/device:TPU:6, TPU, 0, 0)\n"
     ]
    },
    {
     "name": "stdout",
     "output_type": "stream",
     "text": [
      "INFO:tensorflow:*** Available Device: _DeviceAttributes(/job:worker/replica:0/task:0/device:TPU:7, TPU, 0, 0)\n"
     ]
    },
    {
     "name": "stderr",
     "output_type": "stream",
     "text": [
      "INFO:tensorflow:*** Available Device: _DeviceAttributes(/job:worker/replica:0/task:0/device:TPU:7, TPU, 0, 0)\n"
     ]
    },
    {
     "name": "stdout",
     "output_type": "stream",
     "text": [
      "INFO:tensorflow:*** Available Device: _DeviceAttributes(/job:worker/replica:0/task:0/device:TPU_SYSTEM:0, TPU_SYSTEM, 0, 0)\n"
     ]
    },
    {
     "name": "stderr",
     "output_type": "stream",
     "text": [
      "INFO:tensorflow:*** Available Device: _DeviceAttributes(/job:worker/replica:0/task:0/device:TPU_SYSTEM:0, TPU_SYSTEM, 0, 0)\n"
     ]
    },
    {
     "name": "stdout",
     "output_type": "stream",
     "text": [
      "INFO:tensorflow:*** Available Device: _DeviceAttributes(/job:worker/replica:0/task:0/device:XLA_CPU:0, XLA_CPU, 0, 0)\n"
     ]
    },
    {
     "name": "stderr",
     "output_type": "stream",
     "text": [
      "INFO:tensorflow:*** Available Device: _DeviceAttributes(/job:worker/replica:0/task:0/device:XLA_CPU:0, XLA_CPU, 0, 0)\n",
      "All model checkpoint layers were used when initializing TFBertModel.\n",
      "\n",
      "All the layers of TFBertModel were initialized from the model checkpoint at cambridgeltl/BioRedditBERT-uncased.\n",
      "If your task is similar to the task the model of the checkpoint was trained on, you can already use TFBertModel for predictions without further training.\n",
      "INFO:absl:TPU has inputs with dynamic shapes: [<tf.Tensor 'Const:0' shape=() dtype=int32>, <tf.Tensor 'cond_8/Identity:0' shape=(None, 1000) dtype=int32>, <tf.Tensor 'cond_8/Identity_1:0' shape=(None, 1000) dtype=int32>, <tf.Tensor 'cond_8/Identity_2:0' shape=(None, 1000) dtype=int32>]\n",
      "[2021-10-06 02:56:55] - tf-roberta-base-2021_fold2 inference\n",
      "INFO:./:[2021-10-06 02:56:55] - tf-roberta-base-2021_fold2 inference\n"
     ]
    },
    {
     "name": "stdout",
     "output_type": "stream",
     "text": [
      "INFO:tensorflow:Clearing out eager caches\n"
     ]
    },
    {
     "name": "stderr",
     "output_type": "stream",
     "text": [
      "INFO:tensorflow:Clearing out eager caches\n"
     ]
    },
    {
     "name": "stdout",
     "output_type": "stream",
     "text": [
      "WARNING:tensorflow:TPU system grpc://10.73.204.242:8470 has already been initialized. Reinitializing the TPU can cause previously created variables on TPU to be lost.\n"
     ]
    },
    {
     "name": "stderr",
     "output_type": "stream",
     "text": [
      "WARNING:tensorflow:TPU system grpc://10.73.204.242:8470 has already been initialized. Reinitializing the TPU can cause previously created variables on TPU to be lost.\n"
     ]
    },
    {
     "name": "stdout",
     "output_type": "stream",
     "text": [
      "INFO:tensorflow:Initializing the TPU system: grpc://10.73.204.242:8470\n"
     ]
    },
    {
     "name": "stderr",
     "output_type": "stream",
     "text": [
      "INFO:tensorflow:Initializing the TPU system: grpc://10.73.204.242:8470\n"
     ]
    },
    {
     "name": "stdout",
     "output_type": "stream",
     "text": [
      "INFO:tensorflow:Finished initializing TPU system.\n"
     ]
    },
    {
     "name": "stderr",
     "output_type": "stream",
     "text": [
      "INFO:tensorflow:Finished initializing TPU system.\n",
      "WARNING:absl:`tf.distribute.experimental.TPUStrategy` is deprecated, please use  the non experimental symbol `tf.distribute.TPUStrategy` instead.\n"
     ]
    },
    {
     "name": "stdout",
     "output_type": "stream",
     "text": [
      "INFO:tensorflow:Found TPU system:\n"
     ]
    },
    {
     "name": "stderr",
     "output_type": "stream",
     "text": [
      "INFO:tensorflow:Found TPU system:\n"
     ]
    },
    {
     "name": "stdout",
     "output_type": "stream",
     "text": [
      "INFO:tensorflow:*** Num TPU Cores: 8\n"
     ]
    },
    {
     "name": "stderr",
     "output_type": "stream",
     "text": [
      "INFO:tensorflow:*** Num TPU Cores: 8\n"
     ]
    },
    {
     "name": "stdout",
     "output_type": "stream",
     "text": [
      "INFO:tensorflow:*** Num TPU Workers: 1\n"
     ]
    },
    {
     "name": "stderr",
     "output_type": "stream",
     "text": [
      "INFO:tensorflow:*** Num TPU Workers: 1\n"
     ]
    },
    {
     "name": "stdout",
     "output_type": "stream",
     "text": [
      "INFO:tensorflow:*** Num TPU Cores Per Worker: 8\n"
     ]
    },
    {
     "name": "stderr",
     "output_type": "stream",
     "text": [
      "INFO:tensorflow:*** Num TPU Cores Per Worker: 8\n"
     ]
    },
    {
     "name": "stdout",
     "output_type": "stream",
     "text": [
      "INFO:tensorflow:*** Available Device: _DeviceAttributes(/job:localhost/replica:0/task:0/device:CPU:0, CPU, 0, 0)\n"
     ]
    },
    {
     "name": "stderr",
     "output_type": "stream",
     "text": [
      "INFO:tensorflow:*** Available Device: _DeviceAttributes(/job:localhost/replica:0/task:0/device:CPU:0, CPU, 0, 0)\n"
     ]
    },
    {
     "name": "stdout",
     "output_type": "stream",
     "text": [
      "INFO:tensorflow:*** Available Device: _DeviceAttributes(/job:worker/replica:0/task:0/device:CPU:0, CPU, 0, 0)\n"
     ]
    },
    {
     "name": "stderr",
     "output_type": "stream",
     "text": [
      "INFO:tensorflow:*** Available Device: _DeviceAttributes(/job:worker/replica:0/task:0/device:CPU:0, CPU, 0, 0)\n"
     ]
    },
    {
     "name": "stdout",
     "output_type": "stream",
     "text": [
      "INFO:tensorflow:*** Available Device: _DeviceAttributes(/job:worker/replica:0/task:0/device:TPU:0, TPU, 0, 0)\n"
     ]
    },
    {
     "name": "stderr",
     "output_type": "stream",
     "text": [
      "INFO:tensorflow:*** Available Device: _DeviceAttributes(/job:worker/replica:0/task:0/device:TPU:0, TPU, 0, 0)\n"
     ]
    },
    {
     "name": "stdout",
     "output_type": "stream",
     "text": [
      "INFO:tensorflow:*** Available Device: _DeviceAttributes(/job:worker/replica:0/task:0/device:TPU:1, TPU, 0, 0)\n"
     ]
    },
    {
     "name": "stderr",
     "output_type": "stream",
     "text": [
      "INFO:tensorflow:*** Available Device: _DeviceAttributes(/job:worker/replica:0/task:0/device:TPU:1, TPU, 0, 0)\n"
     ]
    },
    {
     "name": "stdout",
     "output_type": "stream",
     "text": [
      "INFO:tensorflow:*** Available Device: _DeviceAttributes(/job:worker/replica:0/task:0/device:TPU:2, TPU, 0, 0)\n"
     ]
    },
    {
     "name": "stderr",
     "output_type": "stream",
     "text": [
      "INFO:tensorflow:*** Available Device: _DeviceAttributes(/job:worker/replica:0/task:0/device:TPU:2, TPU, 0, 0)\n"
     ]
    },
    {
     "name": "stdout",
     "output_type": "stream",
     "text": [
      "INFO:tensorflow:*** Available Device: _DeviceAttributes(/job:worker/replica:0/task:0/device:TPU:3, TPU, 0, 0)\n"
     ]
    },
    {
     "name": "stderr",
     "output_type": "stream",
     "text": [
      "INFO:tensorflow:*** Available Device: _DeviceAttributes(/job:worker/replica:0/task:0/device:TPU:3, TPU, 0, 0)\n"
     ]
    },
    {
     "name": "stdout",
     "output_type": "stream",
     "text": [
      "INFO:tensorflow:*** Available Device: _DeviceAttributes(/job:worker/replica:0/task:0/device:TPU:4, TPU, 0, 0)\n"
     ]
    },
    {
     "name": "stderr",
     "output_type": "stream",
     "text": [
      "INFO:tensorflow:*** Available Device: _DeviceAttributes(/job:worker/replica:0/task:0/device:TPU:4, TPU, 0, 0)\n"
     ]
    },
    {
     "name": "stdout",
     "output_type": "stream",
     "text": [
      "INFO:tensorflow:*** Available Device: _DeviceAttributes(/job:worker/replica:0/task:0/device:TPU:5, TPU, 0, 0)\n"
     ]
    },
    {
     "name": "stderr",
     "output_type": "stream",
     "text": [
      "INFO:tensorflow:*** Available Device: _DeviceAttributes(/job:worker/replica:0/task:0/device:TPU:5, TPU, 0, 0)\n"
     ]
    },
    {
     "name": "stdout",
     "output_type": "stream",
     "text": [
      "INFO:tensorflow:*** Available Device: _DeviceAttributes(/job:worker/replica:0/task:0/device:TPU:6, TPU, 0, 0)\n"
     ]
    },
    {
     "name": "stderr",
     "output_type": "stream",
     "text": [
      "INFO:tensorflow:*** Available Device: _DeviceAttributes(/job:worker/replica:0/task:0/device:TPU:6, TPU, 0, 0)\n"
     ]
    },
    {
     "name": "stdout",
     "output_type": "stream",
     "text": [
      "INFO:tensorflow:*** Available Device: _DeviceAttributes(/job:worker/replica:0/task:0/device:TPU:7, TPU, 0, 0)\n"
     ]
    },
    {
     "name": "stderr",
     "output_type": "stream",
     "text": [
      "INFO:tensorflow:*** Available Device: _DeviceAttributes(/job:worker/replica:0/task:0/device:TPU:7, TPU, 0, 0)\n"
     ]
    },
    {
     "name": "stdout",
     "output_type": "stream",
     "text": [
      "INFO:tensorflow:*** Available Device: _DeviceAttributes(/job:worker/replica:0/task:0/device:TPU_SYSTEM:0, TPU_SYSTEM, 0, 0)\n"
     ]
    },
    {
     "name": "stderr",
     "output_type": "stream",
     "text": [
      "INFO:tensorflow:*** Available Device: _DeviceAttributes(/job:worker/replica:0/task:0/device:TPU_SYSTEM:0, TPU_SYSTEM, 0, 0)\n"
     ]
    },
    {
     "name": "stdout",
     "output_type": "stream",
     "text": [
      "INFO:tensorflow:*** Available Device: _DeviceAttributes(/job:worker/replica:0/task:0/device:XLA_CPU:0, XLA_CPU, 0, 0)\n"
     ]
    },
    {
     "name": "stderr",
     "output_type": "stream",
     "text": [
      "INFO:tensorflow:*** Available Device: _DeviceAttributes(/job:worker/replica:0/task:0/device:XLA_CPU:0, XLA_CPU, 0, 0)\n",
      "All model checkpoint layers were used when initializing TFBertModel.\n",
      "\n",
      "All the layers of TFBertModel were initialized from the model checkpoint at cambridgeltl/BioRedditBERT-uncased.\n",
      "If your task is similar to the task the model of the checkpoint was trained on, you can already use TFBertModel for predictions without further training.\n",
      "INFO:absl:TPU has inputs with dynamic shapes: [<tf.Tensor 'Const:0' shape=() dtype=int32>, <tf.Tensor 'cond_8/Identity:0' shape=(None, 1000) dtype=int32>, <tf.Tensor 'cond_8/Identity_1:0' shape=(None, 1000) dtype=int32>, <tf.Tensor 'cond_8/Identity_2:0' shape=(None, 1000) dtype=int32>]\n",
      "[2021-10-06 03:06:11] - tf-roberta-base-2021_fold3 inference\n",
      "INFO:./:[2021-10-06 03:06:11] - tf-roberta-base-2021_fold3 inference\n"
     ]
    },
    {
     "name": "stdout",
     "output_type": "stream",
     "text": [
      "INFO:tensorflow:Clearing out eager caches\n"
     ]
    },
    {
     "name": "stderr",
     "output_type": "stream",
     "text": [
      "INFO:tensorflow:Clearing out eager caches\n"
     ]
    },
    {
     "name": "stdout",
     "output_type": "stream",
     "text": [
      "WARNING:tensorflow:TPU system grpc://10.73.204.242:8470 has already been initialized. Reinitializing the TPU can cause previously created variables on TPU to be lost.\n"
     ]
    },
    {
     "name": "stderr",
     "output_type": "stream",
     "text": [
      "WARNING:tensorflow:TPU system grpc://10.73.204.242:8470 has already been initialized. Reinitializing the TPU can cause previously created variables on TPU to be lost.\n"
     ]
    },
    {
     "name": "stdout",
     "output_type": "stream",
     "text": [
      "INFO:tensorflow:Initializing the TPU system: grpc://10.73.204.242:8470\n"
     ]
    },
    {
     "name": "stderr",
     "output_type": "stream",
     "text": [
      "INFO:tensorflow:Initializing the TPU system: grpc://10.73.204.242:8470\n"
     ]
    },
    {
     "name": "stdout",
     "output_type": "stream",
     "text": [
      "INFO:tensorflow:Finished initializing TPU system.\n"
     ]
    },
    {
     "name": "stderr",
     "output_type": "stream",
     "text": [
      "INFO:tensorflow:Finished initializing TPU system.\n",
      "WARNING:absl:`tf.distribute.experimental.TPUStrategy` is deprecated, please use  the non experimental symbol `tf.distribute.TPUStrategy` instead.\n"
     ]
    },
    {
     "name": "stdout",
     "output_type": "stream",
     "text": [
      "INFO:tensorflow:Found TPU system:\n"
     ]
    },
    {
     "name": "stderr",
     "output_type": "stream",
     "text": [
      "INFO:tensorflow:Found TPU system:\n"
     ]
    },
    {
     "name": "stdout",
     "output_type": "stream",
     "text": [
      "INFO:tensorflow:*** Num TPU Cores: 8\n"
     ]
    },
    {
     "name": "stderr",
     "output_type": "stream",
     "text": [
      "INFO:tensorflow:*** Num TPU Cores: 8\n"
     ]
    },
    {
     "name": "stdout",
     "output_type": "stream",
     "text": [
      "INFO:tensorflow:*** Num TPU Workers: 1\n"
     ]
    },
    {
     "name": "stderr",
     "output_type": "stream",
     "text": [
      "INFO:tensorflow:*** Num TPU Workers: 1\n"
     ]
    },
    {
     "name": "stdout",
     "output_type": "stream",
     "text": [
      "INFO:tensorflow:*** Num TPU Cores Per Worker: 8\n"
     ]
    },
    {
     "name": "stderr",
     "output_type": "stream",
     "text": [
      "INFO:tensorflow:*** Num TPU Cores Per Worker: 8\n"
     ]
    },
    {
     "name": "stdout",
     "output_type": "stream",
     "text": [
      "INFO:tensorflow:*** Available Device: _DeviceAttributes(/job:localhost/replica:0/task:0/device:CPU:0, CPU, 0, 0)\n"
     ]
    },
    {
     "name": "stderr",
     "output_type": "stream",
     "text": [
      "INFO:tensorflow:*** Available Device: _DeviceAttributes(/job:localhost/replica:0/task:0/device:CPU:0, CPU, 0, 0)\n"
     ]
    },
    {
     "name": "stdout",
     "output_type": "stream",
     "text": [
      "INFO:tensorflow:*** Available Device: _DeviceAttributes(/job:worker/replica:0/task:0/device:CPU:0, CPU, 0, 0)\n"
     ]
    },
    {
     "name": "stderr",
     "output_type": "stream",
     "text": [
      "INFO:tensorflow:*** Available Device: _DeviceAttributes(/job:worker/replica:0/task:0/device:CPU:0, CPU, 0, 0)\n"
     ]
    },
    {
     "name": "stdout",
     "output_type": "stream",
     "text": [
      "INFO:tensorflow:*** Available Device: _DeviceAttributes(/job:worker/replica:0/task:0/device:TPU:0, TPU, 0, 0)\n"
     ]
    },
    {
     "name": "stderr",
     "output_type": "stream",
     "text": [
      "INFO:tensorflow:*** Available Device: _DeviceAttributes(/job:worker/replica:0/task:0/device:TPU:0, TPU, 0, 0)\n"
     ]
    },
    {
     "name": "stdout",
     "output_type": "stream",
     "text": [
      "INFO:tensorflow:*** Available Device: _DeviceAttributes(/job:worker/replica:0/task:0/device:TPU:1, TPU, 0, 0)\n"
     ]
    },
    {
     "name": "stderr",
     "output_type": "stream",
     "text": [
      "INFO:tensorflow:*** Available Device: _DeviceAttributes(/job:worker/replica:0/task:0/device:TPU:1, TPU, 0, 0)\n"
     ]
    },
    {
     "name": "stdout",
     "output_type": "stream",
     "text": [
      "INFO:tensorflow:*** Available Device: _DeviceAttributes(/job:worker/replica:0/task:0/device:TPU:2, TPU, 0, 0)\n"
     ]
    },
    {
     "name": "stderr",
     "output_type": "stream",
     "text": [
      "INFO:tensorflow:*** Available Device: _DeviceAttributes(/job:worker/replica:0/task:0/device:TPU:2, TPU, 0, 0)\n"
     ]
    },
    {
     "name": "stdout",
     "output_type": "stream",
     "text": [
      "INFO:tensorflow:*** Available Device: _DeviceAttributes(/job:worker/replica:0/task:0/device:TPU:3, TPU, 0, 0)\n"
     ]
    },
    {
     "name": "stderr",
     "output_type": "stream",
     "text": [
      "INFO:tensorflow:*** Available Device: _DeviceAttributes(/job:worker/replica:0/task:0/device:TPU:3, TPU, 0, 0)\n"
     ]
    },
    {
     "name": "stdout",
     "output_type": "stream",
     "text": [
      "INFO:tensorflow:*** Available Device: _DeviceAttributes(/job:worker/replica:0/task:0/device:TPU:4, TPU, 0, 0)\n"
     ]
    },
    {
     "name": "stderr",
     "output_type": "stream",
     "text": [
      "INFO:tensorflow:*** Available Device: _DeviceAttributes(/job:worker/replica:0/task:0/device:TPU:4, TPU, 0, 0)\n"
     ]
    },
    {
     "name": "stdout",
     "output_type": "stream",
     "text": [
      "INFO:tensorflow:*** Available Device: _DeviceAttributes(/job:worker/replica:0/task:0/device:TPU:5, TPU, 0, 0)\n"
     ]
    },
    {
     "name": "stderr",
     "output_type": "stream",
     "text": [
      "INFO:tensorflow:*** Available Device: _DeviceAttributes(/job:worker/replica:0/task:0/device:TPU:5, TPU, 0, 0)\n"
     ]
    },
    {
     "name": "stdout",
     "output_type": "stream",
     "text": [
      "INFO:tensorflow:*** Available Device: _DeviceAttributes(/job:worker/replica:0/task:0/device:TPU:6, TPU, 0, 0)\n"
     ]
    },
    {
     "name": "stderr",
     "output_type": "stream",
     "text": [
      "INFO:tensorflow:*** Available Device: _DeviceAttributes(/job:worker/replica:0/task:0/device:TPU:6, TPU, 0, 0)\n"
     ]
    },
    {
     "name": "stdout",
     "output_type": "stream",
     "text": [
      "INFO:tensorflow:*** Available Device: _DeviceAttributes(/job:worker/replica:0/task:0/device:TPU:7, TPU, 0, 0)\n"
     ]
    },
    {
     "name": "stderr",
     "output_type": "stream",
     "text": [
      "INFO:tensorflow:*** Available Device: _DeviceAttributes(/job:worker/replica:0/task:0/device:TPU:7, TPU, 0, 0)\n"
     ]
    },
    {
     "name": "stdout",
     "output_type": "stream",
     "text": [
      "INFO:tensorflow:*** Available Device: _DeviceAttributes(/job:worker/replica:0/task:0/device:TPU_SYSTEM:0, TPU_SYSTEM, 0, 0)\n"
     ]
    },
    {
     "name": "stderr",
     "output_type": "stream",
     "text": [
      "INFO:tensorflow:*** Available Device: _DeviceAttributes(/job:worker/replica:0/task:0/device:TPU_SYSTEM:0, TPU_SYSTEM, 0, 0)\n"
     ]
    },
    {
     "name": "stdout",
     "output_type": "stream",
     "text": [
      "INFO:tensorflow:*** Available Device: _DeviceAttributes(/job:worker/replica:0/task:0/device:XLA_CPU:0, XLA_CPU, 0, 0)\n"
     ]
    },
    {
     "name": "stderr",
     "output_type": "stream",
     "text": [
      "INFO:tensorflow:*** Available Device: _DeviceAttributes(/job:worker/replica:0/task:0/device:XLA_CPU:0, XLA_CPU, 0, 0)\n",
      "All model checkpoint layers were used when initializing TFBertModel.\n",
      "\n",
      "All the layers of TFBertModel were initialized from the model checkpoint at cambridgeltl/BioRedditBERT-uncased.\n",
      "If your task is similar to the task the model of the checkpoint was trained on, you can already use TFBertModel for predictions without further training.\n",
      "INFO:absl:TPU has inputs with dynamic shapes: [<tf.Tensor 'Const:0' shape=() dtype=int32>, <tf.Tensor 'cond_8/Identity:0' shape=(None, 1000) dtype=int32>, <tf.Tensor 'cond_8/Identity_1:0' shape=(None, 1000) dtype=int32>, <tf.Tensor 'cond_8/Identity_2:0' shape=(None, 1000) dtype=int32>]\n",
      "[2021-10-06 03:15:31] - tf-roberta-base-2021_fold4 inference\n",
      "INFO:./:[2021-10-06 03:15:31] - tf-roberta-base-2021_fold4 inference\n"
     ]
    },
    {
     "name": "stdout",
     "output_type": "stream",
     "text": [
      "INFO:tensorflow:Clearing out eager caches\n"
     ]
    },
    {
     "name": "stderr",
     "output_type": "stream",
     "text": [
      "INFO:tensorflow:Clearing out eager caches\n"
     ]
    },
    {
     "name": "stdout",
     "output_type": "stream",
     "text": [
      "WARNING:tensorflow:TPU system grpc://10.73.204.242:8470 has already been initialized. Reinitializing the TPU can cause previously created variables on TPU to be lost.\n"
     ]
    },
    {
     "name": "stderr",
     "output_type": "stream",
     "text": [
      "WARNING:tensorflow:TPU system grpc://10.73.204.242:8470 has already been initialized. Reinitializing the TPU can cause previously created variables on TPU to be lost.\n"
     ]
    },
    {
     "name": "stdout",
     "output_type": "stream",
     "text": [
      "INFO:tensorflow:Initializing the TPU system: grpc://10.73.204.242:8470\n"
     ]
    },
    {
     "name": "stderr",
     "output_type": "stream",
     "text": [
      "INFO:tensorflow:Initializing the TPU system: grpc://10.73.204.242:8470\n"
     ]
    },
    {
     "name": "stdout",
     "output_type": "stream",
     "text": [
      "INFO:tensorflow:Finished initializing TPU system.\n"
     ]
    },
    {
     "name": "stderr",
     "output_type": "stream",
     "text": [
      "INFO:tensorflow:Finished initializing TPU system.\n",
      "WARNING:absl:`tf.distribute.experimental.TPUStrategy` is deprecated, please use  the non experimental symbol `tf.distribute.TPUStrategy` instead.\n"
     ]
    },
    {
     "name": "stdout",
     "output_type": "stream",
     "text": [
      "INFO:tensorflow:Found TPU system:\n"
     ]
    },
    {
     "name": "stderr",
     "output_type": "stream",
     "text": [
      "INFO:tensorflow:Found TPU system:\n"
     ]
    },
    {
     "name": "stdout",
     "output_type": "stream",
     "text": [
      "INFO:tensorflow:*** Num TPU Cores: 8\n"
     ]
    },
    {
     "name": "stderr",
     "output_type": "stream",
     "text": [
      "INFO:tensorflow:*** Num TPU Cores: 8\n"
     ]
    },
    {
     "name": "stdout",
     "output_type": "stream",
     "text": [
      "INFO:tensorflow:*** Num TPU Workers: 1\n"
     ]
    },
    {
     "name": "stderr",
     "output_type": "stream",
     "text": [
      "INFO:tensorflow:*** Num TPU Workers: 1\n"
     ]
    },
    {
     "name": "stdout",
     "output_type": "stream",
     "text": [
      "INFO:tensorflow:*** Num TPU Cores Per Worker: 8\n"
     ]
    },
    {
     "name": "stderr",
     "output_type": "stream",
     "text": [
      "INFO:tensorflow:*** Num TPU Cores Per Worker: 8\n"
     ]
    },
    {
     "name": "stdout",
     "output_type": "stream",
     "text": [
      "INFO:tensorflow:*** Available Device: _DeviceAttributes(/job:localhost/replica:0/task:0/device:CPU:0, CPU, 0, 0)\n"
     ]
    },
    {
     "name": "stderr",
     "output_type": "stream",
     "text": [
      "INFO:tensorflow:*** Available Device: _DeviceAttributes(/job:localhost/replica:0/task:0/device:CPU:0, CPU, 0, 0)\n"
     ]
    },
    {
     "name": "stdout",
     "output_type": "stream",
     "text": [
      "INFO:tensorflow:*** Available Device: _DeviceAttributes(/job:worker/replica:0/task:0/device:CPU:0, CPU, 0, 0)\n"
     ]
    },
    {
     "name": "stderr",
     "output_type": "stream",
     "text": [
      "INFO:tensorflow:*** Available Device: _DeviceAttributes(/job:worker/replica:0/task:0/device:CPU:0, CPU, 0, 0)\n"
     ]
    },
    {
     "name": "stdout",
     "output_type": "stream",
     "text": [
      "INFO:tensorflow:*** Available Device: _DeviceAttributes(/job:worker/replica:0/task:0/device:TPU:0, TPU, 0, 0)\n"
     ]
    },
    {
     "name": "stderr",
     "output_type": "stream",
     "text": [
      "INFO:tensorflow:*** Available Device: _DeviceAttributes(/job:worker/replica:0/task:0/device:TPU:0, TPU, 0, 0)\n"
     ]
    },
    {
     "name": "stdout",
     "output_type": "stream",
     "text": [
      "INFO:tensorflow:*** Available Device: _DeviceAttributes(/job:worker/replica:0/task:0/device:TPU:1, TPU, 0, 0)\n"
     ]
    },
    {
     "name": "stderr",
     "output_type": "stream",
     "text": [
      "INFO:tensorflow:*** Available Device: _DeviceAttributes(/job:worker/replica:0/task:0/device:TPU:1, TPU, 0, 0)\n"
     ]
    },
    {
     "name": "stdout",
     "output_type": "stream",
     "text": [
      "INFO:tensorflow:*** Available Device: _DeviceAttributes(/job:worker/replica:0/task:0/device:TPU:2, TPU, 0, 0)\n"
     ]
    },
    {
     "name": "stderr",
     "output_type": "stream",
     "text": [
      "INFO:tensorflow:*** Available Device: _DeviceAttributes(/job:worker/replica:0/task:0/device:TPU:2, TPU, 0, 0)\n"
     ]
    },
    {
     "name": "stdout",
     "output_type": "stream",
     "text": [
      "INFO:tensorflow:*** Available Device: _DeviceAttributes(/job:worker/replica:0/task:0/device:TPU:3, TPU, 0, 0)\n"
     ]
    },
    {
     "name": "stderr",
     "output_type": "stream",
     "text": [
      "INFO:tensorflow:*** Available Device: _DeviceAttributes(/job:worker/replica:0/task:0/device:TPU:3, TPU, 0, 0)\n"
     ]
    },
    {
     "name": "stdout",
     "output_type": "stream",
     "text": [
      "INFO:tensorflow:*** Available Device: _DeviceAttributes(/job:worker/replica:0/task:0/device:TPU:4, TPU, 0, 0)\n"
     ]
    },
    {
     "name": "stderr",
     "output_type": "stream",
     "text": [
      "INFO:tensorflow:*** Available Device: _DeviceAttributes(/job:worker/replica:0/task:0/device:TPU:4, TPU, 0, 0)\n"
     ]
    },
    {
     "name": "stdout",
     "output_type": "stream",
     "text": [
      "INFO:tensorflow:*** Available Device: _DeviceAttributes(/job:worker/replica:0/task:0/device:TPU:5, TPU, 0, 0)\n"
     ]
    },
    {
     "name": "stderr",
     "output_type": "stream",
     "text": [
      "INFO:tensorflow:*** Available Device: _DeviceAttributes(/job:worker/replica:0/task:0/device:TPU:5, TPU, 0, 0)\n"
     ]
    },
    {
     "name": "stdout",
     "output_type": "stream",
     "text": [
      "INFO:tensorflow:*** Available Device: _DeviceAttributes(/job:worker/replica:0/task:0/device:TPU:6, TPU, 0, 0)\n"
     ]
    },
    {
     "name": "stderr",
     "output_type": "stream",
     "text": [
      "INFO:tensorflow:*** Available Device: _DeviceAttributes(/job:worker/replica:0/task:0/device:TPU:6, TPU, 0, 0)\n"
     ]
    },
    {
     "name": "stdout",
     "output_type": "stream",
     "text": [
      "INFO:tensorflow:*** Available Device: _DeviceAttributes(/job:worker/replica:0/task:0/device:TPU:7, TPU, 0, 0)\n"
     ]
    },
    {
     "name": "stderr",
     "output_type": "stream",
     "text": [
      "INFO:tensorflow:*** Available Device: _DeviceAttributes(/job:worker/replica:0/task:0/device:TPU:7, TPU, 0, 0)\n"
     ]
    },
    {
     "name": "stdout",
     "output_type": "stream",
     "text": [
      "INFO:tensorflow:*** Available Device: _DeviceAttributes(/job:worker/replica:0/task:0/device:TPU_SYSTEM:0, TPU_SYSTEM, 0, 0)\n"
     ]
    },
    {
     "name": "stderr",
     "output_type": "stream",
     "text": [
      "INFO:tensorflow:*** Available Device: _DeviceAttributes(/job:worker/replica:0/task:0/device:TPU_SYSTEM:0, TPU_SYSTEM, 0, 0)\n"
     ]
    },
    {
     "name": "stdout",
     "output_type": "stream",
     "text": [
      "INFO:tensorflow:*** Available Device: _DeviceAttributes(/job:worker/replica:0/task:0/device:XLA_CPU:0, XLA_CPU, 0, 0)\n"
     ]
    },
    {
     "name": "stderr",
     "output_type": "stream",
     "text": [
      "INFO:tensorflow:*** Available Device: _DeviceAttributes(/job:worker/replica:0/task:0/device:XLA_CPU:0, XLA_CPU, 0, 0)\n",
      "All model checkpoint layers were used when initializing TFBertModel.\n",
      "\n",
      "All the layers of TFBertModel were initialized from the model checkpoint at cambridgeltl/BioRedditBERT-uncased.\n",
      "If your task is similar to the task the model of the checkpoint was trained on, you can already use TFBertModel for predictions without further training.\n",
      "INFO:absl:TPU has inputs with dynamic shapes: [<tf.Tensor 'Const:0' shape=() dtype=int32>, <tf.Tensor 'cond_8/Identity:0' shape=(None, 1000) dtype=int32>, <tf.Tensor 'cond_8/Identity_1:0' shape=(None, 1000) dtype=int32>, <tf.Tensor 'cond_8/Identity_2:0' shape=(None, 1000) dtype=int32>]\n",
      "[2021-10-06 03:25:41] - tf-roberta-base-2021_fold5 inference\n",
      "INFO:./:[2021-10-06 03:25:41] - tf-roberta-base-2021_fold5 inference\n"
     ]
    },
    {
     "name": "stdout",
     "output_type": "stream",
     "text": [
      "INFO:tensorflow:Clearing out eager caches\n"
     ]
    },
    {
     "name": "stderr",
     "output_type": "stream",
     "text": [
      "INFO:tensorflow:Clearing out eager caches\n"
     ]
    },
    {
     "name": "stdout",
     "output_type": "stream",
     "text": [
      "WARNING:tensorflow:TPU system grpc://10.73.204.242:8470 has already been initialized. Reinitializing the TPU can cause previously created variables on TPU to be lost.\n"
     ]
    },
    {
     "name": "stderr",
     "output_type": "stream",
     "text": [
      "WARNING:tensorflow:TPU system grpc://10.73.204.242:8470 has already been initialized. Reinitializing the TPU can cause previously created variables on TPU to be lost.\n"
     ]
    },
    {
     "name": "stdout",
     "output_type": "stream",
     "text": [
      "INFO:tensorflow:Initializing the TPU system: grpc://10.73.204.242:8470\n"
     ]
    },
    {
     "name": "stderr",
     "output_type": "stream",
     "text": [
      "INFO:tensorflow:Initializing the TPU system: grpc://10.73.204.242:8470\n"
     ]
    },
    {
     "name": "stdout",
     "output_type": "stream",
     "text": [
      "INFO:tensorflow:Finished initializing TPU system.\n"
     ]
    },
    {
     "name": "stderr",
     "output_type": "stream",
     "text": [
      "INFO:tensorflow:Finished initializing TPU system.\n",
      "WARNING:absl:`tf.distribute.experimental.TPUStrategy` is deprecated, please use  the non experimental symbol `tf.distribute.TPUStrategy` instead.\n"
     ]
    },
    {
     "name": "stdout",
     "output_type": "stream",
     "text": [
      "INFO:tensorflow:Found TPU system:\n"
     ]
    },
    {
     "name": "stderr",
     "output_type": "stream",
     "text": [
      "INFO:tensorflow:Found TPU system:\n"
     ]
    },
    {
     "name": "stdout",
     "output_type": "stream",
     "text": [
      "INFO:tensorflow:*** Num TPU Cores: 8\n"
     ]
    },
    {
     "name": "stderr",
     "output_type": "stream",
     "text": [
      "INFO:tensorflow:*** Num TPU Cores: 8\n"
     ]
    },
    {
     "name": "stdout",
     "output_type": "stream",
     "text": [
      "INFO:tensorflow:*** Num TPU Workers: 1\n"
     ]
    },
    {
     "name": "stderr",
     "output_type": "stream",
     "text": [
      "INFO:tensorflow:*** Num TPU Workers: 1\n"
     ]
    },
    {
     "name": "stdout",
     "output_type": "stream",
     "text": [
      "INFO:tensorflow:*** Num TPU Cores Per Worker: 8\n"
     ]
    },
    {
     "name": "stderr",
     "output_type": "stream",
     "text": [
      "INFO:tensorflow:*** Num TPU Cores Per Worker: 8\n"
     ]
    },
    {
     "name": "stdout",
     "output_type": "stream",
     "text": [
      "INFO:tensorflow:*** Available Device: _DeviceAttributes(/job:localhost/replica:0/task:0/device:CPU:0, CPU, 0, 0)\n"
     ]
    },
    {
     "name": "stderr",
     "output_type": "stream",
     "text": [
      "INFO:tensorflow:*** Available Device: _DeviceAttributes(/job:localhost/replica:0/task:0/device:CPU:0, CPU, 0, 0)\n"
     ]
    },
    {
     "name": "stdout",
     "output_type": "stream",
     "text": [
      "INFO:tensorflow:*** Available Device: _DeviceAttributes(/job:worker/replica:0/task:0/device:CPU:0, CPU, 0, 0)\n"
     ]
    },
    {
     "name": "stderr",
     "output_type": "stream",
     "text": [
      "INFO:tensorflow:*** Available Device: _DeviceAttributes(/job:worker/replica:0/task:0/device:CPU:0, CPU, 0, 0)\n"
     ]
    },
    {
     "name": "stdout",
     "output_type": "stream",
     "text": [
      "INFO:tensorflow:*** Available Device: _DeviceAttributes(/job:worker/replica:0/task:0/device:TPU:0, TPU, 0, 0)\n"
     ]
    },
    {
     "name": "stderr",
     "output_type": "stream",
     "text": [
      "INFO:tensorflow:*** Available Device: _DeviceAttributes(/job:worker/replica:0/task:0/device:TPU:0, TPU, 0, 0)\n"
     ]
    },
    {
     "name": "stdout",
     "output_type": "stream",
     "text": [
      "INFO:tensorflow:*** Available Device: _DeviceAttributes(/job:worker/replica:0/task:0/device:TPU:1, TPU, 0, 0)\n"
     ]
    },
    {
     "name": "stderr",
     "output_type": "stream",
     "text": [
      "INFO:tensorflow:*** Available Device: _DeviceAttributes(/job:worker/replica:0/task:0/device:TPU:1, TPU, 0, 0)\n"
     ]
    },
    {
     "name": "stdout",
     "output_type": "stream",
     "text": [
      "INFO:tensorflow:*** Available Device: _DeviceAttributes(/job:worker/replica:0/task:0/device:TPU:2, TPU, 0, 0)\n"
     ]
    },
    {
     "name": "stderr",
     "output_type": "stream",
     "text": [
      "INFO:tensorflow:*** Available Device: _DeviceAttributes(/job:worker/replica:0/task:0/device:TPU:2, TPU, 0, 0)\n"
     ]
    },
    {
     "name": "stdout",
     "output_type": "stream",
     "text": [
      "INFO:tensorflow:*** Available Device: _DeviceAttributes(/job:worker/replica:0/task:0/device:TPU:3, TPU, 0, 0)\n"
     ]
    },
    {
     "name": "stderr",
     "output_type": "stream",
     "text": [
      "INFO:tensorflow:*** Available Device: _DeviceAttributes(/job:worker/replica:0/task:0/device:TPU:3, TPU, 0, 0)\n"
     ]
    },
    {
     "name": "stdout",
     "output_type": "stream",
     "text": [
      "INFO:tensorflow:*** Available Device: _DeviceAttributes(/job:worker/replica:0/task:0/device:TPU:4, TPU, 0, 0)\n"
     ]
    },
    {
     "name": "stderr",
     "output_type": "stream",
     "text": [
      "INFO:tensorflow:*** Available Device: _DeviceAttributes(/job:worker/replica:0/task:0/device:TPU:4, TPU, 0, 0)\n"
     ]
    },
    {
     "name": "stdout",
     "output_type": "stream",
     "text": [
      "INFO:tensorflow:*** Available Device: _DeviceAttributes(/job:worker/replica:0/task:0/device:TPU:5, TPU, 0, 0)\n"
     ]
    },
    {
     "name": "stderr",
     "output_type": "stream",
     "text": [
      "INFO:tensorflow:*** Available Device: _DeviceAttributes(/job:worker/replica:0/task:0/device:TPU:5, TPU, 0, 0)\n"
     ]
    },
    {
     "name": "stdout",
     "output_type": "stream",
     "text": [
      "INFO:tensorflow:*** Available Device: _DeviceAttributes(/job:worker/replica:0/task:0/device:TPU:6, TPU, 0, 0)\n"
     ]
    },
    {
     "name": "stderr",
     "output_type": "stream",
     "text": [
      "INFO:tensorflow:*** Available Device: _DeviceAttributes(/job:worker/replica:0/task:0/device:TPU:6, TPU, 0, 0)\n"
     ]
    },
    {
     "name": "stdout",
     "output_type": "stream",
     "text": [
      "INFO:tensorflow:*** Available Device: _DeviceAttributes(/job:worker/replica:0/task:0/device:TPU:7, TPU, 0, 0)\n"
     ]
    },
    {
     "name": "stderr",
     "output_type": "stream",
     "text": [
      "INFO:tensorflow:*** Available Device: _DeviceAttributes(/job:worker/replica:0/task:0/device:TPU:7, TPU, 0, 0)\n"
     ]
    },
    {
     "name": "stdout",
     "output_type": "stream",
     "text": [
      "INFO:tensorflow:*** Available Device: _DeviceAttributes(/job:worker/replica:0/task:0/device:TPU_SYSTEM:0, TPU_SYSTEM, 0, 0)\n"
     ]
    },
    {
     "name": "stderr",
     "output_type": "stream",
     "text": [
      "INFO:tensorflow:*** Available Device: _DeviceAttributes(/job:worker/replica:0/task:0/device:TPU_SYSTEM:0, TPU_SYSTEM, 0, 0)\n"
     ]
    },
    {
     "name": "stdout",
     "output_type": "stream",
     "text": [
      "INFO:tensorflow:*** Available Device: _DeviceAttributes(/job:worker/replica:0/task:0/device:XLA_CPU:0, XLA_CPU, 0, 0)\n"
     ]
    },
    {
     "name": "stderr",
     "output_type": "stream",
     "text": [
      "INFO:tensorflow:*** Available Device: _DeviceAttributes(/job:worker/replica:0/task:0/device:XLA_CPU:0, XLA_CPU, 0, 0)\n",
      "All model checkpoint layers were used when initializing TFBertModel.\n",
      "\n",
      "All the layers of TFBertModel were initialized from the model checkpoint at cambridgeltl/BioRedditBERT-uncased.\n",
      "If your task is similar to the task the model of the checkpoint was trained on, you can already use TFBertModel for predictions without further training.\n",
      "INFO:absl:TPU has inputs with dynamic shapes: [<tf.Tensor 'Const:0' shape=() dtype=int32>, <tf.Tensor 'cond_8/Identity:0' shape=(None, 1000) dtype=int32>, <tf.Tensor 'cond_8/Identity_1:0' shape=(None, 1000) dtype=int32>, <tf.Tensor 'cond_8/Identity_2:0' shape=(None, 1000) dtype=int32>]\n",
      "[2021-10-06 03:32:48] - tf-roberta-base-2021_fold1 inference\n",
      "INFO:./:[2021-10-06 03:32:48] - tf-roberta-base-2021_fold1 inference\n"
     ]
    },
    {
     "name": "stdout",
     "output_type": "stream",
     "text": [
      "INFO:tensorflow:Clearing out eager caches\n"
     ]
    },
    {
     "name": "stderr",
     "output_type": "stream",
     "text": [
      "INFO:tensorflow:Clearing out eager caches\n"
     ]
    },
    {
     "name": "stdout",
     "output_type": "stream",
     "text": [
      "WARNING:tensorflow:TPU system grpc://10.73.204.242:8470 has already been initialized. Reinitializing the TPU can cause previously created variables on TPU to be lost.\n"
     ]
    },
    {
     "name": "stderr",
     "output_type": "stream",
     "text": [
      "WARNING:tensorflow:TPU system grpc://10.73.204.242:8470 has already been initialized. Reinitializing the TPU can cause previously created variables on TPU to be lost.\n"
     ]
    },
    {
     "name": "stdout",
     "output_type": "stream",
     "text": [
      "INFO:tensorflow:Initializing the TPU system: grpc://10.73.204.242:8470\n"
     ]
    },
    {
     "name": "stderr",
     "output_type": "stream",
     "text": [
      "INFO:tensorflow:Initializing the TPU system: grpc://10.73.204.242:8470\n"
     ]
    },
    {
     "name": "stdout",
     "output_type": "stream",
     "text": [
      "INFO:tensorflow:Finished initializing TPU system.\n"
     ]
    },
    {
     "name": "stderr",
     "output_type": "stream",
     "text": [
      "INFO:tensorflow:Finished initializing TPU system.\n",
      "WARNING:absl:`tf.distribute.experimental.TPUStrategy` is deprecated, please use  the non experimental symbol `tf.distribute.TPUStrategy` instead.\n"
     ]
    },
    {
     "name": "stdout",
     "output_type": "stream",
     "text": [
      "INFO:tensorflow:Found TPU system:\n"
     ]
    },
    {
     "name": "stderr",
     "output_type": "stream",
     "text": [
      "INFO:tensorflow:Found TPU system:\n"
     ]
    },
    {
     "name": "stdout",
     "output_type": "stream",
     "text": [
      "INFO:tensorflow:*** Num TPU Cores: 8\n"
     ]
    },
    {
     "name": "stderr",
     "output_type": "stream",
     "text": [
      "INFO:tensorflow:*** Num TPU Cores: 8\n"
     ]
    },
    {
     "name": "stdout",
     "output_type": "stream",
     "text": [
      "INFO:tensorflow:*** Num TPU Workers: 1\n"
     ]
    },
    {
     "name": "stderr",
     "output_type": "stream",
     "text": [
      "INFO:tensorflow:*** Num TPU Workers: 1\n"
     ]
    },
    {
     "name": "stdout",
     "output_type": "stream",
     "text": [
      "INFO:tensorflow:*** Num TPU Cores Per Worker: 8\n"
     ]
    },
    {
     "name": "stderr",
     "output_type": "stream",
     "text": [
      "INFO:tensorflow:*** Num TPU Cores Per Worker: 8\n"
     ]
    },
    {
     "name": "stdout",
     "output_type": "stream",
     "text": [
      "INFO:tensorflow:*** Available Device: _DeviceAttributes(/job:localhost/replica:0/task:0/device:CPU:0, CPU, 0, 0)\n"
     ]
    },
    {
     "name": "stderr",
     "output_type": "stream",
     "text": [
      "INFO:tensorflow:*** Available Device: _DeviceAttributes(/job:localhost/replica:0/task:0/device:CPU:0, CPU, 0, 0)\n"
     ]
    },
    {
     "name": "stdout",
     "output_type": "stream",
     "text": [
      "INFO:tensorflow:*** Available Device: _DeviceAttributes(/job:worker/replica:0/task:0/device:CPU:0, CPU, 0, 0)\n"
     ]
    },
    {
     "name": "stderr",
     "output_type": "stream",
     "text": [
      "INFO:tensorflow:*** Available Device: _DeviceAttributes(/job:worker/replica:0/task:0/device:CPU:0, CPU, 0, 0)\n"
     ]
    },
    {
     "name": "stdout",
     "output_type": "stream",
     "text": [
      "INFO:tensorflow:*** Available Device: _DeviceAttributes(/job:worker/replica:0/task:0/device:TPU:0, TPU, 0, 0)\n"
     ]
    },
    {
     "name": "stderr",
     "output_type": "stream",
     "text": [
      "INFO:tensorflow:*** Available Device: _DeviceAttributes(/job:worker/replica:0/task:0/device:TPU:0, TPU, 0, 0)\n"
     ]
    },
    {
     "name": "stdout",
     "output_type": "stream",
     "text": [
      "INFO:tensorflow:*** Available Device: _DeviceAttributes(/job:worker/replica:0/task:0/device:TPU:1, TPU, 0, 0)\n"
     ]
    },
    {
     "name": "stderr",
     "output_type": "stream",
     "text": [
      "INFO:tensorflow:*** Available Device: _DeviceAttributes(/job:worker/replica:0/task:0/device:TPU:1, TPU, 0, 0)\n"
     ]
    },
    {
     "name": "stdout",
     "output_type": "stream",
     "text": [
      "INFO:tensorflow:*** Available Device: _DeviceAttributes(/job:worker/replica:0/task:0/device:TPU:2, TPU, 0, 0)\n"
     ]
    },
    {
     "name": "stderr",
     "output_type": "stream",
     "text": [
      "INFO:tensorflow:*** Available Device: _DeviceAttributes(/job:worker/replica:0/task:0/device:TPU:2, TPU, 0, 0)\n"
     ]
    },
    {
     "name": "stdout",
     "output_type": "stream",
     "text": [
      "INFO:tensorflow:*** Available Device: _DeviceAttributes(/job:worker/replica:0/task:0/device:TPU:3, TPU, 0, 0)\n"
     ]
    },
    {
     "name": "stderr",
     "output_type": "stream",
     "text": [
      "INFO:tensorflow:*** Available Device: _DeviceAttributes(/job:worker/replica:0/task:0/device:TPU:3, TPU, 0, 0)\n"
     ]
    },
    {
     "name": "stdout",
     "output_type": "stream",
     "text": [
      "INFO:tensorflow:*** Available Device: _DeviceAttributes(/job:worker/replica:0/task:0/device:TPU:4, TPU, 0, 0)\n"
     ]
    },
    {
     "name": "stderr",
     "output_type": "stream",
     "text": [
      "INFO:tensorflow:*** Available Device: _DeviceAttributes(/job:worker/replica:0/task:0/device:TPU:4, TPU, 0, 0)\n"
     ]
    },
    {
     "name": "stdout",
     "output_type": "stream",
     "text": [
      "INFO:tensorflow:*** Available Device: _DeviceAttributes(/job:worker/replica:0/task:0/device:TPU:5, TPU, 0, 0)\n"
     ]
    },
    {
     "name": "stderr",
     "output_type": "stream",
     "text": [
      "INFO:tensorflow:*** Available Device: _DeviceAttributes(/job:worker/replica:0/task:0/device:TPU:5, TPU, 0, 0)\n"
     ]
    },
    {
     "name": "stdout",
     "output_type": "stream",
     "text": [
      "INFO:tensorflow:*** Available Device: _DeviceAttributes(/job:worker/replica:0/task:0/device:TPU:6, TPU, 0, 0)\n"
     ]
    },
    {
     "name": "stderr",
     "output_type": "stream",
     "text": [
      "INFO:tensorflow:*** Available Device: _DeviceAttributes(/job:worker/replica:0/task:0/device:TPU:6, TPU, 0, 0)\n"
     ]
    },
    {
     "name": "stdout",
     "output_type": "stream",
     "text": [
      "INFO:tensorflow:*** Available Device: _DeviceAttributes(/job:worker/replica:0/task:0/device:TPU:7, TPU, 0, 0)\n"
     ]
    },
    {
     "name": "stderr",
     "output_type": "stream",
     "text": [
      "INFO:tensorflow:*** Available Device: _DeviceAttributes(/job:worker/replica:0/task:0/device:TPU:7, TPU, 0, 0)\n"
     ]
    },
    {
     "name": "stdout",
     "output_type": "stream",
     "text": [
      "INFO:tensorflow:*** Available Device: _DeviceAttributes(/job:worker/replica:0/task:0/device:TPU_SYSTEM:0, TPU_SYSTEM, 0, 0)\n"
     ]
    },
    {
     "name": "stderr",
     "output_type": "stream",
     "text": [
      "INFO:tensorflow:*** Available Device: _DeviceAttributes(/job:worker/replica:0/task:0/device:TPU_SYSTEM:0, TPU_SYSTEM, 0, 0)\n"
     ]
    },
    {
     "name": "stdout",
     "output_type": "stream",
     "text": [
      "INFO:tensorflow:*** Available Device: _DeviceAttributes(/job:worker/replica:0/task:0/device:XLA_CPU:0, XLA_CPU, 0, 0)\n"
     ]
    },
    {
     "name": "stderr",
     "output_type": "stream",
     "text": [
      "INFO:tensorflow:*** Available Device: _DeviceAttributes(/job:worker/replica:0/task:0/device:XLA_CPU:0, XLA_CPU, 0, 0)\n",
      "All model checkpoint layers were used when initializing TFBertModel.\n",
      "\n",
      "All the layers of TFBertModel were initialized from the model checkpoint at cambridgeltl/BioRedditBERT-uncased.\n",
      "If your task is similar to the task the model of the checkpoint was trained on, you can already use TFBertModel for predictions without further training.\n",
      "INFO:absl:TPU has inputs with dynamic shapes: [<tf.Tensor 'Const:0' shape=() dtype=int32>, <tf.Tensor 'cond_8/Identity:0' shape=(None, 1000) dtype=int32>, <tf.Tensor 'cond_8/Identity_1:0' shape=(None, 1000) dtype=int32>, <tf.Tensor 'cond_8/Identity_2:0' shape=(None, 1000) dtype=int32>]\n",
      "[2021-10-06 03:39:23] - tf-roberta-base-2021_fold2 inference\n",
      "INFO:./:[2021-10-06 03:39:23] - tf-roberta-base-2021_fold2 inference\n"
     ]
    },
    {
     "name": "stdout",
     "output_type": "stream",
     "text": [
      "INFO:tensorflow:Clearing out eager caches\n"
     ]
    },
    {
     "name": "stderr",
     "output_type": "stream",
     "text": [
      "INFO:tensorflow:Clearing out eager caches\n"
     ]
    },
    {
     "name": "stdout",
     "output_type": "stream",
     "text": [
      "WARNING:tensorflow:TPU system grpc://10.73.204.242:8470 has already been initialized. Reinitializing the TPU can cause previously created variables on TPU to be lost.\n"
     ]
    },
    {
     "name": "stderr",
     "output_type": "stream",
     "text": [
      "WARNING:tensorflow:TPU system grpc://10.73.204.242:8470 has already been initialized. Reinitializing the TPU can cause previously created variables on TPU to be lost.\n"
     ]
    },
    {
     "name": "stdout",
     "output_type": "stream",
     "text": [
      "INFO:tensorflow:Initializing the TPU system: grpc://10.73.204.242:8470\n"
     ]
    },
    {
     "name": "stderr",
     "output_type": "stream",
     "text": [
      "INFO:tensorflow:Initializing the TPU system: grpc://10.73.204.242:8470\n"
     ]
    },
    {
     "name": "stdout",
     "output_type": "stream",
     "text": [
      "INFO:tensorflow:Finished initializing TPU system.\n"
     ]
    },
    {
     "name": "stderr",
     "output_type": "stream",
     "text": [
      "INFO:tensorflow:Finished initializing TPU system.\n",
      "WARNING:absl:`tf.distribute.experimental.TPUStrategy` is deprecated, please use  the non experimental symbol `tf.distribute.TPUStrategy` instead.\n"
     ]
    },
    {
     "name": "stdout",
     "output_type": "stream",
     "text": [
      "INFO:tensorflow:Found TPU system:\n"
     ]
    },
    {
     "name": "stderr",
     "output_type": "stream",
     "text": [
      "INFO:tensorflow:Found TPU system:\n"
     ]
    },
    {
     "name": "stdout",
     "output_type": "stream",
     "text": [
      "INFO:tensorflow:*** Num TPU Cores: 8\n"
     ]
    },
    {
     "name": "stderr",
     "output_type": "stream",
     "text": [
      "INFO:tensorflow:*** Num TPU Cores: 8\n"
     ]
    },
    {
     "name": "stdout",
     "output_type": "stream",
     "text": [
      "INFO:tensorflow:*** Num TPU Workers: 1\n"
     ]
    },
    {
     "name": "stderr",
     "output_type": "stream",
     "text": [
      "INFO:tensorflow:*** Num TPU Workers: 1\n"
     ]
    },
    {
     "name": "stdout",
     "output_type": "stream",
     "text": [
      "INFO:tensorflow:*** Num TPU Cores Per Worker: 8\n"
     ]
    },
    {
     "name": "stderr",
     "output_type": "stream",
     "text": [
      "INFO:tensorflow:*** Num TPU Cores Per Worker: 8\n"
     ]
    },
    {
     "name": "stdout",
     "output_type": "stream",
     "text": [
      "INFO:tensorflow:*** Available Device: _DeviceAttributes(/job:localhost/replica:0/task:0/device:CPU:0, CPU, 0, 0)\n"
     ]
    },
    {
     "name": "stderr",
     "output_type": "stream",
     "text": [
      "INFO:tensorflow:*** Available Device: _DeviceAttributes(/job:localhost/replica:0/task:0/device:CPU:0, CPU, 0, 0)\n"
     ]
    },
    {
     "name": "stdout",
     "output_type": "stream",
     "text": [
      "INFO:tensorflow:*** Available Device: _DeviceAttributes(/job:worker/replica:0/task:0/device:CPU:0, CPU, 0, 0)\n"
     ]
    },
    {
     "name": "stderr",
     "output_type": "stream",
     "text": [
      "INFO:tensorflow:*** Available Device: _DeviceAttributes(/job:worker/replica:0/task:0/device:CPU:0, CPU, 0, 0)\n"
     ]
    },
    {
     "name": "stdout",
     "output_type": "stream",
     "text": [
      "INFO:tensorflow:*** Available Device: _DeviceAttributes(/job:worker/replica:0/task:0/device:TPU:0, TPU, 0, 0)\n"
     ]
    },
    {
     "name": "stderr",
     "output_type": "stream",
     "text": [
      "INFO:tensorflow:*** Available Device: _DeviceAttributes(/job:worker/replica:0/task:0/device:TPU:0, TPU, 0, 0)\n"
     ]
    },
    {
     "name": "stdout",
     "output_type": "stream",
     "text": [
      "INFO:tensorflow:*** Available Device: _DeviceAttributes(/job:worker/replica:0/task:0/device:TPU:1, TPU, 0, 0)\n"
     ]
    },
    {
     "name": "stderr",
     "output_type": "stream",
     "text": [
      "INFO:tensorflow:*** Available Device: _DeviceAttributes(/job:worker/replica:0/task:0/device:TPU:1, TPU, 0, 0)\n"
     ]
    },
    {
     "name": "stdout",
     "output_type": "stream",
     "text": [
      "INFO:tensorflow:*** Available Device: _DeviceAttributes(/job:worker/replica:0/task:0/device:TPU:2, TPU, 0, 0)\n"
     ]
    },
    {
     "name": "stderr",
     "output_type": "stream",
     "text": [
      "INFO:tensorflow:*** Available Device: _DeviceAttributes(/job:worker/replica:0/task:0/device:TPU:2, TPU, 0, 0)\n"
     ]
    },
    {
     "name": "stdout",
     "output_type": "stream",
     "text": [
      "INFO:tensorflow:*** Available Device: _DeviceAttributes(/job:worker/replica:0/task:0/device:TPU:3, TPU, 0, 0)\n"
     ]
    },
    {
     "name": "stderr",
     "output_type": "stream",
     "text": [
      "INFO:tensorflow:*** Available Device: _DeviceAttributes(/job:worker/replica:0/task:0/device:TPU:3, TPU, 0, 0)\n"
     ]
    },
    {
     "name": "stdout",
     "output_type": "stream",
     "text": [
      "INFO:tensorflow:*** Available Device: _DeviceAttributes(/job:worker/replica:0/task:0/device:TPU:4, TPU, 0, 0)\n"
     ]
    },
    {
     "name": "stderr",
     "output_type": "stream",
     "text": [
      "INFO:tensorflow:*** Available Device: _DeviceAttributes(/job:worker/replica:0/task:0/device:TPU:4, TPU, 0, 0)\n"
     ]
    },
    {
     "name": "stdout",
     "output_type": "stream",
     "text": [
      "INFO:tensorflow:*** Available Device: _DeviceAttributes(/job:worker/replica:0/task:0/device:TPU:5, TPU, 0, 0)\n"
     ]
    },
    {
     "name": "stderr",
     "output_type": "stream",
     "text": [
      "INFO:tensorflow:*** Available Device: _DeviceAttributes(/job:worker/replica:0/task:0/device:TPU:5, TPU, 0, 0)\n"
     ]
    },
    {
     "name": "stdout",
     "output_type": "stream",
     "text": [
      "INFO:tensorflow:*** Available Device: _DeviceAttributes(/job:worker/replica:0/task:0/device:TPU:6, TPU, 0, 0)\n"
     ]
    },
    {
     "name": "stderr",
     "output_type": "stream",
     "text": [
      "INFO:tensorflow:*** Available Device: _DeviceAttributes(/job:worker/replica:0/task:0/device:TPU:6, TPU, 0, 0)\n"
     ]
    },
    {
     "name": "stdout",
     "output_type": "stream",
     "text": [
      "INFO:tensorflow:*** Available Device: _DeviceAttributes(/job:worker/replica:0/task:0/device:TPU:7, TPU, 0, 0)\n"
     ]
    },
    {
     "name": "stderr",
     "output_type": "stream",
     "text": [
      "INFO:tensorflow:*** Available Device: _DeviceAttributes(/job:worker/replica:0/task:0/device:TPU:7, TPU, 0, 0)\n"
     ]
    },
    {
     "name": "stdout",
     "output_type": "stream",
     "text": [
      "INFO:tensorflow:*** Available Device: _DeviceAttributes(/job:worker/replica:0/task:0/device:TPU_SYSTEM:0, TPU_SYSTEM, 0, 0)\n"
     ]
    },
    {
     "name": "stderr",
     "output_type": "stream",
     "text": [
      "INFO:tensorflow:*** Available Device: _DeviceAttributes(/job:worker/replica:0/task:0/device:TPU_SYSTEM:0, TPU_SYSTEM, 0, 0)\n"
     ]
    },
    {
     "name": "stdout",
     "output_type": "stream",
     "text": [
      "INFO:tensorflow:*** Available Device: _DeviceAttributes(/job:worker/replica:0/task:0/device:XLA_CPU:0, XLA_CPU, 0, 0)\n"
     ]
    },
    {
     "name": "stderr",
     "output_type": "stream",
     "text": [
      "INFO:tensorflow:*** Available Device: _DeviceAttributes(/job:worker/replica:0/task:0/device:XLA_CPU:0, XLA_CPU, 0, 0)\n",
      "All model checkpoint layers were used when initializing TFBertModel.\n",
      "\n",
      "All the layers of TFBertModel were initialized from the model checkpoint at cambridgeltl/BioRedditBERT-uncased.\n",
      "If your task is similar to the task the model of the checkpoint was trained on, you can already use TFBertModel for predictions without further training.\n",
      "INFO:absl:TPU has inputs with dynamic shapes: [<tf.Tensor 'Const:0' shape=() dtype=int32>, <tf.Tensor 'cond_8/Identity:0' shape=(None, 1000) dtype=int32>, <tf.Tensor 'cond_8/Identity_1:0' shape=(None, 1000) dtype=int32>, <tf.Tensor 'cond_8/Identity_2:0' shape=(None, 1000) dtype=int32>]\n",
      "[2021-10-06 03:46:25] - tf-roberta-base-2021_fold3 inference\n",
      "INFO:./:[2021-10-06 03:46:25] - tf-roberta-base-2021_fold3 inference\n"
     ]
    },
    {
     "name": "stdout",
     "output_type": "stream",
     "text": [
      "INFO:tensorflow:Clearing out eager caches\n"
     ]
    },
    {
     "name": "stderr",
     "output_type": "stream",
     "text": [
      "INFO:tensorflow:Clearing out eager caches\n"
     ]
    },
    {
     "name": "stdout",
     "output_type": "stream",
     "text": [
      "WARNING:tensorflow:TPU system grpc://10.73.204.242:8470 has already been initialized. Reinitializing the TPU can cause previously created variables on TPU to be lost.\n"
     ]
    },
    {
     "name": "stderr",
     "output_type": "stream",
     "text": [
      "WARNING:tensorflow:TPU system grpc://10.73.204.242:8470 has already been initialized. Reinitializing the TPU can cause previously created variables on TPU to be lost.\n"
     ]
    },
    {
     "name": "stdout",
     "output_type": "stream",
     "text": [
      "INFO:tensorflow:Initializing the TPU system: grpc://10.73.204.242:8470\n"
     ]
    },
    {
     "name": "stderr",
     "output_type": "stream",
     "text": [
      "INFO:tensorflow:Initializing the TPU system: grpc://10.73.204.242:8470\n"
     ]
    },
    {
     "name": "stdout",
     "output_type": "stream",
     "text": [
      "INFO:tensorflow:Finished initializing TPU system.\n"
     ]
    },
    {
     "name": "stderr",
     "output_type": "stream",
     "text": [
      "INFO:tensorflow:Finished initializing TPU system.\n",
      "WARNING:absl:`tf.distribute.experimental.TPUStrategy` is deprecated, please use  the non experimental symbol `tf.distribute.TPUStrategy` instead.\n"
     ]
    },
    {
     "name": "stdout",
     "output_type": "stream",
     "text": [
      "INFO:tensorflow:Found TPU system:\n"
     ]
    },
    {
     "name": "stderr",
     "output_type": "stream",
     "text": [
      "INFO:tensorflow:Found TPU system:\n"
     ]
    },
    {
     "name": "stdout",
     "output_type": "stream",
     "text": [
      "INFO:tensorflow:*** Num TPU Cores: 8\n"
     ]
    },
    {
     "name": "stderr",
     "output_type": "stream",
     "text": [
      "INFO:tensorflow:*** Num TPU Cores: 8\n"
     ]
    },
    {
     "name": "stdout",
     "output_type": "stream",
     "text": [
      "INFO:tensorflow:*** Num TPU Workers: 1\n"
     ]
    },
    {
     "name": "stderr",
     "output_type": "stream",
     "text": [
      "INFO:tensorflow:*** Num TPU Workers: 1\n"
     ]
    },
    {
     "name": "stdout",
     "output_type": "stream",
     "text": [
      "INFO:tensorflow:*** Num TPU Cores Per Worker: 8\n"
     ]
    },
    {
     "name": "stderr",
     "output_type": "stream",
     "text": [
      "INFO:tensorflow:*** Num TPU Cores Per Worker: 8\n"
     ]
    },
    {
     "name": "stdout",
     "output_type": "stream",
     "text": [
      "INFO:tensorflow:*** Available Device: _DeviceAttributes(/job:localhost/replica:0/task:0/device:CPU:0, CPU, 0, 0)\n"
     ]
    },
    {
     "name": "stderr",
     "output_type": "stream",
     "text": [
      "INFO:tensorflow:*** Available Device: _DeviceAttributes(/job:localhost/replica:0/task:0/device:CPU:0, CPU, 0, 0)\n"
     ]
    },
    {
     "name": "stdout",
     "output_type": "stream",
     "text": [
      "INFO:tensorflow:*** Available Device: _DeviceAttributes(/job:worker/replica:0/task:0/device:CPU:0, CPU, 0, 0)\n"
     ]
    },
    {
     "name": "stderr",
     "output_type": "stream",
     "text": [
      "INFO:tensorflow:*** Available Device: _DeviceAttributes(/job:worker/replica:0/task:0/device:CPU:0, CPU, 0, 0)\n"
     ]
    },
    {
     "name": "stdout",
     "output_type": "stream",
     "text": [
      "INFO:tensorflow:*** Available Device: _DeviceAttributes(/job:worker/replica:0/task:0/device:TPU:0, TPU, 0, 0)\n"
     ]
    },
    {
     "name": "stderr",
     "output_type": "stream",
     "text": [
      "INFO:tensorflow:*** Available Device: _DeviceAttributes(/job:worker/replica:0/task:0/device:TPU:0, TPU, 0, 0)\n"
     ]
    },
    {
     "name": "stdout",
     "output_type": "stream",
     "text": [
      "INFO:tensorflow:*** Available Device: _DeviceAttributes(/job:worker/replica:0/task:0/device:TPU:1, TPU, 0, 0)\n"
     ]
    },
    {
     "name": "stderr",
     "output_type": "stream",
     "text": [
      "INFO:tensorflow:*** Available Device: _DeviceAttributes(/job:worker/replica:0/task:0/device:TPU:1, TPU, 0, 0)\n"
     ]
    },
    {
     "name": "stdout",
     "output_type": "stream",
     "text": [
      "INFO:tensorflow:*** Available Device: _DeviceAttributes(/job:worker/replica:0/task:0/device:TPU:2, TPU, 0, 0)\n"
     ]
    },
    {
     "name": "stderr",
     "output_type": "stream",
     "text": [
      "INFO:tensorflow:*** Available Device: _DeviceAttributes(/job:worker/replica:0/task:0/device:TPU:2, TPU, 0, 0)\n"
     ]
    },
    {
     "name": "stdout",
     "output_type": "stream",
     "text": [
      "INFO:tensorflow:*** Available Device: _DeviceAttributes(/job:worker/replica:0/task:0/device:TPU:3, TPU, 0, 0)\n"
     ]
    },
    {
     "name": "stderr",
     "output_type": "stream",
     "text": [
      "INFO:tensorflow:*** Available Device: _DeviceAttributes(/job:worker/replica:0/task:0/device:TPU:3, TPU, 0, 0)\n"
     ]
    },
    {
     "name": "stdout",
     "output_type": "stream",
     "text": [
      "INFO:tensorflow:*** Available Device: _DeviceAttributes(/job:worker/replica:0/task:0/device:TPU:4, TPU, 0, 0)\n"
     ]
    },
    {
     "name": "stderr",
     "output_type": "stream",
     "text": [
      "INFO:tensorflow:*** Available Device: _DeviceAttributes(/job:worker/replica:0/task:0/device:TPU:4, TPU, 0, 0)\n"
     ]
    },
    {
     "name": "stdout",
     "output_type": "stream",
     "text": [
      "INFO:tensorflow:*** Available Device: _DeviceAttributes(/job:worker/replica:0/task:0/device:TPU:5, TPU, 0, 0)\n"
     ]
    },
    {
     "name": "stderr",
     "output_type": "stream",
     "text": [
      "INFO:tensorflow:*** Available Device: _DeviceAttributes(/job:worker/replica:0/task:0/device:TPU:5, TPU, 0, 0)\n"
     ]
    },
    {
     "name": "stdout",
     "output_type": "stream",
     "text": [
      "INFO:tensorflow:*** Available Device: _DeviceAttributes(/job:worker/replica:0/task:0/device:TPU:6, TPU, 0, 0)\n"
     ]
    },
    {
     "name": "stderr",
     "output_type": "stream",
     "text": [
      "INFO:tensorflow:*** Available Device: _DeviceAttributes(/job:worker/replica:0/task:0/device:TPU:6, TPU, 0, 0)\n"
     ]
    },
    {
     "name": "stdout",
     "output_type": "stream",
     "text": [
      "INFO:tensorflow:*** Available Device: _DeviceAttributes(/job:worker/replica:0/task:0/device:TPU:7, TPU, 0, 0)\n"
     ]
    },
    {
     "name": "stderr",
     "output_type": "stream",
     "text": [
      "INFO:tensorflow:*** Available Device: _DeviceAttributes(/job:worker/replica:0/task:0/device:TPU:7, TPU, 0, 0)\n"
     ]
    },
    {
     "name": "stdout",
     "output_type": "stream",
     "text": [
      "INFO:tensorflow:*** Available Device: _DeviceAttributes(/job:worker/replica:0/task:0/device:TPU_SYSTEM:0, TPU_SYSTEM, 0, 0)\n"
     ]
    },
    {
     "name": "stderr",
     "output_type": "stream",
     "text": [
      "INFO:tensorflow:*** Available Device: _DeviceAttributes(/job:worker/replica:0/task:0/device:TPU_SYSTEM:0, TPU_SYSTEM, 0, 0)\n"
     ]
    },
    {
     "name": "stdout",
     "output_type": "stream",
     "text": [
      "INFO:tensorflow:*** Available Device: _DeviceAttributes(/job:worker/replica:0/task:0/device:XLA_CPU:0, XLA_CPU, 0, 0)\n"
     ]
    },
    {
     "name": "stderr",
     "output_type": "stream",
     "text": [
      "INFO:tensorflow:*** Available Device: _DeviceAttributes(/job:worker/replica:0/task:0/device:XLA_CPU:0, XLA_CPU, 0, 0)\n",
      "All model checkpoint layers were used when initializing TFBertModel.\n",
      "\n",
      "All the layers of TFBertModel were initialized from the model checkpoint at cambridgeltl/BioRedditBERT-uncased.\n",
      "If your task is similar to the task the model of the checkpoint was trained on, you can already use TFBertModel for predictions without further training.\n",
      "INFO:absl:TPU has inputs with dynamic shapes: [<tf.Tensor 'Const:0' shape=() dtype=int32>, <tf.Tensor 'cond_8/Identity:0' shape=(None, 1000) dtype=int32>, <tf.Tensor 'cond_8/Identity_1:0' shape=(None, 1000) dtype=int32>, <tf.Tensor 'cond_8/Identity_2:0' shape=(None, 1000) dtype=int32>]\n",
      "[2021-10-06 03:53:08] - tf-roberta-base-2021_fold4 inference\n",
      "INFO:./:[2021-10-06 03:53:08] - tf-roberta-base-2021_fold4 inference\n"
     ]
    },
    {
     "name": "stdout",
     "output_type": "stream",
     "text": [
      "INFO:tensorflow:Clearing out eager caches\n"
     ]
    },
    {
     "name": "stderr",
     "output_type": "stream",
     "text": [
      "INFO:tensorflow:Clearing out eager caches\n"
     ]
    },
    {
     "name": "stdout",
     "output_type": "stream",
     "text": [
      "WARNING:tensorflow:TPU system grpc://10.73.204.242:8470 has already been initialized. Reinitializing the TPU can cause previously created variables on TPU to be lost.\n"
     ]
    },
    {
     "name": "stderr",
     "output_type": "stream",
     "text": [
      "WARNING:tensorflow:TPU system grpc://10.73.204.242:8470 has already been initialized. Reinitializing the TPU can cause previously created variables on TPU to be lost.\n"
     ]
    },
    {
     "name": "stdout",
     "output_type": "stream",
     "text": [
      "INFO:tensorflow:Initializing the TPU system: grpc://10.73.204.242:8470\n"
     ]
    },
    {
     "name": "stderr",
     "output_type": "stream",
     "text": [
      "INFO:tensorflow:Initializing the TPU system: grpc://10.73.204.242:8470\n"
     ]
    },
    {
     "name": "stdout",
     "output_type": "stream",
     "text": [
      "INFO:tensorflow:Finished initializing TPU system.\n"
     ]
    },
    {
     "name": "stderr",
     "output_type": "stream",
     "text": [
      "INFO:tensorflow:Finished initializing TPU system.\n",
      "WARNING:absl:`tf.distribute.experimental.TPUStrategy` is deprecated, please use  the non experimental symbol `tf.distribute.TPUStrategy` instead.\n"
     ]
    },
    {
     "name": "stdout",
     "output_type": "stream",
     "text": [
      "INFO:tensorflow:Found TPU system:\n"
     ]
    },
    {
     "name": "stderr",
     "output_type": "stream",
     "text": [
      "INFO:tensorflow:Found TPU system:\n"
     ]
    },
    {
     "name": "stdout",
     "output_type": "stream",
     "text": [
      "INFO:tensorflow:*** Num TPU Cores: 8\n"
     ]
    },
    {
     "name": "stderr",
     "output_type": "stream",
     "text": [
      "INFO:tensorflow:*** Num TPU Cores: 8\n"
     ]
    },
    {
     "name": "stdout",
     "output_type": "stream",
     "text": [
      "INFO:tensorflow:*** Num TPU Workers: 1\n"
     ]
    },
    {
     "name": "stderr",
     "output_type": "stream",
     "text": [
      "INFO:tensorflow:*** Num TPU Workers: 1\n"
     ]
    },
    {
     "name": "stdout",
     "output_type": "stream",
     "text": [
      "INFO:tensorflow:*** Num TPU Cores Per Worker: 8\n"
     ]
    },
    {
     "name": "stderr",
     "output_type": "stream",
     "text": [
      "INFO:tensorflow:*** Num TPU Cores Per Worker: 8\n"
     ]
    },
    {
     "name": "stdout",
     "output_type": "stream",
     "text": [
      "INFO:tensorflow:*** Available Device: _DeviceAttributes(/job:localhost/replica:0/task:0/device:CPU:0, CPU, 0, 0)\n"
     ]
    },
    {
     "name": "stderr",
     "output_type": "stream",
     "text": [
      "INFO:tensorflow:*** Available Device: _DeviceAttributes(/job:localhost/replica:0/task:0/device:CPU:0, CPU, 0, 0)\n"
     ]
    },
    {
     "name": "stdout",
     "output_type": "stream",
     "text": [
      "INFO:tensorflow:*** Available Device: _DeviceAttributes(/job:worker/replica:0/task:0/device:CPU:0, CPU, 0, 0)\n"
     ]
    },
    {
     "name": "stderr",
     "output_type": "stream",
     "text": [
      "INFO:tensorflow:*** Available Device: _DeviceAttributes(/job:worker/replica:0/task:0/device:CPU:0, CPU, 0, 0)\n"
     ]
    },
    {
     "name": "stdout",
     "output_type": "stream",
     "text": [
      "INFO:tensorflow:*** Available Device: _DeviceAttributes(/job:worker/replica:0/task:0/device:TPU:0, TPU, 0, 0)\n"
     ]
    },
    {
     "name": "stderr",
     "output_type": "stream",
     "text": [
      "INFO:tensorflow:*** Available Device: _DeviceAttributes(/job:worker/replica:0/task:0/device:TPU:0, TPU, 0, 0)\n"
     ]
    },
    {
     "name": "stdout",
     "output_type": "stream",
     "text": [
      "INFO:tensorflow:*** Available Device: _DeviceAttributes(/job:worker/replica:0/task:0/device:TPU:1, TPU, 0, 0)\n"
     ]
    },
    {
     "name": "stderr",
     "output_type": "stream",
     "text": [
      "INFO:tensorflow:*** Available Device: _DeviceAttributes(/job:worker/replica:0/task:0/device:TPU:1, TPU, 0, 0)\n"
     ]
    },
    {
     "name": "stdout",
     "output_type": "stream",
     "text": [
      "INFO:tensorflow:*** Available Device: _DeviceAttributes(/job:worker/replica:0/task:0/device:TPU:2, TPU, 0, 0)\n"
     ]
    },
    {
     "name": "stderr",
     "output_type": "stream",
     "text": [
      "INFO:tensorflow:*** Available Device: _DeviceAttributes(/job:worker/replica:0/task:0/device:TPU:2, TPU, 0, 0)\n"
     ]
    },
    {
     "name": "stdout",
     "output_type": "stream",
     "text": [
      "INFO:tensorflow:*** Available Device: _DeviceAttributes(/job:worker/replica:0/task:0/device:TPU:3, TPU, 0, 0)\n"
     ]
    },
    {
     "name": "stderr",
     "output_type": "stream",
     "text": [
      "INFO:tensorflow:*** Available Device: _DeviceAttributes(/job:worker/replica:0/task:0/device:TPU:3, TPU, 0, 0)\n"
     ]
    },
    {
     "name": "stdout",
     "output_type": "stream",
     "text": [
      "INFO:tensorflow:*** Available Device: _DeviceAttributes(/job:worker/replica:0/task:0/device:TPU:4, TPU, 0, 0)\n"
     ]
    },
    {
     "name": "stderr",
     "output_type": "stream",
     "text": [
      "INFO:tensorflow:*** Available Device: _DeviceAttributes(/job:worker/replica:0/task:0/device:TPU:4, TPU, 0, 0)\n"
     ]
    },
    {
     "name": "stdout",
     "output_type": "stream",
     "text": [
      "INFO:tensorflow:*** Available Device: _DeviceAttributes(/job:worker/replica:0/task:0/device:TPU:5, TPU, 0, 0)\n"
     ]
    },
    {
     "name": "stderr",
     "output_type": "stream",
     "text": [
      "INFO:tensorflow:*** Available Device: _DeviceAttributes(/job:worker/replica:0/task:0/device:TPU:5, TPU, 0, 0)\n"
     ]
    },
    {
     "name": "stdout",
     "output_type": "stream",
     "text": [
      "INFO:tensorflow:*** Available Device: _DeviceAttributes(/job:worker/replica:0/task:0/device:TPU:6, TPU, 0, 0)\n"
     ]
    },
    {
     "name": "stderr",
     "output_type": "stream",
     "text": [
      "INFO:tensorflow:*** Available Device: _DeviceAttributes(/job:worker/replica:0/task:0/device:TPU:6, TPU, 0, 0)\n"
     ]
    },
    {
     "name": "stdout",
     "output_type": "stream",
     "text": [
      "INFO:tensorflow:*** Available Device: _DeviceAttributes(/job:worker/replica:0/task:0/device:TPU:7, TPU, 0, 0)\n"
     ]
    },
    {
     "name": "stderr",
     "output_type": "stream",
     "text": [
      "INFO:tensorflow:*** Available Device: _DeviceAttributes(/job:worker/replica:0/task:0/device:TPU:7, TPU, 0, 0)\n"
     ]
    },
    {
     "name": "stdout",
     "output_type": "stream",
     "text": [
      "INFO:tensorflow:*** Available Device: _DeviceAttributes(/job:worker/replica:0/task:0/device:TPU_SYSTEM:0, TPU_SYSTEM, 0, 0)\n"
     ]
    },
    {
     "name": "stderr",
     "output_type": "stream",
     "text": [
      "INFO:tensorflow:*** Available Device: _DeviceAttributes(/job:worker/replica:0/task:0/device:TPU_SYSTEM:0, TPU_SYSTEM, 0, 0)\n"
     ]
    },
    {
     "name": "stdout",
     "output_type": "stream",
     "text": [
      "INFO:tensorflow:*** Available Device: _DeviceAttributes(/job:worker/replica:0/task:0/device:XLA_CPU:0, XLA_CPU, 0, 0)\n"
     ]
    },
    {
     "name": "stderr",
     "output_type": "stream",
     "text": [
      "INFO:tensorflow:*** Available Device: _DeviceAttributes(/job:worker/replica:0/task:0/device:XLA_CPU:0, XLA_CPU, 0, 0)\n",
      "All model checkpoint layers were used when initializing TFBertModel.\n",
      "\n",
      "All the layers of TFBertModel were initialized from the model checkpoint at cambridgeltl/BioRedditBERT-uncased.\n",
      "If your task is similar to the task the model of the checkpoint was trained on, you can already use TFBertModel for predictions without further training.\n",
      "INFO:absl:TPU has inputs with dynamic shapes: [<tf.Tensor 'Const:0' shape=() dtype=int32>, <tf.Tensor 'cond_8/Identity:0' shape=(None, 1000) dtype=int32>, <tf.Tensor 'cond_8/Identity_1:0' shape=(None, 1000) dtype=int32>, <tf.Tensor 'cond_8/Identity_2:0' shape=(None, 1000) dtype=int32>]\n",
      "[2021-10-06 04:00:07] - tf-roberta-base-2021_fold5 inference\n",
      "INFO:./:[2021-10-06 04:00:07] - tf-roberta-base-2021_fold5 inference\n"
     ]
    }
   ],
   "source": [
    "if __name__ == \"__main__\":\n",
    "    main()"
   ]
  },
  {
   "cell_type": "code",
   "execution_count": 13,
   "metadata": {
    "executionInfo": {
     "elapsed": 21639,
     "status": "ok",
     "timestamp": 1633493428975,
     "user": {
      "displayName": "山邉潤",
      "photoUrl": "https://lh3.googleusercontent.com/a/default-user=s64",
      "userId": "01598730496302142675"
     },
     "user_tz": -540
    },
    "id": "wjCMXswR3zen"
   },
   "outputs": [],
   "source": [
    "!cp ./sub_prob_007.csv \"/content/drive/MyDrive/Colab Notebooks/signate/medical_treatises/data/01/sub_prob_007.csv\"\n",
    "!cp ./sub_007.csv \"/content/drive/MyDrive/Colab Notebooks/signate/medical_treatises/data/01/sub_007.csv\"\n",
    "!cp ./pred_train_007.csv \"/content/drive/MyDrive/Colab Notebooks/signate/medical_treatises/data/01/pred_train_007.csv\"\n",
    "\n",
    "!cp ./tf-roberta-base-2021_fold1.h5 \"/content/drive/MyDrive/Colab Notebooks/signate/medical_treatises/data/01/007_fold0_best.h5\"\n",
    "!cp ./tf-roberta-base-2021_fold2.h5 \"/content/drive/MyDrive/Colab Notebooks/signate/medical_treatises/data/01/007_fold1_best.h5\"\n",
    "!cp ./tf-roberta-base-2021_fold3.h5 \"/content/drive/MyDrive/Colab Notebooks/signate/medical_treatises/data/01/007_fold2_best.h5\"\n",
    "!cp ./tf-roberta-base-2021_fold4.h5 \"/content/drive/MyDrive/Colab Notebooks/signate/medical_treatises/data/01/007_fold3_best.h5\"\n",
    "!cp ./tf-roberta-base-2021_fold5.h5 \"/content/drive/MyDrive/Colab Notebooks/signate/medical_treatises/data/01/007_fold4_best.h5\""
   ]
  }
 ],
 "metadata": {
  "accelerator": "TPU",
  "colab": {
   "authorship_tag": "ABX9TyPGOMwSFIxC1Eo7xk6NrnOj",
   "collapsed_sections": [],
   "mount_file_id": "1HabIHbwde0L7J0TFrt2WFdt6euj9PV6v",
   "name": "007_pred_e1.ipynb",
   "provenance": []
  },
  "kernelspec": {
   "display_name": "Python 3",
   "language": "python",
   "name": "python3"
  },
  "language_info": {
   "codemirror_mode": {
    "name": "ipython",
    "version": 3
   },
   "file_extension": ".py",
   "mimetype": "text/x-python",
   "name": "python",
   "nbconvert_exporter": "python",
   "pygments_lexer": "ipython3",
   "version": "3.8.5"
  },
  "widgets": {
   "application/vnd.jupyter.widget-state+json": {
    "0586acc475a54eb2963e04ffc4943140": {
     "model_module": "@jupyter-widgets/controls",
     "model_module_version": "1.5.0",
     "model_name": "DescriptionStyleModel",
     "state": {
      "_model_module": "@jupyter-widgets/controls",
      "_model_module_version": "1.5.0",
      "_model_name": "DescriptionStyleModel",
      "_view_count": null,
      "_view_module": "@jupyter-widgets/base",
      "_view_module_version": "1.2.0",
      "_view_name": "StyleView",
      "description_width": ""
     }
    },
    "0a88339730d14d4a9940d39e052a1ccb": {
     "model_module": "@jupyter-widgets/base",
     "model_module_version": "1.2.0",
     "model_name": "LayoutModel",
     "state": {
      "_model_module": "@jupyter-widgets/base",
      "_model_module_version": "1.2.0",
      "_model_name": "LayoutModel",
      "_view_count": null,
      "_view_module": "@jupyter-widgets/base",
      "_view_module_version": "1.2.0",
      "_view_name": "LayoutView",
      "align_content": null,
      "align_items": null,
      "align_self": null,
      "border": null,
      "bottom": null,
      "display": null,
      "flex": null,
      "flex_flow": null,
      "grid_area": null,
      "grid_auto_columns": null,
      "grid_auto_flow": null,
      "grid_auto_rows": null,
      "grid_column": null,
      "grid_gap": null,
      "grid_row": null,
      "grid_template_areas": null,
      "grid_template_columns": null,
      "grid_template_rows": null,
      "height": null,
      "justify_content": null,
      "justify_items": null,
      "left": null,
      "margin": null,
      "max_height": null,
      "max_width": null,
      "min_height": null,
      "min_width": null,
      "object_fit": null,
      "object_position": null,
      "order": null,
      "overflow": null,
      "overflow_x": null,
      "overflow_y": null,
      "padding": null,
      "right": null,
      "top": null,
      "visibility": null,
      "width": null
     }
    },
    "1391acaf7b6846b0ac8fb8a6cb966ac1": {
     "model_module": "@jupyter-widgets/controls",
     "model_module_version": "1.5.0",
     "model_name": "DescriptionStyleModel",
     "state": {
      "_model_module": "@jupyter-widgets/controls",
      "_model_module_version": "1.5.0",
      "_model_name": "DescriptionStyleModel",
      "_view_count": null,
      "_view_module": "@jupyter-widgets/base",
      "_view_module_version": "1.2.0",
      "_view_name": "StyleView",
      "description_width": ""
     }
    },
    "13d83b7e8c3f470d8f960fef45514796": {
     "model_module": "@jupyter-widgets/controls",
     "model_module_version": "1.5.0",
     "model_name": "HTMLModel",
     "state": {
      "_dom_classes": [],
      "_model_module": "@jupyter-widgets/controls",
      "_model_module_version": "1.5.0",
      "_model_name": "HTMLModel",
      "_view_count": null,
      "_view_module": "@jupyter-widgets/controls",
      "_view_module_version": "1.5.0",
      "_view_name": "HTMLView",
      "description": "",
      "description_tooltip": null,
      "layout": "IPY_MODEL_b06ed9e013e440a69051198108706eac",
      "placeholder": "​",
      "style": "IPY_MODEL_6d535e1dcb374ac38a8b3c0bdb6bece5",
      "value": "Downloading: 100%"
     }
    },
    "17ae383f90544c229ea05a3bd450556e": {
     "model_module": "@jupyter-widgets/controls",
     "model_module_version": "1.5.0",
     "model_name": "HTMLModel",
     "state": {
      "_dom_classes": [],
      "_model_module": "@jupyter-widgets/controls",
      "_model_module_version": "1.5.0",
      "_model_name": "HTMLModel",
      "_view_count": null,
      "_view_module": "@jupyter-widgets/controls",
      "_view_module_version": "1.5.0",
      "_view_name": "HTMLView",
      "description": "",
      "description_tooltip": null,
      "layout": "IPY_MODEL_e839fafc15a5431fb5c60ba09939396c",
      "placeholder": "​",
      "style": "IPY_MODEL_88cf8c5f693e424ea325f57bc2944447",
      "value": "Downloading: 100%"
     }
    },
    "19b825054b324f6a9df50684cd6ec905": {
     "model_module": "@jupyter-widgets/base",
     "model_module_version": "1.2.0",
     "model_name": "LayoutModel",
     "state": {
      "_model_module": "@jupyter-widgets/base",
      "_model_module_version": "1.2.0",
      "_model_name": "LayoutModel",
      "_view_count": null,
      "_view_module": "@jupyter-widgets/base",
      "_view_module_version": "1.2.0",
      "_view_name": "LayoutView",
      "align_content": null,
      "align_items": null,
      "align_self": null,
      "border": null,
      "bottom": null,
      "display": null,
      "flex": null,
      "flex_flow": null,
      "grid_area": null,
      "grid_auto_columns": null,
      "grid_auto_flow": null,
      "grid_auto_rows": null,
      "grid_column": null,
      "grid_gap": null,
      "grid_row": null,
      "grid_template_areas": null,
      "grid_template_columns": null,
      "grid_template_rows": null,
      "height": null,
      "justify_content": null,
      "justify_items": null,
      "left": null,
      "margin": null,
      "max_height": null,
      "max_width": null,
      "min_height": null,
      "min_width": null,
      "object_fit": null,
      "object_position": null,
      "order": null,
      "overflow": null,
      "overflow_x": null,
      "overflow_y": null,
      "padding": null,
      "right": null,
      "top": null,
      "visibility": null,
      "width": null
     }
    },
    "1aa213f48a2a4aa38730424602aa0c55": {
     "model_module": "@jupyter-widgets/controls",
     "model_module_version": "1.5.0",
     "model_name": "ProgressStyleModel",
     "state": {
      "_model_module": "@jupyter-widgets/controls",
      "_model_module_version": "1.5.0",
      "_model_name": "ProgressStyleModel",
      "_view_count": null,
      "_view_module": "@jupyter-widgets/base",
      "_view_module_version": "1.2.0",
      "_view_name": "StyleView",
      "bar_color": null,
      "description_width": ""
     }
    },
    "2056f7c3b29d4549b6f04021164612c8": {
     "model_module": "@jupyter-widgets/base",
     "model_module_version": "1.2.0",
     "model_name": "LayoutModel",
     "state": {
      "_model_module": "@jupyter-widgets/base",
      "_model_module_version": "1.2.0",
      "_model_name": "LayoutModel",
      "_view_count": null,
      "_view_module": "@jupyter-widgets/base",
      "_view_module_version": "1.2.0",
      "_view_name": "LayoutView",
      "align_content": null,
      "align_items": null,
      "align_self": null,
      "border": null,
      "bottom": null,
      "display": null,
      "flex": null,
      "flex_flow": null,
      "grid_area": null,
      "grid_auto_columns": null,
      "grid_auto_flow": null,
      "grid_auto_rows": null,
      "grid_column": null,
      "grid_gap": null,
      "grid_row": null,
      "grid_template_areas": null,
      "grid_template_columns": null,
      "grid_template_rows": null,
      "height": null,
      "justify_content": null,
      "justify_items": null,
      "left": null,
      "margin": null,
      "max_height": null,
      "max_width": null,
      "min_height": null,
      "min_width": null,
      "object_fit": null,
      "object_position": null,
      "order": null,
      "overflow": null,
      "overflow_x": null,
      "overflow_y": null,
      "padding": null,
      "right": null,
      "top": null,
      "visibility": null,
      "width": null
     }
    },
    "283ca9d16f9b495b87f6690e62357f53": {
     "model_module": "@jupyter-widgets/controls",
     "model_module_version": "1.5.0",
     "model_name": "HTMLModel",
     "state": {
      "_dom_classes": [],
      "_model_module": "@jupyter-widgets/controls",
      "_model_module_version": "1.5.0",
      "_model_name": "HTMLModel",
      "_view_count": null,
      "_view_module": "@jupyter-widgets/controls",
      "_view_module_version": "1.5.0",
      "_view_name": "HTMLView",
      "description": "",
      "description_tooltip": null,
      "layout": "IPY_MODEL_bb3b1e85976f44e3a482439597416b42",
      "placeholder": "​",
      "style": "IPY_MODEL_a9454c179c9a4e27a6e93b5a4e60c580",
      "value": " 112/112 [00:00&lt;00:00, 2.21kB/s]"
     }
    },
    "3815f3bafb6e4a57aacda7bb6c4ab711": {
     "model_module": "@jupyter-widgets/controls",
     "model_module_version": "1.5.0",
     "model_name": "FloatProgressModel",
     "state": {
      "_dom_classes": [],
      "_model_module": "@jupyter-widgets/controls",
      "_model_module_version": "1.5.0",
      "_model_name": "FloatProgressModel",
      "_view_count": null,
      "_view_module": "@jupyter-widgets/controls",
      "_view_module_version": "1.5.0",
      "_view_name": "ProgressView",
      "bar_style": "success",
      "description": "",
      "description_tooltip": null,
      "layout": "IPY_MODEL_98975ce7ee9b4cab99cf97a91e16eaf4",
      "max": 462,
      "min": 0,
      "orientation": "horizontal",
      "style": "IPY_MODEL_fffa2d487a9d4f8a9715d35c16e5148d",
      "value": 462
     }
    },
    "4003c8efb1d04767864dd815f09bf556": {
     "model_module": "@jupyter-widgets/controls",
     "model_module_version": "1.5.0",
     "model_name": "ProgressStyleModel",
     "state": {
      "_model_module": "@jupyter-widgets/controls",
      "_model_module_version": "1.5.0",
      "_model_name": "ProgressStyleModel",
      "_view_count": null,
      "_view_module": "@jupyter-widgets/base",
      "_view_module_version": "1.2.0",
      "_view_name": "StyleView",
      "bar_color": null,
      "description_width": ""
     }
    },
    "44fa1437c4b54ac2be701fed9d1e05bc": {
     "model_module": "@jupyter-widgets/controls",
     "model_module_version": "1.5.0",
     "model_name": "HTMLModel",
     "state": {
      "_dom_classes": [],
      "_model_module": "@jupyter-widgets/controls",
      "_model_module_version": "1.5.0",
      "_model_name": "HTMLModel",
      "_view_count": null,
      "_view_module": "@jupyter-widgets/controls",
      "_view_module_version": "1.5.0",
      "_view_name": "HTMLView",
      "description": "",
      "description_tooltip": null,
      "layout": "IPY_MODEL_b60b94de982848bdb5a6204ef298d0aa",
      "placeholder": "​",
      "style": "IPY_MODEL_ea9c92a582d649b692f3941f76969877",
      "value": " 208k/208k [00:00&lt;00:00, 670kB/s]"
     }
    },
    "4768b9b0483a4ccd8e9c1900884c378d": {
     "model_module": "@jupyter-widgets/base",
     "model_module_version": "1.2.0",
     "model_name": "LayoutModel",
     "state": {
      "_model_module": "@jupyter-widgets/base",
      "_model_module_version": "1.2.0",
      "_model_name": "LayoutModel",
      "_view_count": null,
      "_view_module": "@jupyter-widgets/base",
      "_view_module_version": "1.2.0",
      "_view_name": "LayoutView",
      "align_content": null,
      "align_items": null,
      "align_self": null,
      "border": null,
      "bottom": null,
      "display": null,
      "flex": null,
      "flex_flow": null,
      "grid_area": null,
      "grid_auto_columns": null,
      "grid_auto_flow": null,
      "grid_auto_rows": null,
      "grid_column": null,
      "grid_gap": null,
      "grid_row": null,
      "grid_template_areas": null,
      "grid_template_columns": null,
      "grid_template_rows": null,
      "height": null,
      "justify_content": null,
      "justify_items": null,
      "left": null,
      "margin": null,
      "max_height": null,
      "max_width": null,
      "min_height": null,
      "min_width": null,
      "object_fit": null,
      "object_position": null,
      "order": null,
      "overflow": null,
      "overflow_x": null,
      "overflow_y": null,
      "padding": null,
      "right": null,
      "top": null,
      "visibility": null,
      "width": null
     }
    },
    "4cadf9884a9c4c3b91073b832b523dd5": {
     "model_module": "@jupyter-widgets/base",
     "model_module_version": "1.2.0",
     "model_name": "LayoutModel",
     "state": {
      "_model_module": "@jupyter-widgets/base",
      "_model_module_version": "1.2.0",
      "_model_name": "LayoutModel",
      "_view_count": null,
      "_view_module": "@jupyter-widgets/base",
      "_view_module_version": "1.2.0",
      "_view_name": "LayoutView",
      "align_content": null,
      "align_items": null,
      "align_self": null,
      "border": null,
      "bottom": null,
      "display": null,
      "flex": null,
      "flex_flow": null,
      "grid_area": null,
      "grid_auto_columns": null,
      "grid_auto_flow": null,
      "grid_auto_rows": null,
      "grid_column": null,
      "grid_gap": null,
      "grid_row": null,
      "grid_template_areas": null,
      "grid_template_columns": null,
      "grid_template_rows": null,
      "height": null,
      "justify_content": null,
      "justify_items": null,
      "left": null,
      "margin": null,
      "max_height": null,
      "max_width": null,
      "min_height": null,
      "min_width": null,
      "object_fit": null,
      "object_position": null,
      "order": null,
      "overflow": null,
      "overflow_x": null,
      "overflow_y": null,
      "padding": null,
      "right": null,
      "top": null,
      "visibility": null,
      "width": null
     }
    },
    "5904863b5d7342f3be287952926a2bbf": {
     "model_module": "@jupyter-widgets/controls",
     "model_module_version": "1.5.0",
     "model_name": "HBoxModel",
     "state": {
      "_dom_classes": [],
      "_model_module": "@jupyter-widgets/controls",
      "_model_module_version": "1.5.0",
      "_model_name": "HBoxModel",
      "_view_count": null,
      "_view_module": "@jupyter-widgets/controls",
      "_view_module_version": "1.5.0",
      "_view_name": "HBoxView",
      "box_style": "",
      "children": [
       "IPY_MODEL_17ae383f90544c229ea05a3bd450556e",
       "IPY_MODEL_d4e98f123f2142a0a6dc655a280f2ebd",
       "IPY_MODEL_283ca9d16f9b495b87f6690e62357f53"
      ],
      "layout": "IPY_MODEL_77342c4326414bb6bd03472facf4ec56"
     }
    },
    "5adb5c1564e04ab59effd793ebe2e624": {
     "model_module": "@jupyter-widgets/controls",
     "model_module_version": "1.5.0",
     "model_name": "HBoxModel",
     "state": {
      "_dom_classes": [],
      "_model_module": "@jupyter-widgets/controls",
      "_model_module_version": "1.5.0",
      "_model_name": "HBoxModel",
      "_view_count": null,
      "_view_module": "@jupyter-widgets/controls",
      "_view_module_version": "1.5.0",
      "_view_name": "HBoxView",
      "box_style": "",
      "children": [
       "IPY_MODEL_609b4e6e5b994c6fb5f7e02e51d4369c",
       "IPY_MODEL_ce81aa608fb44cbca93969964460badb",
       "IPY_MODEL_44fa1437c4b54ac2be701fed9d1e05bc"
      ],
      "layout": "IPY_MODEL_19b825054b324f6a9df50684cd6ec905"
     }
    },
    "609b4e6e5b994c6fb5f7e02e51d4369c": {
     "model_module": "@jupyter-widgets/controls",
     "model_module_version": "1.5.0",
     "model_name": "HTMLModel",
     "state": {
      "_dom_classes": [],
      "_model_module": "@jupyter-widgets/controls",
      "_model_module_version": "1.5.0",
      "_model_name": "HTMLModel",
      "_view_count": null,
      "_view_module": "@jupyter-widgets/controls",
      "_view_module_version": "1.5.0",
      "_view_name": "HTMLView",
      "description": "",
      "description_tooltip": null,
      "layout": "IPY_MODEL_4768b9b0483a4ccd8e9c1900884c378d",
      "placeholder": "​",
      "style": "IPY_MODEL_0586acc475a54eb2963e04ffc4943140",
      "value": "Downloading: 100%"
     }
    },
    "656a7a209b8244f98780b57302eb5662": {
     "model_module": "@jupyter-widgets/controls",
     "model_module_version": "1.5.0",
     "model_name": "DescriptionStyleModel",
     "state": {
      "_model_module": "@jupyter-widgets/controls",
      "_model_module_version": "1.5.0",
      "_model_name": "DescriptionStyleModel",
      "_view_count": null,
      "_view_module": "@jupyter-widgets/base",
      "_view_module_version": "1.2.0",
      "_view_name": "StyleView",
      "description_width": ""
     }
    },
    "6d535e1dcb374ac38a8b3c0bdb6bece5": {
     "model_module": "@jupyter-widgets/controls",
     "model_module_version": "1.5.0",
     "model_name": "DescriptionStyleModel",
     "state": {
      "_model_module": "@jupyter-widgets/controls",
      "_model_module_version": "1.5.0",
      "_model_name": "DescriptionStyleModel",
      "_view_count": null,
      "_view_module": "@jupyter-widgets/base",
      "_view_module_version": "1.2.0",
      "_view_name": "StyleView",
      "description_width": ""
     }
    },
    "6f6fae8a2751457a8e2e771b73224632": {
     "model_module": "@jupyter-widgets/controls",
     "model_module_version": "1.5.0",
     "model_name": "HTMLModel",
     "state": {
      "_dom_classes": [],
      "_model_module": "@jupyter-widgets/controls",
      "_model_module_version": "1.5.0",
      "_model_name": "HTMLModel",
      "_view_count": null,
      "_view_module": "@jupyter-widgets/controls",
      "_view_module_version": "1.5.0",
      "_view_name": "HTMLView",
      "description": "",
      "description_tooltip": null,
      "layout": "IPY_MODEL_0a88339730d14d4a9940d39e052a1ccb",
      "placeholder": "​",
      "style": "IPY_MODEL_656a7a209b8244f98780b57302eb5662",
      "value": "Downloading: 100%"
     }
    },
    "70339c403f634387bb873e28b60a2610": {
     "model_module": "@jupyter-widgets/controls",
     "model_module_version": "1.5.0",
     "model_name": "HTMLModel",
     "state": {
      "_dom_classes": [],
      "_model_module": "@jupyter-widgets/controls",
      "_model_module_version": "1.5.0",
      "_model_name": "HTMLModel",
      "_view_count": null,
      "_view_module": "@jupyter-widgets/controls",
      "_view_module_version": "1.5.0",
      "_view_name": "HTMLView",
      "description": "",
      "description_tooltip": null,
      "layout": "IPY_MODEL_b0c46a74219247b1b731cabd43d9fbf0",
      "placeholder": "​",
      "style": "IPY_MODEL_a32df042b9b447c8ba1008554dd2a44e",
      "value": "Downloading: 100%"
     }
    },
    "74cfdd009f4e4ed99cc00306268b47d4": {
     "model_module": "@jupyter-widgets/controls",
     "model_module_version": "1.5.0",
     "model_name": "ProgressStyleModel",
     "state": {
      "_model_module": "@jupyter-widgets/controls",
      "_model_module_version": "1.5.0",
      "_model_name": "ProgressStyleModel",
      "_view_count": null,
      "_view_module": "@jupyter-widgets/base",
      "_view_module_version": "1.2.0",
      "_view_name": "StyleView",
      "bar_color": null,
      "description_width": ""
     }
    },
    "77342c4326414bb6bd03472facf4ec56": {
     "model_module": "@jupyter-widgets/base",
     "model_module_version": "1.2.0",
     "model_name": "LayoutModel",
     "state": {
      "_model_module": "@jupyter-widgets/base",
      "_model_module_version": "1.2.0",
      "_model_name": "LayoutModel",
      "_view_count": null,
      "_view_module": "@jupyter-widgets/base",
      "_view_module_version": "1.2.0",
      "_view_name": "LayoutView",
      "align_content": null,
      "align_items": null,
      "align_self": null,
      "border": null,
      "bottom": null,
      "display": null,
      "flex": null,
      "flex_flow": null,
      "grid_area": null,
      "grid_auto_columns": null,
      "grid_auto_flow": null,
      "grid_auto_rows": null,
      "grid_column": null,
      "grid_gap": null,
      "grid_row": null,
      "grid_template_areas": null,
      "grid_template_columns": null,
      "grid_template_rows": null,
      "height": null,
      "justify_content": null,
      "justify_items": null,
      "left": null,
      "margin": null,
      "max_height": null,
      "max_width": null,
      "min_height": null,
      "min_width": null,
      "object_fit": null,
      "object_position": null,
      "order": null,
      "overflow": null,
      "overflow_x": null,
      "overflow_y": null,
      "padding": null,
      "right": null,
      "top": null,
      "visibility": null,
      "width": null
     }
    },
    "80a9206dc57a4f9183edadff2518c29f": {
     "model_module": "@jupyter-widgets/controls",
     "model_module_version": "1.5.0",
     "model_name": "DescriptionStyleModel",
     "state": {
      "_model_module": "@jupyter-widgets/controls",
      "_model_module_version": "1.5.0",
      "_model_name": "DescriptionStyleModel",
      "_view_count": null,
      "_view_module": "@jupyter-widgets/base",
      "_view_module_version": "1.2.0",
      "_view_name": "StyleView",
      "description_width": ""
     }
    },
    "879673adec1c433da6e87145d242a994": {
     "model_module": "@jupyter-widgets/controls",
     "model_module_version": "1.5.0",
     "model_name": "ProgressStyleModel",
     "state": {
      "_model_module": "@jupyter-widgets/controls",
      "_model_module_version": "1.5.0",
      "_model_name": "ProgressStyleModel",
      "_view_count": null,
      "_view_module": "@jupyter-widgets/base",
      "_view_module_version": "1.2.0",
      "_view_name": "StyleView",
      "bar_color": null,
      "description_width": ""
     }
    },
    "88cf8c5f693e424ea325f57bc2944447": {
     "model_module": "@jupyter-widgets/controls",
     "model_module_version": "1.5.0",
     "model_name": "DescriptionStyleModel",
     "state": {
      "_model_module": "@jupyter-widgets/controls",
      "_model_module_version": "1.5.0",
      "_model_name": "DescriptionStyleModel",
      "_view_count": null,
      "_view_module": "@jupyter-widgets/base",
      "_view_module_version": "1.2.0",
      "_view_name": "StyleView",
      "description_width": ""
     }
    },
    "98975ce7ee9b4cab99cf97a91e16eaf4": {
     "model_module": "@jupyter-widgets/base",
     "model_module_version": "1.2.0",
     "model_name": "LayoutModel",
     "state": {
      "_model_module": "@jupyter-widgets/base",
      "_model_module_version": "1.2.0",
      "_model_name": "LayoutModel",
      "_view_count": null,
      "_view_module": "@jupyter-widgets/base",
      "_view_module_version": "1.2.0",
      "_view_name": "LayoutView",
      "align_content": null,
      "align_items": null,
      "align_self": null,
      "border": null,
      "bottom": null,
      "display": null,
      "flex": null,
      "flex_flow": null,
      "grid_area": null,
      "grid_auto_columns": null,
      "grid_auto_flow": null,
      "grid_auto_rows": null,
      "grid_column": null,
      "grid_gap": null,
      "grid_row": null,
      "grid_template_areas": null,
      "grid_template_columns": null,
      "grid_template_rows": null,
      "height": null,
      "justify_content": null,
      "justify_items": null,
      "left": null,
      "margin": null,
      "max_height": null,
      "max_width": null,
      "min_height": null,
      "min_width": null,
      "object_fit": null,
      "object_position": null,
      "order": null,
      "overflow": null,
      "overflow_x": null,
      "overflow_y": null,
      "padding": null,
      "right": null,
      "top": null,
      "visibility": null,
      "width": null
     }
    },
    "9ec533852c8849468e97e56dfb9e9e1a": {
     "model_module": "@jupyter-widgets/controls",
     "model_module_version": "1.5.0",
     "model_name": "HBoxModel",
     "state": {
      "_dom_classes": [],
      "_model_module": "@jupyter-widgets/controls",
      "_model_module_version": "1.5.0",
      "_model_name": "HBoxModel",
      "_view_count": null,
      "_view_module": "@jupyter-widgets/controls",
      "_view_module_version": "1.5.0",
      "_view_name": "HBoxView",
      "box_style": "",
      "children": [
       "IPY_MODEL_6f6fae8a2751457a8e2e771b73224632",
       "IPY_MODEL_ebaff8021cd8432589eceac6484698a0",
       "IPY_MODEL_e16d05882edc4da8b0d85153d02252d1"
      ],
      "layout": "IPY_MODEL_d6c9d1a44312453bbbb0951815376c93"
     }
    },
    "9fb766fb7c4e4677bd0cc1b561e1a355": {
     "model_module": "@jupyter-widgets/controls",
     "model_module_version": "1.5.0",
     "model_name": "DescriptionStyleModel",
     "state": {
      "_model_module": "@jupyter-widgets/controls",
      "_model_module_version": "1.5.0",
      "_model_name": "DescriptionStyleModel",
      "_view_count": null,
      "_view_module": "@jupyter-widgets/base",
      "_view_module_version": "1.2.0",
      "_view_name": "StyleView",
      "description_width": ""
     }
    },
    "a32df042b9b447c8ba1008554dd2a44e": {
     "model_module": "@jupyter-widgets/controls",
     "model_module_version": "1.5.0",
     "model_name": "DescriptionStyleModel",
     "state": {
      "_model_module": "@jupyter-widgets/controls",
      "_model_module_version": "1.5.0",
      "_model_name": "DescriptionStyleModel",
      "_view_count": null,
      "_view_module": "@jupyter-widgets/base",
      "_view_module_version": "1.2.0",
      "_view_name": "StyleView",
      "description_width": ""
     }
    },
    "a4f789cc22c94212b109fe920df3d7ed": {
     "model_module": "@jupyter-widgets/base",
     "model_module_version": "1.2.0",
     "model_name": "LayoutModel",
     "state": {
      "_model_module": "@jupyter-widgets/base",
      "_model_module_version": "1.2.0",
      "_model_name": "LayoutModel",
      "_view_count": null,
      "_view_module": "@jupyter-widgets/base",
      "_view_module_version": "1.2.0",
      "_view_name": "LayoutView",
      "align_content": null,
      "align_items": null,
      "align_self": null,
      "border": null,
      "bottom": null,
      "display": null,
      "flex": null,
      "flex_flow": null,
      "grid_area": null,
      "grid_auto_columns": null,
      "grid_auto_flow": null,
      "grid_auto_rows": null,
      "grid_column": null,
      "grid_gap": null,
      "grid_row": null,
      "grid_template_areas": null,
      "grid_template_columns": null,
      "grid_template_rows": null,
      "height": null,
      "justify_content": null,
      "justify_items": null,
      "left": null,
      "margin": null,
      "max_height": null,
      "max_width": null,
      "min_height": null,
      "min_width": null,
      "object_fit": null,
      "object_position": null,
      "order": null,
      "overflow": null,
      "overflow_x": null,
      "overflow_y": null,
      "padding": null,
      "right": null,
      "top": null,
      "visibility": null,
      "width": null
     }
    },
    "a6e9ca6879a043d6925afe19f3cb1698": {
     "model_module": "@jupyter-widgets/base",
     "model_module_version": "1.2.0",
     "model_name": "LayoutModel",
     "state": {
      "_model_module": "@jupyter-widgets/base",
      "_model_module_version": "1.2.0",
      "_model_name": "LayoutModel",
      "_view_count": null,
      "_view_module": "@jupyter-widgets/base",
      "_view_module_version": "1.2.0",
      "_view_name": "LayoutView",
      "align_content": null,
      "align_items": null,
      "align_self": null,
      "border": null,
      "bottom": null,
      "display": null,
      "flex": null,
      "flex_flow": null,
      "grid_area": null,
      "grid_auto_columns": null,
      "grid_auto_flow": null,
      "grid_auto_rows": null,
      "grid_column": null,
      "grid_gap": null,
      "grid_row": null,
      "grid_template_areas": null,
      "grid_template_columns": null,
      "grid_template_rows": null,
      "height": null,
      "justify_content": null,
      "justify_items": null,
      "left": null,
      "margin": null,
      "max_height": null,
      "max_width": null,
      "min_height": null,
      "min_width": null,
      "object_fit": null,
      "object_position": null,
      "order": null,
      "overflow": null,
      "overflow_x": null,
      "overflow_y": null,
      "padding": null,
      "right": null,
      "top": null,
      "visibility": null,
      "width": null
     }
    },
    "a9454c179c9a4e27a6e93b5a4e60c580": {
     "model_module": "@jupyter-widgets/controls",
     "model_module_version": "1.5.0",
     "model_name": "DescriptionStyleModel",
     "state": {
      "_model_module": "@jupyter-widgets/controls",
      "_model_module_version": "1.5.0",
      "_model_name": "DescriptionStyleModel",
      "_view_count": null,
      "_view_module": "@jupyter-widgets/base",
      "_view_module_version": "1.2.0",
      "_view_name": "StyleView",
      "description_width": ""
     }
    },
    "aa1816ee9fbf4e0188c030fd401abc63": {
     "model_module": "@jupyter-widgets/base",
     "model_module_version": "1.2.0",
     "model_name": "LayoutModel",
     "state": {
      "_model_module": "@jupyter-widgets/base",
      "_model_module_version": "1.2.0",
      "_model_name": "LayoutModel",
      "_view_count": null,
      "_view_module": "@jupyter-widgets/base",
      "_view_module_version": "1.2.0",
      "_view_name": "LayoutView",
      "align_content": null,
      "align_items": null,
      "align_self": null,
      "border": null,
      "bottom": null,
      "display": null,
      "flex": null,
      "flex_flow": null,
      "grid_area": null,
      "grid_auto_columns": null,
      "grid_auto_flow": null,
      "grid_auto_rows": null,
      "grid_column": null,
      "grid_gap": null,
      "grid_row": null,
      "grid_template_areas": null,
      "grid_template_columns": null,
      "grid_template_rows": null,
      "height": null,
      "justify_content": null,
      "justify_items": null,
      "left": null,
      "margin": null,
      "max_height": null,
      "max_width": null,
      "min_height": null,
      "min_width": null,
      "object_fit": null,
      "object_position": null,
      "order": null,
      "overflow": null,
      "overflow_x": null,
      "overflow_y": null,
      "padding": null,
      "right": null,
      "top": null,
      "visibility": null,
      "width": null
     }
    },
    "b06ed9e013e440a69051198108706eac": {
     "model_module": "@jupyter-widgets/base",
     "model_module_version": "1.2.0",
     "model_name": "LayoutModel",
     "state": {
      "_model_module": "@jupyter-widgets/base",
      "_model_module_version": "1.2.0",
      "_model_name": "LayoutModel",
      "_view_count": null,
      "_view_module": "@jupyter-widgets/base",
      "_view_module_version": "1.2.0",
      "_view_name": "LayoutView",
      "align_content": null,
      "align_items": null,
      "align_self": null,
      "border": null,
      "bottom": null,
      "display": null,
      "flex": null,
      "flex_flow": null,
      "grid_area": null,
      "grid_auto_columns": null,
      "grid_auto_flow": null,
      "grid_auto_rows": null,
      "grid_column": null,
      "grid_gap": null,
      "grid_row": null,
      "grid_template_areas": null,
      "grid_template_columns": null,
      "grid_template_rows": null,
      "height": null,
      "justify_content": null,
      "justify_items": null,
      "left": null,
      "margin": null,
      "max_height": null,
      "max_width": null,
      "min_height": null,
      "min_width": null,
      "object_fit": null,
      "object_position": null,
      "order": null,
      "overflow": null,
      "overflow_x": null,
      "overflow_y": null,
      "padding": null,
      "right": null,
      "top": null,
      "visibility": null,
      "width": null
     }
    },
    "b0c46a74219247b1b731cabd43d9fbf0": {
     "model_module": "@jupyter-widgets/base",
     "model_module_version": "1.2.0",
     "model_name": "LayoutModel",
     "state": {
      "_model_module": "@jupyter-widgets/base",
      "_model_module_version": "1.2.0",
      "_model_name": "LayoutModel",
      "_view_count": null,
      "_view_module": "@jupyter-widgets/base",
      "_view_module_version": "1.2.0",
      "_view_name": "LayoutView",
      "align_content": null,
      "align_items": null,
      "align_self": null,
      "border": null,
      "bottom": null,
      "display": null,
      "flex": null,
      "flex_flow": null,
      "grid_area": null,
      "grid_auto_columns": null,
      "grid_auto_flow": null,
      "grid_auto_rows": null,
      "grid_column": null,
      "grid_gap": null,
      "grid_row": null,
      "grid_template_areas": null,
      "grid_template_columns": null,
      "grid_template_rows": null,
      "height": null,
      "justify_content": null,
      "justify_items": null,
      "left": null,
      "margin": null,
      "max_height": null,
      "max_width": null,
      "min_height": null,
      "min_width": null,
      "object_fit": null,
      "object_position": null,
      "order": null,
      "overflow": null,
      "overflow_x": null,
      "overflow_y": null,
      "padding": null,
      "right": null,
      "top": null,
      "visibility": null,
      "width": null
     }
    },
    "b16e096d50a64ceab9a8ea5f6f4fc7d9": {
     "model_module": "@jupyter-widgets/base",
     "model_module_version": "1.2.0",
     "model_name": "LayoutModel",
     "state": {
      "_model_module": "@jupyter-widgets/base",
      "_model_module_version": "1.2.0",
      "_model_name": "LayoutModel",
      "_view_count": null,
      "_view_module": "@jupyter-widgets/base",
      "_view_module_version": "1.2.0",
      "_view_name": "LayoutView",
      "align_content": null,
      "align_items": null,
      "align_self": null,
      "border": null,
      "bottom": null,
      "display": null,
      "flex": null,
      "flex_flow": null,
      "grid_area": null,
      "grid_auto_columns": null,
      "grid_auto_flow": null,
      "grid_auto_rows": null,
      "grid_column": null,
      "grid_gap": null,
      "grid_row": null,
      "grid_template_areas": null,
      "grid_template_columns": null,
      "grid_template_rows": null,
      "height": null,
      "justify_content": null,
      "justify_items": null,
      "left": null,
      "margin": null,
      "max_height": null,
      "max_width": null,
      "min_height": null,
      "min_width": null,
      "object_fit": null,
      "object_position": null,
      "order": null,
      "overflow": null,
      "overflow_x": null,
      "overflow_y": null,
      "padding": null,
      "right": null,
      "top": null,
      "visibility": null,
      "width": null
     }
    },
    "b60b94de982848bdb5a6204ef298d0aa": {
     "model_module": "@jupyter-widgets/base",
     "model_module_version": "1.2.0",
     "model_name": "LayoutModel",
     "state": {
      "_model_module": "@jupyter-widgets/base",
      "_model_module_version": "1.2.0",
      "_model_name": "LayoutModel",
      "_view_count": null,
      "_view_module": "@jupyter-widgets/base",
      "_view_module_version": "1.2.0",
      "_view_name": "LayoutView",
      "align_content": null,
      "align_items": null,
      "align_self": null,
      "border": null,
      "bottom": null,
      "display": null,
      "flex": null,
      "flex_flow": null,
      "grid_area": null,
      "grid_auto_columns": null,
      "grid_auto_flow": null,
      "grid_auto_rows": null,
      "grid_column": null,
      "grid_gap": null,
      "grid_row": null,
      "grid_template_areas": null,
      "grid_template_columns": null,
      "grid_template_rows": null,
      "height": null,
      "justify_content": null,
      "justify_items": null,
      "left": null,
      "margin": null,
      "max_height": null,
      "max_width": null,
      "min_height": null,
      "min_width": null,
      "object_fit": null,
      "object_position": null,
      "order": null,
      "overflow": null,
      "overflow_x": null,
      "overflow_y": null,
      "padding": null,
      "right": null,
      "top": null,
      "visibility": null,
      "width": null
     }
    },
    "bb3b1e85976f44e3a482439597416b42": {
     "model_module": "@jupyter-widgets/base",
     "model_module_version": "1.2.0",
     "model_name": "LayoutModel",
     "state": {
      "_model_module": "@jupyter-widgets/base",
      "_model_module_version": "1.2.0",
      "_model_name": "LayoutModel",
      "_view_count": null,
      "_view_module": "@jupyter-widgets/base",
      "_view_module_version": "1.2.0",
      "_view_name": "LayoutView",
      "align_content": null,
      "align_items": null,
      "align_self": null,
      "border": null,
      "bottom": null,
      "display": null,
      "flex": null,
      "flex_flow": null,
      "grid_area": null,
      "grid_auto_columns": null,
      "grid_auto_flow": null,
      "grid_auto_rows": null,
      "grid_column": null,
      "grid_gap": null,
      "grid_row": null,
      "grid_template_areas": null,
      "grid_template_columns": null,
      "grid_template_rows": null,
      "height": null,
      "justify_content": null,
      "justify_items": null,
      "left": null,
      "margin": null,
      "max_height": null,
      "max_width": null,
      "min_height": null,
      "min_width": null,
      "object_fit": null,
      "object_position": null,
      "order": null,
      "overflow": null,
      "overflow_x": null,
      "overflow_y": null,
      "padding": null,
      "right": null,
      "top": null,
      "visibility": null,
      "width": null
     }
    },
    "bf65c0b55c07413c9dc6ed43f87a1c91": {
     "model_module": "@jupyter-widgets/base",
     "model_module_version": "1.2.0",
     "model_name": "LayoutModel",
     "state": {
      "_model_module": "@jupyter-widgets/base",
      "_model_module_version": "1.2.0",
      "_model_name": "LayoutModel",
      "_view_count": null,
      "_view_module": "@jupyter-widgets/base",
      "_view_module_version": "1.2.0",
      "_view_name": "LayoutView",
      "align_content": null,
      "align_items": null,
      "align_self": null,
      "border": null,
      "bottom": null,
      "display": null,
      "flex": null,
      "flex_flow": null,
      "grid_area": null,
      "grid_auto_columns": null,
      "grid_auto_flow": null,
      "grid_auto_rows": null,
      "grid_column": null,
      "grid_gap": null,
      "grid_row": null,
      "grid_template_areas": null,
      "grid_template_columns": null,
      "grid_template_rows": null,
      "height": null,
      "justify_content": null,
      "justify_items": null,
      "left": null,
      "margin": null,
      "max_height": null,
      "max_width": null,
      "min_height": null,
      "min_width": null,
      "object_fit": null,
      "object_position": null,
      "order": null,
      "overflow": null,
      "overflow_x": null,
      "overflow_y": null,
      "padding": null,
      "right": null,
      "top": null,
      "visibility": null,
      "width": null
     }
    },
    "bf77734418434605882d9cbd4a33c1be": {
     "model_module": "@jupyter-widgets/base",
     "model_module_version": "1.2.0",
     "model_name": "LayoutModel",
     "state": {
      "_model_module": "@jupyter-widgets/base",
      "_model_module_version": "1.2.0",
      "_model_name": "LayoutModel",
      "_view_count": null,
      "_view_module": "@jupyter-widgets/base",
      "_view_module_version": "1.2.0",
      "_view_name": "LayoutView",
      "align_content": null,
      "align_items": null,
      "align_self": null,
      "border": null,
      "bottom": null,
      "display": null,
      "flex": null,
      "flex_flow": null,
      "grid_area": null,
      "grid_auto_columns": null,
      "grid_auto_flow": null,
      "grid_auto_rows": null,
      "grid_column": null,
      "grid_gap": null,
      "grid_row": null,
      "grid_template_areas": null,
      "grid_template_columns": null,
      "grid_template_rows": null,
      "height": null,
      "justify_content": null,
      "justify_items": null,
      "left": null,
      "margin": null,
      "max_height": null,
      "max_width": null,
      "min_height": null,
      "min_width": null,
      "object_fit": null,
      "object_position": null,
      "order": null,
      "overflow": null,
      "overflow_x": null,
      "overflow_y": null,
      "padding": null,
      "right": null,
      "top": null,
      "visibility": null,
      "width": null
     }
    },
    "c5f032f4d0354d04a85da11aa84dfb3d": {
     "model_module": "@jupyter-widgets/controls",
     "model_module_version": "1.5.0",
     "model_name": "HTMLModel",
     "state": {
      "_dom_classes": [],
      "_model_module": "@jupyter-widgets/controls",
      "_model_module_version": "1.5.0",
      "_model_name": "HTMLModel",
      "_view_count": null,
      "_view_module": "@jupyter-widgets/controls",
      "_view_module_version": "1.5.0",
      "_view_name": "HTMLView",
      "description": "",
      "description_tooltip": null,
      "layout": "IPY_MODEL_4cadf9884a9c4c3b91073b832b523dd5",
      "placeholder": "​",
      "style": "IPY_MODEL_1391acaf7b6846b0ac8fb8a6cb966ac1",
      "value": " 413M/413M [00:22&lt;00:00, 25.1MB/s]"
     }
    },
    "ce81aa608fb44cbca93969964460badb": {
     "model_module": "@jupyter-widgets/controls",
     "model_module_version": "1.5.0",
     "model_name": "FloatProgressModel",
     "state": {
      "_dom_classes": [],
      "_model_module": "@jupyter-widgets/controls",
      "_model_module_version": "1.5.0",
      "_model_name": "FloatProgressModel",
      "_view_count": null,
      "_view_module": "@jupyter-widgets/controls",
      "_view_module_version": "1.5.0",
      "_view_name": "ProgressView",
      "bar_style": "success",
      "description": "",
      "description_tooltip": null,
      "layout": "IPY_MODEL_a6e9ca6879a043d6925afe19f3cb1698",
      "max": 213450,
      "min": 0,
      "orientation": "horizontal",
      "style": "IPY_MODEL_879673adec1c433da6e87145d242a994",
      "value": 213450
     }
    },
    "d4e98f123f2142a0a6dc655a280f2ebd": {
     "model_module": "@jupyter-widgets/controls",
     "model_module_version": "1.5.0",
     "model_name": "FloatProgressModel",
     "state": {
      "_dom_classes": [],
      "_model_module": "@jupyter-widgets/controls",
      "_model_module_version": "1.5.0",
      "_model_name": "FloatProgressModel",
      "_view_count": null,
      "_view_module": "@jupyter-widgets/controls",
      "_view_module_version": "1.5.0",
      "_view_name": "ProgressView",
      "bar_style": "success",
      "description": "",
      "description_tooltip": null,
      "layout": "IPY_MODEL_a4f789cc22c94212b109fe920df3d7ed",
      "max": 112,
      "min": 0,
      "orientation": "horizontal",
      "style": "IPY_MODEL_74cfdd009f4e4ed99cc00306268b47d4",
      "value": 112
     }
    },
    "d6c9d1a44312453bbbb0951815376c93": {
     "model_module": "@jupyter-widgets/base",
     "model_module_version": "1.2.0",
     "model_name": "LayoutModel",
     "state": {
      "_model_module": "@jupyter-widgets/base",
      "_model_module_version": "1.2.0",
      "_model_name": "LayoutModel",
      "_view_count": null,
      "_view_module": "@jupyter-widgets/base",
      "_view_module_version": "1.2.0",
      "_view_name": "LayoutView",
      "align_content": null,
      "align_items": null,
      "align_self": null,
      "border": null,
      "bottom": null,
      "display": null,
      "flex": null,
      "flex_flow": null,
      "grid_area": null,
      "grid_auto_columns": null,
      "grid_auto_flow": null,
      "grid_auto_rows": null,
      "grid_column": null,
      "grid_gap": null,
      "grid_row": null,
      "grid_template_areas": null,
      "grid_template_columns": null,
      "grid_template_rows": null,
      "height": null,
      "justify_content": null,
      "justify_items": null,
      "left": null,
      "margin": null,
      "max_height": null,
      "max_width": null,
      "min_height": null,
      "min_width": null,
      "object_fit": null,
      "object_position": null,
      "order": null,
      "overflow": null,
      "overflow_x": null,
      "overflow_y": null,
      "padding": null,
      "right": null,
      "top": null,
      "visibility": null,
      "width": null
     }
    },
    "d788e3cc6df44b0caba0d34ef8873c90": {
     "model_module": "@jupyter-widgets/base",
     "model_module_version": "1.2.0",
     "model_name": "LayoutModel",
     "state": {
      "_model_module": "@jupyter-widgets/base",
      "_model_module_version": "1.2.0",
      "_model_name": "LayoutModel",
      "_view_count": null,
      "_view_module": "@jupyter-widgets/base",
      "_view_module_version": "1.2.0",
      "_view_name": "LayoutView",
      "align_content": null,
      "align_items": null,
      "align_self": null,
      "border": null,
      "bottom": null,
      "display": null,
      "flex": null,
      "flex_flow": null,
      "grid_area": null,
      "grid_auto_columns": null,
      "grid_auto_flow": null,
      "grid_auto_rows": null,
      "grid_column": null,
      "grid_gap": null,
      "grid_row": null,
      "grid_template_areas": null,
      "grid_template_columns": null,
      "grid_template_rows": null,
      "height": null,
      "justify_content": null,
      "justify_items": null,
      "left": null,
      "margin": null,
      "max_height": null,
      "max_width": null,
      "min_height": null,
      "min_width": null,
      "object_fit": null,
      "object_position": null,
      "order": null,
      "overflow": null,
      "overflow_x": null,
      "overflow_y": null,
      "padding": null,
      "right": null,
      "top": null,
      "visibility": null,
      "width": null
     }
    },
    "e16d05882edc4da8b0d85153d02252d1": {
     "model_module": "@jupyter-widgets/controls",
     "model_module_version": "1.5.0",
     "model_name": "HTMLModel",
     "state": {
      "_dom_classes": [],
      "_model_module": "@jupyter-widgets/controls",
      "_model_module_version": "1.5.0",
      "_model_name": "HTMLModel",
      "_view_count": null,
      "_view_module": "@jupyter-widgets/controls",
      "_view_module_version": "1.5.0",
      "_view_name": "HTMLView",
      "description": "",
      "description_tooltip": null,
      "layout": "IPY_MODEL_d788e3cc6df44b0caba0d34ef8873c90",
      "placeholder": "​",
      "style": "IPY_MODEL_9fb766fb7c4e4677bd0cc1b561e1a355",
      "value": " 85.0/85.0 [00:00&lt;00:00, 1.47kB/s]"
     }
    },
    "e839fafc15a5431fb5c60ba09939396c": {
     "model_module": "@jupyter-widgets/base",
     "model_module_version": "1.2.0",
     "model_name": "LayoutModel",
     "state": {
      "_model_module": "@jupyter-widgets/base",
      "_model_module_version": "1.2.0",
      "_model_name": "LayoutModel",
      "_view_count": null,
      "_view_module": "@jupyter-widgets/base",
      "_view_module_version": "1.2.0",
      "_view_name": "LayoutView",
      "align_content": null,
      "align_items": null,
      "align_self": null,
      "border": null,
      "bottom": null,
      "display": null,
      "flex": null,
      "flex_flow": null,
      "grid_area": null,
      "grid_auto_columns": null,
      "grid_auto_flow": null,
      "grid_auto_rows": null,
      "grid_column": null,
      "grid_gap": null,
      "grid_row": null,
      "grid_template_areas": null,
      "grid_template_columns": null,
      "grid_template_rows": null,
      "height": null,
      "justify_content": null,
      "justify_items": null,
      "left": null,
      "margin": null,
      "max_height": null,
      "max_width": null,
      "min_height": null,
      "min_width": null,
      "object_fit": null,
      "object_position": null,
      "order": null,
      "overflow": null,
      "overflow_x": null,
      "overflow_y": null,
      "padding": null,
      "right": null,
      "top": null,
      "visibility": null,
      "width": null
     }
    },
    "ea9c92a582d649b692f3941f76969877": {
     "model_module": "@jupyter-widgets/controls",
     "model_module_version": "1.5.0",
     "model_name": "DescriptionStyleModel",
     "state": {
      "_model_module": "@jupyter-widgets/controls",
      "_model_module_version": "1.5.0",
      "_model_name": "DescriptionStyleModel",
      "_view_count": null,
      "_view_module": "@jupyter-widgets/base",
      "_view_module_version": "1.2.0",
      "_view_name": "StyleView",
      "description_width": ""
     }
    },
    "eb090314c92643feaa7e3a6cad2ae2fc": {
     "model_module": "@jupyter-widgets/controls",
     "model_module_version": "1.5.0",
     "model_name": "FloatProgressModel",
     "state": {
      "_dom_classes": [],
      "_model_module": "@jupyter-widgets/controls",
      "_model_module_version": "1.5.0",
      "_model_name": "FloatProgressModel",
      "_view_count": null,
      "_view_module": "@jupyter-widgets/controls",
      "_view_module_version": "1.5.0",
      "_view_name": "ProgressView",
      "bar_style": "success",
      "description": "",
      "description_tooltip": null,
      "layout": "IPY_MODEL_bf77734418434605882d9cbd4a33c1be",
      "max": 433503000,
      "min": 0,
      "orientation": "horizontal",
      "style": "IPY_MODEL_4003c8efb1d04767864dd815f09bf556",
      "value": 433503000
     }
    },
    "ebaff8021cd8432589eceac6484698a0": {
     "model_module": "@jupyter-widgets/controls",
     "model_module_version": "1.5.0",
     "model_name": "FloatProgressModel",
     "state": {
      "_dom_classes": [],
      "_model_module": "@jupyter-widgets/controls",
      "_model_module_version": "1.5.0",
      "_model_name": "FloatProgressModel",
      "_view_count": null,
      "_view_module": "@jupyter-widgets/controls",
      "_view_module_version": "1.5.0",
      "_view_name": "ProgressView",
      "bar_style": "success",
      "description": "",
      "description_tooltip": null,
      "layout": "IPY_MODEL_b16e096d50a64ceab9a8ea5f6f4fc7d9",
      "max": 85,
      "min": 0,
      "orientation": "horizontal",
      "style": "IPY_MODEL_1aa213f48a2a4aa38730424602aa0c55",
      "value": 85
     }
    },
    "edcf852bdc774ccda2b56bb55bd4af04": {
     "model_module": "@jupyter-widgets/controls",
     "model_module_version": "1.5.0",
     "model_name": "HTMLModel",
     "state": {
      "_dom_classes": [],
      "_model_module": "@jupyter-widgets/controls",
      "_model_module_version": "1.5.0",
      "_model_name": "HTMLModel",
      "_view_count": null,
      "_view_module": "@jupyter-widgets/controls",
      "_view_module_version": "1.5.0",
      "_view_name": "HTMLView",
      "description": "",
      "description_tooltip": null,
      "layout": "IPY_MODEL_2056f7c3b29d4549b6f04021164612c8",
      "placeholder": "​",
      "style": "IPY_MODEL_80a9206dc57a4f9183edadff2518c29f",
      "value": " 462/462 [00:00&lt;00:00, 2.52kB/s]"
     }
    },
    "f999b9cc51f8441594811368c8621022": {
     "model_module": "@jupyter-widgets/controls",
     "model_module_version": "1.5.0",
     "model_name": "HBoxModel",
     "state": {
      "_dom_classes": [],
      "_model_module": "@jupyter-widgets/controls",
      "_model_module_version": "1.5.0",
      "_model_name": "HBoxModel",
      "_view_count": null,
      "_view_module": "@jupyter-widgets/controls",
      "_view_module_version": "1.5.0",
      "_view_name": "HBoxView",
      "box_style": "",
      "children": [
       "IPY_MODEL_13d83b7e8c3f470d8f960fef45514796",
       "IPY_MODEL_eb090314c92643feaa7e3a6cad2ae2fc",
       "IPY_MODEL_c5f032f4d0354d04a85da11aa84dfb3d"
      ],
      "layout": "IPY_MODEL_bf65c0b55c07413c9dc6ed43f87a1c91"
     }
    },
    "ff2704f1d4644fcca077a7f5c6d2bc38": {
     "model_module": "@jupyter-widgets/controls",
     "model_module_version": "1.5.0",
     "model_name": "HBoxModel",
     "state": {
      "_dom_classes": [],
      "_model_module": "@jupyter-widgets/controls",
      "_model_module_version": "1.5.0",
      "_model_name": "HBoxModel",
      "_view_count": null,
      "_view_module": "@jupyter-widgets/controls",
      "_view_module_version": "1.5.0",
      "_view_name": "HBoxView",
      "box_style": "",
      "children": [
       "IPY_MODEL_70339c403f634387bb873e28b60a2610",
       "IPY_MODEL_3815f3bafb6e4a57aacda7bb6c4ab711",
       "IPY_MODEL_edcf852bdc774ccda2b56bb55bd4af04"
      ],
      "layout": "IPY_MODEL_aa1816ee9fbf4e0188c030fd401abc63"
     }
    },
    "fffa2d487a9d4f8a9715d35c16e5148d": {
     "model_module": "@jupyter-widgets/controls",
     "model_module_version": "1.5.0",
     "model_name": "ProgressStyleModel",
     "state": {
      "_model_module": "@jupyter-widgets/controls",
      "_model_module_version": "1.5.0",
      "_model_name": "ProgressStyleModel",
      "_view_count": null,
      "_view_module": "@jupyter-widgets/base",
      "_view_module_version": "1.2.0",
      "_view_name": "StyleView",
      "bar_color": null,
      "description_width": ""
     }
    }
   }
  }
 },
 "nbformat": 4,
 "nbformat_minor": 1
}
