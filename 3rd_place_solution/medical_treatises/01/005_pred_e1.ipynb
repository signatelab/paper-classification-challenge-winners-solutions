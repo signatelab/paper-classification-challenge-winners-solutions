{
 "cells": [
  {
   "cell_type": "markdown",
   "metadata": {
    "id": "21hRDlq6_Qyg"
   },
   "source": [
    "```\n",
    "========== CV ==========\n",
    "epoch 3: Score: 0.89542\n",
    "epoch 4: Score: 0.90202\n",
    "Bio_ClinicalBERT: Score: 0.86897\n",
    "UMLSBert_ENG: Score: 0.90078\n",
    "BiomedNLP-PubMedBERT: Score: 0.89294\n",
    "COVID-SciBERT: Score: 0.88108\n",
    "BioRedditBERT-uncased: Score: 0.88899\n",
    "SciBERT: Score: 0.89542\n",
    "bluebert_pubmed_mimic_uncased: Score: 0.86402\n",
    "BiomedNLP-PubMedBERT, fold=4: Score: 0.90807\n",
    "BiomedNLP-PubMedBERT, fold=3: Score: 0.88896\n",
    "BiomedNLP-PubMedBERT, epoch=6, fold=3: Score: 0.89131\n",
    "UMLSBert_ENG, fold=4: Score: 0.90405\n",
    "```"
   ]
  },
  {
   "cell_type": "code",
   "execution_count": 1,
   "metadata": {
    "executionInfo": {
     "elapsed": 648,
     "status": "ok",
     "timestamp": 1633451520885,
     "user": {
      "displayName": "山邉潤",
      "photoUrl": "https://lh3.googleusercontent.com/a/default-user=s64",
      "userId": "01598730496302142675"
     },
     "user_tz": -540
    },
    "id": "yzf2kqC0OR_d"
   },
   "outputs": [],
   "source": [
    "import pandas as pd\n",
    "import numpy as np\n",
    "\n",
    "DATA_DIR = '/content/drive/MyDrive/Colab Notebooks/signate/medical_treatises/data'\n",
    "\n",
    "N_FOLD = 5\n",
    "# N_FOLD = 4\n",
    "\n",
    "EPOCH = 3\n",
    "# EPOCH = 6\n",
    "# EPOCH = 10\n",
    "\n",
    "# MODEL = 'bert-base-uncased'\n",
    "# MODEL = 'allenai/scibert_scivocab_uncased'\n",
    "# MODEL = 'emilyalsentzer/Bio_ClinicalBERT'\n",
    "# MODEL = 'bionlp/bluebert_pubmed_uncased_L-12_H-768_A-12'\n",
    "MODEL = 'GanjinZero/UMLSBert_ENG'\n",
    "# MODEL = 'microsoft/BiomedNLP-PubMedBERT-base-uncased-abstract-fulltext'\n",
    "# MODEL = 'lordtt13/COVID-SciBERT'\n",
    "# MODEL = 'allenai/scibert_scivocab_cased'\n",
    "# MODEL = 'cambridgeltl/BioRedditBERT-uncased'\n",
    "# MODEL = 'emilyalsentzer/Bio_Discharge_Summary_BERT'\n",
    "# MODEL = 'bionlp/bluebert_pubmed_uncased_L-24_H-1024_A-16'\n",
    "# MODEL = 'bionlp/bluebert_pubmed_mimic_uncased_L-12_H-768_A-12'\n",
    "# MODEL = 'jambo/BiomedNLP-PubMedBERT-base-uncased-abstract-fulltext-finetuned-renet' # error\n"
   ]
  },
  {
   "cell_type": "markdown",
   "metadata": {
    "id": "dWlhDUL8Oq4v"
   },
   "source": [
    "# 医学論文の自動仕分けチャレンジ ベースライン\n",
    "\n",
    "    Pytorch と BERT を使ったベースラインです。\n",
    "    judgement の値をもとにした層別交差検証 (Stratified KFold) をします。\n",
    "    title のみで学習・推論します。\n",
    "    モデルの出力は 0 ~ 1 の実数を想定した 回帰予測 とします。\n",
    "    モデルの出力をある境界値をもとに 0 と 1 にします。\n",
    "        境界値は 学習データの judgement の 0 と 1 の割合で決めます。\n",
    "    交差検証で生成した5つのモデルでそれぞれ推論を行い、結果を平均して、テストコードの推論結果とします。\n",
    "\n",
    "## 前提\n",
    "\n",
    "    Google Colab で動かすことを想定します。\n",
    "\n",
    "## 事前準備\n",
    "\n",
    "    Google Drive の マイドライブ/Datasets/signate-471 というフォルダに 本コンペのデータを配置してください。\n",
    "\n",
    "## アウトプット\n",
    "\n",
    "    oof_df.csv: 交差検証でのモデルの出力などが入っています。\n",
    "    submission.csv: 提出用のファイルです。\n",
    "\n",
    "## スコア\n",
    "\n",
    "    CV (交差検証): 0.82746\n",
    "    LB (リーダーボード): 0.8368283611616681\n",
    "\n",
    "## 謝辞\n",
    "\n",
    "    この notebook は Kaggle で [@yasufuminakama](https://www.kaggle.com/yasufuminakama) さんが別コンペで公開されていた notebook をベースにしています。\n"
   ]
  },
  {
   "cell_type": "markdown",
   "metadata": {
    "id": "yh6RZhB0rrXT"
   },
   "source": [
    "## データをドライブからコピー"
   ]
  },
  {
   "cell_type": "code",
   "execution_count": 2,
   "metadata": {
    "executionInfo": {
     "elapsed": 7394,
     "status": "ok",
     "timestamp": 1633451528781,
     "user": {
      "displayName": "山邉潤",
      "photoUrl": "https://lh3.googleusercontent.com/a/default-user=s64",
      "userId": "01598730496302142675"
     },
     "user_tz": -540
    },
    "id": "HUTf1MCCPqrz"
   },
   "outputs": [],
   "source": [
    "import os\n",
    "import sys\n",
    "\n",
    "# from google.colab import drive\n",
    "# drive.mount('/gdrive')\n",
    "\n",
    "# !cp /gdrive/MyDrive/Datasets/signate-471/train.csv .\n",
    "# !cp /gdrive/MyDrive/Datasets/signate-471/test.csv .\n",
    "# !cp /gdrive/MyDrive/Datasets/signate-471/sample_submit.csv .\n",
    "\n",
    "!cp \"/content/drive/MyDrive/Colab Notebooks/signate/medical_treatises/data/train.csv\" .\n",
    "!cp \"/content/drive/MyDrive/Colab Notebooks/signate/medical_treatises/data/test.csv\" .\n",
    "!cp \"/content/drive/MyDrive/Colab Notebooks/signate/medical_treatises/data/sample_submit.csv\" ."
   ]
  },
  {
   "cell_type": "markdown",
   "metadata": {
    "id": "bYGFeq-7vGrb"
   },
   "source": [
    "## ライブラリ インストール、インポート"
   ]
  },
  {
   "cell_type": "code",
   "execution_count": 3,
   "metadata": {
    "colab": {
     "base_uri": "https://localhost:8080/"
    },
    "executionInfo": {
     "elapsed": 12197,
     "status": "ok",
     "timestamp": 1633451540973,
     "user": {
      "displayName": "山邉潤",
      "photoUrl": "https://lh3.googleusercontent.com/a/default-user=s64",
      "userId": "01598730496302142675"
     },
     "user_tz": -540
    },
    "id": "I8TbAfxnvHN5",
    "outputId": "4025a560-4e1e-433b-f8b6-8737b851818b"
   },
   "outputs": [
    {
     "name": "stdout",
     "output_type": "stream",
     "text": [
      "\u001b[K     |████████████████████████████████| 2.9 MB 11.4 MB/s \n",
      "\u001b[K     |████████████████████████████████| 3.3 MB 38.8 MB/s \n",
      "\u001b[K     |████████████████████████████████| 56 kB 4.6 MB/s \n",
      "\u001b[K     |████████████████████████████████| 636 kB 39.1 MB/s \n",
      "\u001b[K     |████████████████████████████████| 895 kB 43.1 MB/s \n",
      "\u001b[K     |████████████████████████████████| 109 kB 53.5 MB/s \n",
      "\u001b[K     |████████████████████████████████| 546 kB 44.6 MB/s \n",
      "\u001b[?25h"
     ]
    }
   ],
   "source": [
    "!pip install -q transformers"
   ]
  },
  {
   "cell_type": "code",
   "execution_count": 4,
   "metadata": {
    "executionInfo": {
     "elapsed": 1807,
     "status": "ok",
     "timestamp": 1633451542769,
     "user": {
      "displayName": "山邉潤",
      "photoUrl": "https://lh3.googleusercontent.com/a/default-user=s64",
      "userId": "01598730496302142675"
     },
     "user_tz": -540
    },
    "id": "U28wEagsvJiH"
   },
   "outputs": [],
   "source": [
    "import math\n",
    "import random\n",
    "import time\n",
    "import warnings\n",
    "\n",
    "import numpy as np\n",
    "import pandas as pd\n",
    "import torch\n",
    "import torch.nn as nn\n",
    "import transformers as T\n",
    "from sklearn.metrics import fbeta_score\n",
    "from sklearn.model_selection import StratifiedKFold\n",
    "from torch.utils.data import DataLoader, Dataset\n",
    "from tqdm.notebook import tqdm"
   ]
  },
  {
   "cell_type": "code",
   "execution_count": 5,
   "metadata": {
    "executionInfo": {
     "elapsed": 598,
     "status": "ok",
     "timestamp": 1633451543362,
     "user": {
      "displayName": "山邉潤",
      "photoUrl": "https://lh3.googleusercontent.com/a/default-user=s64",
      "userId": "01598730496302142675"
     },
     "user_tz": -540
    },
    "id": "y8lSDbzMvPe_"
   },
   "outputs": [],
   "source": [
    "DATA_DIR = './'\n",
    "OUTPUT_DIR = './'\n",
    "\n",
    "warnings.filterwarnings(\"ignore\")\n",
    "device = torch.device(\"cuda\" if torch.cuda.is_available() else \"cpu\")"
   ]
  },
  {
   "cell_type": "code",
   "execution_count": 6,
   "metadata": {
    "executionInfo": {
     "elapsed": 11,
     "status": "ok",
     "timestamp": 1633451543363,
     "user": {
      "displayName": "山邉潤",
      "photoUrl": "https://lh3.googleusercontent.com/a/default-user=s64",
      "userId": "01598730496302142675"
     },
     "user_tz": -540
    },
    "id": "zq0rH07XvdHH"
   },
   "outputs": [],
   "source": [
    "def init_logger(log_file=OUTPUT_DIR + \"train.log\"):\n",
    "    from logging import INFO, FileHandler, Formatter, StreamHandler, getLogger\n",
    "\n",
    "    logger = getLogger(__name__)\n",
    "    logger.setLevel(INFO)\n",
    "    handler1 = StreamHandler()\n",
    "    handler1.setFormatter(Formatter(\"%(message)s\"))\n",
    "    handler2 = FileHandler(filename=log_file)\n",
    "    handler2.setFormatter(Formatter(\"%(message)s\"))\n",
    "    logger.addHandler(handler1)\n",
    "    logger.addHandler(handler2)\n",
    "    return logger\n",
    "\n",
    "LOGGER = init_logger()"
   ]
  },
  {
   "cell_type": "code",
   "execution_count": 7,
   "metadata": {
    "executionInfo": {
     "elapsed": 10,
     "status": "ok",
     "timestamp": 1633451543364,
     "user": {
      "displayName": "山邉潤",
      "photoUrl": "https://lh3.googleusercontent.com/a/default-user=s64",
      "userId": "01598730496302142675"
     },
     "user_tz": -540
    },
    "id": "vM8ugPiovimm"
   },
   "outputs": [],
   "source": [
    "def seed_torch(seed=42):\n",
    "    random.seed(seed)\n",
    "    os.environ[\"PYTHONHASHSEED\"] = str(seed)\n",
    "    np.random.seed(seed)\n",
    "    torch.manual_seed(seed)\n",
    "    torch.cuda.manual_seed(seed)\n",
    "    torch.cuda.manual_seed_all(seed)\n",
    "    torch.backends.cudnn.deterministic = True\n",
    "\n",
    "seed = 471\n",
    "seed_torch(seed)"
   ]
  },
  {
   "cell_type": "markdown",
   "metadata": {
    "id": "zszzb2PPv9rN"
   },
   "source": [
    "## データ読み込み"
   ]
  },
  {
   "cell_type": "code",
   "execution_count": 8,
   "metadata": {
    "executionInfo": {
     "elapsed": 731,
     "status": "ok",
     "timestamp": 1633451544087,
     "user": {
      "displayName": "山邉潤",
      "photoUrl": "https://lh3.googleusercontent.com/a/default-user=s64",
      "userId": "01598730496302142675"
     },
     "user_tz": -540
    },
    "id": "m3MWKEevvsBm"
   },
   "outputs": [],
   "source": [
    "train = pd.read_csv(DATA_DIR + \"train.csv\")\n",
    "test = pd.read_csv(DATA_DIR + \"test.csv\")\n",
    "sub = pd.read_csv(DATA_DIR + \"sample_submit.csv\", header=None)\n",
    "sub.columns = [\"id\", \"judgement\"]"
   ]
  },
  {
   "cell_type": "code",
   "execution_count": 9,
   "metadata": {
    "executionInfo": {
     "elapsed": 12,
     "status": "ok",
     "timestamp": 1633451544088,
     "user": {
      "displayName": "山邉潤",
      "photoUrl": "https://lh3.googleusercontent.com/a/default-user=s64",
      "userId": "01598730496302142675"
     },
     "user_tz": -540
    },
    "id": "qGt4Y75VhUIi"
   },
   "outputs": [],
   "source": [
    "train.title = train.title + ' ' + train.abstract.fillna('')\n",
    "test.title = test.title + ' ' + test.abstract.fillna('')"
   ]
  },
  {
   "cell_type": "code",
   "execution_count": 10,
   "metadata": {
    "colab": {
     "base_uri": "https://localhost:8080/"
    },
    "executionInfo": {
     "elapsed": 12,
     "status": "ok",
     "timestamp": 1633451544090,
     "user": {
      "displayName": "山邉潤",
      "photoUrl": "https://lh3.googleusercontent.com/a/default-user=s64",
      "userId": "01598730496302142675"
     },
     "user_tz": -540
    },
    "id": "tFeBKvmYv1JO",
    "outputId": "1acc471d-45c2-4866-f860-9df8883f9a73"
   },
   "outputs": [
    {
     "name": "stdout",
     "output_type": "stream",
     "text": [
      "0.023282372444280715\n"
     ]
    }
   ],
   "source": [
    "# この値を境に、モデルの出力を 0 と 1 にします。\n",
    "border = len(train[train[\"judgement\"] == 1]) / len(train[\"judgement\"])\n",
    "print(border)"
   ]
  },
  {
   "cell_type": "markdown",
   "metadata": {
    "id": "Y3QMiH6LwCGM"
   },
   "source": [
    "## 前処理"
   ]
  },
  {
   "cell_type": "code",
   "execution_count": 11,
   "metadata": {
    "executionInfo": {
     "elapsed": 885,
     "status": "ok",
     "timestamp": 1633451544968,
     "user": {
      "displayName": "山邉潤",
      "photoUrl": "https://lh3.googleusercontent.com/a/default-user=s64",
      "userId": "01598730496302142675"
     },
     "user_tz": -540
    },
    "id": "D5WiJFLMwGnW"
   },
   "outputs": [],
   "source": [
    "def get_train_data(train):\n",
    "\n",
    "    # 交差検証 用の番号を振ります。\n",
    "    Fold = StratifiedKFold(n_splits=N_FOLD, shuffle=True, random_state=seed)\n",
    "    for n, (train_index, val_index) in enumerate(Fold.split(train, train[\"judgement\"])):\n",
    "        train.loc[val_index, \"fold\"] = int(n)\n",
    "    train[\"fold\"] = train[\"fold\"].astype(np.uint8)\n",
    "\n",
    "    return train"
   ]
  },
  {
   "cell_type": "code",
   "execution_count": 12,
   "metadata": {
    "executionInfo": {
     "elapsed": 28,
     "status": "ok",
     "timestamp": 1633451544970,
     "user": {
      "displayName": "山邉潤",
      "photoUrl": "https://lh3.googleusercontent.com/a/default-user=s64",
      "userId": "01598730496302142675"
     },
     "user_tz": -540
    },
    "id": "K58fRpsywG_k"
   },
   "outputs": [],
   "source": [
    "def get_test_data(test):\n",
    "    return test"
   ]
  },
  {
   "cell_type": "code",
   "execution_count": 13,
   "metadata": {
    "executionInfo": {
     "elapsed": 28,
     "status": "ok",
     "timestamp": 1633451544971,
     "user": {
      "displayName": "山邉潤",
      "photoUrl": "https://lh3.googleusercontent.com/a/default-user=s64",
      "userId": "01598730496302142675"
     },
     "user_tz": -540
    },
    "id": "hBSjyS_iwHDc"
   },
   "outputs": [],
   "source": [
    "train = get_train_data(train)"
   ]
  },
  {
   "cell_type": "markdown",
   "metadata": {
    "id": "8iu4NnH0wOBI"
   },
   "source": [
    "## データセット 定義"
   ]
  },
  {
   "cell_type": "code",
   "execution_count": 14,
   "metadata": {
    "executionInfo": {
     "elapsed": 28,
     "status": "ok",
     "timestamp": 1633451544972,
     "user": {
      "displayName": "山邉潤",
      "photoUrl": "https://lh3.googleusercontent.com/a/default-user=s64",
      "userId": "01598730496302142675"
     },
     "user_tz": -540
    },
    "id": "u33lW7K1wHF0"
   },
   "outputs": [],
   "source": [
    "class BaseDataset(Dataset):\n",
    "    def __init__(self, df, model_name, include_labels=True):\n",
    "        tokenizer = T.BertTokenizer.from_pretrained(model_name)\n",
    "\n",
    "        self.df = df\n",
    "        self.include_labels = include_labels\n",
    "\n",
    "        self.title = df[\"title\"].tolist()\n",
    "        self.encoded = tokenizer.batch_encode_plus(\n",
    "            self.title,\n",
    "            padding = 'max_length',            \n",
    "            # max_length = 72,\n",
    "            max_length = 500,\n",
    "            truncation = True,\n",
    "            return_attention_mask=True\n",
    "        )\n",
    "        \n",
    "        if self.include_labels:\n",
    "            self.labels = df[\"judgement\"].values\n",
    "\n",
    "    def __len__(self):\n",
    "        return len(self.df)\n",
    "\n",
    "    def __getitem__(self, idx):\n",
    "        input_ids = torch.tensor(self.encoded['input_ids'][idx])\n",
    "        attention_mask = torch.tensor(self.encoded['attention_mask'][idx])\n",
    "\n",
    "        if self.include_labels:\n",
    "            label = torch.tensor(self.labels[idx]).float()\n",
    "            return input_ids, attention_mask, label\n",
    "\n",
    "        return input_ids, attention_mask"
   ]
  },
  {
   "cell_type": "markdown",
   "metadata": {
    "id": "7Zcn6sQzwS29"
   },
   "source": [
    "## モデル 定義"
   ]
  },
  {
   "cell_type": "code",
   "execution_count": 15,
   "metadata": {
    "executionInfo": {
     "elapsed": 27,
     "status": "ok",
     "timestamp": 1633451544972,
     "user": {
      "displayName": "山邉潤",
      "photoUrl": "https://lh3.googleusercontent.com/a/default-user=s64",
      "userId": "01598730496302142675"
     },
     "user_tz": -540
    },
    "id": "nqb4i7ZhwHIr"
   },
   "outputs": [],
   "source": [
    "class BaseModel(nn.Module):\n",
    "    def __init__(self, model_name):\n",
    "        super().__init__()\n",
    "\n",
    "        self.model = T.BertForSequenceClassification.from_pretrained(model_name, num_labels=1)\n",
    "        self.sigmoid = nn.Sigmoid()\n",
    "\n",
    "    def forward(self, input_ids, attention_mask):\n",
    "        out = self.model(input_ids=input_ids, attention_mask=attention_mask)\n",
    "        out = self.sigmoid(out.logits).squeeze()\n",
    "\n",
    "        return out"
   ]
  },
  {
   "cell_type": "markdown",
   "metadata": {
    "id": "Ya2IqjjlwXrw"
   },
   "source": [
    "## ツール"
   ]
  },
  {
   "cell_type": "code",
   "execution_count": 16,
   "metadata": {
    "executionInfo": {
     "elapsed": 27,
     "status": "ok",
     "timestamp": 1633451544973,
     "user": {
      "displayName": "山邉潤",
      "photoUrl": "https://lh3.googleusercontent.com/a/default-user=s64",
      "userId": "01598730496302142675"
     },
     "user_tz": -540
    },
    "id": "h59PwDsfwYUb"
   },
   "outputs": [],
   "source": [
    "class AverageMeter(object):\n",
    "    \"\"\"Computes and stores the average and current value\"\"\"\n",
    "\n",
    "    def __init__(self):\n",
    "        self.reset()\n",
    "\n",
    "    def reset(self):\n",
    "        self.val = 0\n",
    "        self.avg = 0\n",
    "        self.sum = 0\n",
    "        self.count = 0\n",
    "\n",
    "    def update(self, val, n=1):\n",
    "        self.val = val\n",
    "        self.sum += val * n\n",
    "        self.count += n\n",
    "        self.avg = self.sum / self.count\n",
    "\n",
    "\n",
    "def asMinutes(s):\n",
    "    m = math.floor(s / 60)\n",
    "    s -= m * 60\n",
    "    return \"%dm %ds\" % (m, s)\n",
    "\n",
    "\n",
    "def timeSince(since, percent):\n",
    "    now = time.time()\n",
    "    s = now - since\n",
    "    es = s / (percent)\n",
    "    rs = es - s\n",
    "    return \"%s (remain %s)\" % (asMinutes(s), asMinutes(rs))"
   ]
  },
  {
   "cell_type": "markdown",
   "metadata": {
    "id": "XzqOZ0I67jow"
   },
   "source": [
    "## 学習 補助関数"
   ]
  },
  {
   "cell_type": "code",
   "execution_count": 17,
   "metadata": {
    "executionInfo": {
     "elapsed": 26,
     "status": "ok",
     "timestamp": 1633451544974,
     "user": {
      "displayName": "山邉潤",
      "photoUrl": "https://lh3.googleusercontent.com/a/default-user=s64",
      "userId": "01598730496302142675"
     },
     "user_tz": -540
    },
    "id": "dKKRwtlJwYW1"
   },
   "outputs": [],
   "source": [
    "def train_fn(train_loader, model, criterion, optimizer, epoch, device):\n",
    "    start = end = time.time()\n",
    "    losses = AverageMeter()\n",
    "\n",
    "    # switch to train mode\n",
    "    model.train()\n",
    "\n",
    "    for step, (input_ids, attention_mask, labels) in enumerate(train_loader):\n",
    "        optimizer.zero_grad()\n",
    "\n",
    "        input_ids = input_ids.to(device)\n",
    "        attention_mask = attention_mask.to(device)\n",
    "        labels = labels.to(device)\n",
    "        batch_size = labels.size(0)\n",
    "\n",
    "        y_preds = model(input_ids, attention_mask)\n",
    "\n",
    "        loss = criterion(y_preds, labels)\n",
    "\n",
    "        # record loss\n",
    "        losses.update(loss.item(), batch_size)\n",
    "        loss.backward()\n",
    "\n",
    "        optimizer.step()\n",
    "\n",
    "        if step % 100 == 0 or step == (len(train_loader) - 1):\n",
    "            print(\n",
    "                f\"Epoch: [{epoch + 1}][{step}/{len(train_loader)}] \"\n",
    "                f\"Elapsed {timeSince(start, float(step + 1) / len(train_loader)):s} \"\n",
    "                f\"Loss: {losses.avg:.4f} \"\n",
    "            )\n",
    "\n",
    "    return losses.avg"
   ]
  },
  {
   "cell_type": "markdown",
   "metadata": {
    "id": "dC9ZHgSW70Pe"
   },
   "source": [
    "## 評価 補助関数"
   ]
  },
  {
   "cell_type": "code",
   "execution_count": 18,
   "metadata": {
    "executionInfo": {
     "elapsed": 26,
     "status": "ok",
     "timestamp": 1633451544975,
     "user": {
      "displayName": "山邉潤",
      "photoUrl": "https://lh3.googleusercontent.com/a/default-user=s64",
      "userId": "01598730496302142675"
     },
     "user_tz": -540
    },
    "id": "9bsPpTh-wYZr"
   },
   "outputs": [],
   "source": [
    "def valid_fn(valid_loader, model, criterion, device):\n",
    "    start = end = time.time()\n",
    "    losses = AverageMeter()\n",
    "\n",
    "    # switch to evaluation mode\n",
    "    model.eval()\n",
    "    preds = []\n",
    "\n",
    "    for step, (input_ids, attention_mask, labels) in enumerate(valid_loader):\n",
    "        input_ids = input_ids.to(device)\n",
    "        attention_mask = attention_mask.to(device)\n",
    "        labels = labels.to(device)\n",
    "        batch_size = labels.size(0)\n",
    "\n",
    "        # compute loss\n",
    "        with torch.no_grad():\n",
    "            y_preds = model(input_ids, attention_mask)\n",
    "\n",
    "        loss = criterion(y_preds, labels)\n",
    "        losses.update(loss.item(), batch_size)\n",
    "\n",
    "        # record score\n",
    "        preds.append(y_preds.to(\"cpu\").numpy())\n",
    "\n",
    "        if step % 100 == 0 or step == (len(valid_loader) - 1):\n",
    "            print(\n",
    "                f\"EVAL: [{step}/{len(valid_loader)}] \"\n",
    "                f\"Elapsed {timeSince(start, float(step + 1) / len(valid_loader)):s} \"\n",
    "                f\"Loss: {losses.avg:.4f} \"\n",
    "            )\n",
    "\n",
    "    predictions = np.concatenate(preds)\n",
    "    return losses.avg, predictions"
   ]
  },
  {
   "cell_type": "markdown",
   "metadata": {
    "id": "Jl_x5f8T777U"
   },
   "source": [
    "## 推論関数"
   ]
  },
  {
   "cell_type": "code",
   "execution_count": 19,
   "metadata": {
    "executionInfo": {
     "elapsed": 26,
     "status": "ok",
     "timestamp": 1633451544976,
     "user": {
      "displayName": "山邉潤",
      "photoUrl": "https://lh3.googleusercontent.com/a/default-user=s64",
      "userId": "01598730496302142675"
     },
     "user_tz": -540
    },
    "id": "yPTvJFg3wYcT"
   },
   "outputs": [],
   "source": [
    "def inference():\n",
    "    predictions = []\n",
    "\n",
    "    test_dataset = BaseDataset(test, MODEL, include_labels=False)\n",
    "    test_loader = DataLoader(\n",
    "        test_dataset, batch_size=16, shuffle=False, num_workers=N_FOLD - 1, pin_memory=True\n",
    "    )\n",
    "\n",
    "    for fold in range(N_FOLD):\n",
    "        LOGGER.info(f\"========== model: fold: {fold} inference ==========\")\n",
    "        model = BaseModel(MODEL)\n",
    "        model.to(device)\n",
    "        model.load_state_dict(torch.load(OUTPUT_DIR + f\"fold{fold}_best.pth\")[\"model\"])\n",
    "        model.eval()\n",
    "        preds = []\n",
    "        for i, (input_ids, attention_mask) in tqdm(enumerate(test_loader), total=len(test_loader)):\n",
    "            input_ids = input_ids.to(device)\n",
    "            attention_mask = attention_mask.to(device)\n",
    "            with torch.no_grad():\n",
    "                y_preds = model(input_ids, attention_mask)\n",
    "            preds.append(y_preds.to(\"cpu\").numpy())\n",
    "        preds = np.concatenate(preds)\n",
    "        predictions.append(preds)\n",
    "    predictions = np.mean(predictions, axis=0)\n",
    "\n",
    "    return predictions"
   ]
  },
  {
   "cell_type": "markdown",
   "metadata": {
    "id": "HPNgp37m8FeE"
   },
   "source": [
    "## 学習"
   ]
  },
  {
   "cell_type": "code",
   "execution_count": 20,
   "metadata": {
    "executionInfo": {
     "elapsed": 25,
     "status": "ok",
     "timestamp": 1633451544976,
     "user": {
      "displayName": "山邉潤",
      "photoUrl": "https://lh3.googleusercontent.com/a/default-user=s64",
      "userId": "01598730496302142675"
     },
     "user_tz": -540
    },
    "id": "4m6S_S9owYe7"
   },
   "outputs": [],
   "source": [
    "def train_loop(train, fold):\n",
    "\n",
    "    LOGGER.info(f\"========== fold: {fold} training ==========\")\n",
    "\n",
    "    # ====================================================\n",
    "    # Data Loader\n",
    "    # ====================================================\n",
    "    trn_idx = train[train[\"fold\"] != fold].index\n",
    "    val_idx = train[train[\"fold\"] == fold].index\n",
    "\n",
    "    train_folds = train.loc[trn_idx].reset_index(drop=True)\n",
    "    valid_folds = train.loc[val_idx].reset_index(drop=True)\n",
    "\n",
    "    train_dataset = BaseDataset(train_folds, MODEL)\n",
    "    valid_dataset = BaseDataset(valid_folds, MODEL)\n",
    "\n",
    "    train_loader = DataLoader(\n",
    "        train_dataset,\n",
    "        batch_size=16,\n",
    "        shuffle=True,\n",
    "        # num_workers=4,\n",
    "        num_workers=N_FOLD - 1,\n",
    "        pin_memory=True,\n",
    "        drop_last=True,\n",
    "    )\n",
    "    valid_loader = DataLoader(\n",
    "        valid_dataset,\n",
    "        batch_size=16,\n",
    "        shuffle=False,\n",
    "        # num_workers=4,\n",
    "        num_workers=N_FOLD - 1,\n",
    "        pin_memory=True,\n",
    "        drop_last=False,\n",
    "    )\n",
    "\n",
    "    # ====================================================\n",
    "    # Model\n",
    "    # ====================================================\n",
    "    model = BaseModel(MODEL)\n",
    "    model.to(device)\n",
    "\n",
    "    optimizer = T.AdamW(model.parameters(), lr=2e-5)\n",
    "\n",
    "    criterion = nn.BCELoss()\n",
    "\n",
    "    # ====================================================\n",
    "    # Loop\n",
    "    # ====================================================\n",
    "    best_score = -1\n",
    "    best_loss = np.inf\n",
    "\n",
    "    for epoch in range(EPOCH):\n",
    "        start_time = time.time()\n",
    "        \n",
    "        # train\n",
    "        avg_loss = train_fn(train_loader, model, criterion, optimizer, epoch, device)\n",
    "\n",
    "        # eval\n",
    "        avg_val_loss, preds = valid_fn(valid_loader, model, criterion, device)\n",
    "        valid_labels = valid_folds[\"judgement\"].values\n",
    "\n",
    "        # scoring\n",
    "        score = fbeta_score(valid_labels, np.where(preds < border, 0, 1), beta=7.0)\n",
    "\n",
    "        elapsed = time.time() - start_time\n",
    "        LOGGER.info(\n",
    "            f\"Epoch {epoch+1} - avg_train_loss: {avg_loss:.4f}  avg_val_loss: {avg_val_loss:.4f}  time: {elapsed:.0f}s\"\n",
    "        )\n",
    "        LOGGER.info(f\"Epoch {epoch+1} - Score: {score}\")\n",
    "\n",
    "        if score > best_score:\n",
    "            best_score = score\n",
    "            LOGGER.info(f\"Epoch {epoch+1} - Save Best Score: {best_score:.4f} Model\")\n",
    "            torch.save(\n",
    "                {\"model\": model.state_dict(), \"preds\": preds}, OUTPUT_DIR + f\"fold{fold}_best.pth\"\n",
    "            )\n",
    "\n",
    "    check_point = torch.load(OUTPUT_DIR + f\"fold{fold}_best.pth\")\n",
    "\n",
    "    valid_folds[\"preds\"] = check_point[\"preds\"]\n",
    "\n",
    "    return valid_folds"
   ]
  },
  {
   "cell_type": "markdown",
   "metadata": {
    "id": "_pYOecel8TT0"
   },
   "source": [
    "## メイン"
   ]
  },
  {
   "cell_type": "code",
   "execution_count": 21,
   "metadata": {
    "executionInfo": {
     "elapsed": 25,
     "status": "ok",
     "timestamp": 1633451544977,
     "user": {
      "displayName": "山邉潤",
      "photoUrl": "https://lh3.googleusercontent.com/a/default-user=s64",
      "userId": "01598730496302142675"
     },
     "user_tz": -540
    },
    "id": "RLJ1B-YEwYhx"
   },
   "outputs": [],
   "source": [
    "def get_result(result_df):\n",
    "    preds = result_df[\"preds\"].values\n",
    "    labels = result_df[\"judgement\"].values\n",
    "    score = fbeta_score(labels, np.where(preds < border, 0, 1), beta=7.0)\n",
    "    LOGGER.info(f\"Score: {score:<.5f}\")"
   ]
  },
  {
   "cell_type": "code",
   "execution_count": 22,
   "metadata": {
    "executionInfo": {
     "elapsed": 25,
     "status": "ok",
     "timestamp": 1633451544978,
     "user": {
      "displayName": "山邉潤",
      "photoUrl": "https://lh3.googleusercontent.com/a/default-user=s64",
      "userId": "01598730496302142675"
     },
     "user_tz": -540
    },
    "id": "XqHDP7aR8Xcd"
   },
   "outputs": [],
   "source": [
    "def main():\n",
    "    # Training\n",
    "    oof_df = pd.DataFrame()\n",
    "    for fold in range(N_FOLD):\n",
    "        _oof_df = train_loop(train, fold)\n",
    "        oof_df = pd.concat([oof_df, _oof_df])\n",
    "        LOGGER.info(f\"========== fold: {fold} result ==========\")\n",
    "        get_result(_oof_df)\n",
    "        \n",
    "    # CV result\n",
    "    LOGGER.info(f\"========== CV ==========\")\n",
    "    get_result(oof_df)\n",
    "    \n",
    "    # Save OOF result\n",
    "    oof_df.to_csv(OUTPUT_DIR + \"oof_df.csv\", index=False)\n",
    "\n",
    "    # Inference\n",
    "    predictions = inference()\n",
    "\n",
    "    # submission_prob\n",
    "    sub[\"judgement\"] = predictions\n",
    "    sub.to_csv(OUTPUT_DIR + \"sub_prob_005.csv\", index=False, header=False)\n",
    "\n",
    "    predictions = np.where(predictions < border, 0, 1)\n",
    "\n",
    "    # submission\n",
    "    sub[\"judgement\"] = predictions\n",
    "    sub.to_csv(OUTPUT_DIR + \"sub_005.csv\", index=False, header=False)"
   ]
  },
  {
   "cell_type": "code",
   "execution_count": 23,
   "metadata": {
    "colab": {
     "base_uri": "https://localhost:8080/",
     "height": 1000,
     "referenced_widgets": [
      "ac8bd0162be040d591755bc024b01b8c",
      "5bb823942dc24835885b794220423b56",
      "6a2be5e000b744079fdf5a8af9e30845",
      "ddff5147e299466aab3f1df5d629cc1d",
      "d52c32a274d54d479ed7ac9cd863da7b",
      "8116cb2b5a644cc38f1eeb323442c74d",
      "e8afa0d857944a36a46fd38b43233f5d",
      "1090aef298ca412a922dc9d56f17f3a4",
      "19e2a0e7283b4a6f88ca21da01cc21fc",
      "acd3016894414f7bb037cc5a317b30bb",
      "abfacaf680164d38981a94a9e2b29e62",
      "906df1a0f8054e6fa5ddf1fb5f7b1cb5",
      "a22249236ce7495b92c20df4e348535c",
      "12dd5161a16441febdcec291a884fd3d",
      "46d7a62259b448e8ae2316021a29062c",
      "1d5ac7a0945f4cccaae222b4acdf6ca8",
      "89bbc4d0a8ab4375a67bb1cc40b3c24e",
      "5309dc3970e0474dbd8fdad6ad6548c0",
      "d8d27d711f2a46258e2df865b9a29413",
      "50a24bb37cbd4011aea1fa2024675a36",
      "386f7370bf8642298a951f73480e071d",
      "7b452dad9bae4198a16971b46b5fefb0",
      "9b763f4eadd243ee9825069deccb5523",
      "729536a5ce7c45ae849a6648050421e0",
      "6de0b79cc2c543f4a84e3dd1675788ab",
      "881538a67fc245b49fb6ece522487fd5",
      "daa1a38642584746ba7b88de95d16f9f",
      "89ddf1fca6ae40ee9ecda216d0383cce",
      "ab863fdd7eea467bbf21943bb8ce8b98",
      "9a2863d8d903494db2bf5ec8b3c6916b",
      "ba330b04934d4fe18f3a36a97bf65424",
      "8bd59b3dc0b24c30806a5dc2caeff410",
      "332f9d91871e4af5a12288ab9c199cc6",
      "f0d8579f5d5d4275a7954d2ef25128be",
      "20fb12eb2dfa42fba0d90a7fb7139de1",
      "02cc70de15c14dc48ac7196508149981",
      "1167bc16aec7427eac8603475d6ca2e0",
      "d0a47f833239420c99ef89b9920c6da1",
      "440b6cb014ab4d1fb0929d032d25f6b7",
      "bbb6d182321d4654bec27618d1c0eabc",
      "3b33a655a573414aae850765cc8616d5",
      "1ddc80e836cf450d91235e9394ee5d55",
      "e4eea3b7816d4f3e81d8e25e14a3d55b",
      "5cb8bb783eb24ffcb572f6cd66f051d2",
      "7917f34e6f634400b79fe83335bc0466",
      "ce1628c701304a4184b58bcac890a79a",
      "0a652a4f8fed4c07999826794e93d9bf",
      "b2603f8eaab94052832ed49570a60445",
      "8bb36562217d43ef9e87b021e9316f66",
      "48b39fc481c947d88455e4bea5d3dbe1",
      "76e614f6ad344d739c7d1aaebc459a30",
      "718cd1464c5b4c0382abecb0712ad61e",
      "97c20d61295a43879b5c51617a689064",
      "0feb4d33885441dcb090c3f0debb4845",
      "3cfde8780a554fa2aad34ffa9ee2ce1c",
      "c1f95558ae9f47849f74f140ca21ebec",
      "fea27170968b44a79f238d32f44a4385",
      "cd0d7079ba5b442aa5d6ee10a2bdf52f",
      "bab900353e3a4e5997b39b94795058d1",
      "a9deba3f05b14026a9665fea49a59527",
      "63d16d40e6fd4d37bda4542956bb719d",
      "76b8a014586343699e62fd2aca66996c",
      "002e37c195a149fbadc454e3099ca09a",
      "ea04cced7b1e40f98dd63af3048fa947",
      "35a782bca93e48649dfc833e813243a7",
      "ac9b5ef01bd045f9937e0184ad53e2f2",
      "e0faf61ef86645c88dbe04f0471128a5",
      "dd95742a251344b59ebaae8b1dc5202c",
      "ee5dad651cb549f2be54cebb8c5fed6d",
      "122d2c743c5947218a276fdf02b14ad8",
      "59e19b6a230d440a8b76e5c9c72dc229",
      "8ec64542627a4e0b85b75f3fb91abb98",
      "f5294179b927480c92977317e813fa89",
      "a3829649346b40b1a1a1bb3b768028b7",
      "2b8fea5737c945dbb45b91aaf16176a4",
      "9fa295924f7b4c0cb400c2cf32a2f8f6",
      "84297fb0334445558a6bbdd7aa3c648c",
      "ad3a977ec5be43228204f05ba510dc58",
      "64e2e7c4d9444d5499ea5d8e11dbb0a7",
      "d23e8e662844447589bc79d5be7c6d9e",
      "d4c84fb41c6943418c8f2c9e5cad2627",
      "eff25ce38c174fe9b6d731d662ed0df6",
      "75641d1e4930407b8389c402b75b275b",
      "08fb4a0bdc3c40a0ab99d3fd2ca354e5",
      "fa5f9ac7ee614c0a94e4d53901352d65",
      "1013ccd16b0b420da473ee39f5a5db0f",
      "675d3ef55f274672b10c2f698e4b2655",
      "915ac19c9f8546be83f6b63050ed8f5e"
     ]
    },
    "executionInfo": {
     "elapsed": 22138253,
     "status": "ok",
     "timestamp": 1633475042293,
     "user": {
      "displayName": "山邉潤",
      "photoUrl": "https://lh3.googleusercontent.com/a/default-user=s64",
      "userId": "01598730496302142675"
     },
     "user_tz": -540
    },
    "id": "q14_j7TZ8XfT",
    "outputId": "8065381b-a6a9-4986-e643-07d7a889cf97"
   },
   "outputs": [
    {
     "metadata": {
      "tags": null
     },
     "name": "stderr",
     "output_type": "stream",
     "text": [
      "========== fold: 0 training ==========\n"
     ]
    },
    {
     "data": {
      "application/vnd.jupyter.widget-view+json": {
       "model_id": "ac8bd0162be040d591755bc024b01b8c",
       "version_major": 2,
       "version_minor": 0
      },
      "text/plain": [
       "Downloading:   0%|          | 0.00/220k [00:00<?, ?B/s]"
      ]
     },
     "metadata": {},
     "output_type": "display_data"
    },
    {
     "data": {
      "application/vnd.jupyter.widget-view+json": {
       "model_id": "906df1a0f8054e6fa5ddf1fb5f7b1cb5",
       "version_major": 2,
       "version_minor": 0
      },
      "text/plain": [
       "Downloading:   0%|          | 0.00/462 [00:00<?, ?B/s]"
      ]
     },
     "metadata": {},
     "output_type": "display_data"
    },
    {
     "data": {
      "application/vnd.jupyter.widget-view+json": {
       "model_id": "9b763f4eadd243ee9825069deccb5523",
       "version_major": 2,
       "version_minor": 0
      },
      "text/plain": [
       "Downloading:   0%|          | 0.00/418M [00:00<?, ?B/s]"
      ]
     },
     "metadata": {},
     "output_type": "display_data"
    },
    {
     "metadata": {
      "tags": null
     },
     "name": "stderr",
     "output_type": "stream",
     "text": [
      "Some weights of BertForSequenceClassification were not initialized from the model checkpoint at GanjinZero/UMLSBert_ENG and are newly initialized: ['classifier.weight', 'classifier.bias']\n",
      "You should probably TRAIN this model on a down-stream task to be able to use it for predictions and inference.\n"
     ]
    },
    {
     "name": "stdout",
     "output_type": "stream",
     "text": [
      "Epoch: [1][0/1357] Elapsed 0m 1s (remain 30m 53s) Loss: 0.6961 \n",
      "Epoch: [1][100/1357] Elapsed 1m 25s (remain 17m 44s) Loss: 0.1165 \n",
      "Epoch: [1][200/1357] Elapsed 2m 49s (remain 16m 17s) Loss: 0.0932 \n",
      "Epoch: [1][300/1357] Elapsed 4m 14s (remain 14m 51s) Loss: 0.0869 \n",
      "Epoch: [1][400/1357] Elapsed 5m 38s (remain 13m 26s) Loss: 0.0837 \n",
      "Epoch: [1][500/1357] Elapsed 7m 2s (remain 12m 2s) Loss: 0.0804 \n",
      "Epoch: [1][600/1357] Elapsed 8m 27s (remain 10m 37s) Loss: 0.0766 \n",
      "Epoch: [1][700/1357] Elapsed 9m 51s (remain 9m 13s) Loss: 0.0734 \n",
      "Epoch: [1][800/1357] Elapsed 11m 15s (remain 7m 48s) Loss: 0.0697 \n",
      "Epoch: [1][900/1357] Elapsed 12m 39s (remain 6m 24s) Loss: 0.0676 \n",
      "Epoch: [1][1000/1357] Elapsed 14m 4s (remain 5m 0s) Loss: 0.0638 \n",
      "Epoch: [1][1100/1357] Elapsed 15m 28s (remain 3m 35s) Loss: 0.0627 \n",
      "Epoch: [1][1200/1357] Elapsed 16m 52s (remain 2m 11s) Loss: 0.0620 \n",
      "Epoch: [1][1300/1357] Elapsed 18m 16s (remain 0m 47s) Loss: 0.0602 \n",
      "Epoch: [1][1356/1357] Elapsed 19m 4s (remain 0m 0s) Loss: 0.0596 \n",
      "EVAL: [0/340] Elapsed 0m 0s (remain 2m 47s) Loss: 0.0040 \n",
      "EVAL: [100/340] Elapsed 0m 28s (remain 1m 8s) Loss: 0.0359 \n",
      "EVAL: [200/340] Elapsed 0m 57s (remain 0m 39s) Loss: 0.0421 \n",
      "EVAL: [300/340] Elapsed 1m 25s (remain 0m 11s) Loss: 0.0417 \n"
     ]
    },
    {
     "name": "stderr",
     "output_type": "stream",
     "text": [
      "Epoch 1 - avg_train_loss: 0.0596  avg_val_loss: 0.0415  time: 1241s\n",
      "Epoch 1 - Score: 0.930769230769231\n",
      "Epoch 1 - Save Best Score: 0.9308 Model\n"
     ]
    },
    {
     "name": "stdout",
     "output_type": "stream",
     "text": [
      "EVAL: [339/340] Elapsed 1m 36s (remain 0m 0s) Loss: 0.0415 \n",
      "Epoch: [2][0/1357] Elapsed 0m 1s (remain 23m 49s) Loss: 0.0016 \n",
      "Epoch: [2][100/1357] Elapsed 1m 25s (remain 17m 41s) Loss: 0.0415 \n",
      "Epoch: [2][200/1357] Elapsed 2m 49s (remain 16m 15s) Loss: 0.0402 \n",
      "Epoch: [2][300/1357] Elapsed 4m 13s (remain 14m 50s) Loss: 0.0387 \n",
      "Epoch: [2][400/1357] Elapsed 5m 37s (remain 13m 25s) Loss: 0.0360 \n",
      "Epoch: [2][500/1357] Elapsed 7m 2s (remain 12m 1s) Loss: 0.0347 \n",
      "Epoch: [2][600/1357] Elapsed 8m 26s (remain 10m 37s) Loss: 0.0337 \n",
      "Epoch: [2][700/1357] Elapsed 9m 50s (remain 9m 12s) Loss: 0.0328 \n",
      "Epoch: [2][800/1357] Elapsed 11m 14s (remain 7m 48s) Loss: 0.0338 \n",
      "Epoch: [2][900/1357] Elapsed 12m 38s (remain 6m 24s) Loss: 0.0331 \n",
      "Epoch: [2][1000/1357] Elapsed 14m 3s (remain 4m 59s) Loss: 0.0321 \n",
      "Epoch: [2][1100/1357] Elapsed 15m 27s (remain 3m 35s) Loss: 0.0320 \n",
      "Epoch: [2][1200/1357] Elapsed 16m 51s (remain 2m 11s) Loss: 0.0310 \n",
      "Epoch: [2][1300/1357] Elapsed 18m 15s (remain 0m 47s) Loss: 0.0311 \n",
      "Epoch: [2][1356/1357] Elapsed 19m 2s (remain 0m 0s) Loss: 0.0309 \n",
      "EVAL: [0/340] Elapsed 0m 0s (remain 2m 40s) Loss: 0.0006 \n",
      "EVAL: [100/340] Elapsed 0m 28s (remain 1m 8s) Loss: 0.0292 \n",
      "EVAL: [200/340] Elapsed 0m 57s (remain 0m 39s) Loss: 0.0350 \n",
      "EVAL: [300/340] Elapsed 1m 25s (remain 0m 11s) Loss: 0.0364 \n"
     ]
    },
    {
     "name": "stderr",
     "output_type": "stream",
     "text": [
      "Epoch 2 - avg_train_loss: 0.0309  avg_val_loss: 0.0376  time: 1239s\n",
      "Epoch 2 - Score: 0.8921644685802949\n"
     ]
    },
    {
     "name": "stdout",
     "output_type": "stream",
     "text": [
      "EVAL: [339/340] Elapsed 1m 36s (remain 0m 0s) Loss: 0.0376 \n",
      "Epoch: [3][0/1357] Elapsed 0m 1s (remain 23m 48s) Loss: 0.0042 \n",
      "Epoch: [3][100/1357] Elapsed 1m 25s (remain 17m 41s) Loss: 0.0093 \n",
      "Epoch: [3][200/1357] Elapsed 2m 49s (remain 16m 15s) Loss: 0.0122 \n",
      "Epoch: [3][300/1357] Elapsed 4m 13s (remain 14m 50s) Loss: 0.0145 \n",
      "Epoch: [3][400/1357] Elapsed 5m 38s (remain 13m 25s) Loss: 0.0155 \n",
      "Epoch: [3][500/1357] Elapsed 7m 2s (remain 12m 1s) Loss: 0.0167 \n",
      "Epoch: [3][600/1357] Elapsed 8m 26s (remain 10m 37s) Loss: 0.0169 \n",
      "Epoch: [3][700/1357] Elapsed 9m 50s (remain 9m 12s) Loss: 0.0172 \n",
      "Epoch: [3][800/1357] Elapsed 11m 15s (remain 7m 48s) Loss: 0.0178 \n",
      "Epoch: [3][900/1357] Elapsed 12m 39s (remain 6m 24s) Loss: 0.0192 \n",
      "Epoch: [3][1000/1357] Elapsed 14m 3s (remain 4m 59s) Loss: 0.0187 \n",
      "Epoch: [3][1100/1357] Elapsed 15m 27s (remain 3m 35s) Loss: 0.0185 \n",
      "Epoch: [3][1200/1357] Elapsed 16m 52s (remain 2m 11s) Loss: 0.0188 \n",
      "Epoch: [3][1300/1357] Elapsed 18m 16s (remain 0m 47s) Loss: 0.0189 \n",
      "Epoch: [3][1356/1357] Elapsed 19m 3s (remain 0m 0s) Loss: 0.0186 \n",
      "EVAL: [0/340] Elapsed 0m 0s (remain 2m 41s) Loss: 0.0010 \n",
      "EVAL: [100/340] Elapsed 0m 28s (remain 1m 8s) Loss: 0.0335 \n",
      "EVAL: [200/340] Elapsed 0m 57s (remain 0m 39s) Loss: 0.0489 \n",
      "EVAL: [300/340] Elapsed 1m 25s (remain 0m 11s) Loss: 0.0448 \n"
     ]
    },
    {
     "name": "stderr",
     "output_type": "stream",
     "text": [
      "Epoch 3 - avg_train_loss: 0.0186  avg_val_loss: 0.0458  time: 1240s\n",
      "Epoch 3 - Score: 0.8928571428571429\n"
     ]
    },
    {
     "name": "stdout",
     "output_type": "stream",
     "text": [
      "EVAL: [339/340] Elapsed 1m 36s (remain 0m 0s) Loss: 0.0458 \n"
     ]
    },
    {
     "name": "stderr",
     "output_type": "stream",
     "text": [
      "========== fold: 0 result ==========\n",
      "Score: 0.93077\n",
      "========== fold: 1 training ==========\n",
      "Some weights of BertForSequenceClassification were not initialized from the model checkpoint at GanjinZero/UMLSBert_ENG and are newly initialized: ['classifier.weight', 'classifier.bias']\n",
      "You should probably TRAIN this model on a down-stream task to be able to use it for predictions and inference.\n"
     ]
    },
    {
     "name": "stdout",
     "output_type": "stream",
     "text": [
      "Epoch: [1][0/1357] Elapsed 0m 1s (remain 24m 23s) Loss: 0.7966 \n",
      "Epoch: [1][100/1357] Elapsed 1m 25s (remain 17m 41s) Loss: 0.1117 \n",
      "Epoch: [1][200/1357] Elapsed 2m 49s (remain 16m 16s) Loss: 0.0879 \n",
      "Epoch: [1][300/1357] Elapsed 4m 14s (remain 14m 51s) Loss: 0.0812 \n",
      "Epoch: [1][400/1357] Elapsed 5m 38s (remain 13m 26s) Loss: 0.0765 \n",
      "Epoch: [1][500/1357] Elapsed 7m 2s (remain 12m 2s) Loss: 0.0744 \n",
      "Epoch: [1][600/1357] Elapsed 8m 27s (remain 10m 37s) Loss: 0.0715 \n",
      "Epoch: [1][700/1357] Elapsed 9m 51s (remain 9m 13s) Loss: 0.0695 \n",
      "Epoch: [1][800/1357] Elapsed 11m 15s (remain 7m 49s) Loss: 0.0670 \n",
      "Epoch: [1][900/1357] Elapsed 12m 40s (remain 6m 24s) Loss: 0.0633 \n",
      "Epoch: [1][1000/1357] Elapsed 14m 4s (remain 5m 0s) Loss: 0.0614 \n",
      "Epoch: [1][1100/1357] Elapsed 15m 28s (remain 3m 35s) Loss: 0.0589 \n",
      "Epoch: [1][1200/1357] Elapsed 16m 52s (remain 2m 11s) Loss: 0.0583 \n",
      "Epoch: [1][1300/1357] Elapsed 18m 17s (remain 0m 47s) Loss: 0.0576 \n",
      "Epoch: [1][1356/1357] Elapsed 19m 4s (remain 0m 0s) Loss: 0.0572 \n",
      "EVAL: [0/340] Elapsed 0m 0s (remain 2m 42s) Loss: 0.0577 \n",
      "EVAL: [100/340] Elapsed 0m 28s (remain 1m 8s) Loss: 0.0442 \n",
      "EVAL: [200/340] Elapsed 0m 57s (remain 0m 39s) Loss: 0.0394 \n",
      "EVAL: [300/340] Elapsed 1m 25s (remain 0m 11s) Loss: 0.0368 \n"
     ]
    },
    {
     "name": "stderr",
     "output_type": "stream",
     "text": [
      "Epoch 1 - avg_train_loss: 0.0572  avg_val_loss: 0.0378  time: 1241s\n",
      "Epoch 1 - Score: 0.9075395594166925\n",
      "Epoch 1 - Save Best Score: 0.9075 Model\n"
     ]
    },
    {
     "name": "stdout",
     "output_type": "stream",
     "text": [
      "EVAL: [339/340] Elapsed 1m 36s (remain 0m 0s) Loss: 0.0378 \n",
      "Epoch: [2][0/1357] Elapsed 0m 1s (remain 24m 0s) Loss: 0.0181 \n",
      "Epoch: [2][100/1357] Elapsed 1m 25s (remain 17m 41s) Loss: 0.0297 \n",
      "Epoch: [2][200/1357] Elapsed 2m 49s (remain 16m 15s) Loss: 0.0239 \n",
      "Epoch: [2][300/1357] Elapsed 4m 13s (remain 14m 50s) Loss: 0.0228 \n",
      "Epoch: [2][400/1357] Elapsed 5m 38s (remain 13m 26s) Loss: 0.0237 \n",
      "Epoch: [2][500/1357] Elapsed 7m 2s (remain 12m 1s) Loss: 0.0241 \n",
      "Epoch: [2][600/1357] Elapsed 8m 26s (remain 10m 37s) Loss: 0.0262 \n",
      "Epoch: [2][700/1357] Elapsed 9m 51s (remain 9m 13s) Loss: 0.0266 \n",
      "Epoch: [2][800/1357] Elapsed 11m 15s (remain 7m 48s) Loss: 0.0269 \n",
      "Epoch: [2][900/1357] Elapsed 12m 39s (remain 6m 24s) Loss: 0.0277 \n",
      "Epoch: [2][1000/1357] Elapsed 14m 3s (remain 5m 0s) Loss: 0.0275 \n",
      "Epoch: [2][1100/1357] Elapsed 15m 28s (remain 3m 35s) Loss: 0.0280 \n",
      "Epoch: [2][1200/1357] Elapsed 16m 52s (remain 2m 11s) Loss: 0.0281 \n",
      "Epoch: [2][1300/1357] Elapsed 18m 16s (remain 0m 47s) Loss: 0.0286 \n",
      "Epoch: [2][1356/1357] Elapsed 19m 3s (remain 0m 0s) Loss: 0.0284 \n",
      "EVAL: [0/340] Elapsed 0m 0s (remain 2m 39s) Loss: 0.0234 \n",
      "EVAL: [100/340] Elapsed 0m 28s (remain 1m 8s) Loss: 0.0522 \n",
      "EVAL: [200/340] Elapsed 0m 57s (remain 0m 39s) Loss: 0.0372 \n",
      "EVAL: [300/340] Elapsed 1m 25s (remain 0m 11s) Loss: 0.0372 \n"
     ]
    },
    {
     "name": "stderr",
     "output_type": "stream",
     "text": [
      "Epoch 2 - avg_train_loss: 0.0284  avg_val_loss: 0.0385  time: 1240s\n",
      "Epoch 2 - Score: 0.8650519031141868\n"
     ]
    },
    {
     "name": "stdout",
     "output_type": "stream",
     "text": [
      "EVAL: [339/340] Elapsed 1m 36s (remain 0m 0s) Loss: 0.0385 \n",
      "Epoch: [3][0/1357] Elapsed 0m 1s (remain 24m 17s) Loss: 0.0106 \n",
      "Epoch: [3][100/1357] Elapsed 1m 25s (remain 17m 41s) Loss: 0.0204 \n",
      "Epoch: [3][200/1357] Elapsed 2m 49s (remain 16m 15s) Loss: 0.0179 \n",
      "Epoch: [3][300/1357] Elapsed 4m 13s (remain 14m 50s) Loss: 0.0176 \n",
      "Epoch: [3][400/1357] Elapsed 5m 38s (remain 13m 26s) Loss: 0.0197 \n",
      "Epoch: [3][500/1357] Elapsed 7m 2s (remain 12m 1s) Loss: 0.0204 \n",
      "Epoch: [3][600/1357] Elapsed 8m 26s (remain 10m 37s) Loss: 0.0183 \n",
      "Epoch: [3][700/1357] Elapsed 9m 50s (remain 9m 12s) Loss: 0.0184 \n",
      "Epoch: [3][800/1357] Elapsed 11m 15s (remain 7m 48s) Loss: 0.0184 \n",
      "Epoch: [3][900/1357] Elapsed 12m 39s (remain 6m 24s) Loss: 0.0172 \n",
      "Epoch: [3][1000/1357] Elapsed 14m 3s (remain 5m 0s) Loss: 0.0172 \n",
      "Epoch: [3][1100/1357] Elapsed 15m 28s (remain 3m 35s) Loss: 0.0172 \n",
      "Epoch: [3][1200/1357] Elapsed 16m 52s (remain 2m 11s) Loss: 0.0176 \n",
      "Epoch: [3][1300/1357] Elapsed 18m 16s (remain 0m 47s) Loss: 0.0176 \n",
      "Epoch: [3][1356/1357] Elapsed 19m 3s (remain 0m 0s) Loss: 0.0181 \n",
      "EVAL: [0/340] Elapsed 0m 0s (remain 2m 42s) Loss: 0.0223 \n",
      "EVAL: [100/340] Elapsed 0m 28s (remain 1m 8s) Loss: 0.0528 \n",
      "EVAL: [200/340] Elapsed 0m 57s (remain 0m 39s) Loss: 0.0426 \n",
      "EVAL: [300/340] Elapsed 1m 25s (remain 0m 11s) Loss: 0.0404 \n"
     ]
    },
    {
     "name": "stderr",
     "output_type": "stream",
     "text": [
      "Epoch 3 - avg_train_loss: 0.0181  avg_val_loss: 0.0407  time: 1240s\n",
      "Epoch 3 - Score: 0.8677298311444652\n"
     ]
    },
    {
     "name": "stdout",
     "output_type": "stream",
     "text": [
      "EVAL: [339/340] Elapsed 1m 36s (remain 0m 0s) Loss: 0.0407 \n"
     ]
    },
    {
     "name": "stderr",
     "output_type": "stream",
     "text": [
      "========== fold: 1 result ==========\n",
      "Score: 0.90754\n",
      "========== fold: 2 training ==========\n",
      "Some weights of BertForSequenceClassification were not initialized from the model checkpoint at GanjinZero/UMLSBert_ENG and are newly initialized: ['classifier.weight', 'classifier.bias']\n",
      "You should probably TRAIN this model on a down-stream task to be able to use it for predictions and inference.\n"
     ]
    },
    {
     "name": "stdout",
     "output_type": "stream",
     "text": [
      "Epoch: [1][0/1357] Elapsed 0m 1s (remain 23m 38s) Loss: 0.7442 \n",
      "Epoch: [1][100/1357] Elapsed 1m 25s (remain 17m 42s) Loss: 0.1199 \n",
      "Epoch: [1][200/1357] Elapsed 2m 49s (remain 16m 16s) Loss: 0.1031 \n",
      "Epoch: [1][300/1357] Elapsed 4m 13s (remain 14m 51s) Loss: 0.0936 \n",
      "Epoch: [1][400/1357] Elapsed 5m 38s (remain 13m 26s) Loss: 0.0850 \n",
      "Epoch: [1][500/1357] Elapsed 7m 2s (remain 12m 1s) Loss: 0.0806 \n",
      "Epoch: [1][600/1357] Elapsed 8m 26s (remain 10m 37s) Loss: 0.0763 \n",
      "Epoch: [1][700/1357] Elapsed 9m 51s (remain 9m 13s) Loss: 0.0738 \n",
      "Epoch: [1][800/1357] Elapsed 11m 15s (remain 7m 48s) Loss: 0.0695 \n",
      "Epoch: [1][900/1357] Elapsed 12m 39s (remain 6m 24s) Loss: 0.0665 \n",
      "Epoch: [1][1000/1357] Elapsed 14m 3s (remain 5m 0s) Loss: 0.0653 \n",
      "Epoch: [1][1100/1357] Elapsed 15m 28s (remain 3m 35s) Loss: 0.0635 \n",
      "Epoch: [1][1200/1357] Elapsed 16m 52s (remain 2m 11s) Loss: 0.0632 \n",
      "Epoch: [1][1300/1357] Elapsed 18m 16s (remain 0m 47s) Loss: 0.0612 \n",
      "Epoch: [1][1356/1357] Elapsed 19m 3s (remain 0m 0s) Loss: 0.0601 \n",
      "EVAL: [0/340] Elapsed 0m 0s (remain 2m 44s) Loss: 0.0020 \n",
      "EVAL: [100/340] Elapsed 0m 28s (remain 1m 8s) Loss: 0.0344 \n",
      "EVAL: [200/340] Elapsed 0m 57s (remain 0m 39s) Loss: 0.0398 \n",
      "EVAL: [300/340] Elapsed 1m 25s (remain 0m 11s) Loss: 0.0446 \n"
     ]
    },
    {
     "name": "stderr",
     "output_type": "stream",
     "text": [
      "Epoch 1 - avg_train_loss: 0.0601  avg_val_loss: 0.0437  time: 1240s\n",
      "Epoch 1 - Score: 0.8355458378884899\n",
      "Epoch 1 - Save Best Score: 0.8355 Model\n"
     ]
    },
    {
     "name": "stdout",
     "output_type": "stream",
     "text": [
      "EVAL: [339/340] Elapsed 1m 36s (remain 0m 0s) Loss: 0.0437 \n",
      "Epoch: [2][0/1357] Elapsed 0m 1s (remain 24m 13s) Loss: 0.0008 \n",
      "Epoch: [2][100/1357] Elapsed 1m 25s (remain 17m 41s) Loss: 0.0189 \n",
      "Epoch: [2][200/1357] Elapsed 2m 49s (remain 16m 15s) Loss: 0.0271 \n",
      "Epoch: [2][300/1357] Elapsed 4m 13s (remain 14m 50s) Loss: 0.0283 \n",
      "Epoch: [2][400/1357] Elapsed 5m 38s (remain 13m 26s) Loss: 0.0308 \n",
      "Epoch: [2][500/1357] Elapsed 7m 2s (remain 12m 1s) Loss: 0.0279 \n",
      "Epoch: [2][600/1357] Elapsed 8m 26s (remain 10m 37s) Loss: 0.0274 \n",
      "Epoch: [2][700/1357] Elapsed 9m 50s (remain 9m 13s) Loss: 0.0274 \n",
      "Epoch: [2][800/1357] Elapsed 11m 15s (remain 7m 48s) Loss: 0.0279 \n",
      "Epoch: [2][900/1357] Elapsed 12m 39s (remain 6m 24s) Loss: 0.0283 \n",
      "Epoch: [2][1000/1357] Elapsed 14m 3s (remain 5m 0s) Loss: 0.0287 \n",
      "Epoch: [2][1100/1357] Elapsed 15m 28s (remain 3m 35s) Loss: 0.0279 \n",
      "Epoch: [2][1200/1357] Elapsed 16m 52s (remain 2m 11s) Loss: 0.0276 \n",
      "Epoch: [2][1300/1357] Elapsed 18m 16s (remain 0m 47s) Loss: 0.0283 \n",
      "Epoch: [2][1356/1357] Elapsed 19m 3s (remain 0m 0s) Loss: 0.0285 \n",
      "EVAL: [0/340] Elapsed 0m 0s (remain 2m 48s) Loss: 0.0006 \n",
      "EVAL: [100/340] Elapsed 0m 28s (remain 1m 8s) Loss: 0.0292 \n",
      "EVAL: [200/340] Elapsed 0m 57s (remain 0m 39s) Loss: 0.0394 \n",
      "EVAL: [300/340] Elapsed 1m 25s (remain 0m 11s) Loss: 0.0423 \n"
     ]
    },
    {
     "name": "stderr",
     "output_type": "stream",
     "text": [
      "Epoch 2 - avg_train_loss: 0.0285  avg_val_loss: 0.0413  time: 1240s\n",
      "Epoch 2 - Score: 0.8469259723964868\n",
      "Epoch 2 - Save Best Score: 0.8469 Model\n"
     ]
    },
    {
     "name": "stdout",
     "output_type": "stream",
     "text": [
      "EVAL: [339/340] Elapsed 1m 36s (remain 0m 0s) Loss: 0.0413 \n",
      "Epoch: [3][0/1357] Elapsed 0m 1s (remain 24m 3s) Loss: 0.0732 \n",
      "Epoch: [3][100/1357] Elapsed 1m 25s (remain 17m 40s) Loss: 0.0204 \n",
      "Epoch: [3][200/1357] Elapsed 2m 49s (remain 16m 15s) Loss: 0.0183 \n",
      "Epoch: [3][300/1357] Elapsed 4m 13s (remain 14m 50s) Loss: 0.0168 \n",
      "Epoch: [3][400/1357] Elapsed 5m 38s (remain 13m 26s) Loss: 0.0158 \n",
      "Epoch: [3][500/1357] Elapsed 7m 2s (remain 12m 1s) Loss: 0.0171 \n",
      "Epoch: [3][600/1357] Elapsed 8m 26s (remain 10m 37s) Loss: 0.0165 \n",
      "Epoch: [3][700/1357] Elapsed 9m 50s (remain 9m 12s) Loss: 0.0175 \n",
      "Epoch: [3][800/1357] Elapsed 11m 14s (remain 7m 48s) Loss: 0.0178 \n",
      "Epoch: [3][900/1357] Elapsed 12m 39s (remain 6m 24s) Loss: 0.0173 \n",
      "Epoch: [3][1000/1357] Elapsed 14m 3s (remain 4m 59s) Loss: 0.0176 \n",
      "Epoch: [3][1100/1357] Elapsed 15m 27s (remain 3m 35s) Loss: 0.0179 \n",
      "Epoch: [3][1200/1357] Elapsed 16m 51s (remain 2m 11s) Loss: 0.0183 \n",
      "Epoch: [3][1300/1357] Elapsed 18m 15s (remain 0m 47s) Loss: 0.0184 \n",
      "Epoch: [3][1356/1357] Elapsed 19m 2s (remain 0m 0s) Loss: 0.0178 \n",
      "EVAL: [0/340] Elapsed 0m 0s (remain 2m 47s) Loss: 0.0004 \n",
      "EVAL: [100/340] Elapsed 0m 28s (remain 1m 8s) Loss: 0.0433 \n",
      "EVAL: [200/340] Elapsed 0m 57s (remain 0m 39s) Loss: 0.0546 \n",
      "EVAL: [300/340] Elapsed 1m 25s (remain 0m 11s) Loss: 0.0601 \n"
     ]
    },
    {
     "name": "stderr",
     "output_type": "stream",
     "text": [
      "Epoch 3 - avg_train_loss: 0.0178  avg_val_loss: 0.0580  time: 1239s\n",
      "Epoch 3 - Score: 0.7348293299620734\n"
     ]
    },
    {
     "name": "stdout",
     "output_type": "stream",
     "text": [
      "EVAL: [339/340] Elapsed 1m 36s (remain 0m 0s) Loss: 0.0580 \n"
     ]
    },
    {
     "name": "stderr",
     "output_type": "stream",
     "text": [
      "========== fold: 2 result ==========\n",
      "Score: 0.84693\n",
      "========== fold: 3 training ==========\n",
      "Some weights of BertForSequenceClassification were not initialized from the model checkpoint at GanjinZero/UMLSBert_ENG and are newly initialized: ['classifier.weight', 'classifier.bias']\n",
      "You should probably TRAIN this model on a down-stream task to be able to use it for predictions and inference.\n"
     ]
    },
    {
     "name": "stdout",
     "output_type": "stream",
     "text": [
      "Epoch: [1][0/1357] Elapsed 0m 1s (remain 25m 2s) Loss: 0.5388 \n",
      "Epoch: [1][100/1357] Elapsed 1m 25s (remain 17m 41s) Loss: 0.1129 \n",
      "Epoch: [1][200/1357] Elapsed 2m 49s (remain 16m 14s) Loss: 0.0935 \n",
      "Epoch: [1][300/1357] Elapsed 4m 13s (remain 14m 49s) Loss: 0.0771 \n",
      "Epoch: [1][400/1357] Elapsed 5m 37s (remain 13m 25s) Loss: 0.0732 \n",
      "Epoch: [1][500/1357] Elapsed 7m 2s (remain 12m 1s) Loss: 0.0699 \n",
      "Epoch: [1][600/1357] Elapsed 8m 26s (remain 10m 36s) Loss: 0.0683 \n",
      "Epoch: [1][700/1357] Elapsed 9m 50s (remain 9m 12s) Loss: 0.0650 \n",
      "Epoch: [1][800/1357] Elapsed 11m 14s (remain 7m 48s) Loss: 0.0623 \n",
      "Epoch: [1][900/1357] Elapsed 12m 38s (remain 6m 24s) Loss: 0.0605 \n",
      "Epoch: [1][1000/1357] Elapsed 14m 2s (remain 4m 59s) Loss: 0.0587 \n",
      "Epoch: [1][1100/1357] Elapsed 15m 27s (remain 3m 35s) Loss: 0.0571 \n",
      "Epoch: [1][1200/1357] Elapsed 16m 51s (remain 2m 11s) Loss: 0.0563 \n",
      "Epoch: [1][1300/1357] Elapsed 18m 15s (remain 0m 47s) Loss: 0.0560 \n",
      "Epoch: [1][1356/1357] Elapsed 19m 2s (remain 0m 0s) Loss: 0.0551 \n",
      "EVAL: [0/340] Elapsed 0m 0s (remain 2m 40s) Loss: 0.0070 \n",
      "EVAL: [100/340] Elapsed 0m 28s (remain 1m 8s) Loss: 0.0386 \n",
      "EVAL: [200/340] Elapsed 0m 56s (remain 0m 39s) Loss: 0.0395 \n",
      "EVAL: [300/340] Elapsed 1m 25s (remain 0m 11s) Loss: 0.0402 \n"
     ]
    },
    {
     "name": "stderr",
     "output_type": "stream",
     "text": [
      "Epoch 1 - avg_train_loss: 0.0551  avg_val_loss: 0.0395  time: 1239s\n",
      "Epoch 1 - Score: 0.8864979542354903\n",
      "Epoch 1 - Save Best Score: 0.8865 Model\n"
     ]
    },
    {
     "name": "stdout",
     "output_type": "stream",
     "text": [
      "EVAL: [339/340] Elapsed 1m 36s (remain 0m 0s) Loss: 0.0395 \n",
      "Epoch: [2][0/1357] Elapsed 0m 1s (remain 24m 48s) Loss: 0.0057 \n",
      "Epoch: [2][100/1357] Elapsed 1m 25s (remain 17m 40s) Loss: 0.0212 \n",
      "Epoch: [2][200/1357] Elapsed 2m 49s (remain 16m 14s) Loss: 0.0291 \n",
      "Epoch: [2][300/1357] Elapsed 4m 13s (remain 14m 50s) Loss: 0.0316 \n",
      "Epoch: [2][400/1357] Elapsed 5m 37s (remain 13m 25s) Loss: 0.0309 \n",
      "Epoch: [2][500/1357] Elapsed 7m 2s (remain 12m 1s) Loss: 0.0288 \n",
      "Epoch: [2][600/1357] Elapsed 8m 26s (remain 10m 36s) Loss: 0.0277 \n",
      "Epoch: [2][700/1357] Elapsed 9m 50s (remain 9m 12s) Loss: 0.0292 \n",
      "Epoch: [2][800/1357] Elapsed 11m 14s (remain 7m 48s) Loss: 0.0285 \n",
      "Epoch: [2][900/1357] Elapsed 12m 39s (remain 6m 24s) Loss: 0.0282 \n",
      "Epoch: [2][1000/1357] Elapsed 14m 3s (remain 4m 59s) Loss: 0.0278 \n",
      "Epoch: [2][1100/1357] Elapsed 15m 27s (remain 3m 35s) Loss: 0.0281 \n",
      "Epoch: [2][1200/1357] Elapsed 16m 51s (remain 2m 11s) Loss: 0.0280 \n",
      "Epoch: [2][1300/1357] Elapsed 18m 15s (remain 0m 47s) Loss: 0.0283 \n",
      "Epoch: [2][1356/1357] Elapsed 19m 2s (remain 0m 0s) Loss: 0.0279 \n",
      "EVAL: [0/340] Elapsed 0m 0s (remain 2m 46s) Loss: 0.0143 \n",
      "EVAL: [100/340] Elapsed 0m 28s (remain 1m 8s) Loss: 0.0386 \n",
      "EVAL: [200/340] Elapsed 0m 57s (remain 0m 39s) Loss: 0.0367 \n",
      "EVAL: [300/340] Elapsed 1m 25s (remain 0m 11s) Loss: 0.0380 \n"
     ]
    },
    {
     "name": "stderr",
     "output_type": "stream",
     "text": [
      "Epoch 2 - avg_train_loss: 0.0279  avg_val_loss: 0.0371  time: 1239s\n",
      "Epoch 2 - Score: 0.9032943676939426\n",
      "Epoch 2 - Save Best Score: 0.9033 Model\n"
     ]
    },
    {
     "name": "stdout",
     "output_type": "stream",
     "text": [
      "EVAL: [339/340] Elapsed 1m 36s (remain 0m 0s) Loss: 0.0371 \n",
      "Epoch: [3][0/1357] Elapsed 0m 1s (remain 24m 28s) Loss: 0.0010 \n",
      "Epoch: [3][100/1357] Elapsed 1m 25s (remain 17m 41s) Loss: 0.0198 \n",
      "Epoch: [3][200/1357] Elapsed 2m 49s (remain 16m 15s) Loss: 0.0192 \n",
      "Epoch: [3][300/1357] Elapsed 4m 13s (remain 14m 50s) Loss: 0.0193 \n",
      "Epoch: [3][400/1357] Elapsed 5m 38s (remain 13m 26s) Loss: 0.0180 \n",
      "Epoch: [3][500/1357] Elapsed 7m 2s (remain 12m 1s) Loss: 0.0165 \n",
      "Epoch: [3][600/1357] Elapsed 8m 26s (remain 10m 37s) Loss: 0.0183 \n",
      "Epoch: [3][700/1357] Elapsed 9m 51s (remain 9m 13s) Loss: 0.0196 \n",
      "Epoch: [3][800/1357] Elapsed 11m 15s (remain 7m 48s) Loss: 0.0197 \n",
      "Epoch: [3][900/1357] Elapsed 12m 39s (remain 6m 24s) Loss: 0.0195 \n",
      "Epoch: [3][1000/1357] Elapsed 14m 3s (remain 5m 0s) Loss: 0.0187 \n",
      "Epoch: [3][1100/1357] Elapsed 15m 28s (remain 3m 35s) Loss: 0.0190 \n",
      "Epoch: [3][1200/1357] Elapsed 16m 52s (remain 2m 11s) Loss: 0.0189 \n",
      "Epoch: [3][1300/1357] Elapsed 18m 16s (remain 0m 47s) Loss: 0.0190 \n",
      "Epoch: [3][1356/1357] Elapsed 19m 4s (remain 0m 0s) Loss: 0.0192 \n",
      "EVAL: [0/340] Elapsed 0m 0s (remain 2m 41s) Loss: 0.0111 \n",
      "EVAL: [100/340] Elapsed 0m 28s (remain 1m 8s) Loss: 0.0460 \n",
      "EVAL: [200/340] Elapsed 0m 57s (remain 0m 39s) Loss: 0.0434 \n",
      "EVAL: [300/340] Elapsed 1m 25s (remain 0m 11s) Loss: 0.0452 \n"
     ]
    },
    {
     "name": "stderr",
     "output_type": "stream",
     "text": [
      "Epoch 3 - avg_train_loss: 0.0192  avg_val_loss: 0.0427  time: 1240s\n",
      "Epoch 3 - Score: 0.8534522528063969\n"
     ]
    },
    {
     "name": "stdout",
     "output_type": "stream",
     "text": [
      "EVAL: [339/340] Elapsed 1m 36s (remain 0m 0s) Loss: 0.0427 \n"
     ]
    },
    {
     "name": "stderr",
     "output_type": "stream",
     "text": [
      "========== fold: 3 result ==========\n",
      "Score: 0.90329\n",
      "========== fold: 4 training ==========\n",
      "Some weights of BertForSequenceClassification were not initialized from the model checkpoint at GanjinZero/UMLSBert_ENG and are newly initialized: ['classifier.weight', 'classifier.bias']\n",
      "You should probably TRAIN this model on a down-stream task to be able to use it for predictions and inference.\n"
     ]
    },
    {
     "name": "stdout",
     "output_type": "stream",
     "text": [
      "Epoch: [1][0/1357] Elapsed 0m 1s (remain 24m 11s) Loss: 0.6441 \n",
      "Epoch: [1][100/1357] Elapsed 1m 25s (remain 17m 41s) Loss: 0.1083 \n",
      "Epoch: [1][200/1357] Elapsed 2m 49s (remain 16m 15s) Loss: 0.0997 \n",
      "Epoch: [1][300/1357] Elapsed 4m 13s (remain 14m 50s) Loss: 0.0953 \n",
      "Epoch: [1][400/1357] Elapsed 5m 38s (remain 13m 26s) Loss: 0.0858 \n",
      "Epoch: [1][500/1357] Elapsed 7m 2s (remain 12m 1s) Loss: 0.0813 \n",
      "Epoch: [1][600/1357] Elapsed 8m 26s (remain 10m 37s) Loss: 0.0760 \n",
      "Epoch: [1][700/1357] Elapsed 9m 51s (remain 9m 13s) Loss: 0.0742 \n",
      "Epoch: [1][800/1357] Elapsed 11m 15s (remain 7m 48s) Loss: 0.0721 \n",
      "Epoch: [1][900/1357] Elapsed 12m 39s (remain 6m 24s) Loss: 0.0695 \n",
      "Epoch: [1][1000/1357] Elapsed 14m 3s (remain 5m 0s) Loss: 0.0664 \n",
      "Epoch: [1][1100/1357] Elapsed 15m 28s (remain 3m 35s) Loss: 0.0627 \n",
      "Epoch: [1][1200/1357] Elapsed 16m 52s (remain 2m 11s) Loss: 0.0610 \n",
      "Epoch: [1][1300/1357] Elapsed 18m 16s (remain 0m 47s) Loss: 0.0603 \n",
      "Epoch: [1][1356/1357] Elapsed 19m 3s (remain 0m 0s) Loss: 0.0590 \n",
      "EVAL: [0/340] Elapsed 0m 0s (remain 2m 52s) Loss: 0.0054 \n",
      "EVAL: [100/340] Elapsed 0m 28s (remain 1m 8s) Loss: 0.0348 \n",
      "EVAL: [200/340] Elapsed 0m 57s (remain 0m 39s) Loss: 0.0366 \n",
      "EVAL: [300/340] Elapsed 1m 25s (remain 0m 11s) Loss: 0.0394 \n"
     ]
    },
    {
     "name": "stderr",
     "output_type": "stream",
     "text": [
      "Epoch 1 - avg_train_loss: 0.0590  avg_val_loss: 0.0403  time: 1240s\n",
      "Epoch 1 - Score: 0.9139946059334731\n",
      "Epoch 1 - Save Best Score: 0.9140 Model\n"
     ]
    },
    {
     "name": "stdout",
     "output_type": "stream",
     "text": [
      "EVAL: [339/340] Elapsed 1m 36s (remain 0m 0s) Loss: 0.0403 \n",
      "Epoch: [2][0/1357] Elapsed 0m 1s (remain 24m 12s) Loss: 0.0019 \n",
      "Epoch: [2][100/1357] Elapsed 1m 25s (remain 17m 41s) Loss: 0.0213 \n",
      "Epoch: [2][200/1357] Elapsed 2m 49s (remain 16m 15s) Loss: 0.0255 \n",
      "Epoch: [2][300/1357] Elapsed 4m 13s (remain 14m 50s) Loss: 0.0273 \n",
      "Epoch: [2][400/1357] Elapsed 5m 37s (remain 13m 25s) Loss: 0.0289 \n",
      "Epoch: [2][500/1357] Elapsed 7m 2s (remain 12m 1s) Loss: 0.0273 \n",
      "Epoch: [2][600/1357] Elapsed 8m 26s (remain 10m 36s) Loss: 0.0276 \n",
      "Epoch: [2][700/1357] Elapsed 9m 50s (remain 9m 12s) Loss: 0.0277 \n",
      "Epoch: [2][800/1357] Elapsed 11m 14s (remain 7m 48s) Loss: 0.0293 \n",
      "Epoch: [2][900/1357] Elapsed 12m 39s (remain 6m 24s) Loss: 0.0299 \n",
      "Epoch: [2][1000/1357] Elapsed 14m 3s (remain 5m 0s) Loss: 0.0301 \n",
      "Epoch: [2][1100/1357] Elapsed 15m 27s (remain 3m 35s) Loss: 0.0303 \n",
      "Epoch: [2][1200/1357] Elapsed 16m 52s (remain 2m 11s) Loss: 0.0300 \n",
      "Epoch: [2][1300/1357] Elapsed 18m 16s (remain 0m 47s) Loss: 0.0301 \n",
      "Epoch: [2][1356/1357] Elapsed 19m 3s (remain 0m 0s) Loss: 0.0306 \n",
      "EVAL: [0/340] Elapsed 0m 0s (remain 2m 46s) Loss: 0.0008 \n",
      "EVAL: [100/340] Elapsed 0m 28s (remain 1m 8s) Loss: 0.0369 \n",
      "EVAL: [200/340] Elapsed 0m 57s (remain 0m 39s) Loss: 0.0394 \n",
      "EVAL: [300/340] Elapsed 1m 25s (remain 0m 11s) Loss: 0.0407 \n"
     ]
    },
    {
     "name": "stderr",
     "output_type": "stream",
     "text": [
      "Epoch 2 - avg_train_loss: 0.0306  avg_val_loss: 0.0401  time: 1240s\n",
      "Epoch 2 - Score: 0.8774607050206011\n"
     ]
    },
    {
     "name": "stdout",
     "output_type": "stream",
     "text": [
      "EVAL: [339/340] Elapsed 1m 36s (remain 0m 0s) Loss: 0.0401 \n",
      "Epoch: [3][0/1357] Elapsed 0m 1s (remain 24m 33s) Loss: 0.0791 \n",
      "Epoch: [3][100/1357] Elapsed 1m 25s (remain 17m 43s) Loss: 0.0143 \n",
      "Epoch: [3][200/1357] Elapsed 2m 49s (remain 16m 17s) Loss: 0.0186 \n",
      "Epoch: [3][300/1357] Elapsed 4m 14s (remain 14m 52s) Loss: 0.0174 \n",
      "Epoch: [3][400/1357] Elapsed 5m 38s (remain 13m 27s) Loss: 0.0170 \n",
      "Epoch: [3][500/1357] Elapsed 7m 2s (remain 12m 2s) Loss: 0.0181 \n",
      "Epoch: [3][600/1357] Elapsed 8m 27s (remain 10m 38s) Loss: 0.0194 \n",
      "Epoch: [3][700/1357] Elapsed 9m 51s (remain 9m 13s) Loss: 0.0190 \n",
      "Epoch: [3][800/1357] Elapsed 11m 16s (remain 7m 49s) Loss: 0.0187 \n",
      "Epoch: [3][900/1357] Elapsed 12m 40s (remain 6m 24s) Loss: 0.0195 \n",
      "Epoch: [3][1000/1357] Elapsed 14m 4s (remain 5m 0s) Loss: 0.0189 \n",
      "Epoch: [3][1100/1357] Elapsed 15m 29s (remain 3m 36s) Loss: 0.0189 \n",
      "Epoch: [3][1200/1357] Elapsed 16m 53s (remain 2m 11s) Loss: 0.0193 \n",
      "Epoch: [3][1300/1357] Elapsed 18m 17s (remain 0m 47s) Loss: 0.0195 \n",
      "Epoch: [3][1356/1357] Elapsed 19m 4s (remain 0m 0s) Loss: 0.0191 \n",
      "EVAL: [0/340] Elapsed 0m 0s (remain 2m 48s) Loss: 0.0002 \n",
      "EVAL: [100/340] Elapsed 0m 28s (remain 1m 8s) Loss: 0.0313 \n",
      "EVAL: [200/340] Elapsed 0m 57s (remain 0m 39s) Loss: 0.0378 \n",
      "EVAL: [300/340] Elapsed 1m 25s (remain 0m 11s) Loss: 0.0406 \n"
     ]
    },
    {
     "name": "stderr",
     "output_type": "stream",
     "text": [
      "Epoch 3 - avg_train_loss: 0.0191  avg_val_loss: 0.0412  time: 1241s\n",
      "Epoch 3 - Score: 0.8709727146600894\n"
     ]
    },
    {
     "name": "stdout",
     "output_type": "stream",
     "text": [
      "EVAL: [339/340] Elapsed 1m 36s (remain 0m 0s) Loss: 0.0412 \n"
     ]
    },
    {
     "name": "stderr",
     "output_type": "stream",
     "text": [
      "========== fold: 4 result ==========\n",
      "Score: 0.91399\n",
      "========== CV ==========\n",
      "Score: 0.90078\n",
      "========== model: fold: 0 inference ==========\n",
      "Some weights of BertForSequenceClassification were not initialized from the model checkpoint at GanjinZero/UMLSBert_ENG and are newly initialized: ['classifier.weight', 'classifier.bias']\n",
      "You should probably TRAIN this model on a down-stream task to be able to use it for predictions and inference.\n"
     ]
    },
    {
     "data": {
      "application/vnd.jupyter.widget-view+json": {
       "model_id": "f0d8579f5d5d4275a7954d2ef25128be",
       "version_major": 2,
       "version_minor": 0
      },
      "text/plain": [
       "  0%|          | 0/2553 [00:00<?, ?it/s]"
      ]
     },
     "metadata": {},
     "output_type": "display_data"
    },
    {
     "name": "stderr",
     "output_type": "stream",
     "text": [
      "========== model: fold: 1 inference ==========\n",
      "Some weights of BertForSequenceClassification were not initialized from the model checkpoint at GanjinZero/UMLSBert_ENG and are newly initialized: ['classifier.weight', 'classifier.bias']\n",
      "You should probably TRAIN this model on a down-stream task to be able to use it for predictions and inference.\n"
     ]
    },
    {
     "data": {
      "application/vnd.jupyter.widget-view+json": {
       "model_id": "7917f34e6f634400b79fe83335bc0466",
       "version_major": 2,
       "version_minor": 0
      },
      "text/plain": [
       "  0%|          | 0/2553 [00:00<?, ?it/s]"
      ]
     },
     "metadata": {},
     "output_type": "display_data"
    },
    {
     "name": "stderr",
     "output_type": "stream",
     "text": [
      "========== model: fold: 2 inference ==========\n",
      "Some weights of BertForSequenceClassification were not initialized from the model checkpoint at GanjinZero/UMLSBert_ENG and are newly initialized: ['classifier.weight', 'classifier.bias']\n",
      "You should probably TRAIN this model on a down-stream task to be able to use it for predictions and inference.\n"
     ]
    },
    {
     "data": {
      "application/vnd.jupyter.widget-view+json": {
       "model_id": "c1f95558ae9f47849f74f140ca21ebec",
       "version_major": 2,
       "version_minor": 0
      },
      "text/plain": [
       "  0%|          | 0/2553 [00:00<?, ?it/s]"
      ]
     },
     "metadata": {},
     "output_type": "display_data"
    },
    {
     "name": "stderr",
     "output_type": "stream",
     "text": [
      "========== model: fold: 3 inference ==========\n",
      "Some weights of BertForSequenceClassification were not initialized from the model checkpoint at GanjinZero/UMLSBert_ENG and are newly initialized: ['classifier.weight', 'classifier.bias']\n",
      "You should probably TRAIN this model on a down-stream task to be able to use it for predictions and inference.\n"
     ]
    },
    {
     "data": {
      "application/vnd.jupyter.widget-view+json": {
       "model_id": "e0faf61ef86645c88dbe04f0471128a5",
       "version_major": 2,
       "version_minor": 0
      },
      "text/plain": [
       "  0%|          | 0/2553 [00:00<?, ?it/s]"
      ]
     },
     "metadata": {},
     "output_type": "display_data"
    },
    {
     "name": "stderr",
     "output_type": "stream",
     "text": [
      "========== model: fold: 4 inference ==========\n",
      "Some weights of BertForSequenceClassification were not initialized from the model checkpoint at GanjinZero/UMLSBert_ENG and are newly initialized: ['classifier.weight', 'classifier.bias']\n",
      "You should probably TRAIN this model on a down-stream task to be able to use it for predictions and inference.\n"
     ]
    },
    {
     "data": {
      "application/vnd.jupyter.widget-view+json": {
       "model_id": "ad3a977ec5be43228204f05ba510dc58",
       "version_major": 2,
       "version_minor": 0
      },
      "text/plain": [
       "  0%|          | 0/2553 [00:00<?, ?it/s]"
      ]
     },
     "metadata": {},
     "output_type": "display_data"
    }
   ],
   "source": [
    "if __name__ == \"__main__\":\n",
    "    main()"
   ]
  },
  {
   "cell_type": "code",
   "execution_count": 24,
   "metadata": {
    "executionInfo": {
     "elapsed": 16201,
     "status": "ok",
     "timestamp": 1633475058491,
     "user": {
      "displayName": "山邉潤",
      "photoUrl": "https://lh3.googleusercontent.com/a/default-user=s64",
      "userId": "01598730496302142675"
     },
     "user_tz": -540
    },
    "id": "1qeSIwWf9OSR"
   },
   "outputs": [],
   "source": [
    "!cp ./sub_prob_005.csv \"/content/drive/MyDrive/Colab Notebooks/signate/medical_treatises/data/01/sub_prob_005.csv\"\n",
    "!cp ./sub_005.csv \"/content/drive/MyDrive/Colab Notebooks/signate/medical_treatises/data/01/sub_005.csv\"\n",
    "\n",
    "!cp ./fold0_best.pth \"/content/drive/MyDrive/Colab Notebooks/signate/medical_treatises/data/01/005_fold0_best.pth\"\n",
    "!cp ./fold1_best.pth \"/content/drive/MyDrive/Colab Notebooks/signate/medical_treatises/data/01/005_fold1_best.pth\"\n",
    "!cp ./fold2_best.pth \"/content/drive/MyDrive/Colab Notebooks/signate/medical_treatises/data/01/005_fold2_best.pth\"\n",
    "!cp ./fold3_best.pth \"/content/drive/MyDrive/Colab Notebooks/signate/medical_treatises/data/01/005_fold3_best.pth\"\n",
    "!cp ./fold4_best.pth \"/content/drive/MyDrive/Colab Notebooks/signate/medical_treatises/data/01/005_fold4_best.pth\""
   ]
  },
  {
   "cell_type": "markdown",
   "metadata": {
    "id": "8Qu-EBIN9PKK"
   },
   "source": [
    "医学論文の自動仕分けチャレンジ ベースライン\n",
    "\n",
    "PyTorch と BERT を使ったベースラインです。\n",
    "\n",
    "judgement の値をもとにした層別交差検証 (Stratified KFold) をします。\n",
    "\n",
    "title のみで学習・推論します。\n",
    "\n",
    "モデルの出力は 0 ~ 1 の実数を想定した 回帰予測 とします。\n",
    "\n",
    "モデルの出力をある境界値をもとに 0 と 1 にします。\n",
    "\n",
    "境界値は 学習データの judgement の 0 と 1 の割合で決めます。\n",
    "\n",
    "交差検証で生成した5つのモデルでそれぞれ推論を行い、結果を平均して、テストコードの推論結果とします。"
   ]
  },
  {
   "cell_type": "code",
   "execution_count": null,
   "metadata": {
    "id": "D9RvpT8f3cxP"
   },
   "outputs": [],
   "source": [
    "def inference2():\n",
    "    predictions = []\n",
    "\n",
    "    test_dataset = BaseDataset(train, MODEL, include_labels=False)\n",
    "    test_loader = DataLoader(\n",
    "        test_dataset, batch_size=16, shuffle=False, num_workers=N_FOLD - 1, pin_memory=True\n",
    "    )\n",
    "\n",
    "    for fold in range(N_FOLD):\n",
    "        LOGGER.info(f\"========== model: fold: {fold} inference ==========\")\n",
    "        model = BaseModel(MODEL)\n",
    "        model.to(device)\n",
    "        model.load_state_dict(torch.load(OUTPUT_DIR + f\"fold{fold}_best.pth\")[\"model\"])\n",
    "        model.eval()\n",
    "        preds = []\n",
    "        for i, (input_ids, attention_mask) in tqdm(enumerate(test_loader), total=len(test_loader)):\n",
    "            input_ids = input_ids.to(device)\n",
    "            attention_mask = attention_mask.to(device)\n",
    "            with torch.no_grad():\n",
    "                y_preds = model(input_ids, attention_mask)\n",
    "            preds.append(y_preds.to(\"cpu\").numpy())\n",
    "        preds = np.concatenate(preds)\n",
    "        predictions.append(preds)\n",
    "    predictions = np.mean(predictions, axis=0)\n",
    "\n",
    "    return predictions\n",
    "\n",
    "pred = inference2()\n",
    "train[\"pred\"] = pred\n",
    "\n",
    "train[['id', 'pred']].to_csv('{}pred_train_005.csv'.format(OUTPUT_DIR), index=False)"
   ]
  },
  {
   "cell_type": "code",
   "execution_count": 26,
   "metadata": {
    "executionInfo": {
     "elapsed": 5,
     "status": "ok",
     "timestamp": 1633477683955,
     "user": {
      "displayName": "山邉潤",
      "photoUrl": "https://lh3.googleusercontent.com/a/default-user=s64",
      "userId": "01598730496302142675"
     },
     "user_tz": -540
    },
    "id": "zAAPa0qf8XiM"
   },
   "outputs": [],
   "source": [
    "!cp ./pred_train_005.csv \"/content/drive/MyDrive/Colab Notebooks/signate/medical_treatises/data/01/pred_train_005.csv\"\n"
   ]
  },
  {
   "cell_type": "code",
   "execution_count": 26,
   "metadata": {
    "executionInfo": {
     "elapsed": 6,
     "status": "ok",
     "timestamp": 1633477683958,
     "user": {
      "displayName": "山邉潤",
      "photoUrl": "https://lh3.googleusercontent.com/a/default-user=s64",
      "userId": "01598730496302142675"
     },
     "user_tz": -540
    },
    "id": "j6La34TZ8XlP"
   },
   "outputs": [],
   "source": []
  }
 ],
 "metadata": {
  "accelerator": "GPU",
  "colab": {
   "authorship_tag": "ABX9TyOz6jZp/MmTBfmpXvsLCT2Z",
   "collapsed_sections": [],
   "mount_file_id": "1KEDOhRz2lIcSN3vTbecXe8TqPsAcNG6v",
   "name": "005_pred_e1.ipynb",
   "provenance": []
  },
  "kernelspec": {
   "display_name": "Python 3",
   "language": "python",
   "name": "python3"
  },
  "language_info": {
   "codemirror_mode": {
    "name": "ipython",
    "version": 3
   },
   "file_extension": ".py",
   "mimetype": "text/x-python",
   "name": "python",
   "nbconvert_exporter": "python",
   "pygments_lexer": "ipython3",
   "version": "3.8.5"
  },
  "widgets": {
   "application/vnd.jupyter.widget-state+json": {
    "002e37c195a149fbadc454e3099ca09a": {
     "model_module": "@jupyter-widgets/controls",
     "model_module_version": "1.5.0",
     "model_name": "ProgressStyleModel",
     "state": {
      "_model_module": "@jupyter-widgets/controls",
      "_model_module_version": "1.5.0",
      "_model_name": "ProgressStyleModel",
      "_view_count": null,
      "_view_module": "@jupyter-widgets/base",
      "_view_module_version": "1.2.0",
      "_view_name": "StyleView",
      "bar_color": null,
      "description_width": ""
     }
    },
    "02cc70de15c14dc48ac7196508149981": {
     "model_module": "@jupyter-widgets/controls",
     "model_module_version": "1.5.0",
     "model_name": "HTMLModel",
     "state": {
      "_dom_classes": [],
      "_model_module": "@jupyter-widgets/controls",
      "_model_module_version": "1.5.0",
      "_model_name": "HTMLModel",
      "_view_count": null,
      "_view_module": "@jupyter-widgets/controls",
      "_view_module_version": "1.5.0",
      "_view_name": "HTMLView",
      "description": "",
      "description_tooltip": null,
      "layout": "IPY_MODEL_bbb6d182321d4654bec27618d1c0eabc",
      "placeholder": "​",
      "style": "IPY_MODEL_440b6cb014ab4d1fb0929d032d25f6b7",
      "value": "100%"
     }
    },
    "08fb4a0bdc3c40a0ab99d3fd2ca354e5": {
     "model_module": "@jupyter-widgets/base",
     "model_module_version": "1.2.0",
     "model_name": "LayoutModel",
     "state": {
      "_model_module": "@jupyter-widgets/base",
      "_model_module_version": "1.2.0",
      "_model_name": "LayoutModel",
      "_view_count": null,
      "_view_module": "@jupyter-widgets/base",
      "_view_module_version": "1.2.0",
      "_view_name": "LayoutView",
      "align_content": null,
      "align_items": null,
      "align_self": null,
      "border": null,
      "bottom": null,
      "display": null,
      "flex": null,
      "flex_flow": null,
      "grid_area": null,
      "grid_auto_columns": null,
      "grid_auto_flow": null,
      "grid_auto_rows": null,
      "grid_column": null,
      "grid_gap": null,
      "grid_row": null,
      "grid_template_areas": null,
      "grid_template_columns": null,
      "grid_template_rows": null,
      "height": null,
      "justify_content": null,
      "justify_items": null,
      "left": null,
      "margin": null,
      "max_height": null,
      "max_width": null,
      "min_height": null,
      "min_width": null,
      "object_fit": null,
      "object_position": null,
      "order": null,
      "overflow": null,
      "overflow_x": null,
      "overflow_y": null,
      "padding": null,
      "right": null,
      "top": null,
      "visibility": null,
      "width": null
     }
    },
    "0a652a4f8fed4c07999826794e93d9bf": {
     "model_module": "@jupyter-widgets/controls",
     "model_module_version": "1.5.0",
     "model_name": "HTMLModel",
     "state": {
      "_dom_classes": [],
      "_model_module": "@jupyter-widgets/controls",
      "_model_module_version": "1.5.0",
      "_model_name": "HTMLModel",
      "_view_count": null,
      "_view_module": "@jupyter-widgets/controls",
      "_view_module_version": "1.5.0",
      "_view_name": "HTMLView",
      "description": "",
      "description_tooltip": null,
      "layout": "IPY_MODEL_76e614f6ad344d739c7d1aaebc459a30",
      "placeholder": "​",
      "style": "IPY_MODEL_48b39fc481c947d88455e4bea5d3dbe1",
      "value": "100%"
     }
    },
    "0feb4d33885441dcb090c3f0debb4845": {
     "model_module": "@jupyter-widgets/controls",
     "model_module_version": "1.5.0",
     "model_name": "DescriptionStyleModel",
     "state": {
      "_model_module": "@jupyter-widgets/controls",
      "_model_module_version": "1.5.0",
      "_model_name": "DescriptionStyleModel",
      "_view_count": null,
      "_view_module": "@jupyter-widgets/base",
      "_view_module_version": "1.2.0",
      "_view_name": "StyleView",
      "description_width": ""
     }
    },
    "1013ccd16b0b420da473ee39f5a5db0f": {
     "model_module": "@jupyter-widgets/base",
     "model_module_version": "1.2.0",
     "model_name": "LayoutModel",
     "state": {
      "_model_module": "@jupyter-widgets/base",
      "_model_module_version": "1.2.0",
      "_model_name": "LayoutModel",
      "_view_count": null,
      "_view_module": "@jupyter-widgets/base",
      "_view_module_version": "1.2.0",
      "_view_name": "LayoutView",
      "align_content": null,
      "align_items": null,
      "align_self": null,
      "border": null,
      "bottom": null,
      "display": null,
      "flex": null,
      "flex_flow": null,
      "grid_area": null,
      "grid_auto_columns": null,
      "grid_auto_flow": null,
      "grid_auto_rows": null,
      "grid_column": null,
      "grid_gap": null,
      "grid_row": null,
      "grid_template_areas": null,
      "grid_template_columns": null,
      "grid_template_rows": null,
      "height": null,
      "justify_content": null,
      "justify_items": null,
      "left": null,
      "margin": null,
      "max_height": null,
      "max_width": null,
      "min_height": null,
      "min_width": null,
      "object_fit": null,
      "object_position": null,
      "order": null,
      "overflow": null,
      "overflow_x": null,
      "overflow_y": null,
      "padding": null,
      "right": null,
      "top": null,
      "visibility": null,
      "width": null
     }
    },
    "1090aef298ca412a922dc9d56f17f3a4": {
     "model_module": "@jupyter-widgets/controls",
     "model_module_version": "1.5.0",
     "model_name": "ProgressStyleModel",
     "state": {
      "_model_module": "@jupyter-widgets/controls",
      "_model_module_version": "1.5.0",
      "_model_name": "ProgressStyleModel",
      "_view_count": null,
      "_view_module": "@jupyter-widgets/base",
      "_view_module_version": "1.2.0",
      "_view_name": "StyleView",
      "bar_color": null,
      "description_width": ""
     }
    },
    "1167bc16aec7427eac8603475d6ca2e0": {
     "model_module": "@jupyter-widgets/controls",
     "model_module_version": "1.5.0",
     "model_name": "FloatProgressModel",
     "state": {
      "_dom_classes": [],
      "_model_module": "@jupyter-widgets/controls",
      "_model_module_version": "1.5.0",
      "_model_name": "FloatProgressModel",
      "_view_count": null,
      "_view_module": "@jupyter-widgets/controls",
      "_view_module_version": "1.5.0",
      "_view_name": "ProgressView",
      "bar_style": "success",
      "description": "",
      "description_tooltip": null,
      "layout": "IPY_MODEL_1ddc80e836cf450d91235e9394ee5d55",
      "max": 2553,
      "min": 0,
      "orientation": "horizontal",
      "style": "IPY_MODEL_3b33a655a573414aae850765cc8616d5",
      "value": 2553
     }
    },
    "122d2c743c5947218a276fdf02b14ad8": {
     "model_module": "@jupyter-widgets/controls",
     "model_module_version": "1.5.0",
     "model_name": "FloatProgressModel",
     "state": {
      "_dom_classes": [],
      "_model_module": "@jupyter-widgets/controls",
      "_model_module_version": "1.5.0",
      "_model_name": "FloatProgressModel",
      "_view_count": null,
      "_view_module": "@jupyter-widgets/controls",
      "_view_module_version": "1.5.0",
      "_view_name": "ProgressView",
      "bar_style": "success",
      "description": "",
      "description_tooltip": null,
      "layout": "IPY_MODEL_2b8fea5737c945dbb45b91aaf16176a4",
      "max": 2553,
      "min": 0,
      "orientation": "horizontal",
      "style": "IPY_MODEL_a3829649346b40b1a1a1bb3b768028b7",
      "value": 2553
     }
    },
    "12dd5161a16441febdcec291a884fd3d": {
     "model_module": "@jupyter-widgets/controls",
     "model_module_version": "1.5.0",
     "model_name": "HTMLModel",
     "state": {
      "_dom_classes": [],
      "_model_module": "@jupyter-widgets/controls",
      "_model_module_version": "1.5.0",
      "_model_name": "HTMLModel",
      "_view_count": null,
      "_view_module": "@jupyter-widgets/controls",
      "_view_module_version": "1.5.0",
      "_view_name": "HTMLView",
      "description": "",
      "description_tooltip": null,
      "layout": "IPY_MODEL_5309dc3970e0474dbd8fdad6ad6548c0",
      "placeholder": "​",
      "style": "IPY_MODEL_89bbc4d0a8ab4375a67bb1cc40b3c24e",
      "value": "Downloading: 100%"
     }
    },
    "19e2a0e7283b4a6f88ca21da01cc21fc": {
     "model_module": "@jupyter-widgets/base",
     "model_module_version": "1.2.0",
     "model_name": "LayoutModel",
     "state": {
      "_model_module": "@jupyter-widgets/base",
      "_model_module_version": "1.2.0",
      "_model_name": "LayoutModel",
      "_view_count": null,
      "_view_module": "@jupyter-widgets/base",
      "_view_module_version": "1.2.0",
      "_view_name": "LayoutView",
      "align_content": null,
      "align_items": null,
      "align_self": null,
      "border": null,
      "bottom": null,
      "display": null,
      "flex": null,
      "flex_flow": null,
      "grid_area": null,
      "grid_auto_columns": null,
      "grid_auto_flow": null,
      "grid_auto_rows": null,
      "grid_column": null,
      "grid_gap": null,
      "grid_row": null,
      "grid_template_areas": null,
      "grid_template_columns": null,
      "grid_template_rows": null,
      "height": null,
      "justify_content": null,
      "justify_items": null,
      "left": null,
      "margin": null,
      "max_height": null,
      "max_width": null,
      "min_height": null,
      "min_width": null,
      "object_fit": null,
      "object_position": null,
      "order": null,
      "overflow": null,
      "overflow_x": null,
      "overflow_y": null,
      "padding": null,
      "right": null,
      "top": null,
      "visibility": null,
      "width": null
     }
    },
    "1d5ac7a0945f4cccaae222b4acdf6ca8": {
     "model_module": "@jupyter-widgets/controls",
     "model_module_version": "1.5.0",
     "model_name": "HTMLModel",
     "state": {
      "_dom_classes": [],
      "_model_module": "@jupyter-widgets/controls",
      "_model_module_version": "1.5.0",
      "_model_name": "HTMLModel",
      "_view_count": null,
      "_view_module": "@jupyter-widgets/controls",
      "_view_module_version": "1.5.0",
      "_view_name": "HTMLView",
      "description": "",
      "description_tooltip": null,
      "layout": "IPY_MODEL_7b452dad9bae4198a16971b46b5fefb0",
      "placeholder": "​",
      "style": "IPY_MODEL_386f7370bf8642298a951f73480e071d",
      "value": " 462/462 [00:00&lt;00:00, 11.7kB/s]"
     }
    },
    "1ddc80e836cf450d91235e9394ee5d55": {
     "model_module": "@jupyter-widgets/base",
     "model_module_version": "1.2.0",
     "model_name": "LayoutModel",
     "state": {
      "_model_module": "@jupyter-widgets/base",
      "_model_module_version": "1.2.0",
      "_model_name": "LayoutModel",
      "_view_count": null,
      "_view_module": "@jupyter-widgets/base",
      "_view_module_version": "1.2.0",
      "_view_name": "LayoutView",
      "align_content": null,
      "align_items": null,
      "align_self": null,
      "border": null,
      "bottom": null,
      "display": null,
      "flex": null,
      "flex_flow": null,
      "grid_area": null,
      "grid_auto_columns": null,
      "grid_auto_flow": null,
      "grid_auto_rows": null,
      "grid_column": null,
      "grid_gap": null,
      "grid_row": null,
      "grid_template_areas": null,
      "grid_template_columns": null,
      "grid_template_rows": null,
      "height": null,
      "justify_content": null,
      "justify_items": null,
      "left": null,
      "margin": null,
      "max_height": null,
      "max_width": null,
      "min_height": null,
      "min_width": null,
      "object_fit": null,
      "object_position": null,
      "order": null,
      "overflow": null,
      "overflow_x": null,
      "overflow_y": null,
      "padding": null,
      "right": null,
      "top": null,
      "visibility": null,
      "width": null
     }
    },
    "20fb12eb2dfa42fba0d90a7fb7139de1": {
     "model_module": "@jupyter-widgets/base",
     "model_module_version": "1.2.0",
     "model_name": "LayoutModel",
     "state": {
      "_model_module": "@jupyter-widgets/base",
      "_model_module_version": "1.2.0",
      "_model_name": "LayoutModel",
      "_view_count": null,
      "_view_module": "@jupyter-widgets/base",
      "_view_module_version": "1.2.0",
      "_view_name": "LayoutView",
      "align_content": null,
      "align_items": null,
      "align_self": null,
      "border": null,
      "bottom": null,
      "display": null,
      "flex": null,
      "flex_flow": null,
      "grid_area": null,
      "grid_auto_columns": null,
      "grid_auto_flow": null,
      "grid_auto_rows": null,
      "grid_column": null,
      "grid_gap": null,
      "grid_row": null,
      "grid_template_areas": null,
      "grid_template_columns": null,
      "grid_template_rows": null,
      "height": null,
      "justify_content": null,
      "justify_items": null,
      "left": null,
      "margin": null,
      "max_height": null,
      "max_width": null,
      "min_height": null,
      "min_width": null,
      "object_fit": null,
      "object_position": null,
      "order": null,
      "overflow": null,
      "overflow_x": null,
      "overflow_y": null,
      "padding": null,
      "right": null,
      "top": null,
      "visibility": null,
      "width": null
     }
    },
    "2b8fea5737c945dbb45b91aaf16176a4": {
     "model_module": "@jupyter-widgets/base",
     "model_module_version": "1.2.0",
     "model_name": "LayoutModel",
     "state": {
      "_model_module": "@jupyter-widgets/base",
      "_model_module_version": "1.2.0",
      "_model_name": "LayoutModel",
      "_view_count": null,
      "_view_module": "@jupyter-widgets/base",
      "_view_module_version": "1.2.0",
      "_view_name": "LayoutView",
      "align_content": null,
      "align_items": null,
      "align_self": null,
      "border": null,
      "bottom": null,
      "display": null,
      "flex": null,
      "flex_flow": null,
      "grid_area": null,
      "grid_auto_columns": null,
      "grid_auto_flow": null,
      "grid_auto_rows": null,
      "grid_column": null,
      "grid_gap": null,
      "grid_row": null,
      "grid_template_areas": null,
      "grid_template_columns": null,
      "grid_template_rows": null,
      "height": null,
      "justify_content": null,
      "justify_items": null,
      "left": null,
      "margin": null,
      "max_height": null,
      "max_width": null,
      "min_height": null,
      "min_width": null,
      "object_fit": null,
      "object_position": null,
      "order": null,
      "overflow": null,
      "overflow_x": null,
      "overflow_y": null,
      "padding": null,
      "right": null,
      "top": null,
      "visibility": null,
      "width": null
     }
    },
    "332f9d91871e4af5a12288ab9c199cc6": {
     "model_module": "@jupyter-widgets/base",
     "model_module_version": "1.2.0",
     "model_name": "LayoutModel",
     "state": {
      "_model_module": "@jupyter-widgets/base",
      "_model_module_version": "1.2.0",
      "_model_name": "LayoutModel",
      "_view_count": null,
      "_view_module": "@jupyter-widgets/base",
      "_view_module_version": "1.2.0",
      "_view_name": "LayoutView",
      "align_content": null,
      "align_items": null,
      "align_self": null,
      "border": null,
      "bottom": null,
      "display": null,
      "flex": null,
      "flex_flow": null,
      "grid_area": null,
      "grid_auto_columns": null,
      "grid_auto_flow": null,
      "grid_auto_rows": null,
      "grid_column": null,
      "grid_gap": null,
      "grid_row": null,
      "grid_template_areas": null,
      "grid_template_columns": null,
      "grid_template_rows": null,
      "height": null,
      "justify_content": null,
      "justify_items": null,
      "left": null,
      "margin": null,
      "max_height": null,
      "max_width": null,
      "min_height": null,
      "min_width": null,
      "object_fit": null,
      "object_position": null,
      "order": null,
      "overflow": null,
      "overflow_x": null,
      "overflow_y": null,
      "padding": null,
      "right": null,
      "top": null,
      "visibility": null,
      "width": null
     }
    },
    "35a782bca93e48649dfc833e813243a7": {
     "model_module": "@jupyter-widgets/controls",
     "model_module_version": "1.5.0",
     "model_name": "DescriptionStyleModel",
     "state": {
      "_model_module": "@jupyter-widgets/controls",
      "_model_module_version": "1.5.0",
      "_model_name": "DescriptionStyleModel",
      "_view_count": null,
      "_view_module": "@jupyter-widgets/base",
      "_view_module_version": "1.2.0",
      "_view_name": "StyleView",
      "description_width": ""
     }
    },
    "386f7370bf8642298a951f73480e071d": {
     "model_module": "@jupyter-widgets/controls",
     "model_module_version": "1.5.0",
     "model_name": "DescriptionStyleModel",
     "state": {
      "_model_module": "@jupyter-widgets/controls",
      "_model_module_version": "1.5.0",
      "_model_name": "DescriptionStyleModel",
      "_view_count": null,
      "_view_module": "@jupyter-widgets/base",
      "_view_module_version": "1.2.0",
      "_view_name": "StyleView",
      "description_width": ""
     }
    },
    "3b33a655a573414aae850765cc8616d5": {
     "model_module": "@jupyter-widgets/controls",
     "model_module_version": "1.5.0",
     "model_name": "ProgressStyleModel",
     "state": {
      "_model_module": "@jupyter-widgets/controls",
      "_model_module_version": "1.5.0",
      "_model_name": "ProgressStyleModel",
      "_view_count": null,
      "_view_module": "@jupyter-widgets/base",
      "_view_module_version": "1.2.0",
      "_view_name": "StyleView",
      "bar_color": null,
      "description_width": ""
     }
    },
    "3cfde8780a554fa2aad34ffa9ee2ce1c": {
     "model_module": "@jupyter-widgets/base",
     "model_module_version": "1.2.0",
     "model_name": "LayoutModel",
     "state": {
      "_model_module": "@jupyter-widgets/base",
      "_model_module_version": "1.2.0",
      "_model_name": "LayoutModel",
      "_view_count": null,
      "_view_module": "@jupyter-widgets/base",
      "_view_module_version": "1.2.0",
      "_view_name": "LayoutView",
      "align_content": null,
      "align_items": null,
      "align_self": null,
      "border": null,
      "bottom": null,
      "display": null,
      "flex": null,
      "flex_flow": null,
      "grid_area": null,
      "grid_auto_columns": null,
      "grid_auto_flow": null,
      "grid_auto_rows": null,
      "grid_column": null,
      "grid_gap": null,
      "grid_row": null,
      "grid_template_areas": null,
      "grid_template_columns": null,
      "grid_template_rows": null,
      "height": null,
      "justify_content": null,
      "justify_items": null,
      "left": null,
      "margin": null,
      "max_height": null,
      "max_width": null,
      "min_height": null,
      "min_width": null,
      "object_fit": null,
      "object_position": null,
      "order": null,
      "overflow": null,
      "overflow_x": null,
      "overflow_y": null,
      "padding": null,
      "right": null,
      "top": null,
      "visibility": null,
      "width": null
     }
    },
    "440b6cb014ab4d1fb0929d032d25f6b7": {
     "model_module": "@jupyter-widgets/controls",
     "model_module_version": "1.5.0",
     "model_name": "DescriptionStyleModel",
     "state": {
      "_model_module": "@jupyter-widgets/controls",
      "_model_module_version": "1.5.0",
      "_model_name": "DescriptionStyleModel",
      "_view_count": null,
      "_view_module": "@jupyter-widgets/base",
      "_view_module_version": "1.2.0",
      "_view_name": "StyleView",
      "description_width": ""
     }
    },
    "46d7a62259b448e8ae2316021a29062c": {
     "model_module": "@jupyter-widgets/controls",
     "model_module_version": "1.5.0",
     "model_name": "FloatProgressModel",
     "state": {
      "_dom_classes": [],
      "_model_module": "@jupyter-widgets/controls",
      "_model_module_version": "1.5.0",
      "_model_name": "FloatProgressModel",
      "_view_count": null,
      "_view_module": "@jupyter-widgets/controls",
      "_view_module_version": "1.5.0",
      "_view_name": "ProgressView",
      "bar_style": "success",
      "description": "",
      "description_tooltip": null,
      "layout": "IPY_MODEL_50a24bb37cbd4011aea1fa2024675a36",
      "max": 462,
      "min": 0,
      "orientation": "horizontal",
      "style": "IPY_MODEL_d8d27d711f2a46258e2df865b9a29413",
      "value": 462
     }
    },
    "48b39fc481c947d88455e4bea5d3dbe1": {
     "model_module": "@jupyter-widgets/controls",
     "model_module_version": "1.5.0",
     "model_name": "DescriptionStyleModel",
     "state": {
      "_model_module": "@jupyter-widgets/controls",
      "_model_module_version": "1.5.0",
      "_model_name": "DescriptionStyleModel",
      "_view_count": null,
      "_view_module": "@jupyter-widgets/base",
      "_view_module_version": "1.2.0",
      "_view_name": "StyleView",
      "description_width": ""
     }
    },
    "50a24bb37cbd4011aea1fa2024675a36": {
     "model_module": "@jupyter-widgets/base",
     "model_module_version": "1.2.0",
     "model_name": "LayoutModel",
     "state": {
      "_model_module": "@jupyter-widgets/base",
      "_model_module_version": "1.2.0",
      "_model_name": "LayoutModel",
      "_view_count": null,
      "_view_module": "@jupyter-widgets/base",
      "_view_module_version": "1.2.0",
      "_view_name": "LayoutView",
      "align_content": null,
      "align_items": null,
      "align_self": null,
      "border": null,
      "bottom": null,
      "display": null,
      "flex": null,
      "flex_flow": null,
      "grid_area": null,
      "grid_auto_columns": null,
      "grid_auto_flow": null,
      "grid_auto_rows": null,
      "grid_column": null,
      "grid_gap": null,
      "grid_row": null,
      "grid_template_areas": null,
      "grid_template_columns": null,
      "grid_template_rows": null,
      "height": null,
      "justify_content": null,
      "justify_items": null,
      "left": null,
      "margin": null,
      "max_height": null,
      "max_width": null,
      "min_height": null,
      "min_width": null,
      "object_fit": null,
      "object_position": null,
      "order": null,
      "overflow": null,
      "overflow_x": null,
      "overflow_y": null,
      "padding": null,
      "right": null,
      "top": null,
      "visibility": null,
      "width": null
     }
    },
    "5309dc3970e0474dbd8fdad6ad6548c0": {
     "model_module": "@jupyter-widgets/base",
     "model_module_version": "1.2.0",
     "model_name": "LayoutModel",
     "state": {
      "_model_module": "@jupyter-widgets/base",
      "_model_module_version": "1.2.0",
      "_model_name": "LayoutModel",
      "_view_count": null,
      "_view_module": "@jupyter-widgets/base",
      "_view_module_version": "1.2.0",
      "_view_name": "LayoutView",
      "align_content": null,
      "align_items": null,
      "align_self": null,
      "border": null,
      "bottom": null,
      "display": null,
      "flex": null,
      "flex_flow": null,
      "grid_area": null,
      "grid_auto_columns": null,
      "grid_auto_flow": null,
      "grid_auto_rows": null,
      "grid_column": null,
      "grid_gap": null,
      "grid_row": null,
      "grid_template_areas": null,
      "grid_template_columns": null,
      "grid_template_rows": null,
      "height": null,
      "justify_content": null,
      "justify_items": null,
      "left": null,
      "margin": null,
      "max_height": null,
      "max_width": null,
      "min_height": null,
      "min_width": null,
      "object_fit": null,
      "object_position": null,
      "order": null,
      "overflow": null,
      "overflow_x": null,
      "overflow_y": null,
      "padding": null,
      "right": null,
      "top": null,
      "visibility": null,
      "width": null
     }
    },
    "59e19b6a230d440a8b76e5c9c72dc229": {
     "model_module": "@jupyter-widgets/controls",
     "model_module_version": "1.5.0",
     "model_name": "HTMLModel",
     "state": {
      "_dom_classes": [],
      "_model_module": "@jupyter-widgets/controls",
      "_model_module_version": "1.5.0",
      "_model_name": "HTMLModel",
      "_view_count": null,
      "_view_module": "@jupyter-widgets/controls",
      "_view_module_version": "1.5.0",
      "_view_name": "HTMLView",
      "description": "",
      "description_tooltip": null,
      "layout": "IPY_MODEL_84297fb0334445558a6bbdd7aa3c648c",
      "placeholder": "​",
      "style": "IPY_MODEL_9fa295924f7b4c0cb400c2cf32a2f8f6",
      "value": " 2553/2553 [12:10&lt;00:00,  3.52it/s]"
     }
    },
    "5bb823942dc24835885b794220423b56": {
     "model_module": "@jupyter-widgets/base",
     "model_module_version": "1.2.0",
     "model_name": "LayoutModel",
     "state": {
      "_model_module": "@jupyter-widgets/base",
      "_model_module_version": "1.2.0",
      "_model_name": "LayoutModel",
      "_view_count": null,
      "_view_module": "@jupyter-widgets/base",
      "_view_module_version": "1.2.0",
      "_view_name": "LayoutView",
      "align_content": null,
      "align_items": null,
      "align_self": null,
      "border": null,
      "bottom": null,
      "display": null,
      "flex": null,
      "flex_flow": null,
      "grid_area": null,
      "grid_auto_columns": null,
      "grid_auto_flow": null,
      "grid_auto_rows": null,
      "grid_column": null,
      "grid_gap": null,
      "grid_row": null,
      "grid_template_areas": null,
      "grid_template_columns": null,
      "grid_template_rows": null,
      "height": null,
      "justify_content": null,
      "justify_items": null,
      "left": null,
      "margin": null,
      "max_height": null,
      "max_width": null,
      "min_height": null,
      "min_width": null,
      "object_fit": null,
      "object_position": null,
      "order": null,
      "overflow": null,
      "overflow_x": null,
      "overflow_y": null,
      "padding": null,
      "right": null,
      "top": null,
      "visibility": null,
      "width": null
     }
    },
    "5cb8bb783eb24ffcb572f6cd66f051d2": {
     "model_module": "@jupyter-widgets/base",
     "model_module_version": "1.2.0",
     "model_name": "LayoutModel",
     "state": {
      "_model_module": "@jupyter-widgets/base",
      "_model_module_version": "1.2.0",
      "_model_name": "LayoutModel",
      "_view_count": null,
      "_view_module": "@jupyter-widgets/base",
      "_view_module_version": "1.2.0",
      "_view_name": "LayoutView",
      "align_content": null,
      "align_items": null,
      "align_self": null,
      "border": null,
      "bottom": null,
      "display": null,
      "flex": null,
      "flex_flow": null,
      "grid_area": null,
      "grid_auto_columns": null,
      "grid_auto_flow": null,
      "grid_auto_rows": null,
      "grid_column": null,
      "grid_gap": null,
      "grid_row": null,
      "grid_template_areas": null,
      "grid_template_columns": null,
      "grid_template_rows": null,
      "height": null,
      "justify_content": null,
      "justify_items": null,
      "left": null,
      "margin": null,
      "max_height": null,
      "max_width": null,
      "min_height": null,
      "min_width": null,
      "object_fit": null,
      "object_position": null,
      "order": null,
      "overflow": null,
      "overflow_x": null,
      "overflow_y": null,
      "padding": null,
      "right": null,
      "top": null,
      "visibility": null,
      "width": null
     }
    },
    "63d16d40e6fd4d37bda4542956bb719d": {
     "model_module": "@jupyter-widgets/controls",
     "model_module_version": "1.5.0",
     "model_name": "DescriptionStyleModel",
     "state": {
      "_model_module": "@jupyter-widgets/controls",
      "_model_module_version": "1.5.0",
      "_model_name": "DescriptionStyleModel",
      "_view_count": null,
      "_view_module": "@jupyter-widgets/base",
      "_view_module_version": "1.2.0",
      "_view_name": "StyleView",
      "description_width": ""
     }
    },
    "64e2e7c4d9444d5499ea5d8e11dbb0a7": {
     "model_module": "@jupyter-widgets/base",
     "model_module_version": "1.2.0",
     "model_name": "LayoutModel",
     "state": {
      "_model_module": "@jupyter-widgets/base",
      "_model_module_version": "1.2.0",
      "_model_name": "LayoutModel",
      "_view_count": null,
      "_view_module": "@jupyter-widgets/base",
      "_view_module_version": "1.2.0",
      "_view_name": "LayoutView",
      "align_content": null,
      "align_items": null,
      "align_self": null,
      "border": null,
      "bottom": null,
      "display": null,
      "flex": null,
      "flex_flow": null,
      "grid_area": null,
      "grid_auto_columns": null,
      "grid_auto_flow": null,
      "grid_auto_rows": null,
      "grid_column": null,
      "grid_gap": null,
      "grid_row": null,
      "grid_template_areas": null,
      "grid_template_columns": null,
      "grid_template_rows": null,
      "height": null,
      "justify_content": null,
      "justify_items": null,
      "left": null,
      "margin": null,
      "max_height": null,
      "max_width": null,
      "min_height": null,
      "min_width": null,
      "object_fit": null,
      "object_position": null,
      "order": null,
      "overflow": null,
      "overflow_x": null,
      "overflow_y": null,
      "padding": null,
      "right": null,
      "top": null,
      "visibility": null,
      "width": null
     }
    },
    "675d3ef55f274672b10c2f698e4b2655": {
     "model_module": "@jupyter-widgets/controls",
     "model_module_version": "1.5.0",
     "model_name": "DescriptionStyleModel",
     "state": {
      "_model_module": "@jupyter-widgets/controls",
      "_model_module_version": "1.5.0",
      "_model_name": "DescriptionStyleModel",
      "_view_count": null,
      "_view_module": "@jupyter-widgets/base",
      "_view_module_version": "1.2.0",
      "_view_name": "StyleView",
      "description_width": ""
     }
    },
    "6a2be5e000b744079fdf5a8af9e30845": {
     "model_module": "@jupyter-widgets/controls",
     "model_module_version": "1.5.0",
     "model_name": "HTMLModel",
     "state": {
      "_dom_classes": [],
      "_model_module": "@jupyter-widgets/controls",
      "_model_module_version": "1.5.0",
      "_model_name": "HTMLModel",
      "_view_count": null,
      "_view_module": "@jupyter-widgets/controls",
      "_view_module_version": "1.5.0",
      "_view_name": "HTMLView",
      "description": "",
      "description_tooltip": null,
      "layout": "IPY_MODEL_e8afa0d857944a36a46fd38b43233f5d",
      "placeholder": "​",
      "style": "IPY_MODEL_8116cb2b5a644cc38f1eeb323442c74d",
      "value": "Downloading: 100%"
     }
    },
    "6de0b79cc2c543f4a84e3dd1675788ab": {
     "model_module": "@jupyter-widgets/controls",
     "model_module_version": "1.5.0",
     "model_name": "HTMLModel",
     "state": {
      "_dom_classes": [],
      "_model_module": "@jupyter-widgets/controls",
      "_model_module_version": "1.5.0",
      "_model_name": "HTMLModel",
      "_view_count": null,
      "_view_module": "@jupyter-widgets/controls",
      "_view_module_version": "1.5.0",
      "_view_name": "HTMLView",
      "description": "",
      "description_tooltip": null,
      "layout": "IPY_MODEL_ab863fdd7eea467bbf21943bb8ce8b98",
      "placeholder": "​",
      "style": "IPY_MODEL_89ddf1fca6ae40ee9ecda216d0383cce",
      "value": "Downloading: 100%"
     }
    },
    "718cd1464c5b4c0382abecb0712ad61e": {
     "model_module": "@jupyter-widgets/controls",
     "model_module_version": "1.5.0",
     "model_name": "ProgressStyleModel",
     "state": {
      "_model_module": "@jupyter-widgets/controls",
      "_model_module_version": "1.5.0",
      "_model_name": "ProgressStyleModel",
      "_view_count": null,
      "_view_module": "@jupyter-widgets/base",
      "_view_module_version": "1.2.0",
      "_view_name": "StyleView",
      "bar_color": null,
      "description_width": ""
     }
    },
    "729536a5ce7c45ae849a6648050421e0": {
     "model_module": "@jupyter-widgets/base",
     "model_module_version": "1.2.0",
     "model_name": "LayoutModel",
     "state": {
      "_model_module": "@jupyter-widgets/base",
      "_model_module_version": "1.2.0",
      "_model_name": "LayoutModel",
      "_view_count": null,
      "_view_module": "@jupyter-widgets/base",
      "_view_module_version": "1.2.0",
      "_view_name": "LayoutView",
      "align_content": null,
      "align_items": null,
      "align_self": null,
      "border": null,
      "bottom": null,
      "display": null,
      "flex": null,
      "flex_flow": null,
      "grid_area": null,
      "grid_auto_columns": null,
      "grid_auto_flow": null,
      "grid_auto_rows": null,
      "grid_column": null,
      "grid_gap": null,
      "grid_row": null,
      "grid_template_areas": null,
      "grid_template_columns": null,
      "grid_template_rows": null,
      "height": null,
      "justify_content": null,
      "justify_items": null,
      "left": null,
      "margin": null,
      "max_height": null,
      "max_width": null,
      "min_height": null,
      "min_width": null,
      "object_fit": null,
      "object_position": null,
      "order": null,
      "overflow": null,
      "overflow_x": null,
      "overflow_y": null,
      "padding": null,
      "right": null,
      "top": null,
      "visibility": null,
      "width": null
     }
    },
    "75641d1e4930407b8389c402b75b275b": {
     "model_module": "@jupyter-widgets/controls",
     "model_module_version": "1.5.0",
     "model_name": "DescriptionStyleModel",
     "state": {
      "_model_module": "@jupyter-widgets/controls",
      "_model_module_version": "1.5.0",
      "_model_name": "DescriptionStyleModel",
      "_view_count": null,
      "_view_module": "@jupyter-widgets/base",
      "_view_module_version": "1.2.0",
      "_view_name": "StyleView",
      "description_width": ""
     }
    },
    "76b8a014586343699e62fd2aca66996c": {
     "model_module": "@jupyter-widgets/base",
     "model_module_version": "1.2.0",
     "model_name": "LayoutModel",
     "state": {
      "_model_module": "@jupyter-widgets/base",
      "_model_module_version": "1.2.0",
      "_model_name": "LayoutModel",
      "_view_count": null,
      "_view_module": "@jupyter-widgets/base",
      "_view_module_version": "1.2.0",
      "_view_name": "LayoutView",
      "align_content": null,
      "align_items": null,
      "align_self": null,
      "border": null,
      "bottom": null,
      "display": null,
      "flex": null,
      "flex_flow": null,
      "grid_area": null,
      "grid_auto_columns": null,
      "grid_auto_flow": null,
      "grid_auto_rows": null,
      "grid_column": null,
      "grid_gap": null,
      "grid_row": null,
      "grid_template_areas": null,
      "grid_template_columns": null,
      "grid_template_rows": null,
      "height": null,
      "justify_content": null,
      "justify_items": null,
      "left": null,
      "margin": null,
      "max_height": null,
      "max_width": null,
      "min_height": null,
      "min_width": null,
      "object_fit": null,
      "object_position": null,
      "order": null,
      "overflow": null,
      "overflow_x": null,
      "overflow_y": null,
      "padding": null,
      "right": null,
      "top": null,
      "visibility": null,
      "width": null
     }
    },
    "76e614f6ad344d739c7d1aaebc459a30": {
     "model_module": "@jupyter-widgets/base",
     "model_module_version": "1.2.0",
     "model_name": "LayoutModel",
     "state": {
      "_model_module": "@jupyter-widgets/base",
      "_model_module_version": "1.2.0",
      "_model_name": "LayoutModel",
      "_view_count": null,
      "_view_module": "@jupyter-widgets/base",
      "_view_module_version": "1.2.0",
      "_view_name": "LayoutView",
      "align_content": null,
      "align_items": null,
      "align_self": null,
      "border": null,
      "bottom": null,
      "display": null,
      "flex": null,
      "flex_flow": null,
      "grid_area": null,
      "grid_auto_columns": null,
      "grid_auto_flow": null,
      "grid_auto_rows": null,
      "grid_column": null,
      "grid_gap": null,
      "grid_row": null,
      "grid_template_areas": null,
      "grid_template_columns": null,
      "grid_template_rows": null,
      "height": null,
      "justify_content": null,
      "justify_items": null,
      "left": null,
      "margin": null,
      "max_height": null,
      "max_width": null,
      "min_height": null,
      "min_width": null,
      "object_fit": null,
      "object_position": null,
      "order": null,
      "overflow": null,
      "overflow_x": null,
      "overflow_y": null,
      "padding": null,
      "right": null,
      "top": null,
      "visibility": null,
      "width": null
     }
    },
    "7917f34e6f634400b79fe83335bc0466": {
     "model_module": "@jupyter-widgets/controls",
     "model_module_version": "1.5.0",
     "model_name": "HBoxModel",
     "state": {
      "_dom_classes": [],
      "_model_module": "@jupyter-widgets/controls",
      "_model_module_version": "1.5.0",
      "_model_name": "HBoxModel",
      "_view_count": null,
      "_view_module": "@jupyter-widgets/controls",
      "_view_module_version": "1.5.0",
      "_view_name": "HBoxView",
      "box_style": "",
      "children": [
       "IPY_MODEL_0a652a4f8fed4c07999826794e93d9bf",
       "IPY_MODEL_b2603f8eaab94052832ed49570a60445",
       "IPY_MODEL_8bb36562217d43ef9e87b021e9316f66"
      ],
      "layout": "IPY_MODEL_ce1628c701304a4184b58bcac890a79a"
     }
    },
    "7b452dad9bae4198a16971b46b5fefb0": {
     "model_module": "@jupyter-widgets/base",
     "model_module_version": "1.2.0",
     "model_name": "LayoutModel",
     "state": {
      "_model_module": "@jupyter-widgets/base",
      "_model_module_version": "1.2.0",
      "_model_name": "LayoutModel",
      "_view_count": null,
      "_view_module": "@jupyter-widgets/base",
      "_view_module_version": "1.2.0",
      "_view_name": "LayoutView",
      "align_content": null,
      "align_items": null,
      "align_self": null,
      "border": null,
      "bottom": null,
      "display": null,
      "flex": null,
      "flex_flow": null,
      "grid_area": null,
      "grid_auto_columns": null,
      "grid_auto_flow": null,
      "grid_auto_rows": null,
      "grid_column": null,
      "grid_gap": null,
      "grid_row": null,
      "grid_template_areas": null,
      "grid_template_columns": null,
      "grid_template_rows": null,
      "height": null,
      "justify_content": null,
      "justify_items": null,
      "left": null,
      "margin": null,
      "max_height": null,
      "max_width": null,
      "min_height": null,
      "min_width": null,
      "object_fit": null,
      "object_position": null,
      "order": null,
      "overflow": null,
      "overflow_x": null,
      "overflow_y": null,
      "padding": null,
      "right": null,
      "top": null,
      "visibility": null,
      "width": null
     }
    },
    "8116cb2b5a644cc38f1eeb323442c74d": {
     "model_module": "@jupyter-widgets/controls",
     "model_module_version": "1.5.0",
     "model_name": "DescriptionStyleModel",
     "state": {
      "_model_module": "@jupyter-widgets/controls",
      "_model_module_version": "1.5.0",
      "_model_name": "DescriptionStyleModel",
      "_view_count": null,
      "_view_module": "@jupyter-widgets/base",
      "_view_module_version": "1.2.0",
      "_view_name": "StyleView",
      "description_width": ""
     }
    },
    "84297fb0334445558a6bbdd7aa3c648c": {
     "model_module": "@jupyter-widgets/base",
     "model_module_version": "1.2.0",
     "model_name": "LayoutModel",
     "state": {
      "_model_module": "@jupyter-widgets/base",
      "_model_module_version": "1.2.0",
      "_model_name": "LayoutModel",
      "_view_count": null,
      "_view_module": "@jupyter-widgets/base",
      "_view_module_version": "1.2.0",
      "_view_name": "LayoutView",
      "align_content": null,
      "align_items": null,
      "align_self": null,
      "border": null,
      "bottom": null,
      "display": null,
      "flex": null,
      "flex_flow": null,
      "grid_area": null,
      "grid_auto_columns": null,
      "grid_auto_flow": null,
      "grid_auto_rows": null,
      "grid_column": null,
      "grid_gap": null,
      "grid_row": null,
      "grid_template_areas": null,
      "grid_template_columns": null,
      "grid_template_rows": null,
      "height": null,
      "justify_content": null,
      "justify_items": null,
      "left": null,
      "margin": null,
      "max_height": null,
      "max_width": null,
      "min_height": null,
      "min_width": null,
      "object_fit": null,
      "object_position": null,
      "order": null,
      "overflow": null,
      "overflow_x": null,
      "overflow_y": null,
      "padding": null,
      "right": null,
      "top": null,
      "visibility": null,
      "width": null
     }
    },
    "881538a67fc245b49fb6ece522487fd5": {
     "model_module": "@jupyter-widgets/controls",
     "model_module_version": "1.5.0",
     "model_name": "FloatProgressModel",
     "state": {
      "_dom_classes": [],
      "_model_module": "@jupyter-widgets/controls",
      "_model_module_version": "1.5.0",
      "_model_name": "FloatProgressModel",
      "_view_count": null,
      "_view_module": "@jupyter-widgets/controls",
      "_view_module_version": "1.5.0",
      "_view_name": "ProgressView",
      "bar_style": "success",
      "description": "",
      "description_tooltip": null,
      "layout": "IPY_MODEL_ba330b04934d4fe18f3a36a97bf65424",
      "max": 438012727,
      "min": 0,
      "orientation": "horizontal",
      "style": "IPY_MODEL_9a2863d8d903494db2bf5ec8b3c6916b",
      "value": 438012727
     }
    },
    "89bbc4d0a8ab4375a67bb1cc40b3c24e": {
     "model_module": "@jupyter-widgets/controls",
     "model_module_version": "1.5.0",
     "model_name": "DescriptionStyleModel",
     "state": {
      "_model_module": "@jupyter-widgets/controls",
      "_model_module_version": "1.5.0",
      "_model_name": "DescriptionStyleModel",
      "_view_count": null,
      "_view_module": "@jupyter-widgets/base",
      "_view_module_version": "1.2.0",
      "_view_name": "StyleView",
      "description_width": ""
     }
    },
    "89ddf1fca6ae40ee9ecda216d0383cce": {
     "model_module": "@jupyter-widgets/controls",
     "model_module_version": "1.5.0",
     "model_name": "DescriptionStyleModel",
     "state": {
      "_model_module": "@jupyter-widgets/controls",
      "_model_module_version": "1.5.0",
      "_model_name": "DescriptionStyleModel",
      "_view_count": null,
      "_view_module": "@jupyter-widgets/base",
      "_view_module_version": "1.2.0",
      "_view_name": "StyleView",
      "description_width": ""
     }
    },
    "8bb36562217d43ef9e87b021e9316f66": {
     "model_module": "@jupyter-widgets/controls",
     "model_module_version": "1.5.0",
     "model_name": "HTMLModel",
     "state": {
      "_dom_classes": [],
      "_model_module": "@jupyter-widgets/controls",
      "_model_module_version": "1.5.0",
      "_model_name": "HTMLModel",
      "_view_count": null,
      "_view_module": "@jupyter-widgets/controls",
      "_view_module_version": "1.5.0",
      "_view_name": "HTMLView",
      "description": "",
      "description_tooltip": null,
      "layout": "IPY_MODEL_3cfde8780a554fa2aad34ffa9ee2ce1c",
      "placeholder": "​",
      "style": "IPY_MODEL_0feb4d33885441dcb090c3f0debb4845",
      "value": " 2553/2553 [12:11&lt;00:00,  3.51it/s]"
     }
    },
    "8bd59b3dc0b24c30806a5dc2caeff410": {
     "model_module": "@jupyter-widgets/controls",
     "model_module_version": "1.5.0",
     "model_name": "DescriptionStyleModel",
     "state": {
      "_model_module": "@jupyter-widgets/controls",
      "_model_module_version": "1.5.0",
      "_model_name": "DescriptionStyleModel",
      "_view_count": null,
      "_view_module": "@jupyter-widgets/base",
      "_view_module_version": "1.2.0",
      "_view_name": "StyleView",
      "description_width": ""
     }
    },
    "8ec64542627a4e0b85b75f3fb91abb98": {
     "model_module": "@jupyter-widgets/controls",
     "model_module_version": "1.5.0",
     "model_name": "DescriptionStyleModel",
     "state": {
      "_model_module": "@jupyter-widgets/controls",
      "_model_module_version": "1.5.0",
      "_model_name": "DescriptionStyleModel",
      "_view_count": null,
      "_view_module": "@jupyter-widgets/base",
      "_view_module_version": "1.2.0",
      "_view_name": "StyleView",
      "description_width": ""
     }
    },
    "906df1a0f8054e6fa5ddf1fb5f7b1cb5": {
     "model_module": "@jupyter-widgets/controls",
     "model_module_version": "1.5.0",
     "model_name": "HBoxModel",
     "state": {
      "_dom_classes": [],
      "_model_module": "@jupyter-widgets/controls",
      "_model_module_version": "1.5.0",
      "_model_name": "HBoxModel",
      "_view_count": null,
      "_view_module": "@jupyter-widgets/controls",
      "_view_module_version": "1.5.0",
      "_view_name": "HBoxView",
      "box_style": "",
      "children": [
       "IPY_MODEL_12dd5161a16441febdcec291a884fd3d",
       "IPY_MODEL_46d7a62259b448e8ae2316021a29062c",
       "IPY_MODEL_1d5ac7a0945f4cccaae222b4acdf6ca8"
      ],
      "layout": "IPY_MODEL_a22249236ce7495b92c20df4e348535c"
     }
    },
    "915ac19c9f8546be83f6b63050ed8f5e": {
     "model_module": "@jupyter-widgets/base",
     "model_module_version": "1.2.0",
     "model_name": "LayoutModel",
     "state": {
      "_model_module": "@jupyter-widgets/base",
      "_model_module_version": "1.2.0",
      "_model_name": "LayoutModel",
      "_view_count": null,
      "_view_module": "@jupyter-widgets/base",
      "_view_module_version": "1.2.0",
      "_view_name": "LayoutView",
      "align_content": null,
      "align_items": null,
      "align_self": null,
      "border": null,
      "bottom": null,
      "display": null,
      "flex": null,
      "flex_flow": null,
      "grid_area": null,
      "grid_auto_columns": null,
      "grid_auto_flow": null,
      "grid_auto_rows": null,
      "grid_column": null,
      "grid_gap": null,
      "grid_row": null,
      "grid_template_areas": null,
      "grid_template_columns": null,
      "grid_template_rows": null,
      "height": null,
      "justify_content": null,
      "justify_items": null,
      "left": null,
      "margin": null,
      "max_height": null,
      "max_width": null,
      "min_height": null,
      "min_width": null,
      "object_fit": null,
      "object_position": null,
      "order": null,
      "overflow": null,
      "overflow_x": null,
      "overflow_y": null,
      "padding": null,
      "right": null,
      "top": null,
      "visibility": null,
      "width": null
     }
    },
    "97c20d61295a43879b5c51617a689064": {
     "model_module": "@jupyter-widgets/base",
     "model_module_version": "1.2.0",
     "model_name": "LayoutModel",
     "state": {
      "_model_module": "@jupyter-widgets/base",
      "_model_module_version": "1.2.0",
      "_model_name": "LayoutModel",
      "_view_count": null,
      "_view_module": "@jupyter-widgets/base",
      "_view_module_version": "1.2.0",
      "_view_name": "LayoutView",
      "align_content": null,
      "align_items": null,
      "align_self": null,
      "border": null,
      "bottom": null,
      "display": null,
      "flex": null,
      "flex_flow": null,
      "grid_area": null,
      "grid_auto_columns": null,
      "grid_auto_flow": null,
      "grid_auto_rows": null,
      "grid_column": null,
      "grid_gap": null,
      "grid_row": null,
      "grid_template_areas": null,
      "grid_template_columns": null,
      "grid_template_rows": null,
      "height": null,
      "justify_content": null,
      "justify_items": null,
      "left": null,
      "margin": null,
      "max_height": null,
      "max_width": null,
      "min_height": null,
      "min_width": null,
      "object_fit": null,
      "object_position": null,
      "order": null,
      "overflow": null,
      "overflow_x": null,
      "overflow_y": null,
      "padding": null,
      "right": null,
      "top": null,
      "visibility": null,
      "width": null
     }
    },
    "9a2863d8d903494db2bf5ec8b3c6916b": {
     "model_module": "@jupyter-widgets/controls",
     "model_module_version": "1.5.0",
     "model_name": "ProgressStyleModel",
     "state": {
      "_model_module": "@jupyter-widgets/controls",
      "_model_module_version": "1.5.0",
      "_model_name": "ProgressStyleModel",
      "_view_count": null,
      "_view_module": "@jupyter-widgets/base",
      "_view_module_version": "1.2.0",
      "_view_name": "StyleView",
      "bar_color": null,
      "description_width": ""
     }
    },
    "9b763f4eadd243ee9825069deccb5523": {
     "model_module": "@jupyter-widgets/controls",
     "model_module_version": "1.5.0",
     "model_name": "HBoxModel",
     "state": {
      "_dom_classes": [],
      "_model_module": "@jupyter-widgets/controls",
      "_model_module_version": "1.5.0",
      "_model_name": "HBoxModel",
      "_view_count": null,
      "_view_module": "@jupyter-widgets/controls",
      "_view_module_version": "1.5.0",
      "_view_name": "HBoxView",
      "box_style": "",
      "children": [
       "IPY_MODEL_6de0b79cc2c543f4a84e3dd1675788ab",
       "IPY_MODEL_881538a67fc245b49fb6ece522487fd5",
       "IPY_MODEL_daa1a38642584746ba7b88de95d16f9f"
      ],
      "layout": "IPY_MODEL_729536a5ce7c45ae849a6648050421e0"
     }
    },
    "9fa295924f7b4c0cb400c2cf32a2f8f6": {
     "model_module": "@jupyter-widgets/controls",
     "model_module_version": "1.5.0",
     "model_name": "DescriptionStyleModel",
     "state": {
      "_model_module": "@jupyter-widgets/controls",
      "_model_module_version": "1.5.0",
      "_model_name": "DescriptionStyleModel",
      "_view_count": null,
      "_view_module": "@jupyter-widgets/base",
      "_view_module_version": "1.2.0",
      "_view_name": "StyleView",
      "description_width": ""
     }
    },
    "a22249236ce7495b92c20df4e348535c": {
     "model_module": "@jupyter-widgets/base",
     "model_module_version": "1.2.0",
     "model_name": "LayoutModel",
     "state": {
      "_model_module": "@jupyter-widgets/base",
      "_model_module_version": "1.2.0",
      "_model_name": "LayoutModel",
      "_view_count": null,
      "_view_module": "@jupyter-widgets/base",
      "_view_module_version": "1.2.0",
      "_view_name": "LayoutView",
      "align_content": null,
      "align_items": null,
      "align_self": null,
      "border": null,
      "bottom": null,
      "display": null,
      "flex": null,
      "flex_flow": null,
      "grid_area": null,
      "grid_auto_columns": null,
      "grid_auto_flow": null,
      "grid_auto_rows": null,
      "grid_column": null,
      "grid_gap": null,
      "grid_row": null,
      "grid_template_areas": null,
      "grid_template_columns": null,
      "grid_template_rows": null,
      "height": null,
      "justify_content": null,
      "justify_items": null,
      "left": null,
      "margin": null,
      "max_height": null,
      "max_width": null,
      "min_height": null,
      "min_width": null,
      "object_fit": null,
      "object_position": null,
      "order": null,
      "overflow": null,
      "overflow_x": null,
      "overflow_y": null,
      "padding": null,
      "right": null,
      "top": null,
      "visibility": null,
      "width": null
     }
    },
    "a3829649346b40b1a1a1bb3b768028b7": {
     "model_module": "@jupyter-widgets/controls",
     "model_module_version": "1.5.0",
     "model_name": "ProgressStyleModel",
     "state": {
      "_model_module": "@jupyter-widgets/controls",
      "_model_module_version": "1.5.0",
      "_model_name": "ProgressStyleModel",
      "_view_count": null,
      "_view_module": "@jupyter-widgets/base",
      "_view_module_version": "1.2.0",
      "_view_name": "StyleView",
      "bar_color": null,
      "description_width": ""
     }
    },
    "a9deba3f05b14026a9665fea49a59527": {
     "model_module": "@jupyter-widgets/controls",
     "model_module_version": "1.5.0",
     "model_name": "HTMLModel",
     "state": {
      "_dom_classes": [],
      "_model_module": "@jupyter-widgets/controls",
      "_model_module_version": "1.5.0",
      "_model_name": "HTMLModel",
      "_view_count": null,
      "_view_module": "@jupyter-widgets/controls",
      "_view_module_version": "1.5.0",
      "_view_name": "HTMLView",
      "description": "",
      "description_tooltip": null,
      "layout": "IPY_MODEL_ac9b5ef01bd045f9937e0184ad53e2f2",
      "placeholder": "​",
      "style": "IPY_MODEL_35a782bca93e48649dfc833e813243a7",
      "value": " 2553/2553 [12:10&lt;00:00,  3.52it/s]"
     }
    },
    "ab863fdd7eea467bbf21943bb8ce8b98": {
     "model_module": "@jupyter-widgets/base",
     "model_module_version": "1.2.0",
     "model_name": "LayoutModel",
     "state": {
      "_model_module": "@jupyter-widgets/base",
      "_model_module_version": "1.2.0",
      "_model_name": "LayoutModel",
      "_view_count": null,
      "_view_module": "@jupyter-widgets/base",
      "_view_module_version": "1.2.0",
      "_view_name": "LayoutView",
      "align_content": null,
      "align_items": null,
      "align_self": null,
      "border": null,
      "bottom": null,
      "display": null,
      "flex": null,
      "flex_flow": null,
      "grid_area": null,
      "grid_auto_columns": null,
      "grid_auto_flow": null,
      "grid_auto_rows": null,
      "grid_column": null,
      "grid_gap": null,
      "grid_row": null,
      "grid_template_areas": null,
      "grid_template_columns": null,
      "grid_template_rows": null,
      "height": null,
      "justify_content": null,
      "justify_items": null,
      "left": null,
      "margin": null,
      "max_height": null,
      "max_width": null,
      "min_height": null,
      "min_width": null,
      "object_fit": null,
      "object_position": null,
      "order": null,
      "overflow": null,
      "overflow_x": null,
      "overflow_y": null,
      "padding": null,
      "right": null,
      "top": null,
      "visibility": null,
      "width": null
     }
    },
    "abfacaf680164d38981a94a9e2b29e62": {
     "model_module": "@jupyter-widgets/base",
     "model_module_version": "1.2.0",
     "model_name": "LayoutModel",
     "state": {
      "_model_module": "@jupyter-widgets/base",
      "_model_module_version": "1.2.0",
      "_model_name": "LayoutModel",
      "_view_count": null,
      "_view_module": "@jupyter-widgets/base",
      "_view_module_version": "1.2.0",
      "_view_name": "LayoutView",
      "align_content": null,
      "align_items": null,
      "align_self": null,
      "border": null,
      "bottom": null,
      "display": null,
      "flex": null,
      "flex_flow": null,
      "grid_area": null,
      "grid_auto_columns": null,
      "grid_auto_flow": null,
      "grid_auto_rows": null,
      "grid_column": null,
      "grid_gap": null,
      "grid_row": null,
      "grid_template_areas": null,
      "grid_template_columns": null,
      "grid_template_rows": null,
      "height": null,
      "justify_content": null,
      "justify_items": null,
      "left": null,
      "margin": null,
      "max_height": null,
      "max_width": null,
      "min_height": null,
      "min_width": null,
      "object_fit": null,
      "object_position": null,
      "order": null,
      "overflow": null,
      "overflow_x": null,
      "overflow_y": null,
      "padding": null,
      "right": null,
      "top": null,
      "visibility": null,
      "width": null
     }
    },
    "ac8bd0162be040d591755bc024b01b8c": {
     "model_module": "@jupyter-widgets/controls",
     "model_module_version": "1.5.0",
     "model_name": "HBoxModel",
     "state": {
      "_dom_classes": [],
      "_model_module": "@jupyter-widgets/controls",
      "_model_module_version": "1.5.0",
      "_model_name": "HBoxModel",
      "_view_count": null,
      "_view_module": "@jupyter-widgets/controls",
      "_view_module_version": "1.5.0",
      "_view_name": "HBoxView",
      "box_style": "",
      "children": [
       "IPY_MODEL_6a2be5e000b744079fdf5a8af9e30845",
       "IPY_MODEL_ddff5147e299466aab3f1df5d629cc1d",
       "IPY_MODEL_d52c32a274d54d479ed7ac9cd863da7b"
      ],
      "layout": "IPY_MODEL_5bb823942dc24835885b794220423b56"
     }
    },
    "ac9b5ef01bd045f9937e0184ad53e2f2": {
     "model_module": "@jupyter-widgets/base",
     "model_module_version": "1.2.0",
     "model_name": "LayoutModel",
     "state": {
      "_model_module": "@jupyter-widgets/base",
      "_model_module_version": "1.2.0",
      "_model_name": "LayoutModel",
      "_view_count": null,
      "_view_module": "@jupyter-widgets/base",
      "_view_module_version": "1.2.0",
      "_view_name": "LayoutView",
      "align_content": null,
      "align_items": null,
      "align_self": null,
      "border": null,
      "bottom": null,
      "display": null,
      "flex": null,
      "flex_flow": null,
      "grid_area": null,
      "grid_auto_columns": null,
      "grid_auto_flow": null,
      "grid_auto_rows": null,
      "grid_column": null,
      "grid_gap": null,
      "grid_row": null,
      "grid_template_areas": null,
      "grid_template_columns": null,
      "grid_template_rows": null,
      "height": null,
      "justify_content": null,
      "justify_items": null,
      "left": null,
      "margin": null,
      "max_height": null,
      "max_width": null,
      "min_height": null,
      "min_width": null,
      "object_fit": null,
      "object_position": null,
      "order": null,
      "overflow": null,
      "overflow_x": null,
      "overflow_y": null,
      "padding": null,
      "right": null,
      "top": null,
      "visibility": null,
      "width": null
     }
    },
    "acd3016894414f7bb037cc5a317b30bb": {
     "model_module": "@jupyter-widgets/controls",
     "model_module_version": "1.5.0",
     "model_name": "DescriptionStyleModel",
     "state": {
      "_model_module": "@jupyter-widgets/controls",
      "_model_module_version": "1.5.0",
      "_model_name": "DescriptionStyleModel",
      "_view_count": null,
      "_view_module": "@jupyter-widgets/base",
      "_view_module_version": "1.2.0",
      "_view_name": "StyleView",
      "description_width": ""
     }
    },
    "ad3a977ec5be43228204f05ba510dc58": {
     "model_module": "@jupyter-widgets/controls",
     "model_module_version": "1.5.0",
     "model_name": "HBoxModel",
     "state": {
      "_dom_classes": [],
      "_model_module": "@jupyter-widgets/controls",
      "_model_module_version": "1.5.0",
      "_model_name": "HBoxModel",
      "_view_count": null,
      "_view_module": "@jupyter-widgets/controls",
      "_view_module_version": "1.5.0",
      "_view_name": "HBoxView",
      "box_style": "",
      "children": [
       "IPY_MODEL_d23e8e662844447589bc79d5be7c6d9e",
       "IPY_MODEL_d4c84fb41c6943418c8f2c9e5cad2627",
       "IPY_MODEL_eff25ce38c174fe9b6d731d662ed0df6"
      ],
      "layout": "IPY_MODEL_64e2e7c4d9444d5499ea5d8e11dbb0a7"
     }
    },
    "b2603f8eaab94052832ed49570a60445": {
     "model_module": "@jupyter-widgets/controls",
     "model_module_version": "1.5.0",
     "model_name": "FloatProgressModel",
     "state": {
      "_dom_classes": [],
      "_model_module": "@jupyter-widgets/controls",
      "_model_module_version": "1.5.0",
      "_model_name": "FloatProgressModel",
      "_view_count": null,
      "_view_module": "@jupyter-widgets/controls",
      "_view_module_version": "1.5.0",
      "_view_name": "ProgressView",
      "bar_style": "success",
      "description": "",
      "description_tooltip": null,
      "layout": "IPY_MODEL_97c20d61295a43879b5c51617a689064",
      "max": 2553,
      "min": 0,
      "orientation": "horizontal",
      "style": "IPY_MODEL_718cd1464c5b4c0382abecb0712ad61e",
      "value": 2553
     }
    },
    "ba330b04934d4fe18f3a36a97bf65424": {
     "model_module": "@jupyter-widgets/base",
     "model_module_version": "1.2.0",
     "model_name": "LayoutModel",
     "state": {
      "_model_module": "@jupyter-widgets/base",
      "_model_module_version": "1.2.0",
      "_model_name": "LayoutModel",
      "_view_count": null,
      "_view_module": "@jupyter-widgets/base",
      "_view_module_version": "1.2.0",
      "_view_name": "LayoutView",
      "align_content": null,
      "align_items": null,
      "align_self": null,
      "border": null,
      "bottom": null,
      "display": null,
      "flex": null,
      "flex_flow": null,
      "grid_area": null,
      "grid_auto_columns": null,
      "grid_auto_flow": null,
      "grid_auto_rows": null,
      "grid_column": null,
      "grid_gap": null,
      "grid_row": null,
      "grid_template_areas": null,
      "grid_template_columns": null,
      "grid_template_rows": null,
      "height": null,
      "justify_content": null,
      "justify_items": null,
      "left": null,
      "margin": null,
      "max_height": null,
      "max_width": null,
      "min_height": null,
      "min_width": null,
      "object_fit": null,
      "object_position": null,
      "order": null,
      "overflow": null,
      "overflow_x": null,
      "overflow_y": null,
      "padding": null,
      "right": null,
      "top": null,
      "visibility": null,
      "width": null
     }
    },
    "bab900353e3a4e5997b39b94795058d1": {
     "model_module": "@jupyter-widgets/controls",
     "model_module_version": "1.5.0",
     "model_name": "FloatProgressModel",
     "state": {
      "_dom_classes": [],
      "_model_module": "@jupyter-widgets/controls",
      "_model_module_version": "1.5.0",
      "_model_name": "FloatProgressModel",
      "_view_count": null,
      "_view_module": "@jupyter-widgets/controls",
      "_view_module_version": "1.5.0",
      "_view_name": "ProgressView",
      "bar_style": "success",
      "description": "",
      "description_tooltip": null,
      "layout": "IPY_MODEL_ea04cced7b1e40f98dd63af3048fa947",
      "max": 2553,
      "min": 0,
      "orientation": "horizontal",
      "style": "IPY_MODEL_002e37c195a149fbadc454e3099ca09a",
      "value": 2553
     }
    },
    "bbb6d182321d4654bec27618d1c0eabc": {
     "model_module": "@jupyter-widgets/base",
     "model_module_version": "1.2.0",
     "model_name": "LayoutModel",
     "state": {
      "_model_module": "@jupyter-widgets/base",
      "_model_module_version": "1.2.0",
      "_model_name": "LayoutModel",
      "_view_count": null,
      "_view_module": "@jupyter-widgets/base",
      "_view_module_version": "1.2.0",
      "_view_name": "LayoutView",
      "align_content": null,
      "align_items": null,
      "align_self": null,
      "border": null,
      "bottom": null,
      "display": null,
      "flex": null,
      "flex_flow": null,
      "grid_area": null,
      "grid_auto_columns": null,
      "grid_auto_flow": null,
      "grid_auto_rows": null,
      "grid_column": null,
      "grid_gap": null,
      "grid_row": null,
      "grid_template_areas": null,
      "grid_template_columns": null,
      "grid_template_rows": null,
      "height": null,
      "justify_content": null,
      "justify_items": null,
      "left": null,
      "margin": null,
      "max_height": null,
      "max_width": null,
      "min_height": null,
      "min_width": null,
      "object_fit": null,
      "object_position": null,
      "order": null,
      "overflow": null,
      "overflow_x": null,
      "overflow_y": null,
      "padding": null,
      "right": null,
      "top": null,
      "visibility": null,
      "width": null
     }
    },
    "c1f95558ae9f47849f74f140ca21ebec": {
     "model_module": "@jupyter-widgets/controls",
     "model_module_version": "1.5.0",
     "model_name": "HBoxModel",
     "state": {
      "_dom_classes": [],
      "_model_module": "@jupyter-widgets/controls",
      "_model_module_version": "1.5.0",
      "_model_name": "HBoxModel",
      "_view_count": null,
      "_view_module": "@jupyter-widgets/controls",
      "_view_module_version": "1.5.0",
      "_view_name": "HBoxView",
      "box_style": "",
      "children": [
       "IPY_MODEL_cd0d7079ba5b442aa5d6ee10a2bdf52f",
       "IPY_MODEL_bab900353e3a4e5997b39b94795058d1",
       "IPY_MODEL_a9deba3f05b14026a9665fea49a59527"
      ],
      "layout": "IPY_MODEL_fea27170968b44a79f238d32f44a4385"
     }
    },
    "cd0d7079ba5b442aa5d6ee10a2bdf52f": {
     "model_module": "@jupyter-widgets/controls",
     "model_module_version": "1.5.0",
     "model_name": "HTMLModel",
     "state": {
      "_dom_classes": [],
      "_model_module": "@jupyter-widgets/controls",
      "_model_module_version": "1.5.0",
      "_model_name": "HTMLModel",
      "_view_count": null,
      "_view_module": "@jupyter-widgets/controls",
      "_view_module_version": "1.5.0",
      "_view_name": "HTMLView",
      "description": "",
      "description_tooltip": null,
      "layout": "IPY_MODEL_76b8a014586343699e62fd2aca66996c",
      "placeholder": "​",
      "style": "IPY_MODEL_63d16d40e6fd4d37bda4542956bb719d",
      "value": "100%"
     }
    },
    "ce1628c701304a4184b58bcac890a79a": {
     "model_module": "@jupyter-widgets/base",
     "model_module_version": "1.2.0",
     "model_name": "LayoutModel",
     "state": {
      "_model_module": "@jupyter-widgets/base",
      "_model_module_version": "1.2.0",
      "_model_name": "LayoutModel",
      "_view_count": null,
      "_view_module": "@jupyter-widgets/base",
      "_view_module_version": "1.2.0",
      "_view_name": "LayoutView",
      "align_content": null,
      "align_items": null,
      "align_self": null,
      "border": null,
      "bottom": null,
      "display": null,
      "flex": null,
      "flex_flow": null,
      "grid_area": null,
      "grid_auto_columns": null,
      "grid_auto_flow": null,
      "grid_auto_rows": null,
      "grid_column": null,
      "grid_gap": null,
      "grid_row": null,
      "grid_template_areas": null,
      "grid_template_columns": null,
      "grid_template_rows": null,
      "height": null,
      "justify_content": null,
      "justify_items": null,
      "left": null,
      "margin": null,
      "max_height": null,
      "max_width": null,
      "min_height": null,
      "min_width": null,
      "object_fit": null,
      "object_position": null,
      "order": null,
      "overflow": null,
      "overflow_x": null,
      "overflow_y": null,
      "padding": null,
      "right": null,
      "top": null,
      "visibility": null,
      "width": null
     }
    },
    "d0a47f833239420c99ef89b9920c6da1": {
     "model_module": "@jupyter-widgets/controls",
     "model_module_version": "1.5.0",
     "model_name": "HTMLModel",
     "state": {
      "_dom_classes": [],
      "_model_module": "@jupyter-widgets/controls",
      "_model_module_version": "1.5.0",
      "_model_name": "HTMLModel",
      "_view_count": null,
      "_view_module": "@jupyter-widgets/controls",
      "_view_module_version": "1.5.0",
      "_view_name": "HTMLView",
      "description": "",
      "description_tooltip": null,
      "layout": "IPY_MODEL_5cb8bb783eb24ffcb572f6cd66f051d2",
      "placeholder": "​",
      "style": "IPY_MODEL_e4eea3b7816d4f3e81d8e25e14a3d55b",
      "value": " 2553/2553 [12:13&lt;00:00,  3.51it/s]"
     }
    },
    "d23e8e662844447589bc79d5be7c6d9e": {
     "model_module": "@jupyter-widgets/controls",
     "model_module_version": "1.5.0",
     "model_name": "HTMLModel",
     "state": {
      "_dom_classes": [],
      "_model_module": "@jupyter-widgets/controls",
      "_model_module_version": "1.5.0",
      "_model_name": "HTMLModel",
      "_view_count": null,
      "_view_module": "@jupyter-widgets/controls",
      "_view_module_version": "1.5.0",
      "_view_name": "HTMLView",
      "description": "",
      "description_tooltip": null,
      "layout": "IPY_MODEL_08fb4a0bdc3c40a0ab99d3fd2ca354e5",
      "placeholder": "​",
      "style": "IPY_MODEL_75641d1e4930407b8389c402b75b275b",
      "value": "100%"
     }
    },
    "d4c84fb41c6943418c8f2c9e5cad2627": {
     "model_module": "@jupyter-widgets/controls",
     "model_module_version": "1.5.0",
     "model_name": "FloatProgressModel",
     "state": {
      "_dom_classes": [],
      "_model_module": "@jupyter-widgets/controls",
      "_model_module_version": "1.5.0",
      "_model_name": "FloatProgressModel",
      "_view_count": null,
      "_view_module": "@jupyter-widgets/controls",
      "_view_module_version": "1.5.0",
      "_view_name": "ProgressView",
      "bar_style": "success",
      "description": "",
      "description_tooltip": null,
      "layout": "IPY_MODEL_1013ccd16b0b420da473ee39f5a5db0f",
      "max": 2553,
      "min": 0,
      "orientation": "horizontal",
      "style": "IPY_MODEL_fa5f9ac7ee614c0a94e4d53901352d65",
      "value": 2553
     }
    },
    "d52c32a274d54d479ed7ac9cd863da7b": {
     "model_module": "@jupyter-widgets/controls",
     "model_module_version": "1.5.0",
     "model_name": "HTMLModel",
     "state": {
      "_dom_classes": [],
      "_model_module": "@jupyter-widgets/controls",
      "_model_module_version": "1.5.0",
      "_model_name": "HTMLModel",
      "_view_count": null,
      "_view_module": "@jupyter-widgets/controls",
      "_view_module_version": "1.5.0",
      "_view_name": "HTMLView",
      "description": "",
      "description_tooltip": null,
      "layout": "IPY_MODEL_abfacaf680164d38981a94a9e2b29e62",
      "placeholder": "​",
      "style": "IPY_MODEL_acd3016894414f7bb037cc5a317b30bb",
      "value": " 220k/220k [00:00&lt;00:00, 511kB/s]"
     }
    },
    "d8d27d711f2a46258e2df865b9a29413": {
     "model_module": "@jupyter-widgets/controls",
     "model_module_version": "1.5.0",
     "model_name": "ProgressStyleModel",
     "state": {
      "_model_module": "@jupyter-widgets/controls",
      "_model_module_version": "1.5.0",
      "_model_name": "ProgressStyleModel",
      "_view_count": null,
      "_view_module": "@jupyter-widgets/base",
      "_view_module_version": "1.2.0",
      "_view_name": "StyleView",
      "bar_color": null,
      "description_width": ""
     }
    },
    "daa1a38642584746ba7b88de95d16f9f": {
     "model_module": "@jupyter-widgets/controls",
     "model_module_version": "1.5.0",
     "model_name": "HTMLModel",
     "state": {
      "_dom_classes": [],
      "_model_module": "@jupyter-widgets/controls",
      "_model_module_version": "1.5.0",
      "_model_name": "HTMLModel",
      "_view_count": null,
      "_view_module": "@jupyter-widgets/controls",
      "_view_module_version": "1.5.0",
      "_view_name": "HTMLView",
      "description": "",
      "description_tooltip": null,
      "layout": "IPY_MODEL_332f9d91871e4af5a12288ab9c199cc6",
      "placeholder": "​",
      "style": "IPY_MODEL_8bd59b3dc0b24c30806a5dc2caeff410",
      "value": " 418M/418M [00:13&lt;00:00, 32.7MB/s]"
     }
    },
    "dd95742a251344b59ebaae8b1dc5202c": {
     "model_module": "@jupyter-widgets/base",
     "model_module_version": "1.2.0",
     "model_name": "LayoutModel",
     "state": {
      "_model_module": "@jupyter-widgets/base",
      "_model_module_version": "1.2.0",
      "_model_name": "LayoutModel",
      "_view_count": null,
      "_view_module": "@jupyter-widgets/base",
      "_view_module_version": "1.2.0",
      "_view_name": "LayoutView",
      "align_content": null,
      "align_items": null,
      "align_self": null,
      "border": null,
      "bottom": null,
      "display": null,
      "flex": null,
      "flex_flow": null,
      "grid_area": null,
      "grid_auto_columns": null,
      "grid_auto_flow": null,
      "grid_auto_rows": null,
      "grid_column": null,
      "grid_gap": null,
      "grid_row": null,
      "grid_template_areas": null,
      "grid_template_columns": null,
      "grid_template_rows": null,
      "height": null,
      "justify_content": null,
      "justify_items": null,
      "left": null,
      "margin": null,
      "max_height": null,
      "max_width": null,
      "min_height": null,
      "min_width": null,
      "object_fit": null,
      "object_position": null,
      "order": null,
      "overflow": null,
      "overflow_x": null,
      "overflow_y": null,
      "padding": null,
      "right": null,
      "top": null,
      "visibility": null,
      "width": null
     }
    },
    "ddff5147e299466aab3f1df5d629cc1d": {
     "model_module": "@jupyter-widgets/controls",
     "model_module_version": "1.5.0",
     "model_name": "FloatProgressModel",
     "state": {
      "_dom_classes": [],
      "_model_module": "@jupyter-widgets/controls",
      "_model_module_version": "1.5.0",
      "_model_name": "FloatProgressModel",
      "_view_count": null,
      "_view_module": "@jupyter-widgets/controls",
      "_view_module_version": "1.5.0",
      "_view_name": "ProgressView",
      "bar_style": "success",
      "description": "",
      "description_tooltip": null,
      "layout": "IPY_MODEL_19e2a0e7283b4a6f88ca21da01cc21fc",
      "max": 225062,
      "min": 0,
      "orientation": "horizontal",
      "style": "IPY_MODEL_1090aef298ca412a922dc9d56f17f3a4",
      "value": 225062
     }
    },
    "e0faf61ef86645c88dbe04f0471128a5": {
     "model_module": "@jupyter-widgets/controls",
     "model_module_version": "1.5.0",
     "model_name": "HBoxModel",
     "state": {
      "_dom_classes": [],
      "_model_module": "@jupyter-widgets/controls",
      "_model_module_version": "1.5.0",
      "_model_name": "HBoxModel",
      "_view_count": null,
      "_view_module": "@jupyter-widgets/controls",
      "_view_module_version": "1.5.0",
      "_view_name": "HBoxView",
      "box_style": "",
      "children": [
       "IPY_MODEL_ee5dad651cb549f2be54cebb8c5fed6d",
       "IPY_MODEL_122d2c743c5947218a276fdf02b14ad8",
       "IPY_MODEL_59e19b6a230d440a8b76e5c9c72dc229"
      ],
      "layout": "IPY_MODEL_dd95742a251344b59ebaae8b1dc5202c"
     }
    },
    "e4eea3b7816d4f3e81d8e25e14a3d55b": {
     "model_module": "@jupyter-widgets/controls",
     "model_module_version": "1.5.0",
     "model_name": "DescriptionStyleModel",
     "state": {
      "_model_module": "@jupyter-widgets/controls",
      "_model_module_version": "1.5.0",
      "_model_name": "DescriptionStyleModel",
      "_view_count": null,
      "_view_module": "@jupyter-widgets/base",
      "_view_module_version": "1.2.0",
      "_view_name": "StyleView",
      "description_width": ""
     }
    },
    "e8afa0d857944a36a46fd38b43233f5d": {
     "model_module": "@jupyter-widgets/base",
     "model_module_version": "1.2.0",
     "model_name": "LayoutModel",
     "state": {
      "_model_module": "@jupyter-widgets/base",
      "_model_module_version": "1.2.0",
      "_model_name": "LayoutModel",
      "_view_count": null,
      "_view_module": "@jupyter-widgets/base",
      "_view_module_version": "1.2.0",
      "_view_name": "LayoutView",
      "align_content": null,
      "align_items": null,
      "align_self": null,
      "border": null,
      "bottom": null,
      "display": null,
      "flex": null,
      "flex_flow": null,
      "grid_area": null,
      "grid_auto_columns": null,
      "grid_auto_flow": null,
      "grid_auto_rows": null,
      "grid_column": null,
      "grid_gap": null,
      "grid_row": null,
      "grid_template_areas": null,
      "grid_template_columns": null,
      "grid_template_rows": null,
      "height": null,
      "justify_content": null,
      "justify_items": null,
      "left": null,
      "margin": null,
      "max_height": null,
      "max_width": null,
      "min_height": null,
      "min_width": null,
      "object_fit": null,
      "object_position": null,
      "order": null,
      "overflow": null,
      "overflow_x": null,
      "overflow_y": null,
      "padding": null,
      "right": null,
      "top": null,
      "visibility": null,
      "width": null
     }
    },
    "ea04cced7b1e40f98dd63af3048fa947": {
     "model_module": "@jupyter-widgets/base",
     "model_module_version": "1.2.0",
     "model_name": "LayoutModel",
     "state": {
      "_model_module": "@jupyter-widgets/base",
      "_model_module_version": "1.2.0",
      "_model_name": "LayoutModel",
      "_view_count": null,
      "_view_module": "@jupyter-widgets/base",
      "_view_module_version": "1.2.0",
      "_view_name": "LayoutView",
      "align_content": null,
      "align_items": null,
      "align_self": null,
      "border": null,
      "bottom": null,
      "display": null,
      "flex": null,
      "flex_flow": null,
      "grid_area": null,
      "grid_auto_columns": null,
      "grid_auto_flow": null,
      "grid_auto_rows": null,
      "grid_column": null,
      "grid_gap": null,
      "grid_row": null,
      "grid_template_areas": null,
      "grid_template_columns": null,
      "grid_template_rows": null,
      "height": null,
      "justify_content": null,
      "justify_items": null,
      "left": null,
      "margin": null,
      "max_height": null,
      "max_width": null,
      "min_height": null,
      "min_width": null,
      "object_fit": null,
      "object_position": null,
      "order": null,
      "overflow": null,
      "overflow_x": null,
      "overflow_y": null,
      "padding": null,
      "right": null,
      "top": null,
      "visibility": null,
      "width": null
     }
    },
    "ee5dad651cb549f2be54cebb8c5fed6d": {
     "model_module": "@jupyter-widgets/controls",
     "model_module_version": "1.5.0",
     "model_name": "HTMLModel",
     "state": {
      "_dom_classes": [],
      "_model_module": "@jupyter-widgets/controls",
      "_model_module_version": "1.5.0",
      "_model_name": "HTMLModel",
      "_view_count": null,
      "_view_module": "@jupyter-widgets/controls",
      "_view_module_version": "1.5.0",
      "_view_name": "HTMLView",
      "description": "",
      "description_tooltip": null,
      "layout": "IPY_MODEL_f5294179b927480c92977317e813fa89",
      "placeholder": "​",
      "style": "IPY_MODEL_8ec64542627a4e0b85b75f3fb91abb98",
      "value": "100%"
     }
    },
    "eff25ce38c174fe9b6d731d662ed0df6": {
     "model_module": "@jupyter-widgets/controls",
     "model_module_version": "1.5.0",
     "model_name": "HTMLModel",
     "state": {
      "_dom_classes": [],
      "_model_module": "@jupyter-widgets/controls",
      "_model_module_version": "1.5.0",
      "_model_name": "HTMLModel",
      "_view_count": null,
      "_view_module": "@jupyter-widgets/controls",
      "_view_module_version": "1.5.0",
      "_view_name": "HTMLView",
      "description": "",
      "description_tooltip": null,
      "layout": "IPY_MODEL_915ac19c9f8546be83f6b63050ed8f5e",
      "placeholder": "​",
      "style": "IPY_MODEL_675d3ef55f274672b10c2f698e4b2655",
      "value": " 2553/2553 [12:09&lt;00:00,  3.52it/s]"
     }
    },
    "f0d8579f5d5d4275a7954d2ef25128be": {
     "model_module": "@jupyter-widgets/controls",
     "model_module_version": "1.5.0",
     "model_name": "HBoxModel",
     "state": {
      "_dom_classes": [],
      "_model_module": "@jupyter-widgets/controls",
      "_model_module_version": "1.5.0",
      "_model_name": "HBoxModel",
      "_view_count": null,
      "_view_module": "@jupyter-widgets/controls",
      "_view_module_version": "1.5.0",
      "_view_name": "HBoxView",
      "box_style": "",
      "children": [
       "IPY_MODEL_02cc70de15c14dc48ac7196508149981",
       "IPY_MODEL_1167bc16aec7427eac8603475d6ca2e0",
       "IPY_MODEL_d0a47f833239420c99ef89b9920c6da1"
      ],
      "layout": "IPY_MODEL_20fb12eb2dfa42fba0d90a7fb7139de1"
     }
    },
    "f5294179b927480c92977317e813fa89": {
     "model_module": "@jupyter-widgets/base",
     "model_module_version": "1.2.0",
     "model_name": "LayoutModel",
     "state": {
      "_model_module": "@jupyter-widgets/base",
      "_model_module_version": "1.2.0",
      "_model_name": "LayoutModel",
      "_view_count": null,
      "_view_module": "@jupyter-widgets/base",
      "_view_module_version": "1.2.0",
      "_view_name": "LayoutView",
      "align_content": null,
      "align_items": null,
      "align_self": null,
      "border": null,
      "bottom": null,
      "display": null,
      "flex": null,
      "flex_flow": null,
      "grid_area": null,
      "grid_auto_columns": null,
      "grid_auto_flow": null,
      "grid_auto_rows": null,
      "grid_column": null,
      "grid_gap": null,
      "grid_row": null,
      "grid_template_areas": null,
      "grid_template_columns": null,
      "grid_template_rows": null,
      "height": null,
      "justify_content": null,
      "justify_items": null,
      "left": null,
      "margin": null,
      "max_height": null,
      "max_width": null,
      "min_height": null,
      "min_width": null,
      "object_fit": null,
      "object_position": null,
      "order": null,
      "overflow": null,
      "overflow_x": null,
      "overflow_y": null,
      "padding": null,
      "right": null,
      "top": null,
      "visibility": null,
      "width": null
     }
    },
    "fa5f9ac7ee614c0a94e4d53901352d65": {
     "model_module": "@jupyter-widgets/controls",
     "model_module_version": "1.5.0",
     "model_name": "ProgressStyleModel",
     "state": {
      "_model_module": "@jupyter-widgets/controls",
      "_model_module_version": "1.5.0",
      "_model_name": "ProgressStyleModel",
      "_view_count": null,
      "_view_module": "@jupyter-widgets/base",
      "_view_module_version": "1.2.0",
      "_view_name": "StyleView",
      "bar_color": null,
      "description_width": ""
     }
    },
    "fea27170968b44a79f238d32f44a4385": {
     "model_module": "@jupyter-widgets/base",
     "model_module_version": "1.2.0",
     "model_name": "LayoutModel",
     "state": {
      "_model_module": "@jupyter-widgets/base",
      "_model_module_version": "1.2.0",
      "_model_name": "LayoutModel",
      "_view_count": null,
      "_view_module": "@jupyter-widgets/base",
      "_view_module_version": "1.2.0",
      "_view_name": "LayoutView",
      "align_content": null,
      "align_items": null,
      "align_self": null,
      "border": null,
      "bottom": null,
      "display": null,
      "flex": null,
      "flex_flow": null,
      "grid_area": null,
      "grid_auto_columns": null,
      "grid_auto_flow": null,
      "grid_auto_rows": null,
      "grid_column": null,
      "grid_gap": null,
      "grid_row": null,
      "grid_template_areas": null,
      "grid_template_columns": null,
      "grid_template_rows": null,
      "height": null,
      "justify_content": null,
      "justify_items": null,
      "left": null,
      "margin": null,
      "max_height": null,
      "max_width": null,
      "min_height": null,
      "min_width": null,
      "object_fit": null,
      "object_position": null,
      "order": null,
      "overflow": null,
      "overflow_x": null,
      "overflow_y": null,
      "padding": null,
      "right": null,
      "top": null,
      "visibility": null,
      "width": null
     }
    }
   }
  }
 },
 "nbformat": 4,
 "nbformat_minor": 1
}
