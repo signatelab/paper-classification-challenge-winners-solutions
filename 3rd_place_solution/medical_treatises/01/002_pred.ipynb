{
 "cells": [
  {
   "cell_type": "markdown",
   "metadata": {
    "id": "21hRDlq6_Qyg"
   },
   "source": [
    "```\n",
    "========== CV ==========\n",
    "epoch 3: Score: 0.89542\n",
    "epoch 4: Score: 0.90202\n",
    "Bio_ClinicalBERT: Score: 0.86897\n",
    "UMLSBert_ENG: Score: 0.90078\n",
    "BiomedNLP-PubMedBERT: Score: 0.89294\n",
    "COVID-SciBERT: Score: 0.88108\n",
    "BioRedditBERT-uncased: Score: 0.88899\n",
    "SciBERT: Score: 0.89542\n",
    "bluebert_pubmed_mimic_uncased: Score: 0.86402\n",
    "BiomedNLP-PubMedBERT, fold=4: Score: 0.90807\n",
    "BiomedNLP-PubMedBERT, fold=3: Score: 0.88896\n",
    "BiomedNLP-PubMedBERT, epoch=6, fold=3: Score: 0.89131\n",
    "UMLSBert_ENG, fold=4: Score: 0.90405\n",
    "###########################################\n",
    "\n",
    "```"
   ]
  },
  {
   "cell_type": "code",
   "execution_count": null,
   "metadata": {
    "id": "yzf2kqC0OR_d"
   },
   "outputs": [],
   "source": [
    "import pandas as pd\n",
    "import numpy as np\n",
    "\n",
    "DATA_DIR = '/content/drive/MyDrive/Colab Notebooks/signate/medical_treatises/data'\n",
    "\n",
    "# N_FOLD = 5\n",
    "N_FOLD = 4\n",
    "\n",
    "EPOCH = 3\n",
    "# EPOCH = 6\n",
    "# EPOCH = 10\n",
    "\n",
    "# MODEL = 'bert-base-uncased'\n",
    "# MODEL = 'allenai/scibert_scivocab_uncased'\n",
    "# MODEL = 'emilyalsentzer/Bio_ClinicalBERT'\n",
    "# MODEL = 'bionlp/bluebert_pubmed_uncased_L-12_H-768_A-12'\n",
    "# MODEL = 'GanjinZero/UMLSBert_ENG'\n",
    "MODEL = 'microsoft/BiomedNLP-PubMedBERT-base-uncased-abstract-fulltext'\n",
    "# MODEL = 'lordtt13/COVID-SciBERT'\n",
    "# MODEL = 'allenai/scibert_scivocab_cased'\n",
    "# MODEL = 'cambridgeltl/BioRedditBERT-uncased'\n",
    "# MODEL = 'emilyalsentzer/Bio_Discharge_Summary_BERT'\n",
    "# MODEL = 'bionlp/bluebert_pubmed_uncased_L-24_H-1024_A-16'\n",
    "# MODEL = 'bionlp/bluebert_pubmed_mimic_uncased_L-12_H-768_A-12'\n",
    "# MODEL = 'jambo/BiomedNLP-PubMedBERT-base-uncased-abstract-fulltext-finetuned-renet' # error\n"
   ]
  },
  {
   "cell_type": "markdown",
   "metadata": {
    "id": "dWlhDUL8Oq4v"
   },
   "source": [
    "# 医学論文の自動仕分けチャレンジ ベースライン\n",
    "\n",
    "    Pytorch と BERT を使ったベースラインです。\n",
    "    judgement の値をもとにした層別交差検証 (Stratified KFold) をします。\n",
    "    title のみで学習・推論します。\n",
    "    モデルの出力は 0 ~ 1 の実数を想定した 回帰予測 とします。\n",
    "    モデルの出力をある境界値をもとに 0 と 1 にします。\n",
    "        境界値は 学習データの judgement の 0 と 1 の割合で決めます。\n",
    "    交差検証で生成した5つのモデルでそれぞれ推論を行い、結果を平均して、テストコードの推論結果とします。\n",
    "\n",
    "## 前提\n",
    "\n",
    "    Google Colab で動かすことを想定します。\n",
    "\n",
    "## 事前準備\n",
    "\n",
    "    Google Drive の マイドライブ/Datasets/signate-471 というフォルダに 本コンペのデータを配置してください。\n",
    "\n",
    "## アウトプット\n",
    "\n",
    "    oof_df.csv: 交差検証でのモデルの出力などが入っています。\n",
    "    submission.csv: 提出用のファイルです。\n",
    "\n",
    "## スコア\n",
    "\n",
    "    CV (交差検証): 0.82746\n",
    "    LB (リーダーボード): 0.8368283611616681\n",
    "\n",
    "## 謝辞\n",
    "\n",
    "    この notebook は Kaggle で [@yasufuminakama](https://www.kaggle.com/yasufuminakama) さんが別コンペで公開されていた notebook をベースにしています。\n"
   ]
  },
  {
   "cell_type": "markdown",
   "metadata": {
    "id": "yh6RZhB0rrXT"
   },
   "source": [
    "## データをドライブからコピー"
   ]
  },
  {
   "cell_type": "code",
   "execution_count": null,
   "metadata": {
    "id": "HUTf1MCCPqrz"
   },
   "outputs": [],
   "source": [
    "import os\n",
    "import sys\n",
    "\n",
    "# from google.colab import drive\n",
    "# drive.mount('/gdrive')\n",
    "\n",
    "# !cp /gdrive/MyDrive/Datasets/signate-471/train.csv .\n",
    "# !cp /gdrive/MyDrive/Datasets/signate-471/test.csv .\n",
    "# !cp /gdrive/MyDrive/Datasets/signate-471/sample_submit.csv .\n",
    "\n",
    "!cp \"/content/drive/MyDrive/Colab Notebooks/signate/medical_treatises/data/train.csv\" .\n",
    "!cp \"/content/drive/MyDrive/Colab Notebooks/signate/medical_treatises/data/test.csv\" .\n",
    "!cp \"/content/drive/MyDrive/Colab Notebooks/signate/medical_treatises/data/sample_submit.csv\" ."
   ]
  },
  {
   "cell_type": "markdown",
   "metadata": {
    "id": "bYGFeq-7vGrb"
   },
   "source": [
    "## ライブラリ インストール、インポート"
   ]
  },
  {
   "cell_type": "code",
   "execution_count": null,
   "metadata": {
    "colab": {
     "base_uri": "https://localhost:8080/"
    },
    "executionInfo": {
     "elapsed": 6886,
     "status": "ok",
     "timestamp": 1633597788082,
     "user": {
      "displayName": "山邉潤",
      "photoUrl": "https://lh3.googleusercontent.com/a/default-user=s64",
      "userId": "01598730496302142675"
     },
     "user_tz": -540
    },
    "id": "I8TbAfxnvHN5",
    "outputId": "54db197c-7575-4fc8-ddbf-e30fc878fe08"
   },
   "outputs": [
    {
     "name": "stdout",
     "output_type": "stream",
     "text": [
      "\u001b[K     |████████████████████████████████| 2.9 MB 9.6 MB/s \n",
      "\u001b[K     |████████████████████████████████| 636 kB 66.2 MB/s \n",
      "\u001b[K     |████████████████████████████████| 895 kB 82.9 MB/s \n",
      "\u001b[K     |████████████████████████████████| 56 kB 5.9 MB/s \n",
      "\u001b[K     |████████████████████████████████| 3.3 MB 63.6 MB/s \n",
      "\u001b[?25h"
     ]
    }
   ],
   "source": [
    "!pip install -q transformers"
   ]
  },
  {
   "cell_type": "code",
   "execution_count": null,
   "metadata": {
    "id": "U28wEagsvJiH"
   },
   "outputs": [],
   "source": [
    "import math\n",
    "import random\n",
    "import time\n",
    "import warnings\n",
    "\n",
    "import numpy as np\n",
    "import pandas as pd\n",
    "import torch\n",
    "import torch.nn as nn\n",
    "import transformers as T\n",
    "from sklearn.metrics import fbeta_score\n",
    "from sklearn.model_selection import StratifiedKFold\n",
    "from torch.utils.data import DataLoader, Dataset\n",
    "from tqdm.notebook import tqdm"
   ]
  },
  {
   "cell_type": "code",
   "execution_count": null,
   "metadata": {
    "id": "y8lSDbzMvPe_"
   },
   "outputs": [],
   "source": [
    "DATA_DIR = './'\n",
    "OUTPUT_DIR = './'\n",
    "\n",
    "warnings.filterwarnings(\"ignore\")\n",
    "device = torch.device(\"cuda\" if torch.cuda.is_available() else \"cpu\")"
   ]
  },
  {
   "cell_type": "code",
   "execution_count": null,
   "metadata": {
    "id": "zq0rH07XvdHH"
   },
   "outputs": [],
   "source": [
    "def init_logger(log_file=OUTPUT_DIR + \"train.log\"):\n",
    "    from logging import INFO, FileHandler, Formatter, StreamHandler, getLogger\n",
    "\n",
    "    logger = getLogger(__name__)\n",
    "    logger.setLevel(INFO)\n",
    "    handler1 = StreamHandler()\n",
    "    handler1.setFormatter(Formatter(\"%(message)s\"))\n",
    "    handler2 = FileHandler(filename=log_file)\n",
    "    handler2.setFormatter(Formatter(\"%(message)s\"))\n",
    "    logger.addHandler(handler1)\n",
    "    logger.addHandler(handler2)\n",
    "    return logger\n",
    "\n",
    "LOGGER = init_logger()"
   ]
  },
  {
   "cell_type": "code",
   "execution_count": null,
   "metadata": {
    "id": "vM8ugPiovimm"
   },
   "outputs": [],
   "source": [
    "def seed_torch(seed=42):\n",
    "    random.seed(seed)\n",
    "    os.environ[\"PYTHONHASHSEED\"] = str(seed)\n",
    "    np.random.seed(seed)\n",
    "    torch.manual_seed(seed)\n",
    "    torch.cuda.manual_seed(seed)\n",
    "    torch.cuda.manual_seed_all(seed)\n",
    "    torch.backends.cudnn.deterministic = True\n",
    "\n",
    "seed = 471\n",
    "seed_torch(seed)"
   ]
  },
  {
   "cell_type": "markdown",
   "metadata": {
    "id": "zszzb2PPv9rN"
   },
   "source": [
    "## データ読み込み"
   ]
  },
  {
   "cell_type": "code",
   "execution_count": null,
   "metadata": {
    "id": "m3MWKEevvsBm"
   },
   "outputs": [],
   "source": [
    "train = pd.read_csv(DATA_DIR + \"train.csv\")\n",
    "test = pd.read_csv(DATA_DIR + \"test.csv\")\n",
    "sub = pd.read_csv(DATA_DIR + \"sample_submit.csv\", header=None)\n",
    "sub.columns = [\"id\", \"judgement\"]"
   ]
  },
  {
   "cell_type": "code",
   "execution_count": null,
   "metadata": {
    "id": "qGt4Y75VhUIi"
   },
   "outputs": [],
   "source": [
    "train.title = train.title + ' ' + train.abstract.fillna('')\n",
    "test.title = test.title + ' ' + test.abstract.fillna('')"
   ]
  },
  {
   "cell_type": "code",
   "execution_count": null,
   "metadata": {
    "colab": {
     "base_uri": "https://localhost:8080/"
    },
    "executionInfo": {
     "elapsed": 69,
     "status": "ok",
     "timestamp": 1633597794400,
     "user": {
      "displayName": "山邉潤",
      "photoUrl": "https://lh3.googleusercontent.com/a/default-user=s64",
      "userId": "01598730496302142675"
     },
     "user_tz": -540
    },
    "id": "tFeBKvmYv1JO",
    "outputId": "aa97d8de-62c8-4d14-ae16-1e17c595ce75"
   },
   "outputs": [
    {
     "name": "stdout",
     "output_type": "stream",
     "text": [
      "0.023282372444280715\n"
     ]
    }
   ],
   "source": [
    "# この値を境に、モデルの出力を 0 と 1 にします。\n",
    "border = len(train[train[\"judgement\"] == 1]) / len(train[\"judgement\"])\n",
    "print(border)"
   ]
  },
  {
   "cell_type": "markdown",
   "metadata": {
    "id": "Y3QMiH6LwCGM"
   },
   "source": [
    "## 前処理"
   ]
  },
  {
   "cell_type": "code",
   "execution_count": null,
   "metadata": {
    "id": "D5WiJFLMwGnW"
   },
   "outputs": [],
   "source": [
    "def get_train_data(train):\n",
    "\n",
    "    # 交差検証 用の番号を振ります。\n",
    "    Fold = StratifiedKFold(n_splits=N_FOLD, shuffle=True, random_state=seed)\n",
    "    for n, (train_index, val_index) in enumerate(Fold.split(train, train[\"judgement\"])):\n",
    "        train.loc[val_index, \"fold\"] = int(n)\n",
    "    train[\"fold\"] = train[\"fold\"].astype(np.uint8)\n",
    "\n",
    "    return train"
   ]
  },
  {
   "cell_type": "code",
   "execution_count": null,
   "metadata": {
    "id": "K58fRpsywG_k"
   },
   "outputs": [],
   "source": [
    "def get_test_data(test):\n",
    "    return test"
   ]
  },
  {
   "cell_type": "code",
   "execution_count": null,
   "metadata": {
    "id": "hBSjyS_iwHDc"
   },
   "outputs": [],
   "source": [
    "train = get_train_data(train)"
   ]
  },
  {
   "cell_type": "markdown",
   "metadata": {
    "id": "8iu4NnH0wOBI"
   },
   "source": [
    "## データセット 定義"
   ]
  },
  {
   "cell_type": "code",
   "execution_count": null,
   "metadata": {
    "id": "u33lW7K1wHF0"
   },
   "outputs": [],
   "source": [
    "class BaseDataset(Dataset):\n",
    "    def __init__(self, df, model_name, include_labels=True):\n",
    "        tokenizer = T.BertTokenizer.from_pretrained(model_name)\n",
    "\n",
    "        self.df = df\n",
    "        self.include_labels = include_labels\n",
    "\n",
    "        self.title = df[\"title\"].tolist()\n",
    "        self.encoded = tokenizer.batch_encode_plus(\n",
    "            self.title,\n",
    "            padding = 'max_length',            \n",
    "            # max_length = 72,\n",
    "            max_length = 500,\n",
    "            truncation = True,\n",
    "            return_attention_mask=True\n",
    "        )\n",
    "        \n",
    "        if self.include_labels:\n",
    "            self.labels = df[\"judgement\"].values\n",
    "\n",
    "    def __len__(self):\n",
    "        return len(self.df)\n",
    "\n",
    "    def __getitem__(self, idx):\n",
    "        input_ids = torch.tensor(self.encoded['input_ids'][idx])\n",
    "        attention_mask = torch.tensor(self.encoded['attention_mask'][idx])\n",
    "\n",
    "        if self.include_labels:\n",
    "            label = torch.tensor(self.labels[idx]).float()\n",
    "            return input_ids, attention_mask, label\n",
    "\n",
    "        return input_ids, attention_mask"
   ]
  },
  {
   "cell_type": "markdown",
   "metadata": {
    "id": "7Zcn6sQzwS29"
   },
   "source": [
    "## モデル 定義"
   ]
  },
  {
   "cell_type": "code",
   "execution_count": null,
   "metadata": {
    "id": "nqb4i7ZhwHIr"
   },
   "outputs": [],
   "source": [
    "class BaseModel(nn.Module):\n",
    "    def __init__(self, model_name):\n",
    "        super().__init__()\n",
    "\n",
    "        self.model = T.BertForSequenceClassification.from_pretrained(model_name, num_labels=1)\n",
    "        self.sigmoid = nn.Sigmoid()\n",
    "\n",
    "    def forward(self, input_ids, attention_mask):\n",
    "        out = self.model(input_ids=input_ids, attention_mask=attention_mask)\n",
    "        out = self.sigmoid(out.logits).squeeze()\n",
    "\n",
    "        return out"
   ]
  },
  {
   "cell_type": "markdown",
   "metadata": {
    "id": "Ya2IqjjlwXrw"
   },
   "source": [
    "## ツール"
   ]
  },
  {
   "cell_type": "code",
   "execution_count": null,
   "metadata": {
    "id": "h59PwDsfwYUb"
   },
   "outputs": [],
   "source": [
    "class AverageMeter(object):\n",
    "    \"\"\"Computes and stores the average and current value\"\"\"\n",
    "\n",
    "    def __init__(self):\n",
    "        self.reset()\n",
    "\n",
    "    def reset(self):\n",
    "        self.val = 0\n",
    "        self.avg = 0\n",
    "        self.sum = 0\n",
    "        self.count = 0\n",
    "\n",
    "    def update(self, val, n=1):\n",
    "        self.val = val\n",
    "        self.sum += val * n\n",
    "        self.count += n\n",
    "        self.avg = self.sum / self.count\n",
    "\n",
    "\n",
    "def asMinutes(s):\n",
    "    m = math.floor(s / 60)\n",
    "    s -= m * 60\n",
    "    return \"%dm %ds\" % (m, s)\n",
    "\n",
    "\n",
    "def timeSince(since, percent):\n",
    "    now = time.time()\n",
    "    s = now - since\n",
    "    es = s / (percent)\n",
    "    rs = es - s\n",
    "    return \"%s (remain %s)\" % (asMinutes(s), asMinutes(rs))"
   ]
  },
  {
   "cell_type": "markdown",
   "metadata": {
    "id": "XzqOZ0I67jow"
   },
   "source": [
    "## 学習 補助関数"
   ]
  },
  {
   "cell_type": "code",
   "execution_count": null,
   "metadata": {
    "id": "dKKRwtlJwYW1"
   },
   "outputs": [],
   "source": [
    "def train_fn(train_loader, model, criterion, optimizer, epoch, device):\n",
    "    start = end = time.time()\n",
    "    losses = AverageMeter()\n",
    "\n",
    "    # switch to train mode\n",
    "    model.train()\n",
    "\n",
    "    for step, (input_ids, attention_mask, labels) in enumerate(train_loader):\n",
    "        optimizer.zero_grad()\n",
    "\n",
    "        input_ids = input_ids.to(device)\n",
    "        attention_mask = attention_mask.to(device)\n",
    "        labels = labels.to(device)\n",
    "        batch_size = labels.size(0)\n",
    "\n",
    "        y_preds = model(input_ids, attention_mask)\n",
    "\n",
    "        loss = criterion(y_preds, labels)\n",
    "\n",
    "        # record loss\n",
    "        losses.update(loss.item(), batch_size)\n",
    "        loss.backward()\n",
    "\n",
    "        optimizer.step()\n",
    "\n",
    "        if step % 100 == 0 or step == (len(train_loader) - 1):\n",
    "            print(\n",
    "                f\"Epoch: [{epoch + 1}][{step}/{len(train_loader)}] \"\n",
    "                f\"Elapsed {timeSince(start, float(step + 1) / len(train_loader)):s} \"\n",
    "                f\"Loss: {losses.avg:.4f} \"\n",
    "            )\n",
    "\n",
    "    return losses.avg"
   ]
  },
  {
   "cell_type": "markdown",
   "metadata": {
    "id": "dC9ZHgSW70Pe"
   },
   "source": [
    "## 評価 補助関数"
   ]
  },
  {
   "cell_type": "code",
   "execution_count": null,
   "metadata": {
    "id": "9bsPpTh-wYZr"
   },
   "outputs": [],
   "source": [
    "def valid_fn(valid_loader, model, criterion, device):\n",
    "    start = end = time.time()\n",
    "    losses = AverageMeter()\n",
    "\n",
    "    # switch to evaluation mode\n",
    "    model.eval()\n",
    "    preds = []\n",
    "\n",
    "    for step, (input_ids, attention_mask, labels) in enumerate(valid_loader):\n",
    "        input_ids = input_ids.to(device)\n",
    "        attention_mask = attention_mask.to(device)\n",
    "        labels = labels.to(device)\n",
    "        batch_size = labels.size(0)\n",
    "\n",
    "        # compute loss\n",
    "        with torch.no_grad():\n",
    "            y_preds = model(input_ids, attention_mask)\n",
    "\n",
    "        loss = criterion(y_preds, labels)\n",
    "        losses.update(loss.item(), batch_size)\n",
    "\n",
    "        # record score\n",
    "        preds.append(y_preds.to(\"cpu\").numpy())\n",
    "\n",
    "        if step % 100 == 0 or step == (len(valid_loader) - 1):\n",
    "            print(\n",
    "                f\"EVAL: [{step}/{len(valid_loader)}] \"\n",
    "                f\"Elapsed {timeSince(start, float(step + 1) / len(valid_loader)):s} \"\n",
    "                f\"Loss: {losses.avg:.4f} \"\n",
    "            )\n",
    "\n",
    "    predictions = np.concatenate(preds)\n",
    "    return losses.avg, predictions"
   ]
  },
  {
   "cell_type": "markdown",
   "metadata": {
    "id": "Jl_x5f8T777U"
   },
   "source": [
    "## 推論関数"
   ]
  },
  {
   "cell_type": "code",
   "execution_count": null,
   "metadata": {
    "id": "yPTvJFg3wYcT"
   },
   "outputs": [],
   "source": [
    "def inference():\n",
    "    predictions = []\n",
    "\n",
    "    test_dataset = BaseDataset(test, MODEL, include_labels=False)\n",
    "    test_loader = DataLoader(\n",
    "        test_dataset, batch_size=16, shuffle=False, num_workers=N_FOLD - 1, pin_memory=True\n",
    "    )\n",
    "\n",
    "    for fold in range(N_FOLD):\n",
    "        LOGGER.info(f\"========== model: fold: {fold} inference ==========\")\n",
    "        model = BaseModel(MODEL)\n",
    "        model.to(device)\n",
    "        model.load_state_dict(torch.load(OUTPUT_DIR + f\"fold{fold}_best.pth\")[\"model\"])\n",
    "        model.eval()\n",
    "        preds = []\n",
    "        for i, (input_ids, attention_mask) in tqdm(enumerate(test_loader), total=len(test_loader)):\n",
    "            input_ids = input_ids.to(device)\n",
    "            attention_mask = attention_mask.to(device)\n",
    "            with torch.no_grad():\n",
    "                y_preds = model(input_ids, attention_mask)\n",
    "            preds.append(y_preds.to(\"cpu\").numpy())\n",
    "        preds = np.concatenate(preds)\n",
    "        predictions.append(preds)\n",
    "    predictions = np.mean(predictions, axis=0)\n",
    "\n",
    "    return predictions"
   ]
  },
  {
   "cell_type": "markdown",
   "metadata": {
    "id": "HPNgp37m8FeE"
   },
   "source": [
    "## 学習"
   ]
  },
  {
   "cell_type": "code",
   "execution_count": null,
   "metadata": {
    "id": "4m6S_S9owYe7"
   },
   "outputs": [],
   "source": [
    "def train_loop(train, fold):\n",
    "\n",
    "    LOGGER.info(f\"========== fold: {fold} training ==========\")\n",
    "\n",
    "    # ====================================================\n",
    "    # Data Loader\n",
    "    # ====================================================\n",
    "    trn_idx = train[train[\"fold\"] != fold].index\n",
    "    val_idx = train[train[\"fold\"] == fold].index\n",
    "\n",
    "    train_folds = train.loc[trn_idx].reset_index(drop=True)\n",
    "    valid_folds = train.loc[val_idx].reset_index(drop=True)\n",
    "\n",
    "    train_dataset = BaseDataset(train_folds, MODEL)\n",
    "    valid_dataset = BaseDataset(valid_folds, MODEL)\n",
    "\n",
    "    train_loader = DataLoader(\n",
    "        train_dataset,\n",
    "        batch_size=16,\n",
    "        shuffle=True,\n",
    "        # num_workers=4,\n",
    "        num_workers=N_FOLD - 1,\n",
    "        pin_memory=True,\n",
    "        drop_last=True,\n",
    "    )\n",
    "    valid_loader = DataLoader(\n",
    "        valid_dataset,\n",
    "        batch_size=16,\n",
    "        shuffle=False,\n",
    "        # num_workers=4,\n",
    "        num_workers=N_FOLD - 1,\n",
    "        pin_memory=True,\n",
    "        drop_last=False,\n",
    "    )\n",
    "\n",
    "    # ====================================================\n",
    "    # Model\n",
    "    # ====================================================\n",
    "    model = BaseModel(MODEL)\n",
    "    model.to(device)\n",
    "\n",
    "    optimizer = T.AdamW(model.parameters(), lr=2e-5)\n",
    "\n",
    "    criterion = nn.BCELoss()\n",
    "\n",
    "    # ====================================================\n",
    "    # Loop\n",
    "    # ====================================================\n",
    "    best_score = -1\n",
    "    best_loss = np.inf\n",
    "\n",
    "    for epoch in range(EPOCH):\n",
    "        start_time = time.time()\n",
    "        \n",
    "        # train\n",
    "        avg_loss = train_fn(train_loader, model, criterion, optimizer, epoch, device)\n",
    "\n",
    "        # eval\n",
    "        avg_val_loss, preds = valid_fn(valid_loader, model, criterion, device)\n",
    "        valid_labels = valid_folds[\"judgement\"].values\n",
    "\n",
    "        # scoring\n",
    "        score = fbeta_score(valid_labels, np.where(preds < border, 0, 1), beta=7.0)\n",
    "\n",
    "        elapsed = time.time() - start_time\n",
    "        LOGGER.info(\n",
    "            f\"Epoch {epoch+1} - avg_train_loss: {avg_loss:.4f}  avg_val_loss: {avg_val_loss:.4f}  time: {elapsed:.0f}s\"\n",
    "        )\n",
    "        LOGGER.info(f\"Epoch {epoch+1} - Score: {score}\")\n",
    "\n",
    "        if score > best_score:\n",
    "            best_score = score\n",
    "            LOGGER.info(f\"Epoch {epoch+1} - Save Best Score: {best_score:.4f} Model\")\n",
    "            torch.save(\n",
    "                {\"model\": model.state_dict(), \"preds\": preds}, OUTPUT_DIR + f\"fold{fold}_best.pth\"\n",
    "            )\n",
    "\n",
    "    check_point = torch.load(OUTPUT_DIR + f\"fold{fold}_best.pth\")\n",
    "\n",
    "    valid_folds[\"preds\"] = check_point[\"preds\"]\n",
    "\n",
    "    return valid_folds"
   ]
  },
  {
   "cell_type": "markdown",
   "metadata": {
    "id": "_pYOecel8TT0"
   },
   "source": [
    "## メイン"
   ]
  },
  {
   "cell_type": "code",
   "execution_count": null,
   "metadata": {
    "id": "RLJ1B-YEwYhx"
   },
   "outputs": [],
   "source": [
    "def get_result(result_df):\n",
    "    preds = result_df[\"preds\"].values\n",
    "    labels = result_df[\"judgement\"].values\n",
    "    score = fbeta_score(labels, np.where(preds < border, 0, 1), beta=7.0)\n",
    "    LOGGER.info(f\"Score: {score:<.5f}\")"
   ]
  },
  {
   "cell_type": "code",
   "execution_count": null,
   "metadata": {
    "id": "XqHDP7aR8Xcd"
   },
   "outputs": [],
   "source": [
    "def main():\n",
    "    # Training\n",
    "    oof_df = pd.DataFrame()\n",
    "    for fold in range(N_FOLD):\n",
    "        _oof_df = train_loop(train, fold)\n",
    "        oof_df = pd.concat([oof_df, _oof_df])\n",
    "        LOGGER.info(f\"========== fold: {fold} result ==========\")\n",
    "        get_result(_oof_df)\n",
    "        \n",
    "    # CV result\n",
    "    LOGGER.info(f\"========== CV ==========\")\n",
    "    get_result(oof_df)\n",
    "    \n",
    "    # Save OOF result\n",
    "    oof_df.to_csv(OUTPUT_DIR + \"oof_df.csv\", index=False)\n",
    "\n",
    "    # Inference\n",
    "    predictions = inference()\n",
    "\n",
    "    # submission_prob\n",
    "    sub[\"judgement\"] = predictions\n",
    "    sub.to_csv(OUTPUT_DIR + \"sub_prob_002.csv\", index=False, header=False)\n",
    "\n",
    "    predictions = np.where(predictions < border, 0, 1)\n",
    "\n",
    "    # submission\n",
    "    sub[\"judgement\"] = predictions\n",
    "    sub.to_csv(OUTPUT_DIR + \"sub_002.csv\", index=False, header=False)"
   ]
  },
  {
   "cell_type": "code",
   "execution_count": null,
   "metadata": {
    "colab": {
     "background_save": true,
     "base_uri": "https://localhost:8080/",
     "height": 1000,
     "referenced_widgets": [
      "e15d6d3ee58945098f3b150ff4de1284",
      "d97ef3bf80e940a1bef2d10ac3650cae",
      "811b16301ea14f21b76b2cb24982e85d",
      "ecdd10b454ed4bf6ac95535312284095",
      "d349fa9f405548e09a402028f4ea9b4d",
      "599b94e57c6f42428d18907a7f6dd78b",
      "f3f8650595a6420195eff65f2d323458",
      "a7e07b424c7e4f2d8e79c81c6767c6c8",
      "c1f6f63114da4a65a25fe3bb199fa4d4",
      "15c7fff09f6b4b2fbb8bfc5ec16394e2",
      "16460d55e21b4e8a9324c067276a7dda",
      "0266c040961e4a2c9a0a0bb299996e16",
      "ac130fa62299476bb9d37eec96c092b1",
      "937664a8f05d4511b56f31b03fd3affd",
      "52d9e7daa33c4bc8b3c3e21be6ab50c4",
      "447c9f703f4849b6bdf19440ea8e1897",
      "826002616bac429fbebd85884b51f424",
      "1c7920fccd2d4caf9061d40122716254",
      "19845e166baf47d18e51d44185b63789",
      "c3121aeadcc74fa69790f503a2fb25ab",
      "a9a64b30e7484ac9826a6a84928c4c39",
      "69efac9e1f724526be9af49110e2940b",
      "b945b6fdabd6452a8e59c80832d03f2b",
      "fe472ca02e4b45f09e211e0c78ccf2a8",
      "13738ead106e411f8fa71b6b159ec591",
      "a1b1d30703204dc498b9034daafab4ba",
      "f8cf376d26b74bc1a419ce78609d27e8",
      "ab359697217a4253a4ae0ade54a98d94",
      "1d34f897992b4651a9f5070abe9fa98d",
      "05c46a95f9c14cf480757d5cd5579bff",
      "d13d018a47cc44dd949de8f621823d68",
      "10547734123a4140a922bf2d88091163",
      "04dce7ddfb7c4827a9ce8f3f5290abb0",
      "72aa8eca350848cdbd69072ecc54eea2",
      "1e74c551ead2420c93b2331d0eee5186",
      "65d738556313461bb899ce90d5c5acff",
      "311c8f6b4a16424b9648320ad04c7641",
      "e6b323035463403591382484ddfc7486",
      "8209c7e462be43b8ab85b6ff6181d659",
      "3b3c414f71824198abd4bd72c5f667d0",
      "7950c716b8a242a996b59b6493581ade",
      "524269aff286456daa9fcb83f97050d2",
      "8aae8a0c9b294dc49a339e7769607729",
      "b58e34b3b6a94688b3811954b3551fb2",
      "66a09103b33040b1bb4a35fd52b410ef",
      "876a757156eb4f2cbd71fe3007b9545b",
      "d1fd91a24b92453293df0590e5c47984",
      "5b8393078a654325b9232a96b9e1ad4f",
      "886ffca0ca074bf1ac87219fca19b913",
      "c38248bb19644129ae4cded2fbd6d201",
      "22ae24d277cf4114baf31a7370890aa7",
      "a93ae8e1807144c095e5e60587e8b1c4",
      "31086955c26c4788ba97fcf2c8491b4f",
      "ec286a5c3ea34ddeabff086950de4c02",
      "4baead7101e4469c91d6bab1416ce452",
      "bf1c7f6a19a24e1faa4ec489648d87ea",
      "d8b31612707f4375af9f15038a4109f0",
      "d4ca820a91894d69a9c45d8d8b153c9a",
      "99efa700f91e405ebdb06295617ffc7b",
      "72fafb92d71f4975be4a12ebc1760ec8",
      "79172354a5564ccba9b80ccc7845535f",
      "215cd7d6c58548b5b6af79f8834cd2c8",
      "030fca7bd07c42d1bf612ea8af3d20b7",
      "dad8ae92710f4ac4a1caed41be72fc23",
      "1f20f541b78b4d778986e902cba48605",
      "19206e6bc5114d9da73dedcad419954b",
      "4878c5586db647198a9a42b179f02f21",
      "972770e41ab14a8a9dc0dbfb10569ec8",
      "c6d6fef8bf9c4b01a9860acda7ca5e7a",
      "ea3d3e033c1b4acebe5a2e8ba9630b25",
      "6bb985eee2cd42068f9963724e8ca27f",
      "0101b296ca974da9a96c9c6431f0c15f",
      "7939b2b4282a409ca08cdbfe30ba82c8",
      "06447e2736da468696514b85e9dc39c7",
      "03990b3e0c2741088bb9be8f15aefe08",
      "2feaf456fe1f4ef287febf242921c400",
      "872e49d9d7de462dab8f35d00137bab9",
      "326fee6472b2479f819e99507812e0f7"
     ]
    },
    "id": "q14_j7TZ8XfT",
    "outputId": "c1a24e39-551c-41cd-f8d1-b05d3170a00d"
   },
   "outputs": [
    {
     "name": "stderr",
     "output_type": "stream",
     "text": [
      "========== fold: 0 training ==========\n"
     ]
    },
    {
     "data": {
      "application/vnd.jupyter.widget-view+json": {
       "model_id": "e15d6d3ee58945098f3b150ff4de1284",
       "version_major": 2,
       "version_minor": 0
      },
      "text/plain": [
       "Downloading:   0%|          | 0.00/221k [00:00<?, ?B/s]"
      ]
     },
     "metadata": {},
     "output_type": "display_data"
    },
    {
     "data": {
      "application/vnd.jupyter.widget-view+json": {
       "model_id": "0266c040961e4a2c9a0a0bb299996e16",
       "version_major": 2,
       "version_minor": 0
      },
      "text/plain": [
       "Downloading:   0%|          | 0.00/28.0 [00:00<?, ?B/s]"
      ]
     },
     "metadata": {},
     "output_type": "display_data"
    },
    {
     "data": {
      "application/vnd.jupyter.widget-view+json": {
       "model_id": "b945b6fdabd6452a8e59c80832d03f2b",
       "version_major": 2,
       "version_minor": 0
      },
      "text/plain": [
       "Downloading:   0%|          | 0.00/385 [00:00<?, ?B/s]"
      ]
     },
     "metadata": {},
     "output_type": "display_data"
    },
    {
     "data": {
      "application/vnd.jupyter.widget-view+json": {
       "model_id": "72aa8eca350848cdbd69072ecc54eea2",
       "version_major": 2,
       "version_minor": 0
      },
      "text/plain": [
       "Downloading:   0%|          | 0.00/420M [00:00<?, ?B/s]"
      ]
     },
     "metadata": {},
     "output_type": "display_data"
    },
    {
     "name": "stderr",
     "output_type": "stream",
     "text": [
      "Some weights of the model checkpoint at microsoft/BiomedNLP-PubMedBERT-base-uncased-abstract-fulltext were not used when initializing BertForSequenceClassification: ['cls.predictions.transform.LayerNorm.bias', 'cls.predictions.transform.LayerNorm.weight', 'cls.seq_relationship.weight', 'cls.predictions.decoder.weight', 'cls.predictions.bias', 'cls.predictions.decoder.bias', 'cls.predictions.transform.dense.weight', 'cls.seq_relationship.bias', 'cls.predictions.transform.dense.bias']\n",
      "- This IS expected if you are initializing BertForSequenceClassification from the checkpoint of a model trained on another task or with another architecture (e.g. initializing a BertForSequenceClassification model from a BertForPreTraining model).\n",
      "- This IS NOT expected if you are initializing BertForSequenceClassification from the checkpoint of a model that you expect to be exactly identical (initializing a BertForSequenceClassification model from a BertForSequenceClassification model).\n",
      "Some weights of BertForSequenceClassification were not initialized from the model checkpoint at microsoft/BiomedNLP-PubMedBERT-base-uncased-abstract-fulltext and are newly initialized: ['classifier.weight', 'classifier.bias']\n",
      "You should probably TRAIN this model on a down-stream task to be able to use it for predictions and inference.\n"
     ]
    },
    {
     "name": "stdout",
     "output_type": "stream",
     "text": [
      "Epoch: [1][0/1272] Elapsed 0m 1s (remain 24m 52s) Loss: 0.6505 \n",
      "Epoch: [1][100/1272] Elapsed 1m 24s (remain 16m 18s) Loss: 0.1290 \n",
      "Epoch: [1][200/1272] Elapsed 2m 47s (remain 14m 53s) Loss: 0.1110 \n",
      "Epoch: [1][300/1272] Elapsed 4m 10s (remain 13m 29s) Loss: 0.0974 \n",
      "Epoch: [1][400/1272] Elapsed 5m 34s (remain 12m 5s) Loss: 0.0911 \n",
      "Epoch: [1][500/1272] Elapsed 6m 57s (remain 10m 42s) Loss: 0.0840 \n",
      "Epoch: [1][600/1272] Elapsed 8m 20s (remain 9m 19s) Loss: 0.0823 \n",
      "Epoch: [1][700/1272] Elapsed 9m 44s (remain 7m 55s) Loss: 0.0770 \n",
      "Epoch: [1][800/1272] Elapsed 11m 7s (remain 6m 32s) Loss: 0.0744 \n",
      "Epoch: [1][900/1272] Elapsed 12m 30s (remain 5m 9s) Loss: 0.0715 \n",
      "Epoch: [1][1000/1272] Elapsed 13m 53s (remain 3m 45s) Loss: 0.0699 \n",
      "Epoch: [1][1100/1272] Elapsed 15m 17s (remain 2m 22s) Loss: 0.0669 \n",
      "Epoch: [1][1200/1272] Elapsed 16m 40s (remain 0m 59s) Loss: 0.0651 \n",
      "Epoch: [1][1271/1272] Elapsed 17m 39s (remain 0m 0s) Loss: 0.0643 \n",
      "EVAL: [0/425] Elapsed 0m 0s (remain 2m 45s) Loss: 0.0013 \n",
      "EVAL: [100/425] Elapsed 0m 28s (remain 1m 31s) Loss: 0.0311 \n",
      "EVAL: [200/425] Elapsed 0m 56s (remain 1m 3s) Loss: 0.0329 \n",
      "EVAL: [300/425] Elapsed 1m 25s (remain 0m 35s) Loss: 0.0365 \n",
      "EVAL: [400/425] Elapsed 1m 53s (remain 0m 6s) Loss: 0.0367 \n"
     ]
    },
    {
     "name": "stderr",
     "output_type": "stream",
     "text": [
      "Epoch 1 - avg_train_loss: 0.0643  avg_val_loss: 0.0369  time: 1180s\n",
      "Epoch 1 - Score: 0.9309967141292442\n",
      "Epoch 1 - Save Best Score: 0.9310 Model\n"
     ]
    },
    {
     "name": "stdout",
     "output_type": "stream",
     "text": [
      "EVAL: [424/425] Elapsed 1m 59s (remain 0m 0s) Loss: 0.0369 \n",
      "Epoch: [2][0/1272] Elapsed 0m 0s (remain 20m 7s) Loss: 0.0317 \n",
      "Epoch: [2][100/1272] Elapsed 1m 24s (remain 16m 16s) Loss: 0.0370 \n",
      "Epoch: [2][200/1272] Elapsed 2m 47s (remain 14m 52s) Loss: 0.0390 \n",
      "Epoch: [2][300/1272] Elapsed 4m 10s (remain 13m 28s) Loss: 0.0352 \n",
      "Epoch: [2][400/1272] Elapsed 5m 34s (remain 12m 5s) Loss: 0.0328 \n",
      "Epoch: [2][500/1272] Elapsed 6m 57s (remain 10m 42s) Loss: 0.0345 \n",
      "Epoch: [2][600/1272] Elapsed 8m 20s (remain 9m 18s) Loss: 0.0336 \n",
      "Epoch: [2][700/1272] Elapsed 9m 43s (remain 7m 55s) Loss: 0.0342 \n",
      "Epoch: [2][800/1272] Elapsed 11m 7s (remain 6m 32s) Loss: 0.0348 \n",
      "Epoch: [2][900/1272] Elapsed 12m 30s (remain 5m 9s) Loss: 0.0355 \n",
      "Epoch: [2][1000/1272] Elapsed 13m 53s (remain 3m 45s) Loss: 0.0352 \n",
      "Epoch: [2][1100/1272] Elapsed 15m 17s (remain 2m 22s) Loss: 0.0341 \n",
      "Epoch: [2][1200/1272] Elapsed 16m 40s (remain 0m 59s) Loss: 0.0354 \n",
      "Epoch: [2][1271/1272] Elapsed 17m 39s (remain 0m 0s) Loss: 0.0355 \n",
      "EVAL: [0/425] Elapsed 0m 0s (remain 2m 44s) Loss: 0.0021 \n",
      "EVAL: [100/425] Elapsed 0m 28s (remain 1m 31s) Loss: 0.0294 \n",
      "EVAL: [200/425] Elapsed 0m 56s (remain 1m 3s) Loss: 0.0297 \n",
      "EVAL: [300/425] Elapsed 1m 25s (remain 0m 35s) Loss: 0.0355 \n",
      "EVAL: [400/425] Elapsed 1m 53s (remain 0m 6s) Loss: 0.0360 \n"
     ]
    },
    {
     "name": "stderr",
     "output_type": "stream",
     "text": [
      "Epoch 2 - avg_train_loss: 0.0355  avg_val_loss: 0.0364  time: 1180s\n",
      "Epoch 2 - Score: 0.8943886302376869\n"
     ]
    },
    {
     "name": "stdout",
     "output_type": "stream",
     "text": [
      "EVAL: [424/425] Elapsed 1m 59s (remain 0m 0s) Loss: 0.0364 \n",
      "Epoch: [3][0/1272] Elapsed 0m 0s (remain 20m 9s) Loss: 0.0028 \n",
      "Epoch: [3][100/1272] Elapsed 1m 24s (remain 16m 17s) Loss: 0.0176 \n",
      "Epoch: [3][200/1272] Elapsed 2m 47s (remain 14m 53s) Loss: 0.0204 \n",
      "Epoch: [3][300/1272] Elapsed 4m 10s (remain 13m 29s) Loss: 0.0201 \n",
      "Epoch: [3][400/1272] Elapsed 5m 34s (remain 12m 5s) Loss: 0.0246 \n",
      "Epoch: [3][500/1272] Elapsed 6m 57s (remain 10m 42s) Loss: 0.0230 \n",
      "Epoch: [3][600/1272] Elapsed 8m 20s (remain 9m 19s) Loss: 0.0232 \n",
      "Epoch: [3][700/1272] Elapsed 9m 44s (remain 7m 55s) Loss: 0.0232 \n",
      "Epoch: [3][800/1272] Elapsed 11m 7s (remain 6m 32s) Loss: 0.0230 \n",
      "Epoch: [3][900/1272] Elapsed 12m 30s (remain 5m 9s) Loss: 0.0229 \n",
      "Epoch: [3][1000/1272] Elapsed 13m 54s (remain 3m 45s) Loss: 0.0220 \n",
      "Epoch: [3][1100/1272] Elapsed 15m 17s (remain 2m 22s) Loss: 0.0217 \n",
      "Epoch: [3][1200/1272] Elapsed 16m 40s (remain 0m 59s) Loss: 0.0216 \n",
      "Epoch: [3][1271/1272] Elapsed 17m 39s (remain 0m 0s) Loss: 0.0219 \n",
      "EVAL: [0/425] Elapsed 0m 0s (remain 2m 44s) Loss: 0.0009 \n",
      "EVAL: [100/425] Elapsed 0m 28s (remain 1m 31s) Loss: 0.0311 \n",
      "EVAL: [200/425] Elapsed 0m 56s (remain 1m 3s) Loss: 0.0325 \n",
      "EVAL: [300/425] Elapsed 1m 25s (remain 0m 35s) Loss: 0.0394 \n",
      "EVAL: [400/425] Elapsed 1m 53s (remain 0m 6s) Loss: 0.0404 \n"
     ]
    },
    {
     "name": "stderr",
     "output_type": "stream",
     "text": [
      "Epoch 3 - avg_train_loss: 0.0219  avg_val_loss: 0.0408  time: 1180s\n",
      "Epoch 3 - Score: 0.878169449598021\n"
     ]
    },
    {
     "name": "stdout",
     "output_type": "stream",
     "text": [
      "EVAL: [424/425] Elapsed 1m 59s (remain 0m 0s) Loss: 0.0408 \n"
     ]
    },
    {
     "name": "stderr",
     "output_type": "stream",
     "text": [
      "========== fold: 0 result ==========\n",
      "Score: 0.93100\n",
      "========== fold: 1 training ==========\n",
      "Some weights of the model checkpoint at microsoft/BiomedNLP-PubMedBERT-base-uncased-abstract-fulltext were not used when initializing BertForSequenceClassification: ['cls.predictions.transform.LayerNorm.bias', 'cls.predictions.transform.LayerNorm.weight', 'cls.seq_relationship.weight', 'cls.predictions.decoder.weight', 'cls.predictions.bias', 'cls.predictions.decoder.bias', 'cls.predictions.transform.dense.weight', 'cls.seq_relationship.bias', 'cls.predictions.transform.dense.bias']\n",
      "- This IS expected if you are initializing BertForSequenceClassification from the checkpoint of a model trained on another task or with another architecture (e.g. initializing a BertForSequenceClassification model from a BertForPreTraining model).\n",
      "- This IS NOT expected if you are initializing BertForSequenceClassification from the checkpoint of a model that you expect to be exactly identical (initializing a BertForSequenceClassification model from a BertForSequenceClassification model).\n",
      "Some weights of BertForSequenceClassification were not initialized from the model checkpoint at microsoft/BiomedNLP-PubMedBERT-base-uncased-abstract-fulltext and are newly initialized: ['classifier.weight', 'classifier.bias']\n",
      "You should probably TRAIN this model on a down-stream task to be able to use it for predictions and inference.\n"
     ]
    },
    {
     "name": "stdout",
     "output_type": "stream",
     "text": [
      "Epoch: [1][0/1272] Elapsed 0m 0s (remain 20m 24s) Loss: 0.6207 \n",
      "Epoch: [1][100/1272] Elapsed 1m 24s (remain 16m 17s) Loss: 0.1647 \n",
      "Epoch: [1][200/1272] Elapsed 2m 47s (remain 14m 53s) Loss: 0.1182 \n",
      "Epoch: [1][300/1272] Elapsed 4m 10s (remain 13m 29s) Loss: 0.0993 \n",
      "Epoch: [1][400/1272] Elapsed 5m 34s (remain 12m 6s) Loss: 0.0945 \n",
      "Epoch: [1][500/1272] Elapsed 6m 57s (remain 10m 42s) Loss: 0.0927 \n",
      "Epoch: [1][600/1272] Elapsed 8m 20s (remain 9m 19s) Loss: 0.0892 \n",
      "Epoch: [1][700/1272] Elapsed 9m 44s (remain 7m 55s) Loss: 0.0847 \n",
      "Epoch: [1][800/1272] Elapsed 11m 7s (remain 6m 32s) Loss: 0.0797 \n",
      "Epoch: [1][900/1272] Elapsed 12m 30s (remain 5m 9s) Loss: 0.0770 \n",
      "Epoch: [1][1000/1272] Elapsed 13m 54s (remain 3m 45s) Loss: 0.0741 \n",
      "Epoch: [1][1100/1272] Elapsed 15m 17s (remain 2m 22s) Loss: 0.0727 \n",
      "Epoch: [1][1200/1272] Elapsed 16m 40s (remain 0m 59s) Loss: 0.0715 \n",
      "Epoch: [1][1271/1272] Elapsed 17m 40s (remain 0m 0s) Loss: 0.0702 \n",
      "EVAL: [0/425] Elapsed 0m 0s (remain 2m 46s) Loss: 0.1184 \n",
      "EVAL: [100/425] Elapsed 0m 28s (remain 1m 31s) Loss: 0.0368 \n",
      "EVAL: [200/425] Elapsed 0m 56s (remain 1m 3s) Loss: 0.0427 \n",
      "EVAL: [300/425] Elapsed 1m 25s (remain 0m 35s) Loss: 0.0418 \n",
      "EVAL: [400/425] Elapsed 1m 53s (remain 0m 6s) Loss: 0.0407 \n"
     ]
    },
    {
     "name": "stderr",
     "output_type": "stream",
     "text": [
      "Epoch 1 - avg_train_loss: 0.0702  avg_val_loss: 0.0400  time: 1180s\n",
      "Epoch 1 - Score: 0.9013980868285506\n",
      "Epoch 1 - Save Best Score: 0.9014 Model\n"
     ]
    },
    {
     "name": "stdout",
     "output_type": "stream",
     "text": [
      "EVAL: [424/425] Elapsed 1m 59s (remain 0m 0s) Loss: 0.0400 \n",
      "Epoch: [2][0/1272] Elapsed 0m 0s (remain 20m 14s) Loss: 0.0086 \n",
      "Epoch: [2][100/1272] Elapsed 1m 24s (remain 16m 17s) Loss: 0.0335 \n",
      "Epoch: [2][200/1272] Elapsed 2m 47s (remain 14m 53s) Loss: 0.0291 \n",
      "Epoch: [2][300/1272] Elapsed 4m 10s (remain 13m 29s) Loss: 0.0322 \n",
      "Epoch: [2][400/1272] Elapsed 5m 34s (remain 12m 6s) Loss: 0.0312 \n",
      "Epoch: [2][500/1272] Elapsed 6m 57s (remain 10m 42s) Loss: 0.0305 \n",
      "Epoch: [2][600/1272] Elapsed 8m 20s (remain 9m 19s) Loss: 0.0341 \n",
      "Epoch: [2][700/1272] Elapsed 9m 44s (remain 7m 55s) Loss: 0.0321 \n",
      "Epoch: [2][800/1272] Elapsed 11m 7s (remain 6m 32s) Loss: 0.0323 \n",
      "Epoch: [2][900/1272] Elapsed 12m 30s (remain 5m 9s) Loss: 0.0313 \n",
      "Epoch: [2][1000/1272] Elapsed 13m 54s (remain 3m 45s) Loss: 0.0320 \n",
      "Epoch: [2][1100/1272] Elapsed 15m 17s (remain 2m 22s) Loss: 0.0326 \n",
      "Epoch: [2][1200/1272] Elapsed 16m 41s (remain 0m 59s) Loss: 0.0327 \n",
      "Epoch: [2][1271/1272] Elapsed 17m 40s (remain 0m 0s) Loss: 0.0328 \n",
      "EVAL: [0/425] Elapsed 0m 0s (remain 2m 46s) Loss: 0.0677 \n",
      "EVAL: [100/425] Elapsed 0m 28s (remain 1m 31s) Loss: 0.0417 \n",
      "EVAL: [200/425] Elapsed 0m 56s (remain 1m 3s) Loss: 0.0403 \n",
      "EVAL: [300/425] Elapsed 1m 25s (remain 0m 35s) Loss: 0.0388 \n",
      "EVAL: [400/425] Elapsed 1m 53s (remain 0m 6s) Loss: 0.0391 \n"
     ]
    },
    {
     "name": "stderr",
     "output_type": "stream",
     "text": [
      "Epoch 2 - avg_train_loss: 0.0328  avg_val_loss: 0.0385  time: 1180s\n",
      "Epoch 2 - Score: 0.9181563906116991\n",
      "Epoch 2 - Save Best Score: 0.9182 Model\n"
     ]
    },
    {
     "name": "stdout",
     "output_type": "stream",
     "text": [
      "EVAL: [424/425] Elapsed 1m 59s (remain 0m 0s) Loss: 0.0385 \n",
      "Epoch: [3][0/1272] Elapsed 0m 0s (remain 20m 4s) Loss: 0.0022 \n",
      "Epoch: [3][100/1272] Elapsed 1m 24s (remain 16m 17s) Loss: 0.0187 \n",
      "Epoch: [3][200/1272] Elapsed 2m 47s (remain 14m 53s) Loss: 0.0171 \n",
      "Epoch: [3][300/1272] Elapsed 4m 10s (remain 13m 29s) Loss: 0.0180 \n",
      "Epoch: [3][400/1272] Elapsed 5m 34s (remain 12m 6s) Loss: 0.0180 \n",
      "Epoch: [3][500/1272] Elapsed 6m 57s (remain 10m 42s) Loss: 0.0201 \n",
      "Epoch: [3][600/1272] Elapsed 8m 20s (remain 9m 19s) Loss: 0.0205 \n",
      "Epoch: [3][700/1272] Elapsed 9m 44s (remain 7m 55s) Loss: 0.0198 \n",
      "Epoch: [3][800/1272] Elapsed 11m 7s (remain 6m 32s) Loss: 0.0207 \n",
      "Epoch: [3][900/1272] Elapsed 12m 30s (remain 5m 9s) Loss: 0.0198 \n",
      "Epoch: [3][1000/1272] Elapsed 13m 54s (remain 3m 45s) Loss: 0.0195 \n",
      "Epoch: [3][1100/1272] Elapsed 15m 17s (remain 2m 22s) Loss: 0.0193 \n",
      "Epoch: [3][1200/1272] Elapsed 16m 40s (remain 0m 59s) Loss: 0.0193 \n",
      "Epoch: [3][1271/1272] Elapsed 17m 39s (remain 0m 0s) Loss: 0.0193 \n",
      "EVAL: [0/425] Elapsed 0m 0s (remain 2m 46s) Loss: 0.0065 \n",
      "EVAL: [100/425] Elapsed 0m 28s (remain 1m 31s) Loss: 0.0510 \n",
      "EVAL: [200/425] Elapsed 0m 56s (remain 1m 3s) Loss: 0.0561 \n",
      "EVAL: [300/425] Elapsed 1m 25s (remain 0m 35s) Loss: 0.0528 \n",
      "EVAL: [400/425] Elapsed 1m 53s (remain 0m 6s) Loss: 0.0531 \n"
     ]
    },
    {
     "name": "stderr",
     "output_type": "stream",
     "text": [
      "Epoch 3 - avg_train_loss: 0.0193  avg_val_loss: 0.0514  time: 1180s\n",
      "Epoch 3 - Score: 0.8179320679320679\n"
     ]
    },
    {
     "name": "stdout",
     "output_type": "stream",
     "text": [
      "EVAL: [424/425] Elapsed 1m 59s (remain 0m 0s) Loss: 0.0514 \n"
     ]
    },
    {
     "name": "stderr",
     "output_type": "stream",
     "text": [
      "========== fold: 1 result ==========\n",
      "Score: 0.91816\n",
      "========== fold: 2 training ==========\n",
      "Some weights of the model checkpoint at microsoft/BiomedNLP-PubMedBERT-base-uncased-abstract-fulltext were not used when initializing BertForSequenceClassification: ['cls.predictions.transform.LayerNorm.bias', 'cls.predictions.transform.LayerNorm.weight', 'cls.seq_relationship.weight', 'cls.predictions.decoder.weight', 'cls.predictions.bias', 'cls.predictions.decoder.bias', 'cls.predictions.transform.dense.weight', 'cls.seq_relationship.bias', 'cls.predictions.transform.dense.bias']\n",
      "- This IS expected if you are initializing BertForSequenceClassification from the checkpoint of a model trained on another task or with another architecture (e.g. initializing a BertForSequenceClassification model from a BertForPreTraining model).\n",
      "- This IS NOT expected if you are initializing BertForSequenceClassification from the checkpoint of a model that you expect to be exactly identical (initializing a BertForSequenceClassification model from a BertForSequenceClassification model).\n",
      "Some weights of BertForSequenceClassification were not initialized from the model checkpoint at microsoft/BiomedNLP-PubMedBERT-base-uncased-abstract-fulltext and are newly initialized: ['classifier.weight', 'classifier.bias']\n",
      "You should probably TRAIN this model on a down-stream task to be able to use it for predictions and inference.\n"
     ]
    },
    {
     "name": "stdout",
     "output_type": "stream",
     "text": [
      "Epoch: [1][0/1272] Elapsed 0m 0s (remain 20m 41s) Loss: 0.6083 \n",
      "Epoch: [1][100/1272] Elapsed 1m 24s (remain 16m 17s) Loss: 0.1218 \n",
      "Epoch: [1][200/1272] Elapsed 2m 47s (remain 14m 53s) Loss: 0.1059 \n",
      "Epoch: [1][300/1272] Elapsed 4m 10s (remain 13m 29s) Loss: 0.0996 \n",
      "Epoch: [1][400/1272] Elapsed 5m 34s (remain 12m 5s) Loss: 0.0934 \n",
      "Epoch: [1][500/1272] Elapsed 6m 57s (remain 10m 42s) Loss: 0.0849 \n",
      "Epoch: [1][600/1272] Elapsed 8m 20s (remain 9m 19s) Loss: 0.0813 \n",
      "Epoch: [1][700/1272] Elapsed 9m 44s (remain 7m 55s) Loss: 0.0797 \n",
      "Epoch: [1][800/1272] Elapsed 11m 7s (remain 6m 32s) Loss: 0.0767 \n",
      "Epoch: [1][900/1272] Elapsed 12m 30s (remain 5m 9s) Loss: 0.0749 \n",
      "Epoch: [1][1000/1272] Elapsed 13m 53s (remain 3m 45s) Loss: 0.0717 \n",
      "Epoch: [1][1100/1272] Elapsed 15m 17s (remain 2m 22s) Loss: 0.0691 \n",
      "Epoch: [1][1200/1272] Elapsed 16m 40s (remain 0m 59s) Loss: 0.0663 \n",
      "Epoch: [1][1271/1272] Elapsed 17m 39s (remain 0m 0s) Loss: 0.0657 \n",
      "EVAL: [0/425] Elapsed 0m 0s (remain 2m 46s) Loss: 0.0069 \n",
      "EVAL: [100/425] Elapsed 0m 28s (remain 1m 31s) Loss: 0.0341 \n",
      "EVAL: [200/425] Elapsed 0m 56s (remain 1m 3s) Loss: 0.0428 \n",
      "EVAL: [300/425] Elapsed 1m 25s (remain 0m 35s) Loss: 0.0398 \n",
      "EVAL: [400/425] Elapsed 1m 53s (remain 0m 6s) Loss: 0.0415 \n"
     ]
    },
    {
     "name": "stderr",
     "output_type": "stream",
     "text": [
      "Epoch 1 - avg_train_loss: 0.0657  avg_val_loss: 0.0409  time: 1179s\n",
      "Epoch 1 - Score: 0.8892921960072594\n",
      "Epoch 1 - Save Best Score: 0.8893 Model\n"
     ]
    },
    {
     "name": "stdout",
     "output_type": "stream",
     "text": [
      "EVAL: [424/425] Elapsed 1m 59s (remain 0m 0s) Loss: 0.0409 \n",
      "Epoch: [2][0/1272] Elapsed 0m 0s (remain 20m 7s) Loss: 0.0082 \n",
      "Epoch: [2][100/1272] Elapsed 1m 24s (remain 16m 16s) Loss: 0.0400 \n",
      "Epoch: [2][200/1272] Elapsed 2m 47s (remain 14m 52s) Loss: 0.0333 \n",
      "Epoch: [2][300/1272] Elapsed 4m 10s (remain 13m 29s) Loss: 0.0351 \n",
      "Epoch: [2][400/1272] Elapsed 5m 34s (remain 12m 5s) Loss: 0.0367 \n",
      "Epoch: [2][500/1272] Elapsed 6m 57s (remain 10m 42s) Loss: 0.0364 \n",
      "Epoch: [2][600/1272] Elapsed 8m 20s (remain 9m 19s) Loss: 0.0376 \n",
      "Epoch: [2][700/1272] Elapsed 9m 43s (remain 7m 55s) Loss: 0.0356 \n",
      "Epoch: [2][800/1272] Elapsed 11m 7s (remain 6m 32s) Loss: 0.0353 \n",
      "Epoch: [2][900/1272] Elapsed 12m 30s (remain 5m 9s) Loss: 0.0350 \n",
      "Epoch: [2][1000/1272] Elapsed 13m 53s (remain 3m 45s) Loss: 0.0330 \n",
      "Epoch: [2][1100/1272] Elapsed 15m 17s (remain 2m 22s) Loss: 0.0332 \n",
      "Epoch: [2][1200/1272] Elapsed 16m 40s (remain 0m 59s) Loss: 0.0328 \n",
      "Epoch: [2][1271/1272] Elapsed 17m 39s (remain 0m 0s) Loss: 0.0331 \n",
      "EVAL: [0/425] Elapsed 0m 0s (remain 2m 48s) Loss: 0.0052 \n",
      "EVAL: [100/425] Elapsed 0m 28s (remain 1m 31s) Loss: 0.0379 \n",
      "EVAL: [200/425] Elapsed 0m 56s (remain 1m 3s) Loss: 0.0427 \n",
      "EVAL: [300/425] Elapsed 1m 25s (remain 0m 35s) Loss: 0.0390 \n",
      "EVAL: [400/425] Elapsed 1m 53s (remain 0m 6s) Loss: 0.0413 \n"
     ]
    },
    {
     "name": "stderr",
     "output_type": "stream",
     "text": [
      "Epoch 2 - avg_train_loss: 0.0331  avg_val_loss: 0.0407  time: 1179s\n",
      "Epoch 2 - Score: 0.8898981220081011\n",
      "Epoch 2 - Save Best Score: 0.8899 Model\n"
     ]
    },
    {
     "name": "stdout",
     "output_type": "stream",
     "text": [
      "EVAL: [424/425] Elapsed 1m 59s (remain 0m 0s) Loss: 0.0407 \n",
      "Epoch: [3][0/1272] Elapsed 0m 0s (remain 20m 16s) Loss: 0.0008 \n",
      "Epoch: [3][100/1272] Elapsed 1m 24s (remain 16m 16s) Loss: 0.0199 \n",
      "Epoch: [3][200/1272] Elapsed 2m 47s (remain 14m 52s) Loss: 0.0222 \n",
      "Epoch: [3][300/1272] Elapsed 4m 10s (remain 13m 29s) Loss: 0.0224 \n",
      "Epoch: [3][400/1272] Elapsed 5m 34s (remain 12m 5s) Loss: 0.0215 \n",
      "Epoch: [3][500/1272] Elapsed 6m 57s (remain 10m 42s) Loss: 0.0232 \n",
      "Epoch: [3][600/1272] Elapsed 8m 20s (remain 9m 18s) Loss: 0.0233 \n",
      "Epoch: [3][700/1272] Elapsed 9m 43s (remain 7m 55s) Loss: 0.0228 \n",
      "Epoch: [3][800/1272] Elapsed 11m 7s (remain 6m 32s) Loss: 0.0225 \n",
      "Epoch: [3][900/1272] Elapsed 12m 30s (remain 5m 8s) Loss: 0.0215 \n",
      "Epoch: [3][1000/1272] Elapsed 13m 53s (remain 3m 45s) Loss: 0.0218 \n",
      "Epoch: [3][1100/1272] Elapsed 15m 16s (remain 2m 22s) Loss: 0.0221 \n",
      "Epoch: [3][1200/1272] Elapsed 16m 40s (remain 0m 59s) Loss: 0.0219 \n",
      "Epoch: [3][1271/1272] Elapsed 17m 39s (remain 0m 0s) Loss: 0.0222 \n",
      "EVAL: [0/425] Elapsed 0m 0s (remain 2m 47s) Loss: 0.0010 \n",
      "EVAL: [100/425] Elapsed 0m 28s (remain 1m 31s) Loss: 0.0359 \n",
      "EVAL: [200/425] Elapsed 0m 56s (remain 1m 3s) Loss: 0.0446 \n",
      "EVAL: [300/425] Elapsed 1m 25s (remain 0m 35s) Loss: 0.0388 \n",
      "EVAL: [400/425] Elapsed 1m 53s (remain 0m 6s) Loss: 0.0410 \n"
     ]
    },
    {
     "name": "stderr",
     "output_type": "stream",
     "text": [
      "Epoch 3 - avg_train_loss: 0.0222  avg_val_loss: 0.0406  time: 1179s\n",
      "Epoch 3 - Score: 0.8988346144309448\n",
      "Epoch 3 - Save Best Score: 0.8988 Model\n"
     ]
    },
    {
     "name": "stdout",
     "output_type": "stream",
     "text": [
      "EVAL: [424/425] Elapsed 1m 59s (remain 0m 0s) Loss: 0.0406 \n"
     ]
    },
    {
     "name": "stderr",
     "output_type": "stream",
     "text": [
      "========== fold: 2 result ==========\n",
      "Score: 0.89883\n",
      "========== fold: 3 training ==========\n",
      "Some weights of the model checkpoint at microsoft/BiomedNLP-PubMedBERT-base-uncased-abstract-fulltext were not used when initializing BertForSequenceClassification: ['cls.predictions.transform.LayerNorm.bias', 'cls.predictions.transform.LayerNorm.weight', 'cls.seq_relationship.weight', 'cls.predictions.decoder.weight', 'cls.predictions.bias', 'cls.predictions.decoder.bias', 'cls.predictions.transform.dense.weight', 'cls.seq_relationship.bias', 'cls.predictions.transform.dense.bias']\n",
      "- This IS expected if you are initializing BertForSequenceClassification from the checkpoint of a model trained on another task or with another architecture (e.g. initializing a BertForSequenceClassification model from a BertForPreTraining model).\n",
      "- This IS NOT expected if you are initializing BertForSequenceClassification from the checkpoint of a model that you expect to be exactly identical (initializing a BertForSequenceClassification model from a BertForSequenceClassification model).\n",
      "Some weights of BertForSequenceClassification were not initialized from the model checkpoint at microsoft/BiomedNLP-PubMedBERT-base-uncased-abstract-fulltext and are newly initialized: ['classifier.weight', 'classifier.bias']\n",
      "You should probably TRAIN this model on a down-stream task to be able to use it for predictions and inference.\n"
     ]
    },
    {
     "name": "stdout",
     "output_type": "stream",
     "text": [
      "Epoch: [1][0/1272] Elapsed 0m 0s (remain 21m 0s) Loss: 0.6208 \n",
      "Epoch: [1][100/1272] Elapsed 1m 24s (remain 16m 17s) Loss: 0.1092 \n",
      "Epoch: [1][200/1272] Elapsed 2m 47s (remain 14m 53s) Loss: 0.0994 \n",
      "Epoch: [1][300/1272] Elapsed 4m 10s (remain 13m 29s) Loss: 0.0909 \n",
      "Epoch: [1][400/1272] Elapsed 5m 34s (remain 12m 5s) Loss: 0.0875 \n",
      "Epoch: [1][500/1272] Elapsed 6m 57s (remain 10m 42s) Loss: 0.0817 \n",
      "Epoch: [1][600/1272] Elapsed 8m 20s (remain 9m 19s) Loss: 0.0783 \n",
      "Epoch: [1][700/1272] Elapsed 9m 44s (remain 7m 55s) Loss: 0.0745 \n",
      "Epoch: [1][800/1272] Elapsed 11m 7s (remain 6m 32s) Loss: 0.0710 \n",
      "Epoch: [1][900/1272] Elapsed 12m 30s (remain 5m 9s) Loss: 0.0683 \n",
      "Epoch: [1][1000/1272] Elapsed 13m 54s (remain 3m 45s) Loss: 0.0657 \n",
      "Epoch: [1][1100/1272] Elapsed 15m 17s (remain 2m 22s) Loss: 0.0643 \n",
      "Epoch: [1][1200/1272] Elapsed 16m 40s (remain 0m 59s) Loss: 0.0638 \n",
      "Epoch: [1][1271/1272] Elapsed 17m 39s (remain 0m 0s) Loss: 0.0626 \n",
      "EVAL: [0/425] Elapsed 0m 0s (remain 2m 45s) Loss: 0.0021 \n",
      "EVAL: [100/425] Elapsed 0m 28s (remain 1m 31s) Loss: 0.0457 \n",
      "EVAL: [200/425] Elapsed 0m 56s (remain 1m 3s) Loss: 0.0344 \n",
      "EVAL: [300/425] Elapsed 1m 25s (remain 0m 35s) Loss: 0.0394 \n",
      "EVAL: [400/425] Elapsed 1m 53s (remain 0m 6s) Loss: 0.0402 \n"
     ]
    },
    {
     "name": "stderr",
     "output_type": "stream",
     "text": [
      "Epoch 1 - avg_train_loss: 0.0626  avg_val_loss: 0.0418  time: 1180s\n",
      "Epoch 1 - Score: 0.8844765342960288\n",
      "Epoch 1 - Save Best Score: 0.8845 Model\n"
     ]
    },
    {
     "name": "stdout",
     "output_type": "stream",
     "text": [
      "EVAL: [424/425] Elapsed 1m 59s (remain 0m 0s) Loss: 0.0418 \n",
      "Epoch: [2][0/1272] Elapsed 0m 0s (remain 20m 17s) Loss: 0.0580 \n",
      "Epoch: [2][100/1272] Elapsed 1m 24s (remain 16m 17s) Loss: 0.0261 \n",
      "Epoch: [2][200/1272] Elapsed 2m 47s (remain 14m 53s) Loss: 0.0223 \n",
      "Epoch: [2][300/1272] Elapsed 4m 11s (remain 13m 29s) Loss: 0.0236 \n",
      "Epoch: [2][400/1272] Elapsed 5m 34s (remain 12m 6s) Loss: 0.0280 \n",
      "Epoch: [2][500/1272] Elapsed 6m 57s (remain 10m 42s) Loss: 0.0293 \n",
      "Epoch: [2][600/1272] Elapsed 8m 21s (remain 9m 19s) Loss: 0.0282 \n",
      "Epoch: [2][700/1272] Elapsed 9m 44s (remain 7m 56s) Loss: 0.0296 \n",
      "Epoch: [2][800/1272] Elapsed 11m 7s (remain 6m 32s) Loss: 0.0303 \n",
      "Epoch: [2][900/1272] Elapsed 12m 31s (remain 5m 9s) Loss: 0.0302 \n",
      "Epoch: [2][1000/1272] Elapsed 13m 54s (remain 3m 45s) Loss: 0.0312 \n",
      "Epoch: [2][1100/1272] Elapsed 15m 17s (remain 2m 22s) Loss: 0.0324 \n",
      "Epoch: [2][1200/1272] Elapsed 16m 41s (remain 0m 59s) Loss: 0.0322 \n",
      "Epoch: [2][1271/1272] Elapsed 17m 40s (remain 0m 0s) Loss: 0.0337 \n",
      "EVAL: [0/425] Elapsed 0m 0s (remain 2m 47s) Loss: 0.0014 \n",
      "EVAL: [100/425] Elapsed 0m 28s (remain 1m 31s) Loss: 0.0427 \n",
      "EVAL: [200/425] Elapsed 0m 56s (remain 1m 3s) Loss: 0.0353 \n",
      "EVAL: [300/425] Elapsed 1m 25s (remain 0m 35s) Loss: 0.0395 \n",
      "EVAL: [400/425] Elapsed 1m 53s (remain 0m 6s) Loss: 0.0422 \n"
     ]
    },
    {
     "name": "stderr",
     "output_type": "stream",
     "text": [
      "Epoch 2 - avg_train_loss: 0.0337  avg_val_loss: 0.0432  time: 1180s\n",
      "Epoch 2 - Score: 0.8821075217546787\n"
     ]
    },
    {
     "name": "stdout",
     "output_type": "stream",
     "text": [
      "EVAL: [424/425] Elapsed 1m 59s (remain 0m 0s) Loss: 0.0432 \n",
      "Epoch: [3][0/1272] Elapsed 0m 0s (remain 20m 12s) Loss: 0.0022 \n",
      "Epoch: [3][100/1272] Elapsed 1m 24s (remain 16m 17s) Loss: 0.0198 \n",
      "Epoch: [3][200/1272] Elapsed 2m 47s (remain 14m 53s) Loss: 0.0202 \n",
      "Epoch: [3][300/1272] Elapsed 4m 11s (remain 13m 29s) Loss: 0.0204 \n",
      "Epoch: [3][400/1272] Elapsed 5m 34s (remain 12m 6s) Loss: 0.0222 \n",
      "Epoch: [3][500/1272] Elapsed 6m 57s (remain 10m 42s) Loss: 0.0217 \n",
      "Epoch: [3][600/1272] Elapsed 8m 20s (remain 9m 19s) Loss: 0.0209 \n",
      "Epoch: [3][700/1272] Elapsed 9m 44s (remain 7m 55s) Loss: 0.0207 \n",
      "Epoch: [3][800/1272] Elapsed 11m 7s (remain 6m 32s) Loss: 0.0226 \n",
      "Epoch: [3][900/1272] Elapsed 12m 31s (remain 5m 9s) Loss: 0.0230 \n",
      "Epoch: [3][1000/1272] Elapsed 13m 54s (remain 3m 45s) Loss: 0.0229 \n",
      "Epoch: [3][1100/1272] Elapsed 15m 17s (remain 2m 22s) Loss: 0.0228 \n",
      "Epoch: [3][1200/1272] Elapsed 16m 41s (remain 0m 59s) Loss: 0.0222 \n",
      "Epoch: [3][1271/1272] Elapsed 17m 40s (remain 0m 0s) Loss: 0.0218 \n",
      "EVAL: [0/425] Elapsed 0m 0s (remain 2m 46s) Loss: 0.0002 \n",
      "EVAL: [100/425] Elapsed 0m 28s (remain 1m 31s) Loss: 0.0521 \n",
      "EVAL: [200/425] Elapsed 0m 56s (remain 1m 3s) Loss: 0.0420 \n",
      "EVAL: [300/425] Elapsed 1m 25s (remain 0m 35s) Loss: 0.0465 \n",
      "EVAL: [400/425] Elapsed 1m 53s (remain 0m 6s) Loss: 0.0486 \n"
     ]
    },
    {
     "name": "stderr",
     "output_type": "stream",
     "text": [
      "Epoch 3 - avg_train_loss: 0.0218  avg_val_loss: 0.0505  time: 1180s\n",
      "Epoch 3 - Score: 0.8145363408521304\n"
     ]
    },
    {
     "name": "stdout",
     "output_type": "stream",
     "text": [
      "EVAL: [424/425] Elapsed 1m 59s (remain 0m 0s) Loss: 0.0505 \n"
     ]
    },
    {
     "name": "stderr",
     "output_type": "stream",
     "text": [
      "========== fold: 3 result ==========\n",
      "Score: 0.88448\n",
      "========== CV ==========\n",
      "Score: 0.90809\n",
      "========== model: fold: 0 inference ==========\n",
      "Some weights of the model checkpoint at microsoft/BiomedNLP-PubMedBERT-base-uncased-abstract-fulltext were not used when initializing BertForSequenceClassification: ['cls.predictions.transform.LayerNorm.bias', 'cls.predictions.transform.LayerNorm.weight', 'cls.seq_relationship.weight', 'cls.predictions.decoder.weight', 'cls.predictions.bias', 'cls.predictions.decoder.bias', 'cls.predictions.transform.dense.weight', 'cls.seq_relationship.bias', 'cls.predictions.transform.dense.bias']\n",
      "- This IS expected if you are initializing BertForSequenceClassification from the checkpoint of a model trained on another task or with another architecture (e.g. initializing a BertForSequenceClassification model from a BertForPreTraining model).\n",
      "- This IS NOT expected if you are initializing BertForSequenceClassification from the checkpoint of a model that you expect to be exactly identical (initializing a BertForSequenceClassification model from a BertForSequenceClassification model).\n",
      "Some weights of BertForSequenceClassification were not initialized from the model checkpoint at microsoft/BiomedNLP-PubMedBERT-base-uncased-abstract-fulltext and are newly initialized: ['classifier.weight', 'classifier.bias']\n",
      "You should probably TRAIN this model on a down-stream task to be able to use it for predictions and inference.\n"
     ]
    },
    {
     "data": {
      "application/vnd.jupyter.widget-view+json": {
       "model_id": "66a09103b33040b1bb4a35fd52b410ef",
       "version_major": 2,
       "version_minor": 0
      },
      "text/plain": [
       "  0%|          | 0/2553 [00:00<?, ?it/s]"
      ]
     },
     "metadata": {},
     "output_type": "display_data"
    },
    {
     "name": "stderr",
     "output_type": "stream",
     "text": [
      "========== model: fold: 1 inference ==========\n",
      "Some weights of the model checkpoint at microsoft/BiomedNLP-PubMedBERT-base-uncased-abstract-fulltext were not used when initializing BertForSequenceClassification: ['cls.predictions.transform.LayerNorm.bias', 'cls.predictions.transform.LayerNorm.weight', 'cls.seq_relationship.weight', 'cls.predictions.decoder.weight', 'cls.predictions.bias', 'cls.predictions.decoder.bias', 'cls.predictions.transform.dense.weight', 'cls.seq_relationship.bias', 'cls.predictions.transform.dense.bias']\n",
      "- This IS expected if you are initializing BertForSequenceClassification from the checkpoint of a model trained on another task or with another architecture (e.g. initializing a BertForSequenceClassification model from a BertForPreTraining model).\n",
      "- This IS NOT expected if you are initializing BertForSequenceClassification from the checkpoint of a model that you expect to be exactly identical (initializing a BertForSequenceClassification model from a BertForSequenceClassification model).\n",
      "Some weights of BertForSequenceClassification were not initialized from the model checkpoint at microsoft/BiomedNLP-PubMedBERT-base-uncased-abstract-fulltext and are newly initialized: ['classifier.weight', 'classifier.bias']\n",
      "You should probably TRAIN this model on a down-stream task to be able to use it for predictions and inference.\n"
     ]
    },
    {
     "data": {
      "application/vnd.jupyter.widget-view+json": {
       "model_id": "bf1c7f6a19a24e1faa4ec489648d87ea",
       "version_major": 2,
       "version_minor": 0
      },
      "text/plain": [
       "  0%|          | 0/2553 [00:00<?, ?it/s]"
      ]
     },
     "metadata": {},
     "output_type": "display_data"
    },
    {
     "name": "stderr",
     "output_type": "stream",
     "text": [
      "========== model: fold: 2 inference ==========\n",
      "Some weights of the model checkpoint at microsoft/BiomedNLP-PubMedBERT-base-uncased-abstract-fulltext were not used when initializing BertForSequenceClassification: ['cls.predictions.transform.LayerNorm.bias', 'cls.predictions.transform.LayerNorm.weight', 'cls.seq_relationship.weight', 'cls.predictions.decoder.weight', 'cls.predictions.bias', 'cls.predictions.decoder.bias', 'cls.predictions.transform.dense.weight', 'cls.seq_relationship.bias', 'cls.predictions.transform.dense.bias']\n",
      "- This IS expected if you are initializing BertForSequenceClassification from the checkpoint of a model trained on another task or with another architecture (e.g. initializing a BertForSequenceClassification model from a BertForPreTraining model).\n",
      "- This IS NOT expected if you are initializing BertForSequenceClassification from the checkpoint of a model that you expect to be exactly identical (initializing a BertForSequenceClassification model from a BertForSequenceClassification model).\n",
      "Some weights of BertForSequenceClassification were not initialized from the model checkpoint at microsoft/BiomedNLP-PubMedBERT-base-uncased-abstract-fulltext and are newly initialized: ['classifier.weight', 'classifier.bias']\n",
      "You should probably TRAIN this model on a down-stream task to be able to use it for predictions and inference.\n"
     ]
    },
    {
     "data": {
      "application/vnd.jupyter.widget-view+json": {
       "model_id": "4878c5586db647198a9a42b179f02f21",
       "version_major": 2,
       "version_minor": 0
      },
      "text/plain": [
       "  0%|          | 0/2553 [00:00<?, ?it/s]"
      ]
     },
     "metadata": {},
     "output_type": "display_data"
    },
    {
     "name": "stderr",
     "output_type": "stream",
     "text": [
      "========== model: fold: 3 inference ==========\n",
      "Some weights of the model checkpoint at microsoft/BiomedNLP-PubMedBERT-base-uncased-abstract-fulltext were not used when initializing BertForSequenceClassification: ['cls.predictions.transform.LayerNorm.bias', 'cls.predictions.transform.LayerNorm.weight', 'cls.seq_relationship.weight', 'cls.predictions.decoder.weight', 'cls.predictions.bias', 'cls.predictions.decoder.bias', 'cls.predictions.transform.dense.weight', 'cls.seq_relationship.bias', 'cls.predictions.transform.dense.bias']\n",
      "- This IS expected if you are initializing BertForSequenceClassification from the checkpoint of a model trained on another task or with another architecture (e.g. initializing a BertForSequenceClassification model from a BertForPreTraining model).\n",
      "- This IS NOT expected if you are initializing BertForSequenceClassification from the checkpoint of a model that you expect to be exactly identical (initializing a BertForSequenceClassification model from a BertForSequenceClassification model).\n",
      "Some weights of BertForSequenceClassification were not initialized from the model checkpoint at microsoft/BiomedNLP-PubMedBERT-base-uncased-abstract-fulltext and are newly initialized: ['classifier.weight', 'classifier.bias']\n",
      "You should probably TRAIN this model on a down-stream task to be able to use it for predictions and inference.\n"
     ]
    },
    {
     "data": {
      "application/vnd.jupyter.widget-view+json": {
       "model_id": "326fee6472b2479f819e99507812e0f7",
       "version_major": 2,
       "version_minor": 0
      },
      "text/plain": [
       "  0%|          | 0/2553 [00:00<?, ?it/s]"
      ]
     },
     "metadata": {},
     "output_type": "display_data"
    }
   ],
   "source": [
    "if __name__ == \"__main__\":\n",
    "    main()"
   ]
  },
  {
   "cell_type": "code",
   "execution_count": null,
   "metadata": {
    "colab": {
     "background_save": true
    },
    "id": "1qeSIwWf9OSR"
   },
   "outputs": [],
   "source": [
    "!cp ./sub_prob_002.csv \"/content/drive/MyDrive/Colab Notebooks/signate/medical_treatises/data/01/sub_prob_002.csv\"\n",
    "!cp ./sub_002.csv \"/content/drive/MyDrive/Colab Notebooks/signate/medical_treatises/data/01/sub_002.csv\"\n",
    "\n",
    "!cp ./fold0_best.pth \"/content/drive/MyDrive/Colab Notebooks/signate/medical_treatises/data/01/002_fold0_best.pth\"\n",
    "!cp ./fold1_best.pth \"/content/drive/MyDrive/Colab Notebooks/signate/medical_treatises/data/01/002_fold1_best.pth\"\n",
    "!cp ./fold2_best.pth \"/content/drive/MyDrive/Colab Notebooks/signate/medical_treatises/data/01/002_fold2_best.pth\"\n",
    "!cp ./fold3_best.pth \"/content/drive/MyDrive/Colab Notebooks/signate/medical_treatises/data/01/002_fold3_best.pth\""
   ]
  },
  {
   "cell_type": "markdown",
   "metadata": {
    "id": "8Qu-EBIN9PKK"
   },
   "source": [
    "医学論文の自動仕分けチャレンジ ベースライン\n",
    "\n",
    "PyTorch と BERT を使ったベースラインです。\n",
    "\n",
    "judgement の値をもとにした層別交差検証 (Stratified KFold) をします。\n",
    "\n",
    "title のみで学習・推論します。\n",
    "\n",
    "モデルの出力は 0 ~ 1 の実数を想定した 回帰予測 とします。\n",
    "\n",
    "モデルの出力をある境界値をもとに 0 と 1 にします。\n",
    "\n",
    "境界値は 学習データの judgement の 0 と 1 の割合で決めます。\n",
    "\n",
    "交差検証で生成した5つのモデルでそれぞれ推論を行い、結果を平均して、テストコードの推論結果とします。"
   ]
  },
  {
   "cell_type": "code",
   "execution_count": 25,
   "metadata": {
    "colab": {
     "base_uri": "https://localhost:8080/",
     "height": 567,
     "referenced_widgets": [
      "75337fa43de24a28891f72c8b70e6393"
     ]
    },
    "executionInfo": {
     "elapsed": 1519880,
     "status": "ok",
     "timestamp": 1633617854935,
     "user": {
      "displayName": "山邉潤",
      "photoUrl": "https://lh3.googleusercontent.com/a/default-user=s64",
      "userId": "01598730496302142675"
     },
     "user_tz": -540
    },
    "id": "D9RvpT8f3cxP",
    "outputId": "cdb01042-c8a0-4b13-f255-8006daf3ec2b"
   },
   "outputs": [
    {
     "metadata": {
      "tags": null
     },
     "name": "stderr",
     "output_type": "stream",
     "text": [
      "========== model: fold: 0 inference ==========\n",
      "Some weights of the model checkpoint at microsoft/BiomedNLP-PubMedBERT-base-uncased-abstract-fulltext were not used when initializing BertForSequenceClassification: ['cls.predictions.transform.LayerNorm.bias', 'cls.predictions.transform.LayerNorm.weight', 'cls.seq_relationship.weight', 'cls.predictions.decoder.weight', 'cls.predictions.bias', 'cls.predictions.decoder.bias', 'cls.predictions.transform.dense.weight', 'cls.seq_relationship.bias', 'cls.predictions.transform.dense.bias']\n",
      "- This IS expected if you are initializing BertForSequenceClassification from the checkpoint of a model trained on another task or with another architecture (e.g. initializing a BertForSequenceClassification model from a BertForPreTraining model).\n",
      "- This IS NOT expected if you are initializing BertForSequenceClassification from the checkpoint of a model that you expect to be exactly identical (initializing a BertForSequenceClassification model from a BertForSequenceClassification model).\n",
      "Some weights of BertForSequenceClassification were not initialized from the model checkpoint at microsoft/BiomedNLP-PubMedBERT-base-uncased-abstract-fulltext and are newly initialized: ['classifier.weight', 'classifier.bias']\n",
      "You should probably TRAIN this model on a down-stream task to be able to use it for predictions and inference.\n"
     ]
    },
    {
     "data": {
      "application/vnd.jupyter.widget-view+json": {
       "model_id": "75337fa43de24a28891f72c8b70e6393",
       "version_major": 2,
       "version_minor": 0
      },
      "text/plain": [
       "  0%|          | 0/1697 [00:00<?, ?it/s]"
      ]
     },
     "metadata": {},
     "output_type": "display_data"
    },
    {
     "name": "stderr",
     "output_type": "stream",
     "text": [
      "========== model: fold: 1 inference ==========\n",
      "Some weights of the model checkpoint at microsoft/BiomedNLP-PubMedBERT-base-uncased-abstract-fulltext were not used when initializing BertForSequenceClassification: ['cls.predictions.transform.LayerNorm.bias', 'cls.predictions.transform.LayerNorm.weight', 'cls.seq_relationship.weight', 'cls.predictions.decoder.weight', 'cls.predictions.bias', 'cls.predictions.decoder.bias', 'cls.predictions.transform.dense.weight', 'cls.seq_relationship.bias', 'cls.predictions.transform.dense.bias']\n",
      "- This IS expected if you are initializing BertForSequenceClassification from the checkpoint of a model trained on another task or with another architecture (e.g. initializing a BertForSequenceClassification model from a BertForPreTraining model).\n",
      "- This IS NOT expected if you are initializing BertForSequenceClassification from the checkpoint of a model that you expect to be exactly identical (initializing a BertForSequenceClassification model from a BertForSequenceClassification model).\n",
      "Some weights of BertForSequenceClassification were not initialized from the model checkpoint at microsoft/BiomedNLP-PubMedBERT-base-uncased-abstract-fulltext and are newly initialized: ['classifier.weight', 'classifier.bias']\n",
      "You should probably TRAIN this model on a down-stream task to be able to use it for predictions and inference.\n"
     ]
    },
    {
     "data": {
      "application/vnd.jupyter.widget-view+json": {
       "model_id": "9b9996a016c24565aee307a38e44fde9",
       "version_major": 2,
       "version_minor": 0
      },
      "text/plain": [
       "  0%|          | 0/1697 [00:00<?, ?it/s]"
      ]
     },
     "metadata": {},
     "output_type": "display_data"
    },
    {
     "name": "stderr",
     "output_type": "stream",
     "text": [
      "========== model: fold: 2 inference ==========\n",
      "Some weights of the model checkpoint at microsoft/BiomedNLP-PubMedBERT-base-uncased-abstract-fulltext were not used when initializing BertForSequenceClassification: ['cls.predictions.transform.LayerNorm.bias', 'cls.predictions.transform.LayerNorm.weight', 'cls.seq_relationship.weight', 'cls.predictions.decoder.weight', 'cls.predictions.bias', 'cls.predictions.decoder.bias', 'cls.predictions.transform.dense.weight', 'cls.seq_relationship.bias', 'cls.predictions.transform.dense.bias']\n",
      "- This IS expected if you are initializing BertForSequenceClassification from the checkpoint of a model trained on another task or with another architecture (e.g. initializing a BertForSequenceClassification model from a BertForPreTraining model).\n",
      "- This IS NOT expected if you are initializing BertForSequenceClassification from the checkpoint of a model that you expect to be exactly identical (initializing a BertForSequenceClassification model from a BertForSequenceClassification model).\n",
      "Some weights of BertForSequenceClassification were not initialized from the model checkpoint at microsoft/BiomedNLP-PubMedBERT-base-uncased-abstract-fulltext and are newly initialized: ['classifier.weight', 'classifier.bias']\n",
      "You should probably TRAIN this model on a down-stream task to be able to use it for predictions and inference.\n"
     ]
    },
    {
     "data": {
      "application/vnd.jupyter.widget-view+json": {
       "model_id": "f6fd7f6a998246a989241e35145febe5",
       "version_major": 2,
       "version_minor": 0
      },
      "text/plain": [
       "  0%|          | 0/1697 [00:00<?, ?it/s]"
      ]
     },
     "metadata": {},
     "output_type": "display_data"
    },
    {
     "name": "stderr",
     "output_type": "stream",
     "text": [
      "========== model: fold: 3 inference ==========\n",
      "Some weights of the model checkpoint at microsoft/BiomedNLP-PubMedBERT-base-uncased-abstract-fulltext were not used when initializing BertForSequenceClassification: ['cls.predictions.transform.LayerNorm.bias', 'cls.predictions.transform.LayerNorm.weight', 'cls.seq_relationship.weight', 'cls.predictions.decoder.weight', 'cls.predictions.bias', 'cls.predictions.decoder.bias', 'cls.predictions.transform.dense.weight', 'cls.seq_relationship.bias', 'cls.predictions.transform.dense.bias']\n",
      "- This IS expected if you are initializing BertForSequenceClassification from the checkpoint of a model trained on another task or with another architecture (e.g. initializing a BertForSequenceClassification model from a BertForPreTraining model).\n",
      "- This IS NOT expected if you are initializing BertForSequenceClassification from the checkpoint of a model that you expect to be exactly identical (initializing a BertForSequenceClassification model from a BertForSequenceClassification model).\n",
      "Some weights of BertForSequenceClassification were not initialized from the model checkpoint at microsoft/BiomedNLP-PubMedBERT-base-uncased-abstract-fulltext and are newly initialized: ['classifier.weight', 'classifier.bias']\n",
      "You should probably TRAIN this model on a down-stream task to be able to use it for predictions and inference.\n"
     ]
    },
    {
     "data": {
      "application/vnd.jupyter.widget-view+json": {
       "model_id": "f93fb8b9461d4bd5b46e27ed84b3d2ff",
       "version_major": 2,
       "version_minor": 0
      },
      "text/plain": [
       "  0%|          | 0/1697 [00:00<?, ?it/s]"
      ]
     },
     "metadata": {},
     "output_type": "display_data"
    }
   ],
   "source": [
    "def inference2():\n",
    "    predictions = []\n",
    "\n",
    "    test_dataset = BaseDataset(train, MODEL, include_labels=False)\n",
    "    test_loader = DataLoader(\n",
    "        test_dataset, batch_size=16, shuffle=False, num_workers=N_FOLD - 1, pin_memory=True\n",
    "    )\n",
    "\n",
    "    for fold in range(N_FOLD):\n",
    "        LOGGER.info(f\"========== model: fold: {fold} inference ==========\")\n",
    "        model = BaseModel(MODEL)\n",
    "        model.to(device)\n",
    "        model.load_state_dict(torch.load(OUTPUT_DIR + f\"fold{fold}_best.pth\")[\"model\"])\n",
    "        model.eval()\n",
    "        preds = []\n",
    "        for i, (input_ids, attention_mask) in tqdm(enumerate(test_loader), total=len(test_loader)):\n",
    "            input_ids = input_ids.to(device)\n",
    "            attention_mask = attention_mask.to(device)\n",
    "            with torch.no_grad():\n",
    "                y_preds = model(input_ids, attention_mask)\n",
    "            preds.append(y_preds.to(\"cpu\").numpy())\n",
    "        preds = np.concatenate(preds)\n",
    "        predictions.append(preds)\n",
    "    predictions = np.mean(predictions, axis=0)\n",
    "\n",
    "    return predictions\n",
    "\n",
    "pred = inference2()\n",
    "train[\"pred\"] = pred\n",
    "\n",
    "train[['id', 'pred']].to_csv('{}pred_train_002.csv'.format(OUTPUT_DIR), index=False)"
   ]
  },
  {
   "cell_type": "code",
   "execution_count": 26,
   "metadata": {
    "executionInfo": {
     "elapsed": 1039,
     "status": "ok",
     "timestamp": 1633617855970,
     "user": {
      "displayName": "山邉潤",
      "photoUrl": "https://lh3.googleusercontent.com/a/default-user=s64",
      "userId": "01598730496302142675"
     },
     "user_tz": -540
    },
    "id": "zAAPa0qf8XiM"
   },
   "outputs": [],
   "source": [
    "!cp ./pred_train_002.csv \"/content/drive/MyDrive/Colab Notebooks/signate/medical_treatises/data/01/pred_train_002.csv\"\n"
   ]
  },
  {
   "cell_type": "code",
   "execution_count": 26,
   "metadata": {
    "executionInfo": {
     "elapsed": 5,
     "status": "ok",
     "timestamp": 1633617855972,
     "user": {
      "displayName": "山邉潤",
      "photoUrl": "https://lh3.googleusercontent.com/a/default-user=s64",
      "userId": "01598730496302142675"
     },
     "user_tz": -540
    },
    "id": "j6La34TZ8XlP"
   },
   "outputs": [],
   "source": []
  }
 ],
 "metadata": {
  "accelerator": "GPU",
  "colab": {
   "authorship_tag": "ABX9TyOtvk3WV8DZvjc00FNRHpjA",
   "collapsed_sections": [],
   "machine_shape": "hm",
   "mount_file_id": "1Wy7EXfIwVBqDDvnWcvqGx8WbZa97zaij",
   "name": "002_pred.ipynb",
   "provenance": []
  },
  "kernelspec": {
   "display_name": "Python 3",
   "language": "python",
   "name": "python3"
  },
  "language_info": {
   "codemirror_mode": {
    "name": "ipython",
    "version": 3
   },
   "file_extension": ".py",
   "mimetype": "text/x-python",
   "name": "python",
   "nbconvert_exporter": "python",
   "pygments_lexer": "ipython3",
   "version": "3.8.5"
  },
  "widgets": {
   "application/vnd.jupyter.widget-state+json": {
    "0101b296ca974da9a96c9c6431f0c15f": {
     "model_module": "@jupyter-widgets/base",
     "model_module_version": "1.2.0",
     "model_name": "LayoutModel",
     "state": {
      "_model_module": "@jupyter-widgets/base",
      "_model_module_version": "1.2.0",
      "_model_name": "LayoutModel",
      "_view_count": null,
      "_view_module": "@jupyter-widgets/base",
      "_view_module_version": "1.2.0",
      "_view_name": "LayoutView",
      "align_content": null,
      "align_items": null,
      "align_self": null,
      "border": null,
      "bottom": null,
      "display": null,
      "flex": null,
      "flex_flow": null,
      "grid_area": null,
      "grid_auto_columns": null,
      "grid_auto_flow": null,
      "grid_auto_rows": null,
      "grid_column": null,
      "grid_gap": null,
      "grid_row": null,
      "grid_template_areas": null,
      "grid_template_columns": null,
      "grid_template_rows": null,
      "height": null,
      "justify_content": null,
      "justify_items": null,
      "left": null,
      "margin": null,
      "max_height": null,
      "max_width": null,
      "min_height": null,
      "min_width": null,
      "object_fit": null,
      "object_position": null,
      "order": null,
      "overflow": null,
      "overflow_x": null,
      "overflow_y": null,
      "padding": null,
      "right": null,
      "top": null,
      "visibility": null,
      "width": null
     }
    },
    "0266c040961e4a2c9a0a0bb299996e16": {
     "model_module": "@jupyter-widgets/controls",
     "model_module_version": "1.5.0",
     "model_name": "HBoxModel",
     "state": {
      "_dom_classes": [],
      "_model_module": "@jupyter-widgets/controls",
      "_model_module_version": "1.5.0",
      "_model_name": "HBoxModel",
      "_view_count": null,
      "_view_module": "@jupyter-widgets/controls",
      "_view_module_version": "1.5.0",
      "_view_name": "HBoxView",
      "box_style": "",
      "children": [
       "IPY_MODEL_ac130fa62299476bb9d37eec96c092b1",
       "IPY_MODEL_937664a8f05d4511b56f31b03fd3affd",
       "IPY_MODEL_52d9e7daa33c4bc8b3c3e21be6ab50c4"
      ],
      "layout": "IPY_MODEL_447c9f703f4849b6bdf19440ea8e1897"
     }
    },
    "030fca7bd07c42d1bf612ea8af3d20b7": {
     "model_module": "@jupyter-widgets/base",
     "model_module_version": "1.2.0",
     "model_name": "LayoutModel",
     "state": {
      "_model_module": "@jupyter-widgets/base",
      "_model_module_version": "1.2.0",
      "_model_name": "LayoutModel",
      "_view_count": null,
      "_view_module": "@jupyter-widgets/base",
      "_view_module_version": "1.2.0",
      "_view_name": "LayoutView",
      "align_content": null,
      "align_items": null,
      "align_self": null,
      "border": null,
      "bottom": null,
      "display": null,
      "flex": null,
      "flex_flow": null,
      "grid_area": null,
      "grid_auto_columns": null,
      "grid_auto_flow": null,
      "grid_auto_rows": null,
      "grid_column": null,
      "grid_gap": null,
      "grid_row": null,
      "grid_template_areas": null,
      "grid_template_columns": null,
      "grid_template_rows": null,
      "height": null,
      "justify_content": null,
      "justify_items": null,
      "left": null,
      "margin": null,
      "max_height": null,
      "max_width": null,
      "min_height": null,
      "min_width": null,
      "object_fit": null,
      "object_position": null,
      "order": null,
      "overflow": null,
      "overflow_x": null,
      "overflow_y": null,
      "padding": null,
      "right": null,
      "top": null,
      "visibility": null,
      "width": null
     }
    },
    "03990b3e0c2741088bb9be8f15aefe08": {
     "model_module": "@jupyter-widgets/controls",
     "model_module_version": "1.5.0",
     "model_name": "ProgressStyleModel",
     "state": {
      "_model_module": "@jupyter-widgets/controls",
      "_model_module_version": "1.5.0",
      "_model_name": "ProgressStyleModel",
      "_view_count": null,
      "_view_module": "@jupyter-widgets/base",
      "_view_module_version": "1.2.0",
      "_view_name": "StyleView",
      "bar_color": null,
      "description_width": ""
     }
    },
    "04dce7ddfb7c4827a9ce8f3f5290abb0": {
     "model_module": "@jupyter-widgets/controls",
     "model_module_version": "1.5.0",
     "model_name": "DescriptionStyleModel",
     "state": {
      "_model_module": "@jupyter-widgets/controls",
      "_model_module_version": "1.5.0",
      "_model_name": "DescriptionStyleModel",
      "_view_count": null,
      "_view_module": "@jupyter-widgets/base",
      "_view_module_version": "1.2.0",
      "_view_name": "StyleView",
      "description_width": ""
     }
    },
    "05c46a95f9c14cf480757d5cd5579bff": {
     "model_module": "@jupyter-widgets/base",
     "model_module_version": "1.2.0",
     "model_name": "LayoutModel",
     "state": {
      "_model_module": "@jupyter-widgets/base",
      "_model_module_version": "1.2.0",
      "_model_name": "LayoutModel",
      "_view_count": null,
      "_view_module": "@jupyter-widgets/base",
      "_view_module_version": "1.2.0",
      "_view_name": "LayoutView",
      "align_content": null,
      "align_items": null,
      "align_self": null,
      "border": null,
      "bottom": null,
      "display": null,
      "flex": null,
      "flex_flow": null,
      "grid_area": null,
      "grid_auto_columns": null,
      "grid_auto_flow": null,
      "grid_auto_rows": null,
      "grid_column": null,
      "grid_gap": null,
      "grid_row": null,
      "grid_template_areas": null,
      "grid_template_columns": null,
      "grid_template_rows": null,
      "height": null,
      "justify_content": null,
      "justify_items": null,
      "left": null,
      "margin": null,
      "max_height": null,
      "max_width": null,
      "min_height": null,
      "min_width": null,
      "object_fit": null,
      "object_position": null,
      "order": null,
      "overflow": null,
      "overflow_x": null,
      "overflow_y": null,
      "padding": null,
      "right": null,
      "top": null,
      "visibility": null,
      "width": null
     }
    },
    "06447e2736da468696514b85e9dc39c7": {
     "model_module": "@jupyter-widgets/base",
     "model_module_version": "1.2.0",
     "model_name": "LayoutModel",
     "state": {
      "_model_module": "@jupyter-widgets/base",
      "_model_module_version": "1.2.0",
      "_model_name": "LayoutModel",
      "_view_count": null,
      "_view_module": "@jupyter-widgets/base",
      "_view_module_version": "1.2.0",
      "_view_name": "LayoutView",
      "align_content": null,
      "align_items": null,
      "align_self": null,
      "border": null,
      "bottom": null,
      "display": null,
      "flex": null,
      "flex_flow": null,
      "grid_area": null,
      "grid_auto_columns": null,
      "grid_auto_flow": null,
      "grid_auto_rows": null,
      "grid_column": null,
      "grid_gap": null,
      "grid_row": null,
      "grid_template_areas": null,
      "grid_template_columns": null,
      "grid_template_rows": null,
      "height": null,
      "justify_content": null,
      "justify_items": null,
      "left": null,
      "margin": null,
      "max_height": null,
      "max_width": null,
      "min_height": null,
      "min_width": null,
      "object_fit": null,
      "object_position": null,
      "order": null,
      "overflow": null,
      "overflow_x": null,
      "overflow_y": null,
      "padding": null,
      "right": null,
      "top": null,
      "visibility": null,
      "width": null
     }
    },
    "10547734123a4140a922bf2d88091163": {
     "model_module": "@jupyter-widgets/base",
     "model_module_version": "1.2.0",
     "model_name": "LayoutModel",
     "state": {
      "_model_module": "@jupyter-widgets/base",
      "_model_module_version": "1.2.0",
      "_model_name": "LayoutModel",
      "_view_count": null,
      "_view_module": "@jupyter-widgets/base",
      "_view_module_version": "1.2.0",
      "_view_name": "LayoutView",
      "align_content": null,
      "align_items": null,
      "align_self": null,
      "border": null,
      "bottom": null,
      "display": null,
      "flex": null,
      "flex_flow": null,
      "grid_area": null,
      "grid_auto_columns": null,
      "grid_auto_flow": null,
      "grid_auto_rows": null,
      "grid_column": null,
      "grid_gap": null,
      "grid_row": null,
      "grid_template_areas": null,
      "grid_template_columns": null,
      "grid_template_rows": null,
      "height": null,
      "justify_content": null,
      "justify_items": null,
      "left": null,
      "margin": null,
      "max_height": null,
      "max_width": null,
      "min_height": null,
      "min_width": null,
      "object_fit": null,
      "object_position": null,
      "order": null,
      "overflow": null,
      "overflow_x": null,
      "overflow_y": null,
      "padding": null,
      "right": null,
      "top": null,
      "visibility": null,
      "width": null
     }
    },
    "13738ead106e411f8fa71b6b159ec591": {
     "model_module": "@jupyter-widgets/controls",
     "model_module_version": "1.5.0",
     "model_name": "FloatProgressModel",
     "state": {
      "_dom_classes": [],
      "_model_module": "@jupyter-widgets/controls",
      "_model_module_version": "1.5.0",
      "_model_name": "FloatProgressModel",
      "_view_count": null,
      "_view_module": "@jupyter-widgets/controls",
      "_view_module_version": "1.5.0",
      "_view_name": "ProgressView",
      "bar_style": "success",
      "description": "",
      "description_tooltip": null,
      "layout": "IPY_MODEL_05c46a95f9c14cf480757d5cd5579bff",
      "max": 385,
      "min": 0,
      "orientation": "horizontal",
      "style": "IPY_MODEL_d13d018a47cc44dd949de8f621823d68",
      "value": 385
     }
    },
    "15c7fff09f6b4b2fbb8bfc5ec16394e2": {
     "model_module": "@jupyter-widgets/base",
     "model_module_version": "1.2.0",
     "model_name": "LayoutModel",
     "state": {
      "_model_module": "@jupyter-widgets/base",
      "_model_module_version": "1.2.0",
      "_model_name": "LayoutModel",
      "_view_count": null,
      "_view_module": "@jupyter-widgets/base",
      "_view_module_version": "1.2.0",
      "_view_name": "LayoutView",
      "align_content": null,
      "align_items": null,
      "align_self": null,
      "border": null,
      "bottom": null,
      "display": null,
      "flex": null,
      "flex_flow": null,
      "grid_area": null,
      "grid_auto_columns": null,
      "grid_auto_flow": null,
      "grid_auto_rows": null,
      "grid_column": null,
      "grid_gap": null,
      "grid_row": null,
      "grid_template_areas": null,
      "grid_template_columns": null,
      "grid_template_rows": null,
      "height": null,
      "justify_content": null,
      "justify_items": null,
      "left": null,
      "margin": null,
      "max_height": null,
      "max_width": null,
      "min_height": null,
      "min_width": null,
      "object_fit": null,
      "object_position": null,
      "order": null,
      "overflow": null,
      "overflow_x": null,
      "overflow_y": null,
      "padding": null,
      "right": null,
      "top": null,
      "visibility": null,
      "width": null
     }
    },
    "16460d55e21b4e8a9324c067276a7dda": {
     "model_module": "@jupyter-widgets/controls",
     "model_module_version": "1.5.0",
     "model_name": "DescriptionStyleModel",
     "state": {
      "_model_module": "@jupyter-widgets/controls",
      "_model_module_version": "1.5.0",
      "_model_name": "DescriptionStyleModel",
      "_view_count": null,
      "_view_module": "@jupyter-widgets/base",
      "_view_module_version": "1.2.0",
      "_view_name": "StyleView",
      "description_width": ""
     }
    },
    "19206e6bc5114d9da73dedcad419954b": {
     "model_module": "@jupyter-widgets/controls",
     "model_module_version": "1.5.0",
     "model_name": "DescriptionStyleModel",
     "state": {
      "_model_module": "@jupyter-widgets/controls",
      "_model_module_version": "1.5.0",
      "_model_name": "DescriptionStyleModel",
      "_view_count": null,
      "_view_module": "@jupyter-widgets/base",
      "_view_module_version": "1.2.0",
      "_view_name": "StyleView",
      "description_width": ""
     }
    },
    "19845e166baf47d18e51d44185b63789": {
     "model_module": "@jupyter-widgets/base",
     "model_module_version": "1.2.0",
     "model_name": "LayoutModel",
     "state": {
      "_model_module": "@jupyter-widgets/base",
      "_model_module_version": "1.2.0",
      "_model_name": "LayoutModel",
      "_view_count": null,
      "_view_module": "@jupyter-widgets/base",
      "_view_module_version": "1.2.0",
      "_view_name": "LayoutView",
      "align_content": null,
      "align_items": null,
      "align_self": null,
      "border": null,
      "bottom": null,
      "display": null,
      "flex": null,
      "flex_flow": null,
      "grid_area": null,
      "grid_auto_columns": null,
      "grid_auto_flow": null,
      "grid_auto_rows": null,
      "grid_column": null,
      "grid_gap": null,
      "grid_row": null,
      "grid_template_areas": null,
      "grid_template_columns": null,
      "grid_template_rows": null,
      "height": null,
      "justify_content": null,
      "justify_items": null,
      "left": null,
      "margin": null,
      "max_height": null,
      "max_width": null,
      "min_height": null,
      "min_width": null,
      "object_fit": null,
      "object_position": null,
      "order": null,
      "overflow": null,
      "overflow_x": null,
      "overflow_y": null,
      "padding": null,
      "right": null,
      "top": null,
      "visibility": null,
      "width": null
     }
    },
    "1c7920fccd2d4caf9061d40122716254": {
     "model_module": "@jupyter-widgets/controls",
     "model_module_version": "1.5.0",
     "model_name": "DescriptionStyleModel",
     "state": {
      "_model_module": "@jupyter-widgets/controls",
      "_model_module_version": "1.5.0",
      "_model_name": "DescriptionStyleModel",
      "_view_count": null,
      "_view_module": "@jupyter-widgets/base",
      "_view_module_version": "1.2.0",
      "_view_name": "StyleView",
      "description_width": ""
     }
    },
    "1d34f897992b4651a9f5070abe9fa98d": {
     "model_module": "@jupyter-widgets/controls",
     "model_module_version": "1.5.0",
     "model_name": "DescriptionStyleModel",
     "state": {
      "_model_module": "@jupyter-widgets/controls",
      "_model_module_version": "1.5.0",
      "_model_name": "DescriptionStyleModel",
      "_view_count": null,
      "_view_module": "@jupyter-widgets/base",
      "_view_module_version": "1.2.0",
      "_view_name": "StyleView",
      "description_width": ""
     }
    },
    "1e74c551ead2420c93b2331d0eee5186": {
     "model_module": "@jupyter-widgets/controls",
     "model_module_version": "1.5.0",
     "model_name": "HTMLModel",
     "state": {
      "_dom_classes": [],
      "_model_module": "@jupyter-widgets/controls",
      "_model_module_version": "1.5.0",
      "_model_name": "HTMLModel",
      "_view_count": null,
      "_view_module": "@jupyter-widgets/controls",
      "_view_module_version": "1.5.0",
      "_view_name": "HTMLView",
      "description": "",
      "description_tooltip": null,
      "layout": "IPY_MODEL_8209c7e462be43b8ab85b6ff6181d659",
      "placeholder": "​",
      "style": "IPY_MODEL_3b3c414f71824198abd4bd72c5f667d0",
      "value": "Downloading: 100%"
     }
    },
    "1f20f541b78b4d778986e902cba48605": {
     "model_module": "@jupyter-widgets/base",
     "model_module_version": "1.2.0",
     "model_name": "LayoutModel",
     "state": {
      "_model_module": "@jupyter-widgets/base",
      "_model_module_version": "1.2.0",
      "_model_name": "LayoutModel",
      "_view_count": null,
      "_view_module": "@jupyter-widgets/base",
      "_view_module_version": "1.2.0",
      "_view_name": "LayoutView",
      "align_content": null,
      "align_items": null,
      "align_self": null,
      "border": null,
      "bottom": null,
      "display": null,
      "flex": null,
      "flex_flow": null,
      "grid_area": null,
      "grid_auto_columns": null,
      "grid_auto_flow": null,
      "grid_auto_rows": null,
      "grid_column": null,
      "grid_gap": null,
      "grid_row": null,
      "grid_template_areas": null,
      "grid_template_columns": null,
      "grid_template_rows": null,
      "height": null,
      "justify_content": null,
      "justify_items": null,
      "left": null,
      "margin": null,
      "max_height": null,
      "max_width": null,
      "min_height": null,
      "min_width": null,
      "object_fit": null,
      "object_position": null,
      "order": null,
      "overflow": null,
      "overflow_x": null,
      "overflow_y": null,
      "padding": null,
      "right": null,
      "top": null,
      "visibility": null,
      "width": null
     }
    },
    "215cd7d6c58548b5b6af79f8834cd2c8": {
     "model_module": "@jupyter-widgets/controls",
     "model_module_version": "1.5.0",
     "model_name": "DescriptionStyleModel",
     "state": {
      "_model_module": "@jupyter-widgets/controls",
      "_model_module_version": "1.5.0",
      "_model_name": "DescriptionStyleModel",
      "_view_count": null,
      "_view_module": "@jupyter-widgets/base",
      "_view_module_version": "1.2.0",
      "_view_name": "StyleView",
      "description_width": ""
     }
    },
    "22ae24d277cf4114baf31a7370890aa7": {
     "model_module": "@jupyter-widgets/controls",
     "model_module_version": "1.5.0",
     "model_name": "DescriptionStyleModel",
     "state": {
      "_model_module": "@jupyter-widgets/controls",
      "_model_module_version": "1.5.0",
      "_model_name": "DescriptionStyleModel",
      "_view_count": null,
      "_view_module": "@jupyter-widgets/base",
      "_view_module_version": "1.2.0",
      "_view_name": "StyleView",
      "description_width": ""
     }
    },
    "2feaf456fe1f4ef287febf242921c400": {
     "model_module": "@jupyter-widgets/base",
     "model_module_version": "1.2.0",
     "model_name": "LayoutModel",
     "state": {
      "_model_module": "@jupyter-widgets/base",
      "_model_module_version": "1.2.0",
      "_model_name": "LayoutModel",
      "_view_count": null,
      "_view_module": "@jupyter-widgets/base",
      "_view_module_version": "1.2.0",
      "_view_name": "LayoutView",
      "align_content": null,
      "align_items": null,
      "align_self": null,
      "border": null,
      "bottom": null,
      "display": null,
      "flex": null,
      "flex_flow": null,
      "grid_area": null,
      "grid_auto_columns": null,
      "grid_auto_flow": null,
      "grid_auto_rows": null,
      "grid_column": null,
      "grid_gap": null,
      "grid_row": null,
      "grid_template_areas": null,
      "grid_template_columns": null,
      "grid_template_rows": null,
      "height": null,
      "justify_content": null,
      "justify_items": null,
      "left": null,
      "margin": null,
      "max_height": null,
      "max_width": null,
      "min_height": null,
      "min_width": null,
      "object_fit": null,
      "object_position": null,
      "order": null,
      "overflow": null,
      "overflow_x": null,
      "overflow_y": null,
      "padding": null,
      "right": null,
      "top": null,
      "visibility": null,
      "width": null
     }
    },
    "31086955c26c4788ba97fcf2c8491b4f": {
     "model_module": "@jupyter-widgets/controls",
     "model_module_version": "1.5.0",
     "model_name": "ProgressStyleModel",
     "state": {
      "_model_module": "@jupyter-widgets/controls",
      "_model_module_version": "1.5.0",
      "_model_name": "ProgressStyleModel",
      "_view_count": null,
      "_view_module": "@jupyter-widgets/base",
      "_view_module_version": "1.2.0",
      "_view_name": "StyleView",
      "bar_color": null,
      "description_width": ""
     }
    },
    "311c8f6b4a16424b9648320ad04c7641": {
     "model_module": "@jupyter-widgets/controls",
     "model_module_version": "1.5.0",
     "model_name": "HTMLModel",
     "state": {
      "_dom_classes": [],
      "_model_module": "@jupyter-widgets/controls",
      "_model_module_version": "1.5.0",
      "_model_name": "HTMLModel",
      "_view_count": null,
      "_view_module": "@jupyter-widgets/controls",
      "_view_module_version": "1.5.0",
      "_view_name": "HTMLView",
      "description": "",
      "description_tooltip": null,
      "layout": "IPY_MODEL_8aae8a0c9b294dc49a339e7769607729",
      "placeholder": "​",
      "style": "IPY_MODEL_b58e34b3b6a94688b3811954b3551fb2",
      "value": " 420M/420M [00:07&lt;00:00, 61.0MB/s]"
     }
    },
    "3b3c414f71824198abd4bd72c5f667d0": {
     "model_module": "@jupyter-widgets/controls",
     "model_module_version": "1.5.0",
     "model_name": "DescriptionStyleModel",
     "state": {
      "_model_module": "@jupyter-widgets/controls",
      "_model_module_version": "1.5.0",
      "_model_name": "DescriptionStyleModel",
      "_view_count": null,
      "_view_module": "@jupyter-widgets/base",
      "_view_module_version": "1.2.0",
      "_view_name": "StyleView",
      "description_width": ""
     }
    },
    "447c9f703f4849b6bdf19440ea8e1897": {
     "model_module": "@jupyter-widgets/base",
     "model_module_version": "1.2.0",
     "model_name": "LayoutModel",
     "state": {
      "_model_module": "@jupyter-widgets/base",
      "_model_module_version": "1.2.0",
      "_model_name": "LayoutModel",
      "_view_count": null,
      "_view_module": "@jupyter-widgets/base",
      "_view_module_version": "1.2.0",
      "_view_name": "LayoutView",
      "align_content": null,
      "align_items": null,
      "align_self": null,
      "border": null,
      "bottom": null,
      "display": null,
      "flex": null,
      "flex_flow": null,
      "grid_area": null,
      "grid_auto_columns": null,
      "grid_auto_flow": null,
      "grid_auto_rows": null,
      "grid_column": null,
      "grid_gap": null,
      "grid_row": null,
      "grid_template_areas": null,
      "grid_template_columns": null,
      "grid_template_rows": null,
      "height": null,
      "justify_content": null,
      "justify_items": null,
      "left": null,
      "margin": null,
      "max_height": null,
      "max_width": null,
      "min_height": null,
      "min_width": null,
      "object_fit": null,
      "object_position": null,
      "order": null,
      "overflow": null,
      "overflow_x": null,
      "overflow_y": null,
      "padding": null,
      "right": null,
      "top": null,
      "visibility": null,
      "width": null
     }
    },
    "4878c5586db647198a9a42b179f02f21": {
     "model_module": "@jupyter-widgets/controls",
     "model_module_version": "1.5.0",
     "model_name": "HBoxModel",
     "state": {
      "_dom_classes": [],
      "_model_module": "@jupyter-widgets/controls",
      "_model_module_version": "1.5.0",
      "_model_name": "HBoxModel",
      "_view_count": null,
      "_view_module": "@jupyter-widgets/controls",
      "_view_module_version": "1.5.0",
      "_view_name": "HBoxView",
      "box_style": "",
      "children": [
       "IPY_MODEL_972770e41ab14a8a9dc0dbfb10569ec8",
       "IPY_MODEL_c6d6fef8bf9c4b01a9860acda7ca5e7a",
       "IPY_MODEL_ea3d3e033c1b4acebe5a2e8ba9630b25"
      ],
      "layout": "IPY_MODEL_6bb985eee2cd42068f9963724e8ca27f"
     }
    },
    "4baead7101e4469c91d6bab1416ce452": {
     "model_module": "@jupyter-widgets/controls",
     "model_module_version": "1.5.0",
     "model_name": "DescriptionStyleModel",
     "state": {
      "_model_module": "@jupyter-widgets/controls",
      "_model_module_version": "1.5.0",
      "_model_name": "DescriptionStyleModel",
      "_view_count": null,
      "_view_module": "@jupyter-widgets/base",
      "_view_module_version": "1.2.0",
      "_view_name": "StyleView",
      "description_width": ""
     }
    },
    "524269aff286456daa9fcb83f97050d2": {
     "model_module": "@jupyter-widgets/controls",
     "model_module_version": "1.5.0",
     "model_name": "ProgressStyleModel",
     "state": {
      "_model_module": "@jupyter-widgets/controls",
      "_model_module_version": "1.5.0",
      "_model_name": "ProgressStyleModel",
      "_view_count": null,
      "_view_module": "@jupyter-widgets/base",
      "_view_module_version": "1.2.0",
      "_view_name": "StyleView",
      "bar_color": null,
      "description_width": ""
     }
    },
    "52d9e7daa33c4bc8b3c3e21be6ab50c4": {
     "model_module": "@jupyter-widgets/controls",
     "model_module_version": "1.5.0",
     "model_name": "HTMLModel",
     "state": {
      "_dom_classes": [],
      "_model_module": "@jupyter-widgets/controls",
      "_model_module_version": "1.5.0",
      "_model_name": "HTMLModel",
      "_view_count": null,
      "_view_module": "@jupyter-widgets/controls",
      "_view_module_version": "1.5.0",
      "_view_name": "HTMLView",
      "description": "",
      "description_tooltip": null,
      "layout": "IPY_MODEL_a9a64b30e7484ac9826a6a84928c4c39",
      "placeholder": "​",
      "style": "IPY_MODEL_69efac9e1f724526be9af49110e2940b",
      "value": " 28.0/28.0 [00:00&lt;00:00, 1.04kB/s]"
     }
    },
    "599b94e57c6f42428d18907a7f6dd78b": {
     "model_module": "@jupyter-widgets/base",
     "model_module_version": "1.2.0",
     "model_name": "LayoutModel",
     "state": {
      "_model_module": "@jupyter-widgets/base",
      "_model_module_version": "1.2.0",
      "_model_name": "LayoutModel",
      "_view_count": null,
      "_view_module": "@jupyter-widgets/base",
      "_view_module_version": "1.2.0",
      "_view_name": "LayoutView",
      "align_content": null,
      "align_items": null,
      "align_self": null,
      "border": null,
      "bottom": null,
      "display": null,
      "flex": null,
      "flex_flow": null,
      "grid_area": null,
      "grid_auto_columns": null,
      "grid_auto_flow": null,
      "grid_auto_rows": null,
      "grid_column": null,
      "grid_gap": null,
      "grid_row": null,
      "grid_template_areas": null,
      "grid_template_columns": null,
      "grid_template_rows": null,
      "height": null,
      "justify_content": null,
      "justify_items": null,
      "left": null,
      "margin": null,
      "max_height": null,
      "max_width": null,
      "min_height": null,
      "min_width": null,
      "object_fit": null,
      "object_position": null,
      "order": null,
      "overflow": null,
      "overflow_x": null,
      "overflow_y": null,
      "padding": null,
      "right": null,
      "top": null,
      "visibility": null,
      "width": null
     }
    },
    "5b8393078a654325b9232a96b9e1ad4f": {
     "model_module": "@jupyter-widgets/controls",
     "model_module_version": "1.5.0",
     "model_name": "HTMLModel",
     "state": {
      "_dom_classes": [],
      "_model_module": "@jupyter-widgets/controls",
      "_model_module_version": "1.5.0",
      "_model_name": "HTMLModel",
      "_view_count": null,
      "_view_module": "@jupyter-widgets/controls",
      "_view_module_version": "1.5.0",
      "_view_name": "HTMLView",
      "description": "",
      "description_tooltip": null,
      "layout": "IPY_MODEL_ec286a5c3ea34ddeabff086950de4c02",
      "placeholder": "​",
      "style": "IPY_MODEL_4baead7101e4469c91d6bab1416ce452",
      "value": " 2553/2553 [12:05&lt;00:00,  3.52it/s]"
     }
    },
    "65d738556313461bb899ce90d5c5acff": {
     "model_module": "@jupyter-widgets/controls",
     "model_module_version": "1.5.0",
     "model_name": "FloatProgressModel",
     "state": {
      "_dom_classes": [],
      "_model_module": "@jupyter-widgets/controls",
      "_model_module_version": "1.5.0",
      "_model_name": "FloatProgressModel",
      "_view_count": null,
      "_view_module": "@jupyter-widgets/controls",
      "_view_module_version": "1.5.0",
      "_view_name": "ProgressView",
      "bar_style": "success",
      "description": "",
      "description_tooltip": null,
      "layout": "IPY_MODEL_7950c716b8a242a996b59b6493581ade",
      "max": 440474434,
      "min": 0,
      "orientation": "horizontal",
      "style": "IPY_MODEL_524269aff286456daa9fcb83f97050d2",
      "value": 440474434
     }
    },
    "66a09103b33040b1bb4a35fd52b410ef": {
     "model_module": "@jupyter-widgets/controls",
     "model_module_version": "1.5.0",
     "model_name": "HBoxModel",
     "state": {
      "_dom_classes": [],
      "_model_module": "@jupyter-widgets/controls",
      "_model_module_version": "1.5.0",
      "_model_name": "HBoxModel",
      "_view_count": null,
      "_view_module": "@jupyter-widgets/controls",
      "_view_module_version": "1.5.0",
      "_view_name": "HBoxView",
      "box_style": "",
      "children": [
       "IPY_MODEL_876a757156eb4f2cbd71fe3007b9545b",
       "IPY_MODEL_d1fd91a24b92453293df0590e5c47984",
       "IPY_MODEL_5b8393078a654325b9232a96b9e1ad4f"
      ],
      "layout": "IPY_MODEL_886ffca0ca074bf1ac87219fca19b913"
     }
    },
    "69efac9e1f724526be9af49110e2940b": {
     "model_module": "@jupyter-widgets/controls",
     "model_module_version": "1.5.0",
     "model_name": "DescriptionStyleModel",
     "state": {
      "_model_module": "@jupyter-widgets/controls",
      "_model_module_version": "1.5.0",
      "_model_name": "DescriptionStyleModel",
      "_view_count": null,
      "_view_module": "@jupyter-widgets/base",
      "_view_module_version": "1.2.0",
      "_view_name": "StyleView",
      "description_width": ""
     }
    },
    "6bb985eee2cd42068f9963724e8ca27f": {
     "model_module": "@jupyter-widgets/base",
     "model_module_version": "1.2.0",
     "model_name": "LayoutModel",
     "state": {
      "_model_module": "@jupyter-widgets/base",
      "_model_module_version": "1.2.0",
      "_model_name": "LayoutModel",
      "_view_count": null,
      "_view_module": "@jupyter-widgets/base",
      "_view_module_version": "1.2.0",
      "_view_name": "LayoutView",
      "align_content": null,
      "align_items": null,
      "align_self": null,
      "border": null,
      "bottom": null,
      "display": null,
      "flex": null,
      "flex_flow": null,
      "grid_area": null,
      "grid_auto_columns": null,
      "grid_auto_flow": null,
      "grid_auto_rows": null,
      "grid_column": null,
      "grid_gap": null,
      "grid_row": null,
      "grid_template_areas": null,
      "grid_template_columns": null,
      "grid_template_rows": null,
      "height": null,
      "justify_content": null,
      "justify_items": null,
      "left": null,
      "margin": null,
      "max_height": null,
      "max_width": null,
      "min_height": null,
      "min_width": null,
      "object_fit": null,
      "object_position": null,
      "order": null,
      "overflow": null,
      "overflow_x": null,
      "overflow_y": null,
      "padding": null,
      "right": null,
      "top": null,
      "visibility": null,
      "width": null
     }
    },
    "72aa8eca350848cdbd69072ecc54eea2": {
     "model_module": "@jupyter-widgets/controls",
     "model_module_version": "1.5.0",
     "model_name": "HBoxModel",
     "state": {
      "_dom_classes": [],
      "_model_module": "@jupyter-widgets/controls",
      "_model_module_version": "1.5.0",
      "_model_name": "HBoxModel",
      "_view_count": null,
      "_view_module": "@jupyter-widgets/controls",
      "_view_module_version": "1.5.0",
      "_view_name": "HBoxView",
      "box_style": "",
      "children": [
       "IPY_MODEL_1e74c551ead2420c93b2331d0eee5186",
       "IPY_MODEL_65d738556313461bb899ce90d5c5acff",
       "IPY_MODEL_311c8f6b4a16424b9648320ad04c7641"
      ],
      "layout": "IPY_MODEL_e6b323035463403591382484ddfc7486"
     }
    },
    "72fafb92d71f4975be4a12ebc1760ec8": {
     "model_module": "@jupyter-widgets/base",
     "model_module_version": "1.2.0",
     "model_name": "LayoutModel",
     "state": {
      "_model_module": "@jupyter-widgets/base",
      "_model_module_version": "1.2.0",
      "_model_name": "LayoutModel",
      "_view_count": null,
      "_view_module": "@jupyter-widgets/base",
      "_view_module_version": "1.2.0",
      "_view_name": "LayoutView",
      "align_content": null,
      "align_items": null,
      "align_self": null,
      "border": null,
      "bottom": null,
      "display": null,
      "flex": null,
      "flex_flow": null,
      "grid_area": null,
      "grid_auto_columns": null,
      "grid_auto_flow": null,
      "grid_auto_rows": null,
      "grid_column": null,
      "grid_gap": null,
      "grid_row": null,
      "grid_template_areas": null,
      "grid_template_columns": null,
      "grid_template_rows": null,
      "height": null,
      "justify_content": null,
      "justify_items": null,
      "left": null,
      "margin": null,
      "max_height": null,
      "max_width": null,
      "min_height": null,
      "min_width": null,
      "object_fit": null,
      "object_position": null,
      "order": null,
      "overflow": null,
      "overflow_x": null,
      "overflow_y": null,
      "padding": null,
      "right": null,
      "top": null,
      "visibility": null,
      "width": null
     }
    },
    "79172354a5564ccba9b80ccc7845535f": {
     "model_module": "@jupyter-widgets/base",
     "model_module_version": "1.2.0",
     "model_name": "LayoutModel",
     "state": {
      "_model_module": "@jupyter-widgets/base",
      "_model_module_version": "1.2.0",
      "_model_name": "LayoutModel",
      "_view_count": null,
      "_view_module": "@jupyter-widgets/base",
      "_view_module_version": "1.2.0",
      "_view_name": "LayoutView",
      "align_content": null,
      "align_items": null,
      "align_self": null,
      "border": null,
      "bottom": null,
      "display": null,
      "flex": null,
      "flex_flow": null,
      "grid_area": null,
      "grid_auto_columns": null,
      "grid_auto_flow": null,
      "grid_auto_rows": null,
      "grid_column": null,
      "grid_gap": null,
      "grid_row": null,
      "grid_template_areas": null,
      "grid_template_columns": null,
      "grid_template_rows": null,
      "height": null,
      "justify_content": null,
      "justify_items": null,
      "left": null,
      "margin": null,
      "max_height": null,
      "max_width": null,
      "min_height": null,
      "min_width": null,
      "object_fit": null,
      "object_position": null,
      "order": null,
      "overflow": null,
      "overflow_x": null,
      "overflow_y": null,
      "padding": null,
      "right": null,
      "top": null,
      "visibility": null,
      "width": null
     }
    },
    "7939b2b4282a409ca08cdbfe30ba82c8": {
     "model_module": "@jupyter-widgets/controls",
     "model_module_version": "1.5.0",
     "model_name": "DescriptionStyleModel",
     "state": {
      "_model_module": "@jupyter-widgets/controls",
      "_model_module_version": "1.5.0",
      "_model_name": "DescriptionStyleModel",
      "_view_count": null,
      "_view_module": "@jupyter-widgets/base",
      "_view_module_version": "1.2.0",
      "_view_name": "StyleView",
      "description_width": ""
     }
    },
    "7950c716b8a242a996b59b6493581ade": {
     "model_module": "@jupyter-widgets/base",
     "model_module_version": "1.2.0",
     "model_name": "LayoutModel",
     "state": {
      "_model_module": "@jupyter-widgets/base",
      "_model_module_version": "1.2.0",
      "_model_name": "LayoutModel",
      "_view_count": null,
      "_view_module": "@jupyter-widgets/base",
      "_view_module_version": "1.2.0",
      "_view_name": "LayoutView",
      "align_content": null,
      "align_items": null,
      "align_self": null,
      "border": null,
      "bottom": null,
      "display": null,
      "flex": null,
      "flex_flow": null,
      "grid_area": null,
      "grid_auto_columns": null,
      "grid_auto_flow": null,
      "grid_auto_rows": null,
      "grid_column": null,
      "grid_gap": null,
      "grid_row": null,
      "grid_template_areas": null,
      "grid_template_columns": null,
      "grid_template_rows": null,
      "height": null,
      "justify_content": null,
      "justify_items": null,
      "left": null,
      "margin": null,
      "max_height": null,
      "max_width": null,
      "min_height": null,
      "min_width": null,
      "object_fit": null,
      "object_position": null,
      "order": null,
      "overflow": null,
      "overflow_x": null,
      "overflow_y": null,
      "padding": null,
      "right": null,
      "top": null,
      "visibility": null,
      "width": null
     }
    },
    "811b16301ea14f21b76b2cb24982e85d": {
     "model_module": "@jupyter-widgets/controls",
     "model_module_version": "1.5.0",
     "model_name": "FloatProgressModel",
     "state": {
      "_dom_classes": [],
      "_model_module": "@jupyter-widgets/controls",
      "_model_module_version": "1.5.0",
      "_model_name": "FloatProgressModel",
      "_view_count": null,
      "_view_module": "@jupyter-widgets/controls",
      "_view_module_version": "1.5.0",
      "_view_name": "ProgressView",
      "bar_style": "success",
      "description": "",
      "description_tooltip": null,
      "layout": "IPY_MODEL_a7e07b424c7e4f2d8e79c81c6767c6c8",
      "max": 226150,
      "min": 0,
      "orientation": "horizontal",
      "style": "IPY_MODEL_c1f6f63114da4a65a25fe3bb199fa4d4",
      "value": 226150
     }
    },
    "8209c7e462be43b8ab85b6ff6181d659": {
     "model_module": "@jupyter-widgets/base",
     "model_module_version": "1.2.0",
     "model_name": "LayoutModel",
     "state": {
      "_model_module": "@jupyter-widgets/base",
      "_model_module_version": "1.2.0",
      "_model_name": "LayoutModel",
      "_view_count": null,
      "_view_module": "@jupyter-widgets/base",
      "_view_module_version": "1.2.0",
      "_view_name": "LayoutView",
      "align_content": null,
      "align_items": null,
      "align_self": null,
      "border": null,
      "bottom": null,
      "display": null,
      "flex": null,
      "flex_flow": null,
      "grid_area": null,
      "grid_auto_columns": null,
      "grid_auto_flow": null,
      "grid_auto_rows": null,
      "grid_column": null,
      "grid_gap": null,
      "grid_row": null,
      "grid_template_areas": null,
      "grid_template_columns": null,
      "grid_template_rows": null,
      "height": null,
      "justify_content": null,
      "justify_items": null,
      "left": null,
      "margin": null,
      "max_height": null,
      "max_width": null,
      "min_height": null,
      "min_width": null,
      "object_fit": null,
      "object_position": null,
      "order": null,
      "overflow": null,
      "overflow_x": null,
      "overflow_y": null,
      "padding": null,
      "right": null,
      "top": null,
      "visibility": null,
      "width": null
     }
    },
    "826002616bac429fbebd85884b51f424": {
     "model_module": "@jupyter-widgets/base",
     "model_module_version": "1.2.0",
     "model_name": "LayoutModel",
     "state": {
      "_model_module": "@jupyter-widgets/base",
      "_model_module_version": "1.2.0",
      "_model_name": "LayoutModel",
      "_view_count": null,
      "_view_module": "@jupyter-widgets/base",
      "_view_module_version": "1.2.0",
      "_view_name": "LayoutView",
      "align_content": null,
      "align_items": null,
      "align_self": null,
      "border": null,
      "bottom": null,
      "display": null,
      "flex": null,
      "flex_flow": null,
      "grid_area": null,
      "grid_auto_columns": null,
      "grid_auto_flow": null,
      "grid_auto_rows": null,
      "grid_column": null,
      "grid_gap": null,
      "grid_row": null,
      "grid_template_areas": null,
      "grid_template_columns": null,
      "grid_template_rows": null,
      "height": null,
      "justify_content": null,
      "justify_items": null,
      "left": null,
      "margin": null,
      "max_height": null,
      "max_width": null,
      "min_height": null,
      "min_width": null,
      "object_fit": null,
      "object_position": null,
      "order": null,
      "overflow": null,
      "overflow_x": null,
      "overflow_y": null,
      "padding": null,
      "right": null,
      "top": null,
      "visibility": null,
      "width": null
     }
    },
    "872e49d9d7de462dab8f35d00137bab9": {
     "model_module": "@jupyter-widgets/controls",
     "model_module_version": "1.5.0",
     "model_name": "DescriptionStyleModel",
     "state": {
      "_model_module": "@jupyter-widgets/controls",
      "_model_module_version": "1.5.0",
      "_model_name": "DescriptionStyleModel",
      "_view_count": null,
      "_view_module": "@jupyter-widgets/base",
      "_view_module_version": "1.2.0",
      "_view_name": "StyleView",
      "description_width": ""
     }
    },
    "876a757156eb4f2cbd71fe3007b9545b": {
     "model_module": "@jupyter-widgets/controls",
     "model_module_version": "1.5.0",
     "model_name": "HTMLModel",
     "state": {
      "_dom_classes": [],
      "_model_module": "@jupyter-widgets/controls",
      "_model_module_version": "1.5.0",
      "_model_name": "HTMLModel",
      "_view_count": null,
      "_view_module": "@jupyter-widgets/controls",
      "_view_module_version": "1.5.0",
      "_view_name": "HTMLView",
      "description": "",
      "description_tooltip": null,
      "layout": "IPY_MODEL_c38248bb19644129ae4cded2fbd6d201",
      "placeholder": "​",
      "style": "IPY_MODEL_22ae24d277cf4114baf31a7370890aa7",
      "value": "100%"
     }
    },
    "886ffca0ca074bf1ac87219fca19b913": {
     "model_module": "@jupyter-widgets/base",
     "model_module_version": "1.2.0",
     "model_name": "LayoutModel",
     "state": {
      "_model_module": "@jupyter-widgets/base",
      "_model_module_version": "1.2.0",
      "_model_name": "LayoutModel",
      "_view_count": null,
      "_view_module": "@jupyter-widgets/base",
      "_view_module_version": "1.2.0",
      "_view_name": "LayoutView",
      "align_content": null,
      "align_items": null,
      "align_self": null,
      "border": null,
      "bottom": null,
      "display": null,
      "flex": null,
      "flex_flow": null,
      "grid_area": null,
      "grid_auto_columns": null,
      "grid_auto_flow": null,
      "grid_auto_rows": null,
      "grid_column": null,
      "grid_gap": null,
      "grid_row": null,
      "grid_template_areas": null,
      "grid_template_columns": null,
      "grid_template_rows": null,
      "height": null,
      "justify_content": null,
      "justify_items": null,
      "left": null,
      "margin": null,
      "max_height": null,
      "max_width": null,
      "min_height": null,
      "min_width": null,
      "object_fit": null,
      "object_position": null,
      "order": null,
      "overflow": null,
      "overflow_x": null,
      "overflow_y": null,
      "padding": null,
      "right": null,
      "top": null,
      "visibility": null,
      "width": null
     }
    },
    "8aae8a0c9b294dc49a339e7769607729": {
     "model_module": "@jupyter-widgets/base",
     "model_module_version": "1.2.0",
     "model_name": "LayoutModel",
     "state": {
      "_model_module": "@jupyter-widgets/base",
      "_model_module_version": "1.2.0",
      "_model_name": "LayoutModel",
      "_view_count": null,
      "_view_module": "@jupyter-widgets/base",
      "_view_module_version": "1.2.0",
      "_view_name": "LayoutView",
      "align_content": null,
      "align_items": null,
      "align_self": null,
      "border": null,
      "bottom": null,
      "display": null,
      "flex": null,
      "flex_flow": null,
      "grid_area": null,
      "grid_auto_columns": null,
      "grid_auto_flow": null,
      "grid_auto_rows": null,
      "grid_column": null,
      "grid_gap": null,
      "grid_row": null,
      "grid_template_areas": null,
      "grid_template_columns": null,
      "grid_template_rows": null,
      "height": null,
      "justify_content": null,
      "justify_items": null,
      "left": null,
      "margin": null,
      "max_height": null,
      "max_width": null,
      "min_height": null,
      "min_width": null,
      "object_fit": null,
      "object_position": null,
      "order": null,
      "overflow": null,
      "overflow_x": null,
      "overflow_y": null,
      "padding": null,
      "right": null,
      "top": null,
      "visibility": null,
      "width": null
     }
    },
    "937664a8f05d4511b56f31b03fd3affd": {
     "model_module": "@jupyter-widgets/controls",
     "model_module_version": "1.5.0",
     "model_name": "FloatProgressModel",
     "state": {
      "_dom_classes": [],
      "_model_module": "@jupyter-widgets/controls",
      "_model_module_version": "1.5.0",
      "_model_name": "FloatProgressModel",
      "_view_count": null,
      "_view_module": "@jupyter-widgets/controls",
      "_view_module_version": "1.5.0",
      "_view_name": "ProgressView",
      "bar_style": "success",
      "description": "",
      "description_tooltip": null,
      "layout": "IPY_MODEL_19845e166baf47d18e51d44185b63789",
      "max": 28,
      "min": 0,
      "orientation": "horizontal",
      "style": "IPY_MODEL_c3121aeadcc74fa69790f503a2fb25ab",
      "value": 28
     }
    },
    "972770e41ab14a8a9dc0dbfb10569ec8": {
     "model_module": "@jupyter-widgets/controls",
     "model_module_version": "1.5.0",
     "model_name": "HTMLModel",
     "state": {
      "_dom_classes": [],
      "_model_module": "@jupyter-widgets/controls",
      "_model_module_version": "1.5.0",
      "_model_name": "HTMLModel",
      "_view_count": null,
      "_view_module": "@jupyter-widgets/controls",
      "_view_module_version": "1.5.0",
      "_view_name": "HTMLView",
      "description": "",
      "description_tooltip": null,
      "layout": "IPY_MODEL_0101b296ca974da9a96c9c6431f0c15f",
      "placeholder": "​",
      "style": "IPY_MODEL_7939b2b4282a409ca08cdbfe30ba82c8",
      "value": "100%"
     }
    },
    "99efa700f91e405ebdb06295617ffc7b": {
     "model_module": "@jupyter-widgets/controls",
     "model_module_version": "1.5.0",
     "model_name": "HTMLModel",
     "state": {
      "_dom_classes": [],
      "_model_module": "@jupyter-widgets/controls",
      "_model_module_version": "1.5.0",
      "_model_name": "HTMLModel",
      "_view_count": null,
      "_view_module": "@jupyter-widgets/controls",
      "_view_module_version": "1.5.0",
      "_view_name": "HTMLView",
      "description": "",
      "description_tooltip": null,
      "layout": "IPY_MODEL_1f20f541b78b4d778986e902cba48605",
      "placeholder": "​",
      "style": "IPY_MODEL_19206e6bc5114d9da73dedcad419954b",
      "value": " 2553/2553 [12:05&lt;00:00,  3.52it/s]"
     }
    },
    "a1b1d30703204dc498b9034daafab4ba": {
     "model_module": "@jupyter-widgets/controls",
     "model_module_version": "1.5.0",
     "model_name": "HTMLModel",
     "state": {
      "_dom_classes": [],
      "_model_module": "@jupyter-widgets/controls",
      "_model_module_version": "1.5.0",
      "_model_name": "HTMLModel",
      "_view_count": null,
      "_view_module": "@jupyter-widgets/controls",
      "_view_module_version": "1.5.0",
      "_view_name": "HTMLView",
      "description": "",
      "description_tooltip": null,
      "layout": "IPY_MODEL_10547734123a4140a922bf2d88091163",
      "placeholder": "​",
      "style": "IPY_MODEL_04dce7ddfb7c4827a9ce8f3f5290abb0",
      "value": " 385/385 [00:00&lt;00:00, 11.4kB/s]"
     }
    },
    "a7e07b424c7e4f2d8e79c81c6767c6c8": {
     "model_module": "@jupyter-widgets/base",
     "model_module_version": "1.2.0",
     "model_name": "LayoutModel",
     "state": {
      "_model_module": "@jupyter-widgets/base",
      "_model_module_version": "1.2.0",
      "_model_name": "LayoutModel",
      "_view_count": null,
      "_view_module": "@jupyter-widgets/base",
      "_view_module_version": "1.2.0",
      "_view_name": "LayoutView",
      "align_content": null,
      "align_items": null,
      "align_self": null,
      "border": null,
      "bottom": null,
      "display": null,
      "flex": null,
      "flex_flow": null,
      "grid_area": null,
      "grid_auto_columns": null,
      "grid_auto_flow": null,
      "grid_auto_rows": null,
      "grid_column": null,
      "grid_gap": null,
      "grid_row": null,
      "grid_template_areas": null,
      "grid_template_columns": null,
      "grid_template_rows": null,
      "height": null,
      "justify_content": null,
      "justify_items": null,
      "left": null,
      "margin": null,
      "max_height": null,
      "max_width": null,
      "min_height": null,
      "min_width": null,
      "object_fit": null,
      "object_position": null,
      "order": null,
      "overflow": null,
      "overflow_x": null,
      "overflow_y": null,
      "padding": null,
      "right": null,
      "top": null,
      "visibility": null,
      "width": null
     }
    },
    "a93ae8e1807144c095e5e60587e8b1c4": {
     "model_module": "@jupyter-widgets/base",
     "model_module_version": "1.2.0",
     "model_name": "LayoutModel",
     "state": {
      "_model_module": "@jupyter-widgets/base",
      "_model_module_version": "1.2.0",
      "_model_name": "LayoutModel",
      "_view_count": null,
      "_view_module": "@jupyter-widgets/base",
      "_view_module_version": "1.2.0",
      "_view_name": "LayoutView",
      "align_content": null,
      "align_items": null,
      "align_self": null,
      "border": null,
      "bottom": null,
      "display": null,
      "flex": null,
      "flex_flow": null,
      "grid_area": null,
      "grid_auto_columns": null,
      "grid_auto_flow": null,
      "grid_auto_rows": null,
      "grid_column": null,
      "grid_gap": null,
      "grid_row": null,
      "grid_template_areas": null,
      "grid_template_columns": null,
      "grid_template_rows": null,
      "height": null,
      "justify_content": null,
      "justify_items": null,
      "left": null,
      "margin": null,
      "max_height": null,
      "max_width": null,
      "min_height": null,
      "min_width": null,
      "object_fit": null,
      "object_position": null,
      "order": null,
      "overflow": null,
      "overflow_x": null,
      "overflow_y": null,
      "padding": null,
      "right": null,
      "top": null,
      "visibility": null,
      "width": null
     }
    },
    "a9a64b30e7484ac9826a6a84928c4c39": {
     "model_module": "@jupyter-widgets/base",
     "model_module_version": "1.2.0",
     "model_name": "LayoutModel",
     "state": {
      "_model_module": "@jupyter-widgets/base",
      "_model_module_version": "1.2.0",
      "_model_name": "LayoutModel",
      "_view_count": null,
      "_view_module": "@jupyter-widgets/base",
      "_view_module_version": "1.2.0",
      "_view_name": "LayoutView",
      "align_content": null,
      "align_items": null,
      "align_self": null,
      "border": null,
      "bottom": null,
      "display": null,
      "flex": null,
      "flex_flow": null,
      "grid_area": null,
      "grid_auto_columns": null,
      "grid_auto_flow": null,
      "grid_auto_rows": null,
      "grid_column": null,
      "grid_gap": null,
      "grid_row": null,
      "grid_template_areas": null,
      "grid_template_columns": null,
      "grid_template_rows": null,
      "height": null,
      "justify_content": null,
      "justify_items": null,
      "left": null,
      "margin": null,
      "max_height": null,
      "max_width": null,
      "min_height": null,
      "min_width": null,
      "object_fit": null,
      "object_position": null,
      "order": null,
      "overflow": null,
      "overflow_x": null,
      "overflow_y": null,
      "padding": null,
      "right": null,
      "top": null,
      "visibility": null,
      "width": null
     }
    },
    "ab359697217a4253a4ae0ade54a98d94": {
     "model_module": "@jupyter-widgets/base",
     "model_module_version": "1.2.0",
     "model_name": "LayoutModel",
     "state": {
      "_model_module": "@jupyter-widgets/base",
      "_model_module_version": "1.2.0",
      "_model_name": "LayoutModel",
      "_view_count": null,
      "_view_module": "@jupyter-widgets/base",
      "_view_module_version": "1.2.0",
      "_view_name": "LayoutView",
      "align_content": null,
      "align_items": null,
      "align_self": null,
      "border": null,
      "bottom": null,
      "display": null,
      "flex": null,
      "flex_flow": null,
      "grid_area": null,
      "grid_auto_columns": null,
      "grid_auto_flow": null,
      "grid_auto_rows": null,
      "grid_column": null,
      "grid_gap": null,
      "grid_row": null,
      "grid_template_areas": null,
      "grid_template_columns": null,
      "grid_template_rows": null,
      "height": null,
      "justify_content": null,
      "justify_items": null,
      "left": null,
      "margin": null,
      "max_height": null,
      "max_width": null,
      "min_height": null,
      "min_width": null,
      "object_fit": null,
      "object_position": null,
      "order": null,
      "overflow": null,
      "overflow_x": null,
      "overflow_y": null,
      "padding": null,
      "right": null,
      "top": null,
      "visibility": null,
      "width": null
     }
    },
    "ac130fa62299476bb9d37eec96c092b1": {
     "model_module": "@jupyter-widgets/controls",
     "model_module_version": "1.5.0",
     "model_name": "HTMLModel",
     "state": {
      "_dom_classes": [],
      "_model_module": "@jupyter-widgets/controls",
      "_model_module_version": "1.5.0",
      "_model_name": "HTMLModel",
      "_view_count": null,
      "_view_module": "@jupyter-widgets/controls",
      "_view_module_version": "1.5.0",
      "_view_name": "HTMLView",
      "description": "",
      "description_tooltip": null,
      "layout": "IPY_MODEL_826002616bac429fbebd85884b51f424",
      "placeholder": "​",
      "style": "IPY_MODEL_1c7920fccd2d4caf9061d40122716254",
      "value": "Downloading: 100%"
     }
    },
    "b58e34b3b6a94688b3811954b3551fb2": {
     "model_module": "@jupyter-widgets/controls",
     "model_module_version": "1.5.0",
     "model_name": "DescriptionStyleModel",
     "state": {
      "_model_module": "@jupyter-widgets/controls",
      "_model_module_version": "1.5.0",
      "_model_name": "DescriptionStyleModel",
      "_view_count": null,
      "_view_module": "@jupyter-widgets/base",
      "_view_module_version": "1.2.0",
      "_view_name": "StyleView",
      "description_width": ""
     }
    },
    "b945b6fdabd6452a8e59c80832d03f2b": {
     "model_module": "@jupyter-widgets/controls",
     "model_module_version": "1.5.0",
     "model_name": "HBoxModel",
     "state": {
      "_dom_classes": [],
      "_model_module": "@jupyter-widgets/controls",
      "_model_module_version": "1.5.0",
      "_model_name": "HBoxModel",
      "_view_count": null,
      "_view_module": "@jupyter-widgets/controls",
      "_view_module_version": "1.5.0",
      "_view_name": "HBoxView",
      "box_style": "",
      "children": [
       "IPY_MODEL_fe472ca02e4b45f09e211e0c78ccf2a8",
       "IPY_MODEL_13738ead106e411f8fa71b6b159ec591",
       "IPY_MODEL_a1b1d30703204dc498b9034daafab4ba"
      ],
      "layout": "IPY_MODEL_f8cf376d26b74bc1a419ce78609d27e8"
     }
    },
    "bf1c7f6a19a24e1faa4ec489648d87ea": {
     "model_module": "@jupyter-widgets/controls",
     "model_module_version": "1.5.0",
     "model_name": "HBoxModel",
     "state": {
      "_dom_classes": [],
      "_model_module": "@jupyter-widgets/controls",
      "_model_module_version": "1.5.0",
      "_model_name": "HBoxModel",
      "_view_count": null,
      "_view_module": "@jupyter-widgets/controls",
      "_view_module_version": "1.5.0",
      "_view_name": "HBoxView",
      "box_style": "",
      "children": [
       "IPY_MODEL_d8b31612707f4375af9f15038a4109f0",
       "IPY_MODEL_d4ca820a91894d69a9c45d8d8b153c9a",
       "IPY_MODEL_99efa700f91e405ebdb06295617ffc7b"
      ],
      "layout": "IPY_MODEL_72fafb92d71f4975be4a12ebc1760ec8"
     }
    },
    "c1f6f63114da4a65a25fe3bb199fa4d4": {
     "model_module": "@jupyter-widgets/controls",
     "model_module_version": "1.5.0",
     "model_name": "ProgressStyleModel",
     "state": {
      "_model_module": "@jupyter-widgets/controls",
      "_model_module_version": "1.5.0",
      "_model_name": "ProgressStyleModel",
      "_view_count": null,
      "_view_module": "@jupyter-widgets/base",
      "_view_module_version": "1.2.0",
      "_view_name": "StyleView",
      "bar_color": null,
      "description_width": ""
     }
    },
    "c3121aeadcc74fa69790f503a2fb25ab": {
     "model_module": "@jupyter-widgets/controls",
     "model_module_version": "1.5.0",
     "model_name": "ProgressStyleModel",
     "state": {
      "_model_module": "@jupyter-widgets/controls",
      "_model_module_version": "1.5.0",
      "_model_name": "ProgressStyleModel",
      "_view_count": null,
      "_view_module": "@jupyter-widgets/base",
      "_view_module_version": "1.2.0",
      "_view_name": "StyleView",
      "bar_color": null,
      "description_width": ""
     }
    },
    "c38248bb19644129ae4cded2fbd6d201": {
     "model_module": "@jupyter-widgets/base",
     "model_module_version": "1.2.0",
     "model_name": "LayoutModel",
     "state": {
      "_model_module": "@jupyter-widgets/base",
      "_model_module_version": "1.2.0",
      "_model_name": "LayoutModel",
      "_view_count": null,
      "_view_module": "@jupyter-widgets/base",
      "_view_module_version": "1.2.0",
      "_view_name": "LayoutView",
      "align_content": null,
      "align_items": null,
      "align_self": null,
      "border": null,
      "bottom": null,
      "display": null,
      "flex": null,
      "flex_flow": null,
      "grid_area": null,
      "grid_auto_columns": null,
      "grid_auto_flow": null,
      "grid_auto_rows": null,
      "grid_column": null,
      "grid_gap": null,
      "grid_row": null,
      "grid_template_areas": null,
      "grid_template_columns": null,
      "grid_template_rows": null,
      "height": null,
      "justify_content": null,
      "justify_items": null,
      "left": null,
      "margin": null,
      "max_height": null,
      "max_width": null,
      "min_height": null,
      "min_width": null,
      "object_fit": null,
      "object_position": null,
      "order": null,
      "overflow": null,
      "overflow_x": null,
      "overflow_y": null,
      "padding": null,
      "right": null,
      "top": null,
      "visibility": null,
      "width": null
     }
    },
    "c6d6fef8bf9c4b01a9860acda7ca5e7a": {
     "model_module": "@jupyter-widgets/controls",
     "model_module_version": "1.5.0",
     "model_name": "FloatProgressModel",
     "state": {
      "_dom_classes": [],
      "_model_module": "@jupyter-widgets/controls",
      "_model_module_version": "1.5.0",
      "_model_name": "FloatProgressModel",
      "_view_count": null,
      "_view_module": "@jupyter-widgets/controls",
      "_view_module_version": "1.5.0",
      "_view_name": "ProgressView",
      "bar_style": "success",
      "description": "",
      "description_tooltip": null,
      "layout": "IPY_MODEL_06447e2736da468696514b85e9dc39c7",
      "max": 2553,
      "min": 0,
      "orientation": "horizontal",
      "style": "IPY_MODEL_03990b3e0c2741088bb9be8f15aefe08",
      "value": 2553
     }
    },
    "d13d018a47cc44dd949de8f621823d68": {
     "model_module": "@jupyter-widgets/controls",
     "model_module_version": "1.5.0",
     "model_name": "ProgressStyleModel",
     "state": {
      "_model_module": "@jupyter-widgets/controls",
      "_model_module_version": "1.5.0",
      "_model_name": "ProgressStyleModel",
      "_view_count": null,
      "_view_module": "@jupyter-widgets/base",
      "_view_module_version": "1.2.0",
      "_view_name": "StyleView",
      "bar_color": null,
      "description_width": ""
     }
    },
    "d1fd91a24b92453293df0590e5c47984": {
     "model_module": "@jupyter-widgets/controls",
     "model_module_version": "1.5.0",
     "model_name": "FloatProgressModel",
     "state": {
      "_dom_classes": [],
      "_model_module": "@jupyter-widgets/controls",
      "_model_module_version": "1.5.0",
      "_model_name": "FloatProgressModel",
      "_view_count": null,
      "_view_module": "@jupyter-widgets/controls",
      "_view_module_version": "1.5.0",
      "_view_name": "ProgressView",
      "bar_style": "success",
      "description": "",
      "description_tooltip": null,
      "layout": "IPY_MODEL_a93ae8e1807144c095e5e60587e8b1c4",
      "max": 2553,
      "min": 0,
      "orientation": "horizontal",
      "style": "IPY_MODEL_31086955c26c4788ba97fcf2c8491b4f",
      "value": 2553
     }
    },
    "d349fa9f405548e09a402028f4ea9b4d": {
     "model_module": "@jupyter-widgets/base",
     "model_module_version": "1.2.0",
     "model_name": "LayoutModel",
     "state": {
      "_model_module": "@jupyter-widgets/base",
      "_model_module_version": "1.2.0",
      "_model_name": "LayoutModel",
      "_view_count": null,
      "_view_module": "@jupyter-widgets/base",
      "_view_module_version": "1.2.0",
      "_view_name": "LayoutView",
      "align_content": null,
      "align_items": null,
      "align_self": null,
      "border": null,
      "bottom": null,
      "display": null,
      "flex": null,
      "flex_flow": null,
      "grid_area": null,
      "grid_auto_columns": null,
      "grid_auto_flow": null,
      "grid_auto_rows": null,
      "grid_column": null,
      "grid_gap": null,
      "grid_row": null,
      "grid_template_areas": null,
      "grid_template_columns": null,
      "grid_template_rows": null,
      "height": null,
      "justify_content": null,
      "justify_items": null,
      "left": null,
      "margin": null,
      "max_height": null,
      "max_width": null,
      "min_height": null,
      "min_width": null,
      "object_fit": null,
      "object_position": null,
      "order": null,
      "overflow": null,
      "overflow_x": null,
      "overflow_y": null,
      "padding": null,
      "right": null,
      "top": null,
      "visibility": null,
      "width": null
     }
    },
    "d4ca820a91894d69a9c45d8d8b153c9a": {
     "model_module": "@jupyter-widgets/controls",
     "model_module_version": "1.5.0",
     "model_name": "FloatProgressModel",
     "state": {
      "_dom_classes": [],
      "_model_module": "@jupyter-widgets/controls",
      "_model_module_version": "1.5.0",
      "_model_name": "FloatProgressModel",
      "_view_count": null,
      "_view_module": "@jupyter-widgets/controls",
      "_view_module_version": "1.5.0",
      "_view_name": "ProgressView",
      "bar_style": "success",
      "description": "",
      "description_tooltip": null,
      "layout": "IPY_MODEL_030fca7bd07c42d1bf612ea8af3d20b7",
      "max": 2553,
      "min": 0,
      "orientation": "horizontal",
      "style": "IPY_MODEL_dad8ae92710f4ac4a1caed41be72fc23",
      "value": 2553
     }
    },
    "d8b31612707f4375af9f15038a4109f0": {
     "model_module": "@jupyter-widgets/controls",
     "model_module_version": "1.5.0",
     "model_name": "HTMLModel",
     "state": {
      "_dom_classes": [],
      "_model_module": "@jupyter-widgets/controls",
      "_model_module_version": "1.5.0",
      "_model_name": "HTMLModel",
      "_view_count": null,
      "_view_module": "@jupyter-widgets/controls",
      "_view_module_version": "1.5.0",
      "_view_name": "HTMLView",
      "description": "",
      "description_tooltip": null,
      "layout": "IPY_MODEL_79172354a5564ccba9b80ccc7845535f",
      "placeholder": "​",
      "style": "IPY_MODEL_215cd7d6c58548b5b6af79f8834cd2c8",
      "value": "100%"
     }
    },
    "d97ef3bf80e940a1bef2d10ac3650cae": {
     "model_module": "@jupyter-widgets/controls",
     "model_module_version": "1.5.0",
     "model_name": "HTMLModel",
     "state": {
      "_dom_classes": [],
      "_model_module": "@jupyter-widgets/controls",
      "_model_module_version": "1.5.0",
      "_model_name": "HTMLModel",
      "_view_count": null,
      "_view_module": "@jupyter-widgets/controls",
      "_view_module_version": "1.5.0",
      "_view_name": "HTMLView",
      "description": "",
      "description_tooltip": null,
      "layout": "IPY_MODEL_599b94e57c6f42428d18907a7f6dd78b",
      "placeholder": "​",
      "style": "IPY_MODEL_f3f8650595a6420195eff65f2d323458",
      "value": "Downloading: 100%"
     }
    },
    "dad8ae92710f4ac4a1caed41be72fc23": {
     "model_module": "@jupyter-widgets/controls",
     "model_module_version": "1.5.0",
     "model_name": "ProgressStyleModel",
     "state": {
      "_model_module": "@jupyter-widgets/controls",
      "_model_module_version": "1.5.0",
      "_model_name": "ProgressStyleModel",
      "_view_count": null,
      "_view_module": "@jupyter-widgets/base",
      "_view_module_version": "1.2.0",
      "_view_name": "StyleView",
      "bar_color": null,
      "description_width": ""
     }
    },
    "e15d6d3ee58945098f3b150ff4de1284": {
     "model_module": "@jupyter-widgets/controls",
     "model_module_version": "1.5.0",
     "model_name": "HBoxModel",
     "state": {
      "_dom_classes": [],
      "_model_module": "@jupyter-widgets/controls",
      "_model_module_version": "1.5.0",
      "_model_name": "HBoxModel",
      "_view_count": null,
      "_view_module": "@jupyter-widgets/controls",
      "_view_module_version": "1.5.0",
      "_view_name": "HBoxView",
      "box_style": "",
      "children": [
       "IPY_MODEL_d97ef3bf80e940a1bef2d10ac3650cae",
       "IPY_MODEL_811b16301ea14f21b76b2cb24982e85d",
       "IPY_MODEL_ecdd10b454ed4bf6ac95535312284095"
      ],
      "layout": "IPY_MODEL_d349fa9f405548e09a402028f4ea9b4d"
     }
    },
    "e6b323035463403591382484ddfc7486": {
     "model_module": "@jupyter-widgets/base",
     "model_module_version": "1.2.0",
     "model_name": "LayoutModel",
     "state": {
      "_model_module": "@jupyter-widgets/base",
      "_model_module_version": "1.2.0",
      "_model_name": "LayoutModel",
      "_view_count": null,
      "_view_module": "@jupyter-widgets/base",
      "_view_module_version": "1.2.0",
      "_view_name": "LayoutView",
      "align_content": null,
      "align_items": null,
      "align_self": null,
      "border": null,
      "bottom": null,
      "display": null,
      "flex": null,
      "flex_flow": null,
      "grid_area": null,
      "grid_auto_columns": null,
      "grid_auto_flow": null,
      "grid_auto_rows": null,
      "grid_column": null,
      "grid_gap": null,
      "grid_row": null,
      "grid_template_areas": null,
      "grid_template_columns": null,
      "grid_template_rows": null,
      "height": null,
      "justify_content": null,
      "justify_items": null,
      "left": null,
      "margin": null,
      "max_height": null,
      "max_width": null,
      "min_height": null,
      "min_width": null,
      "object_fit": null,
      "object_position": null,
      "order": null,
      "overflow": null,
      "overflow_x": null,
      "overflow_y": null,
      "padding": null,
      "right": null,
      "top": null,
      "visibility": null,
      "width": null
     }
    },
    "ea3d3e033c1b4acebe5a2e8ba9630b25": {
     "model_module": "@jupyter-widgets/controls",
     "model_module_version": "1.5.0",
     "model_name": "HTMLModel",
     "state": {
      "_dom_classes": [],
      "_model_module": "@jupyter-widgets/controls",
      "_model_module_version": "1.5.0",
      "_model_name": "HTMLModel",
      "_view_count": null,
      "_view_module": "@jupyter-widgets/controls",
      "_view_module_version": "1.5.0",
      "_view_name": "HTMLView",
      "description": "",
      "description_tooltip": null,
      "layout": "IPY_MODEL_2feaf456fe1f4ef287febf242921c400",
      "placeholder": "​",
      "style": "IPY_MODEL_872e49d9d7de462dab8f35d00137bab9",
      "value": " 2553/2553 [12:05&lt;00:00,  3.52it/s]"
     }
    },
    "ec286a5c3ea34ddeabff086950de4c02": {
     "model_module": "@jupyter-widgets/base",
     "model_module_version": "1.2.0",
     "model_name": "LayoutModel",
     "state": {
      "_model_module": "@jupyter-widgets/base",
      "_model_module_version": "1.2.0",
      "_model_name": "LayoutModel",
      "_view_count": null,
      "_view_module": "@jupyter-widgets/base",
      "_view_module_version": "1.2.0",
      "_view_name": "LayoutView",
      "align_content": null,
      "align_items": null,
      "align_self": null,
      "border": null,
      "bottom": null,
      "display": null,
      "flex": null,
      "flex_flow": null,
      "grid_area": null,
      "grid_auto_columns": null,
      "grid_auto_flow": null,
      "grid_auto_rows": null,
      "grid_column": null,
      "grid_gap": null,
      "grid_row": null,
      "grid_template_areas": null,
      "grid_template_columns": null,
      "grid_template_rows": null,
      "height": null,
      "justify_content": null,
      "justify_items": null,
      "left": null,
      "margin": null,
      "max_height": null,
      "max_width": null,
      "min_height": null,
      "min_width": null,
      "object_fit": null,
      "object_position": null,
      "order": null,
      "overflow": null,
      "overflow_x": null,
      "overflow_y": null,
      "padding": null,
      "right": null,
      "top": null,
      "visibility": null,
      "width": null
     }
    },
    "ecdd10b454ed4bf6ac95535312284095": {
     "model_module": "@jupyter-widgets/controls",
     "model_module_version": "1.5.0",
     "model_name": "HTMLModel",
     "state": {
      "_dom_classes": [],
      "_model_module": "@jupyter-widgets/controls",
      "_model_module_version": "1.5.0",
      "_model_name": "HTMLModel",
      "_view_count": null,
      "_view_module": "@jupyter-widgets/controls",
      "_view_module_version": "1.5.0",
      "_view_name": "HTMLView",
      "description": "",
      "description_tooltip": null,
      "layout": "IPY_MODEL_15c7fff09f6b4b2fbb8bfc5ec16394e2",
      "placeholder": "​",
      "style": "IPY_MODEL_16460d55e21b4e8a9324c067276a7dda",
      "value": " 221k/221k [00:00&lt;00:00, 862kB/s]"
     }
    },
    "f3f8650595a6420195eff65f2d323458": {
     "model_module": "@jupyter-widgets/controls",
     "model_module_version": "1.5.0",
     "model_name": "DescriptionStyleModel",
     "state": {
      "_model_module": "@jupyter-widgets/controls",
      "_model_module_version": "1.5.0",
      "_model_name": "DescriptionStyleModel",
      "_view_count": null,
      "_view_module": "@jupyter-widgets/base",
      "_view_module_version": "1.2.0",
      "_view_name": "StyleView",
      "description_width": ""
     }
    },
    "f8cf376d26b74bc1a419ce78609d27e8": {
     "model_module": "@jupyter-widgets/base",
     "model_module_version": "1.2.0",
     "model_name": "LayoutModel",
     "state": {
      "_model_module": "@jupyter-widgets/base",
      "_model_module_version": "1.2.0",
      "_model_name": "LayoutModel",
      "_view_count": null,
      "_view_module": "@jupyter-widgets/base",
      "_view_module_version": "1.2.0",
      "_view_name": "LayoutView",
      "align_content": null,
      "align_items": null,
      "align_self": null,
      "border": null,
      "bottom": null,
      "display": null,
      "flex": null,
      "flex_flow": null,
      "grid_area": null,
      "grid_auto_columns": null,
      "grid_auto_flow": null,
      "grid_auto_rows": null,
      "grid_column": null,
      "grid_gap": null,
      "grid_row": null,
      "grid_template_areas": null,
      "grid_template_columns": null,
      "grid_template_rows": null,
      "height": null,
      "justify_content": null,
      "justify_items": null,
      "left": null,
      "margin": null,
      "max_height": null,
      "max_width": null,
      "min_height": null,
      "min_width": null,
      "object_fit": null,
      "object_position": null,
      "order": null,
      "overflow": null,
      "overflow_x": null,
      "overflow_y": null,
      "padding": null,
      "right": null,
      "top": null,
      "visibility": null,
      "width": null
     }
    },
    "fe472ca02e4b45f09e211e0c78ccf2a8": {
     "model_module": "@jupyter-widgets/controls",
     "model_module_version": "1.5.0",
     "model_name": "HTMLModel",
     "state": {
      "_dom_classes": [],
      "_model_module": "@jupyter-widgets/controls",
      "_model_module_version": "1.5.0",
      "_model_name": "HTMLModel",
      "_view_count": null,
      "_view_module": "@jupyter-widgets/controls",
      "_view_module_version": "1.5.0",
      "_view_name": "HTMLView",
      "description": "",
      "description_tooltip": null,
      "layout": "IPY_MODEL_ab359697217a4253a4ae0ade54a98d94",
      "placeholder": "​",
      "style": "IPY_MODEL_1d34f897992b4651a9f5070abe9fa98d",
      "value": "Downloading: 100%"
     }
    }
   }
  }
 },
 "nbformat": 4,
 "nbformat_minor": 1
}
